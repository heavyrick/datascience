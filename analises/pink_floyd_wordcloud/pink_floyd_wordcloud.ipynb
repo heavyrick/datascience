{
 "cells": [
  {
   "cell_type": "markdown",
   "metadata": {},
   "source": [
    "# Pink Floyd Wordcloud\n",
    "\n",
    "Neste notebook vamos fazer um gráfico com as palavras mais usadas nas músicas do Pink Floyd, e em seguida um wordcloud. \n",
    "\n",
    "A banda Pink Floyd foi formado em 1965, na cidade de Londres, Inglaterra, e tem sua fase mais clássica, com a dupla Roger Waters e David Gilmour, até 1983, ano de lançamento do álbum Final Cut."
   ]
  },
  {
   "cell_type": "code",
   "execution_count": 2,
   "metadata": {},
   "outputs": [],
   "source": [
    "import pandas as pd\n",
    "import numpy as np\n",
    "import re\n",
    "from os import path\n",
    "import datetime\n",
    "\n",
    "import matplotlib.pyplot as plt\n",
    "%matplotlib inline\n",
    "\n",
    "# imagens\n",
    "from PIL import Image\n",
    "from wordcloud import WordCloud, STOPWORDS, ImageColorGenerator\n",
    "\n",
    "# charts\n",
    "import chart_studio.plotly as py\n",
    "import plotly.graph_objects as go\n",
    "import plotly.io as pio\n",
    "import psutil\n",
    "\n",
    "# nlp\n",
    "import nltk\n",
    "from nltk import sent_tokenize, word_tokenize, tokenize\n",
    "from nltk.stem.snowball import SnowballStemmer\n",
    "from nltk.stem.wordnet import WordNetLemmatizer\n",
    "from nltk.corpus import stopwords\n",
    "\n",
    "#nltk.download('stopwords')\n",
    "#nltk.download('punkt')"
   ]
  },
  {
   "cell_type": "code",
   "execution_count": 3,
   "metadata": {},
   "outputs": [
    {
     "data": {
      "text/html": [
       "<div>\n",
       "<style scoped>\n",
       "    .dataframe tbody tr th:only-of-type {\n",
       "        vertical-align: middle;\n",
       "    }\n",
       "\n",
       "    .dataframe tbody tr th {\n",
       "        vertical-align: top;\n",
       "    }\n",
       "\n",
       "    .dataframe thead th {\n",
       "        text-align: right;\n",
       "    }\n",
       "</style>\n",
       "<table border=\"1\" class=\"dataframe\">\n",
       "  <thead>\n",
       "    <tr style=\"text-align: right;\">\n",
       "      <th></th>\n",
       "      <th>album</th>\n",
       "      <th>song_title</th>\n",
       "      <th>year</th>\n",
       "      <th>lyrics</th>\n",
       "    </tr>\n",
       "  </thead>\n",
       "  <tbody>\n",
       "    <tr>\n",
       "      <th>0</th>\n",
       "      <td>The Piper at the Gates of Dawn</td>\n",
       "      <td>Astronomy Domine</td>\n",
       "      <td>1967-08-05</td>\n",
       "      <td>\"Moon in both [houses]...\"...Scorpio, [Arabian...</td>\n",
       "    </tr>\n",
       "    <tr>\n",
       "      <th>1</th>\n",
       "      <td>The Piper at the Gates of Dawn</td>\n",
       "      <td>Lucifer Sam</td>\n",
       "      <td>1967-08-05</td>\n",
       "      <td>Lucifer Sam, siam cat\\nAlways sitting by your ...</td>\n",
       "    </tr>\n",
       "    <tr>\n",
       "      <th>2</th>\n",
       "      <td>The Piper at the Gates of Dawn</td>\n",
       "      <td>Matilda Mother</td>\n",
       "      <td>1967-08-05</td>\n",
       "      <td>There was a king who ruled the land\\nHis Majes...</td>\n",
       "    </tr>\n",
       "    <tr>\n",
       "      <th>3</th>\n",
       "      <td>The Piper at the Gates of Dawn</td>\n",
       "      <td>Flaming</td>\n",
       "      <td>1967-08-05</td>\n",
       "      <td>Alone in the clouds all blue\\nLying on an eide...</td>\n",
       "    </tr>\n",
       "    <tr>\n",
       "      <th>4</th>\n",
       "      <td>The Piper at the Gates of Dawn</td>\n",
       "      <td>Pow R. Toc H.</td>\n",
       "      <td>1967-08-05</td>\n",
       "      <td>TCH TCH\\nAHH (AHH)\\nTCH TCH\\nAHH AHH\\nDoi doi\\...</td>\n",
       "    </tr>\n",
       "  </tbody>\n",
       "</table>\n",
       "</div>"
      ],
      "text/plain": [
       "                            album        song_title        year  \\\n",
       "0  The Piper at the Gates of Dawn  Astronomy Domine  1967-08-05   \n",
       "1  The Piper at the Gates of Dawn       Lucifer Sam  1967-08-05   \n",
       "2  The Piper at the Gates of Dawn    Matilda Mother  1967-08-05   \n",
       "3  The Piper at the Gates of Dawn           Flaming  1967-08-05   \n",
       "4  The Piper at the Gates of Dawn     Pow R. Toc H.  1967-08-05   \n",
       "\n",
       "                                              lyrics  \n",
       "0  \"Moon in both [houses]...\"...Scorpio, [Arabian...  \n",
       "1  Lucifer Sam, siam cat\\nAlways sitting by your ...  \n",
       "2  There was a king who ruled the land\\nHis Majes...  \n",
       "3  Alone in the clouds all blue\\nLying on an eide...  \n",
       "4  TCH TCH\\nAHH (AHH)\\nTCH TCH\\nAHH AHH\\nDoi doi\\...  "
      ]
     },
     "execution_count": 3,
     "metadata": {},
     "output_type": "execute_result"
    }
   ],
   "source": [
    "# Carregar dados\n",
    "df_pink_floyd = pd.read_csv('data/pink_floyd_lyrics.csv', delimiter=',')\n",
    "df_pink_floyd.head()"
   ]
  },
  {
   "cell_type": "code",
   "execution_count": 4,
   "metadata": {},
   "outputs": [
    {
     "name": "stdout",
     "output_type": "stream",
     "text": [
      "<class 'pandas.core.frame.DataFrame'>\n",
      "RangeIndex: 163 entries, 0 to 162\n",
      "Data columns (total 4 columns):\n",
      " #   Column      Non-Null Count  Dtype \n",
      "---  ------      --------------  ----- \n",
      " 0   album       163 non-null    object\n",
      " 1   song_title  163 non-null    object\n",
      " 2   year        163 non-null    object\n",
      " 3   lyrics      125 non-null    object\n",
      "dtypes: object(4)\n",
      "memory usage: 5.2+ KB\n"
     ]
    }
   ],
   "source": [
    "df_pink_floyd.info()"
   ]
  },
  {
   "cell_type": "markdown",
   "metadata": {},
   "source": [
    "<hr />\n",
    "\n",
    "O dataframe possui 4 colunas:\n",
    "\n",
    "- **album**: nome do álbum\n",
    "- **song_title**: nome da música\n",
    "- **year**: data de lançamento\n",
    "- **lyrics**: letra da música\n",
    "\n",
    "O dataframe possui 163 registros, mas alguns deles tem a coluna lyrics vazias, e isso pode ser falta de informação, ou mesmo músicas instrumentais. As demais colunas não tem registros vazios."
   ]
  },
  {
   "cell_type": "markdown",
   "metadata": {},
   "source": [
    "### Tratando os dados"
   ]
  },
  {
   "cell_type": "code",
   "execution_count": 5,
   "metadata": {},
   "outputs": [],
   "source": [
    "# Primeiro vamos converter a coluna year em um formato de data e em seguida excluir a coluna year\n",
    "df_pink_floyd['date'] = pd.to_datetime(df_pink_floyd['year'])\n",
    "df_pink_floyd.drop(['year'], axis=1, inplace=True)"
   ]
  },
  {
   "cell_type": "markdown",
   "metadata": {},
   "source": [
    "Esse dataframe foi baixado do kaggle, então vamos nos certificar dos álbuns que estão contidos no arquivo."
   ]
  },
  {
   "cell_type": "code",
   "execution_count": 6,
   "metadata": {},
   "outputs": [
    {
     "data": {
      "text/plain": [
       "array(['The Piper at the Gates of Dawn', 'A Saucerful of Secrets',\n",
       "       'More (Original Film Soundtrack)', 'Ummagumma',\n",
       "       'Atom Heart Mother', 'Meddle', 'Obscured By Clouds',\n",
       "       'The Dark Side of the Moon', 'Wish You Were Here', 'Animals',\n",
       "       'The Wall', 'The Final Cut', 'A Momentary Lapse of Reason',\n",
       "       'The Division Bell', 'The Endless River'], dtype=object)"
      ]
     },
     "execution_count": 6,
     "metadata": {},
     "output_type": "execute_result"
    }
   ],
   "source": [
    "df_pink_floyd['album'].unique()"
   ]
  },
  {
   "cell_type": "markdown",
   "metadata": {},
   "source": [
    "Os últimos três álbuns desse array foram lançados depois da fase clássica (até 1983), e por que a análise é apenas desta fase, vamos retirá-los.\n",
    "\n",
    "*E não é por uma questão de gosto, porque eu gosto bastante do Division Bell.*"
   ]
  },
  {
   "cell_type": "code",
   "execution_count": 7,
   "metadata": {},
   "outputs": [
    {
     "data": {
      "text/html": [
       "<div>\n",
       "<style scoped>\n",
       "    .dataframe tbody tr th:only-of-type {\n",
       "        vertical-align: middle;\n",
       "    }\n",
       "\n",
       "    .dataframe tbody tr th {\n",
       "        vertical-align: top;\n",
       "    }\n",
       "\n",
       "    .dataframe thead th {\n",
       "        text-align: right;\n",
       "    }\n",
       "</style>\n",
       "<table border=\"1\" class=\"dataframe\">\n",
       "  <thead>\n",
       "    <tr style=\"text-align: right;\">\n",
       "      <th></th>\n",
       "      <th>album</th>\n",
       "      <th>song_title</th>\n",
       "      <th>lyrics</th>\n",
       "      <th>date</th>\n",
       "    </tr>\n",
       "  </thead>\n",
       "  <tbody>\n",
       "    <tr>\n",
       "      <th>0</th>\n",
       "      <td>The Piper at the Gates of Dawn</td>\n",
       "      <td>Astronomy Domine</td>\n",
       "      <td>\"Moon in both [houses]...\"...Scorpio, [Arabian...</td>\n",
       "      <td>1967-08-05</td>\n",
       "    </tr>\n",
       "    <tr>\n",
       "      <th>1</th>\n",
       "      <td>The Piper at the Gates of Dawn</td>\n",
       "      <td>Lucifer Sam</td>\n",
       "      <td>Lucifer Sam, siam cat\\nAlways sitting by your ...</td>\n",
       "      <td>1967-08-05</td>\n",
       "    </tr>\n",
       "    <tr>\n",
       "      <th>2</th>\n",
       "      <td>The Piper at the Gates of Dawn</td>\n",
       "      <td>Matilda Mother</td>\n",
       "      <td>There was a king who ruled the land\\nHis Majes...</td>\n",
       "      <td>1967-08-05</td>\n",
       "    </tr>\n",
       "    <tr>\n",
       "      <th>3</th>\n",
       "      <td>The Piper at the Gates of Dawn</td>\n",
       "      <td>Flaming</td>\n",
       "      <td>Alone in the clouds all blue\\nLying on an eide...</td>\n",
       "      <td>1967-08-05</td>\n",
       "    </tr>\n",
       "    <tr>\n",
       "      <th>4</th>\n",
       "      <td>The Piper at the Gates of Dawn</td>\n",
       "      <td>Pow R. Toc H.</td>\n",
       "      <td>TCH TCH\\nAHH (AHH)\\nTCH TCH\\nAHH AHH\\nDoi doi\\...</td>\n",
       "      <td>1967-08-05</td>\n",
       "    </tr>\n",
       "    <tr>\n",
       "      <th>...</th>\n",
       "      <td>...</td>\n",
       "      <td>...</td>\n",
       "      <td>...</td>\n",
       "      <td>...</td>\n",
       "    </tr>\n",
       "    <tr>\n",
       "      <th>115</th>\n",
       "      <td>The Final Cut</td>\n",
       "      <td>The Fletcher Memorial Home</td>\n",
       "      <td>Take all your overgrown infants away somewhere...</td>\n",
       "      <td>1983-03-21</td>\n",
       "    </tr>\n",
       "    <tr>\n",
       "      <th>116</th>\n",
       "      <td>The Final Cut</td>\n",
       "      <td>Southampton Dock</td>\n",
       "      <td>They disembarked in 45\\nAnd no - one spoke and...</td>\n",
       "      <td>1983-03-21</td>\n",
       "    </tr>\n",
       "    <tr>\n",
       "      <th>117</th>\n",
       "      <td>The Final Cut</td>\n",
       "      <td>The Final Cut</td>\n",
       "      <td>Through the fish - eyed lens of tear stained e...</td>\n",
       "      <td>1983-03-21</td>\n",
       "    </tr>\n",
       "    <tr>\n",
       "      <th>118</th>\n",
       "      <td>The Final Cut</td>\n",
       "      <td>Not Now John</td>\n",
       "      <td>Fuck all that, we've got to get on with these\\...</td>\n",
       "      <td>1983-03-21</td>\n",
       "    </tr>\n",
       "    <tr>\n",
       "      <th>119</th>\n",
       "      <td>The Final Cut</td>\n",
       "      <td>Two Suns in the Sunset</td>\n",
       "      <td>In my rear view mirror the sun is going down\\n...</td>\n",
       "      <td>1983-03-21</td>\n",
       "    </tr>\n",
       "  </tbody>\n",
       "</table>\n",
       "<p>120 rows × 4 columns</p>\n",
       "</div>"
      ],
      "text/plain": [
       "                              album                  song_title  \\\n",
       "0    The Piper at the Gates of Dawn            Astronomy Domine   \n",
       "1    The Piper at the Gates of Dawn                 Lucifer Sam   \n",
       "2    The Piper at the Gates of Dawn              Matilda Mother   \n",
       "3    The Piper at the Gates of Dawn                     Flaming   \n",
       "4    The Piper at the Gates of Dawn               Pow R. Toc H.   \n",
       "..                              ...                         ...   \n",
       "115                   The Final Cut  The Fletcher Memorial Home   \n",
       "116                   The Final Cut            Southampton Dock   \n",
       "117                   The Final Cut               The Final Cut   \n",
       "118                   The Final Cut                Not Now John   \n",
       "119                   The Final Cut      Two Suns in the Sunset   \n",
       "\n",
       "                                                lyrics       date  \n",
       "0    \"Moon in both [houses]...\"...Scorpio, [Arabian... 1967-08-05  \n",
       "1    Lucifer Sam, siam cat\\nAlways sitting by your ... 1967-08-05  \n",
       "2    There was a king who ruled the land\\nHis Majes... 1967-08-05  \n",
       "3    Alone in the clouds all blue\\nLying on an eide... 1967-08-05  \n",
       "4    TCH TCH\\nAHH (AHH)\\nTCH TCH\\nAHH AHH\\nDoi doi\\... 1967-08-05  \n",
       "..                                                 ...        ...  \n",
       "115  Take all your overgrown infants away somewhere... 1983-03-21  \n",
       "116  They disembarked in 45\\nAnd no - one spoke and... 1983-03-21  \n",
       "117  Through the fish - eyed lens of tear stained e... 1983-03-21  \n",
       "118  Fuck all that, we've got to get on with these\\... 1983-03-21  \n",
       "119  In my rear view mirror the sun is going down\\n... 1983-03-21  \n",
       "\n",
       "[120 rows x 4 columns]"
      ]
     },
     "execution_count": 7,
     "metadata": {},
     "output_type": "execute_result"
    }
   ],
   "source": [
    "# Recria o dataframe cujas datas são menores que 01/01/1984, ou seja, do Final Cut para trás\n",
    "df_pink_floyd = df_pink_floyd[df_pink_floyd['date'].dt.date < datetime.date(1984, 1, 1)]\n",
    "df_pink_floyd"
   ]
  },
  {
   "cell_type": "code",
   "execution_count": 8,
   "metadata": {},
   "outputs": [
    {
     "name": "stdout",
     "output_type": "stream",
     "text": [
      "<class 'pandas.core.frame.DataFrame'>\n",
      "Int64Index: 120 entries, 0 to 119\n",
      "Data columns (total 4 columns):\n",
      " #   Column      Non-Null Count  Dtype         \n",
      "---  ------      --------------  -----         \n",
      " 0   album       120 non-null    object        \n",
      " 1   song_title  120 non-null    object        \n",
      " 2   lyrics      104 non-null    object        \n",
      " 3   date        120 non-null    datetime64[ns]\n",
      "dtypes: datetime64[ns](1), object(3)\n",
      "memory usage: 4.7+ KB\n"
     ]
    }
   ],
   "source": [
    "df_pink_floyd.info()"
   ]
  },
  {
   "cell_type": "code",
   "execution_count": 9,
   "metadata": {
    "scrolled": true
   },
   "outputs": [
    {
     "data": {
      "text/html": [
       "<div>\n",
       "<style scoped>\n",
       "    .dataframe tbody tr th:only-of-type {\n",
       "        vertical-align: middle;\n",
       "    }\n",
       "\n",
       "    .dataframe tbody tr th {\n",
       "        vertical-align: top;\n",
       "    }\n",
       "\n",
       "    .dataframe thead th {\n",
       "        text-align: right;\n",
       "    }\n",
       "</style>\n",
       "<table border=\"1\" class=\"dataframe\">\n",
       "  <thead>\n",
       "    <tr style=\"text-align: right;\">\n",
       "      <th></th>\n",
       "      <th>album</th>\n",
       "      <th>song_title</th>\n",
       "      <th>lyrics</th>\n",
       "      <th>date</th>\n",
       "    </tr>\n",
       "  </thead>\n",
       "  <tbody>\n",
       "    <tr>\n",
       "      <th>6</th>\n",
       "      <td>The Piper at the Gates of Dawn</td>\n",
       "      <td>Interstellar Overdrive</td>\n",
       "      <td>NaN</td>\n",
       "      <td>1967-08-05</td>\n",
       "    </tr>\n",
       "    <tr>\n",
       "      <th>16</th>\n",
       "      <td>A Saucerful of Secrets</td>\n",
       "      <td>A Saucerful of Secrets</td>\n",
       "      <td>NaN</td>\n",
       "      <td>1968-06-29</td>\n",
       "    </tr>\n",
       "    <tr>\n",
       "      <th>19</th>\n",
       "      <td>More (Original Film Soundtrack)</td>\n",
       "      <td>Party Sequence</td>\n",
       "      <td>NaN</td>\n",
       "      <td>1969-06-13</td>\n",
       "    </tr>\n",
       "    <tr>\n",
       "      <th>20</th>\n",
       "      <td>More (Original Film Soundtrack)</td>\n",
       "      <td>Main Theme</td>\n",
       "      <td>NaN</td>\n",
       "      <td>1969-06-13</td>\n",
       "    </tr>\n",
       "    <tr>\n",
       "      <th>21</th>\n",
       "      <td>More (Original Film Soundtrack)</td>\n",
       "      <td>More Blues</td>\n",
       "      <td>NaN</td>\n",
       "      <td>1969-06-13</td>\n",
       "    </tr>\n",
       "    <tr>\n",
       "      <th>22</th>\n",
       "      <td>More (Original Film Soundtrack)</td>\n",
       "      <td>Quicksilver</td>\n",
       "      <td>NaN</td>\n",
       "      <td>1969-06-13</td>\n",
       "    </tr>\n",
       "    <tr>\n",
       "      <th>23</th>\n",
       "      <td>More (Original Film Soundtrack)</td>\n",
       "      <td>Dramatic Theme</td>\n",
       "      <td>NaN</td>\n",
       "      <td>1969-06-13</td>\n",
       "    </tr>\n",
       "    <tr>\n",
       "      <th>27</th>\n",
       "      <td>More (Original Film Soundtrack)</td>\n",
       "      <td>Up The Khyber</td>\n",
       "      <td>NaN</td>\n",
       "      <td>1969-06-13</td>\n",
       "    </tr>\n",
       "    <tr>\n",
       "      <th>35</th>\n",
       "      <td>Ummagumma</td>\n",
       "      <td>A Saucerful of Secrets</td>\n",
       "      <td>NaN</td>\n",
       "      <td>1968-06-29</td>\n",
       "    </tr>\n",
       "    <tr>\n",
       "      <th>36</th>\n",
       "      <td>Ummagumma</td>\n",
       "      <td>Sysyphus</td>\n",
       "      <td>NaN</td>\n",
       "      <td>1969-10-25</td>\n",
       "    </tr>\n",
       "    <tr>\n",
       "      <th>40</th>\n",
       "      <td>Ummagumma</td>\n",
       "      <td>The Grand Vizier’s Garden Party</td>\n",
       "      <td>NaN</td>\n",
       "      <td>1969-10-25</td>\n",
       "    </tr>\n",
       "    <tr>\n",
       "      <th>52</th>\n",
       "      <td>Obscured By Clouds</td>\n",
       "      <td>Obscured by Clouds</td>\n",
       "      <td>NaN</td>\n",
       "      <td>1972-06-02</td>\n",
       "    </tr>\n",
       "    <tr>\n",
       "      <th>53</th>\n",
       "      <td>Obscured By Clouds</td>\n",
       "      <td>When You’re In</td>\n",
       "      <td>NaN</td>\n",
       "      <td>1972-06-02</td>\n",
       "    </tr>\n",
       "    <tr>\n",
       "      <th>57</th>\n",
       "      <td>Obscured By Clouds</td>\n",
       "      <td>Mudmen</td>\n",
       "      <td>NaN</td>\n",
       "      <td>1972-06-02</td>\n",
       "    </tr>\n",
       "    <tr>\n",
       "      <th>61</th>\n",
       "      <td>Obscured By Clouds</td>\n",
       "      <td>Absolutely Curtains</td>\n",
       "      <td>NaN</td>\n",
       "      <td>1972-06-02</td>\n",
       "    </tr>\n",
       "    <tr>\n",
       "      <th>69</th>\n",
       "      <td>The Dark Side of the Moon</td>\n",
       "      <td>Any Colour You Like</td>\n",
       "      <td>NaN</td>\n",
       "      <td>1973-03-01</td>\n",
       "    </tr>\n",
       "  </tbody>\n",
       "</table>\n",
       "</div>"
      ],
      "text/plain": [
       "                              album                       song_title lyrics  \\\n",
       "6    The Piper at the Gates of Dawn           Interstellar Overdrive    NaN   \n",
       "16           A Saucerful of Secrets           A Saucerful of Secrets    NaN   \n",
       "19  More (Original Film Soundtrack)                   Party Sequence    NaN   \n",
       "20  More (Original Film Soundtrack)                       Main Theme    NaN   \n",
       "21  More (Original Film Soundtrack)                       More Blues    NaN   \n",
       "22  More (Original Film Soundtrack)                      Quicksilver    NaN   \n",
       "23  More (Original Film Soundtrack)                   Dramatic Theme    NaN   \n",
       "27  More (Original Film Soundtrack)                    Up The Khyber    NaN   \n",
       "35                        Ummagumma           A Saucerful of Secrets    NaN   \n",
       "36                        Ummagumma                         Sysyphus    NaN   \n",
       "40                        Ummagumma  The Grand Vizier’s Garden Party    NaN   \n",
       "52               Obscured By Clouds               Obscured by Clouds    NaN   \n",
       "53               Obscured By Clouds                   When You’re In    NaN   \n",
       "57               Obscured By Clouds                           Mudmen    NaN   \n",
       "61               Obscured By Clouds              Absolutely Curtains    NaN   \n",
       "69        The Dark Side of the Moon              Any Colour You Like    NaN   \n",
       "\n",
       "         date  \n",
       "6  1967-08-05  \n",
       "16 1968-06-29  \n",
       "19 1969-06-13  \n",
       "20 1969-06-13  \n",
       "21 1969-06-13  \n",
       "22 1969-06-13  \n",
       "23 1969-06-13  \n",
       "27 1969-06-13  \n",
       "35 1968-06-29  \n",
       "36 1969-10-25  \n",
       "40 1969-10-25  \n",
       "52 1972-06-02  \n",
       "53 1972-06-02  \n",
       "57 1972-06-02  \n",
       "61 1972-06-02  \n",
       "69 1973-03-01  "
      ]
     },
     "execution_count": 9,
     "metadata": {},
     "output_type": "execute_result"
    }
   ],
   "source": [
    "df_pink_floyd[df_pink_floyd['lyrics'].isnull()] # Ver missing values"
   ]
  },
  {
   "cell_type": "markdown",
   "metadata": {},
   "source": [
    "Ainda existem alguns registros com a coluna `lyrics` vazia, mas até onde sei, estes sons são todos instrumentais, então está tudo certo."
   ]
  },
  {
   "cell_type": "markdown",
   "metadata": {},
   "source": [
    "### Tratando as palavras\n",
    "\n",
    "Primeiro vamos setar o tokenizer, o stop words e o stemmer, e mais algumas funções que serão comuns para todas as análises."
   ]
  },
  {
   "cell_type": "code",
   "execution_count": 10,
   "metadata": {},
   "outputs": [],
   "source": [
    "tokenizer = tokenize.RegexpTokenizer(r'\\w+')\n",
    "stemmer = SnowballStemmer('english')\n",
    "stop_words = set(stopwords.words('english'))"
   ]
  },
  {
   "cell_type": "markdown",
   "metadata": {},
   "source": [
    "Como eu já chequei o resultado do gráfico, sei que algumas palavras que estão lá não fazem muito sentido serem usadas, como as onomatopéias, interjeições ou mesmo modais de tempo (will, would), de forma que vou adicioná-las ao stop words."
   ]
  },
  {
   "cell_type": "code",
   "execution_count": 11,
   "metadata": {},
   "outputs": [],
   "source": [
    "stop_words.update(['ooh', 'oh', 'ah', 'pa', 'will', 'would'])"
   ]
  },
  {
   "cell_type": "markdown",
   "metadata": {},
   "source": [
    "A função `count_words` vai receber a coluna text do dataframe, fará os tratamentos das palavras necessárias e retornará as palavras mais frequentes e suas frequências. \n",
    "\n",
    "Logo em seguida jogaremos na função `most_freq_words_chart` que plotará os resultados num gráfico.\n",
    "\n",
    "A função `clean_text` será usada para filtrar as stop words para serem usadas no word cloud."
   ]
  },
  {
   "cell_type": "code",
   "execution_count": 22,
   "metadata": {},
   "outputs": [],
   "source": [
    "def count_words(matrix, most_common = 20):\n",
    "    \"\"\"\n",
    "    Args:\n",
    "        matrix(DataFrame): Recebe uma matriz com os textos\n",
    "        most_common (int): A quantidade de palavras mais comuns \n",
    "        \n",
    "    Returns:\n",
    "        words_g (list): retorna todas as palavras do texto\n",
    "        words (list): as palavras mais frequentes\n",
    "        values (list): os valores das frequências\n",
    "    \"\"\"\n",
    "    words_g = []\n",
    "    for lyric in matrix:\n",
    "        for word in tokenizer.tokenize(lyric): # separa as palavras de cada música\n",
    "            word = word.lower() #  convertenda a palavra para minúsculo\n",
    "            if not word in stop_words: # se não for uma 'stop word' será atribuída a variável words_g\n",
    "                words_g.append(word) # adiciona a palavra para o array\n",
    "    f = nltk.FreqDist(words_g) # Conta a frequência das palavras dentro do texto\n",
    "    words = []\n",
    "    values = []\n",
    "    for word, value in f.most_common(most_common): # retorna as N palavras mais frequentes no texto\n",
    "        words.append(word) # recebe a palavra\n",
    "        values.append(value) # recebe o valor (frequência)\n",
    "    return words_g, words, values # retorna as palavras, as palavras mais frequentes e o valor da frequência\n",
    "\n",
    "def most_freq_words_chart(f_words, f_values):\n",
    "    \"\"\"\n",
    "    Args:\n",
    "        f_words: palavras mais frequentes\n",
    "        f_values: frequências das palavras\n",
    "        \n",
    "    Returns:\n",
    "        plot: gráfico com as palavras mais frequentes\n",
    "    \"\"\"\n",
    "    plot = go.Figure(\n",
    "        go.Bar(x = f_words, y = f_values, marker_color=(['orange'] * 4) + (['#cc6600'] * 4) + (['#b35900'] * 4) + (['#994d00'] * 4) + (['#804000'] * 4))\n",
    "    )\n",
    "    plot.update_layout(title='Palavras mais frequentes')\n",
    "    plot.show()\n",
    "    pio.write_image(plot, \"assets/plotly_chart.png\", width=600, height=350, scale=2)\n",
    "    \n",
    "def clean_text(stop_words, df_text):\n",
    "    text = \" \".join(x.lower().strip() for x in df_text) # pegar as palavras da lista e jogar na string. Limpar os espaços e torná-las minusculas\n",
    "    clean_text = [word for word in text.split() if word not in stop_words] # Limpar as stop words\n",
    "    text = ' '.join([str(elem) for elem in clean_text]) # Converter a lista em string\n",
    "    return text"
   ]
  },
  {
   "cell_type": "markdown",
   "metadata": {},
   "source": [
    "## Palavras mais frequentes"
   ]
  },
  {
   "cell_type": "code",
   "execution_count": 23,
   "metadata": {},
   "outputs": [
    {
     "data": {
      "application/vnd.plotly.v1+json": {
       "config": {
        "plotlyServerURL": "https://plot.ly"
       },
       "data": [
        {
         "marker": {
          "color": [
           "orange",
           "orange",
           "orange",
           "orange",
           "#cc6600",
           "#cc6600",
           "#cc6600",
           "#cc6600",
           "#b35900",
           "#b35900",
           "#b35900",
           "#b35900",
           "#994d00",
           "#994d00",
           "#994d00",
           "#994d00",
           "#804000",
           "#804000",
           "#804000",
           "#804000"
          ]
         },
         "type": "bar",
         "x": [
          "sun",
          "heart",
          "time",
          "get",
          "one",
          "run",
          "day",
          "got",
          "like",
          "make",
          "way",
          "good",
          "wall",
          "go",
          "come",
          "eyes",
          "away",
          "home",
          "know",
          "need",
          "gotta",
          "man",
          "feel",
          "see",
          "another"
         ],
         "y": [
          87,
          73,
          60,
          58,
          57,
          47,
          45,
          43,
          43,
          42,
          41,
          36,
          36,
          35,
          34,
          33,
          33,
          33,
          32,
          32,
          31,
          30,
          29,
          28,
          28
         ]
        }
       ],
       "layout": {
        "autosize": true,
        "template": {
         "data": {
          "bar": [
           {
            "error_x": {
             "color": "#2a3f5f"
            },
            "error_y": {
             "color": "#2a3f5f"
            },
            "marker": {
             "line": {
              "color": "#E5ECF6",
              "width": 0.5
             }
            },
            "type": "bar"
           }
          ],
          "barpolar": [
           {
            "marker": {
             "line": {
              "color": "#E5ECF6",
              "width": 0.5
             }
            },
            "type": "barpolar"
           }
          ],
          "carpet": [
           {
            "aaxis": {
             "endlinecolor": "#2a3f5f",
             "gridcolor": "white",
             "linecolor": "white",
             "minorgridcolor": "white",
             "startlinecolor": "#2a3f5f"
            },
            "baxis": {
             "endlinecolor": "#2a3f5f",
             "gridcolor": "white",
             "linecolor": "white",
             "minorgridcolor": "white",
             "startlinecolor": "#2a3f5f"
            },
            "type": "carpet"
           }
          ],
          "choropleth": [
           {
            "colorbar": {
             "outlinewidth": 0,
             "ticks": ""
            },
            "type": "choropleth"
           }
          ],
          "contour": [
           {
            "colorbar": {
             "outlinewidth": 0,
             "ticks": ""
            },
            "colorscale": [
             [
              0,
              "#0d0887"
             ],
             [
              0.1111111111111111,
              "#46039f"
             ],
             [
              0.2222222222222222,
              "#7201a8"
             ],
             [
              0.3333333333333333,
              "#9c179e"
             ],
             [
              0.4444444444444444,
              "#bd3786"
             ],
             [
              0.5555555555555556,
              "#d8576b"
             ],
             [
              0.6666666666666666,
              "#ed7953"
             ],
             [
              0.7777777777777778,
              "#fb9f3a"
             ],
             [
              0.8888888888888888,
              "#fdca26"
             ],
             [
              1,
              "#f0f921"
             ]
            ],
            "type": "contour"
           }
          ],
          "contourcarpet": [
           {
            "colorbar": {
             "outlinewidth": 0,
             "ticks": ""
            },
            "type": "contourcarpet"
           }
          ],
          "heatmap": [
           {
            "colorbar": {
             "outlinewidth": 0,
             "ticks": ""
            },
            "colorscale": [
             [
              0,
              "#0d0887"
             ],
             [
              0.1111111111111111,
              "#46039f"
             ],
             [
              0.2222222222222222,
              "#7201a8"
             ],
             [
              0.3333333333333333,
              "#9c179e"
             ],
             [
              0.4444444444444444,
              "#bd3786"
             ],
             [
              0.5555555555555556,
              "#d8576b"
             ],
             [
              0.6666666666666666,
              "#ed7953"
             ],
             [
              0.7777777777777778,
              "#fb9f3a"
             ],
             [
              0.8888888888888888,
              "#fdca26"
             ],
             [
              1,
              "#f0f921"
             ]
            ],
            "type": "heatmap"
           }
          ],
          "heatmapgl": [
           {
            "colorbar": {
             "outlinewidth": 0,
             "ticks": ""
            },
            "colorscale": [
             [
              0,
              "#0d0887"
             ],
             [
              0.1111111111111111,
              "#46039f"
             ],
             [
              0.2222222222222222,
              "#7201a8"
             ],
             [
              0.3333333333333333,
              "#9c179e"
             ],
             [
              0.4444444444444444,
              "#bd3786"
             ],
             [
              0.5555555555555556,
              "#d8576b"
             ],
             [
              0.6666666666666666,
              "#ed7953"
             ],
             [
              0.7777777777777778,
              "#fb9f3a"
             ],
             [
              0.8888888888888888,
              "#fdca26"
             ],
             [
              1,
              "#f0f921"
             ]
            ],
            "type": "heatmapgl"
           }
          ],
          "histogram": [
           {
            "marker": {
             "colorbar": {
              "outlinewidth": 0,
              "ticks": ""
             }
            },
            "type": "histogram"
           }
          ],
          "histogram2d": [
           {
            "colorbar": {
             "outlinewidth": 0,
             "ticks": ""
            },
            "colorscale": [
             [
              0,
              "#0d0887"
             ],
             [
              0.1111111111111111,
              "#46039f"
             ],
             [
              0.2222222222222222,
              "#7201a8"
             ],
             [
              0.3333333333333333,
              "#9c179e"
             ],
             [
              0.4444444444444444,
              "#bd3786"
             ],
             [
              0.5555555555555556,
              "#d8576b"
             ],
             [
              0.6666666666666666,
              "#ed7953"
             ],
             [
              0.7777777777777778,
              "#fb9f3a"
             ],
             [
              0.8888888888888888,
              "#fdca26"
             ],
             [
              1,
              "#f0f921"
             ]
            ],
            "type": "histogram2d"
           }
          ],
          "histogram2dcontour": [
           {
            "colorbar": {
             "outlinewidth": 0,
             "ticks": ""
            },
            "colorscale": [
             [
              0,
              "#0d0887"
             ],
             [
              0.1111111111111111,
              "#46039f"
             ],
             [
              0.2222222222222222,
              "#7201a8"
             ],
             [
              0.3333333333333333,
              "#9c179e"
             ],
             [
              0.4444444444444444,
              "#bd3786"
             ],
             [
              0.5555555555555556,
              "#d8576b"
             ],
             [
              0.6666666666666666,
              "#ed7953"
             ],
             [
              0.7777777777777778,
              "#fb9f3a"
             ],
             [
              0.8888888888888888,
              "#fdca26"
             ],
             [
              1,
              "#f0f921"
             ]
            ],
            "type": "histogram2dcontour"
           }
          ],
          "mesh3d": [
           {
            "colorbar": {
             "outlinewidth": 0,
             "ticks": ""
            },
            "type": "mesh3d"
           }
          ],
          "parcoords": [
           {
            "line": {
             "colorbar": {
              "outlinewidth": 0,
              "ticks": ""
             }
            },
            "type": "parcoords"
           }
          ],
          "pie": [
           {
            "automargin": true,
            "type": "pie"
           }
          ],
          "scatter": [
           {
            "marker": {
             "colorbar": {
              "outlinewidth": 0,
              "ticks": ""
             }
            },
            "type": "scatter"
           }
          ],
          "scatter3d": [
           {
            "line": {
             "colorbar": {
              "outlinewidth": 0,
              "ticks": ""
             }
            },
            "marker": {
             "colorbar": {
              "outlinewidth": 0,
              "ticks": ""
             }
            },
            "type": "scatter3d"
           }
          ],
          "scattercarpet": [
           {
            "marker": {
             "colorbar": {
              "outlinewidth": 0,
              "ticks": ""
             }
            },
            "type": "scattercarpet"
           }
          ],
          "scattergeo": [
           {
            "marker": {
             "colorbar": {
              "outlinewidth": 0,
              "ticks": ""
             }
            },
            "type": "scattergeo"
           }
          ],
          "scattergl": [
           {
            "marker": {
             "colorbar": {
              "outlinewidth": 0,
              "ticks": ""
             }
            },
            "type": "scattergl"
           }
          ],
          "scattermapbox": [
           {
            "marker": {
             "colorbar": {
              "outlinewidth": 0,
              "ticks": ""
             }
            },
            "type": "scattermapbox"
           }
          ],
          "scatterpolar": [
           {
            "marker": {
             "colorbar": {
              "outlinewidth": 0,
              "ticks": ""
             }
            },
            "type": "scatterpolar"
           }
          ],
          "scatterpolargl": [
           {
            "marker": {
             "colorbar": {
              "outlinewidth": 0,
              "ticks": ""
             }
            },
            "type": "scatterpolargl"
           }
          ],
          "scatterternary": [
           {
            "marker": {
             "colorbar": {
              "outlinewidth": 0,
              "ticks": ""
             }
            },
            "type": "scatterternary"
           }
          ],
          "surface": [
           {
            "colorbar": {
             "outlinewidth": 0,
             "ticks": ""
            },
            "colorscale": [
             [
              0,
              "#0d0887"
             ],
             [
              0.1111111111111111,
              "#46039f"
             ],
             [
              0.2222222222222222,
              "#7201a8"
             ],
             [
              0.3333333333333333,
              "#9c179e"
             ],
             [
              0.4444444444444444,
              "#bd3786"
             ],
             [
              0.5555555555555556,
              "#d8576b"
             ],
             [
              0.6666666666666666,
              "#ed7953"
             ],
             [
              0.7777777777777778,
              "#fb9f3a"
             ],
             [
              0.8888888888888888,
              "#fdca26"
             ],
             [
              1,
              "#f0f921"
             ]
            ],
            "type": "surface"
           }
          ],
          "table": [
           {
            "cells": {
             "fill": {
              "color": "#EBF0F8"
             },
             "line": {
              "color": "white"
             }
            },
            "header": {
             "fill": {
              "color": "#C8D4E3"
             },
             "line": {
              "color": "white"
             }
            },
            "type": "table"
           }
          ]
         },
         "layout": {
          "annotationdefaults": {
           "arrowcolor": "#2a3f5f",
           "arrowhead": 0,
           "arrowwidth": 1
          },
          "coloraxis": {
           "colorbar": {
            "outlinewidth": 0,
            "ticks": ""
           }
          },
          "colorscale": {
           "diverging": [
            [
             0,
             "#8e0152"
            ],
            [
             0.1,
             "#c51b7d"
            ],
            [
             0.2,
             "#de77ae"
            ],
            [
             0.3,
             "#f1b6da"
            ],
            [
             0.4,
             "#fde0ef"
            ],
            [
             0.5,
             "#f7f7f7"
            ],
            [
             0.6,
             "#e6f5d0"
            ],
            [
             0.7,
             "#b8e186"
            ],
            [
             0.8,
             "#7fbc41"
            ],
            [
             0.9,
             "#4d9221"
            ],
            [
             1,
             "#276419"
            ]
           ],
           "sequential": [
            [
             0,
             "#0d0887"
            ],
            [
             0.1111111111111111,
             "#46039f"
            ],
            [
             0.2222222222222222,
             "#7201a8"
            ],
            [
             0.3333333333333333,
             "#9c179e"
            ],
            [
             0.4444444444444444,
             "#bd3786"
            ],
            [
             0.5555555555555556,
             "#d8576b"
            ],
            [
             0.6666666666666666,
             "#ed7953"
            ],
            [
             0.7777777777777778,
             "#fb9f3a"
            ],
            [
             0.8888888888888888,
             "#fdca26"
            ],
            [
             1,
             "#f0f921"
            ]
           ],
           "sequentialminus": [
            [
             0,
             "#0d0887"
            ],
            [
             0.1111111111111111,
             "#46039f"
            ],
            [
             0.2222222222222222,
             "#7201a8"
            ],
            [
             0.3333333333333333,
             "#9c179e"
            ],
            [
             0.4444444444444444,
             "#bd3786"
            ],
            [
             0.5555555555555556,
             "#d8576b"
            ],
            [
             0.6666666666666666,
             "#ed7953"
            ],
            [
             0.7777777777777778,
             "#fb9f3a"
            ],
            [
             0.8888888888888888,
             "#fdca26"
            ],
            [
             1,
             "#f0f921"
            ]
           ]
          },
          "colorway": [
           "#636efa",
           "#EF553B",
           "#00cc96",
           "#ab63fa",
           "#FFA15A",
           "#19d3f3",
           "#FF6692",
           "#B6E880",
           "#FF97FF",
           "#FECB52"
          ],
          "font": {
           "color": "#2a3f5f"
          },
          "geo": {
           "bgcolor": "white",
           "lakecolor": "white",
           "landcolor": "#E5ECF6",
           "showlakes": true,
           "showland": true,
           "subunitcolor": "white"
          },
          "hoverlabel": {
           "align": "left"
          },
          "hovermode": "closest",
          "mapbox": {
           "style": "light"
          },
          "paper_bgcolor": "white",
          "plot_bgcolor": "#E5ECF6",
          "polar": {
           "angularaxis": {
            "gridcolor": "white",
            "linecolor": "white",
            "ticks": ""
           },
           "bgcolor": "#E5ECF6",
           "radialaxis": {
            "gridcolor": "white",
            "linecolor": "white",
            "ticks": ""
           }
          },
          "scene": {
           "xaxis": {
            "backgroundcolor": "#E5ECF6",
            "gridcolor": "white",
            "gridwidth": 2,
            "linecolor": "white",
            "showbackground": true,
            "ticks": "",
            "zerolinecolor": "white"
           },
           "yaxis": {
            "backgroundcolor": "#E5ECF6",
            "gridcolor": "white",
            "gridwidth": 2,
            "linecolor": "white",
            "showbackground": true,
            "ticks": "",
            "zerolinecolor": "white"
           },
           "zaxis": {
            "backgroundcolor": "#E5ECF6",
            "gridcolor": "white",
            "gridwidth": 2,
            "linecolor": "white",
            "showbackground": true,
            "ticks": "",
            "zerolinecolor": "white"
           }
          },
          "shapedefaults": {
           "line": {
            "color": "#2a3f5f"
           }
          },
          "ternary": {
           "aaxis": {
            "gridcolor": "white",
            "linecolor": "white",
            "ticks": ""
           },
           "baxis": {
            "gridcolor": "white",
            "linecolor": "white",
            "ticks": ""
           },
           "bgcolor": "#E5ECF6",
           "caxis": {
            "gridcolor": "white",
            "linecolor": "white",
            "ticks": ""
           }
          },
          "title": {
           "x": 0.05
          },
          "xaxis": {
           "automargin": true,
           "gridcolor": "white",
           "linecolor": "white",
           "ticks": "",
           "title": {
            "standoff": 15
           },
           "zerolinecolor": "white",
           "zerolinewidth": 2
          },
          "yaxis": {
           "automargin": true,
           "gridcolor": "white",
           "linecolor": "white",
           "ticks": "",
           "title": {
            "standoff": 15
           },
           "zerolinecolor": "white",
           "zerolinewidth": 2
          }
         }
        },
        "title": {
         "text": "Palavras mais frequentes"
        },
        "xaxis": {
         "autorange": true,
         "range": [
          -0.5,
          24.5
         ],
         "type": "category"
        },
        "yaxis": {
         "autorange": true,
         "range": [
          0,
          91.57894736842105
         ],
         "type": "linear"
        }
       }
      },
      "image/png": "[encoded data removed]",
      "text/html": [
       "<div>\n",
       "        \n",
       "        \n",
       "            <div id=\"dce4b940-5eb0-4b55-8ab3-ed4e0753fd13\" class=\"plotly-graph-div\" style=\"height:525px; width:100%;\"></div>\n",
       "            <script type=\"text/javascript\">\n",
       "                require([\"plotly\"], function(Plotly) {\n",
       "                    window.PLOTLYENV=window.PLOTLYENV || {};\n",
       "                    \n",
       "                if (document.getElementById(\"dce4b940-5eb0-4b55-8ab3-ed4e0753fd13\")) {\n",
       "                    Plotly.newPlot(\n",
       "                        'dce4b940-5eb0-4b55-8ab3-ed4e0753fd13',\n",
       "                        [{\"marker\": {\"color\": [\"orange\", \"orange\", \"orange\", \"orange\", \"#cc6600\", \"#cc6600\", \"#cc6600\", \"#cc6600\", \"#b35900\", \"#b35900\", \"#b35900\", \"#b35900\", \"#994d00\", \"#994d00\", \"#994d00\", \"#994d00\", \"#804000\", \"#804000\", \"#804000\", \"#804000\"]}, \"type\": \"bar\", \"x\": [\"sun\", \"heart\", \"time\", \"get\", \"one\", \"run\", \"day\", \"got\", \"like\", \"make\", \"way\", \"good\", \"wall\", \"go\", \"come\", \"eyes\", \"away\", \"home\", \"know\", \"need\", \"gotta\", \"man\", \"feel\", \"see\", \"another\"], \"y\": [87, 73, 60, 58, 57, 47, 45, 43, 43, 42, 41, 36, 36, 35, 34, 33, 33, 33, 32, 32, 31, 30, 29, 28, 28]}],\n",
       "                        {\"template\": {\"data\": {\"bar\": [{\"error_x\": {\"color\": \"#2a3f5f\"}, \"error_y\": {\"color\": \"#2a3f5f\"}, \"marker\": {\"line\": {\"color\": \"#E5ECF6\", \"width\": 0.5}}, \"type\": \"bar\"}], \"barpolar\": [{\"marker\": {\"line\": {\"color\": \"#E5ECF6\", \"width\": 0.5}}, \"type\": \"barpolar\"}], \"carpet\": [{\"aaxis\": {\"endlinecolor\": \"#2a3f5f\", \"gridcolor\": \"white\", \"linecolor\": \"white\", \"minorgridcolor\": \"white\", \"startlinecolor\": \"#2a3f5f\"}, \"baxis\": {\"endlinecolor\": \"#2a3f5f\", \"gridcolor\": \"white\", \"linecolor\": \"white\", \"minorgridcolor\": \"white\", \"startlinecolor\": \"#2a3f5f\"}, \"type\": \"carpet\"}], \"choropleth\": [{\"colorbar\": {\"outlinewidth\": 0, \"ticks\": \"\"}, \"type\": \"choropleth\"}], \"contour\": [{\"colorbar\": {\"outlinewidth\": 0, \"ticks\": \"\"}, \"colorscale\": [[0.0, \"#0d0887\"], [0.1111111111111111, \"#46039f\"], [0.2222222222222222, \"#7201a8\"], [0.3333333333333333, \"#9c179e\"], [0.4444444444444444, \"#bd3786\"], [0.5555555555555556, \"#d8576b\"], [0.6666666666666666, \"#ed7953\"], [0.7777777777777778, \"#fb9f3a\"], [0.8888888888888888, \"#fdca26\"], [1.0, \"#f0f921\"]], \"type\": \"contour\"}], \"contourcarpet\": [{\"colorbar\": {\"outlinewidth\": 0, \"ticks\": \"\"}, \"type\": \"contourcarpet\"}], \"heatmap\": [{\"colorbar\": {\"outlinewidth\": 0, \"ticks\": \"\"}, \"colorscale\": [[0.0, \"#0d0887\"], [0.1111111111111111, \"#46039f\"], [0.2222222222222222, \"#7201a8\"], [0.3333333333333333, \"#9c179e\"], [0.4444444444444444, \"#bd3786\"], [0.5555555555555556, \"#d8576b\"], [0.6666666666666666, \"#ed7953\"], [0.7777777777777778, \"#fb9f3a\"], [0.8888888888888888, \"#fdca26\"], [1.0, \"#f0f921\"]], \"type\": \"heatmap\"}], \"heatmapgl\": [{\"colorbar\": {\"outlinewidth\": 0, \"ticks\": \"\"}, \"colorscale\": [[0.0, \"#0d0887\"], [0.1111111111111111, \"#46039f\"], [0.2222222222222222, \"#7201a8\"], [0.3333333333333333, \"#9c179e\"], [0.4444444444444444, \"#bd3786\"], [0.5555555555555556, \"#d8576b\"], [0.6666666666666666, \"#ed7953\"], [0.7777777777777778, \"#fb9f3a\"], [0.8888888888888888, \"#fdca26\"], [1.0, \"#f0f921\"]], \"type\": \"heatmapgl\"}], \"histogram\": [{\"marker\": {\"colorbar\": {\"outlinewidth\": 0, \"ticks\": \"\"}}, \"type\": \"histogram\"}], \"histogram2d\": [{\"colorbar\": {\"outlinewidth\": 0, \"ticks\": \"\"}, \"colorscale\": [[0.0, \"#0d0887\"], [0.1111111111111111, \"#46039f\"], [0.2222222222222222, \"#7201a8\"], [0.3333333333333333, \"#9c179e\"], [0.4444444444444444, \"#bd3786\"], [0.5555555555555556, \"#d8576b\"], [0.6666666666666666, \"#ed7953\"], [0.7777777777777778, \"#fb9f3a\"], [0.8888888888888888, \"#fdca26\"], [1.0, \"#f0f921\"]], \"type\": \"histogram2d\"}], \"histogram2dcontour\": [{\"colorbar\": {\"outlinewidth\": 0, \"ticks\": \"\"}, \"colorscale\": [[0.0, \"#0d0887\"], [0.1111111111111111, \"#46039f\"], [0.2222222222222222, \"#7201a8\"], [0.3333333333333333, \"#9c179e\"], [0.4444444444444444, \"#bd3786\"], [0.5555555555555556, \"#d8576b\"], [0.6666666666666666, \"#ed7953\"], [0.7777777777777778, \"#fb9f3a\"], [0.8888888888888888, \"#fdca26\"], [1.0, \"#f0f921\"]], \"type\": \"histogram2dcontour\"}], \"mesh3d\": [{\"colorbar\": {\"outlinewidth\": 0, \"ticks\": \"\"}, \"type\": \"mesh3d\"}], \"parcoords\": [{\"line\": {\"colorbar\": {\"outlinewidth\": 0, \"ticks\": \"\"}}, \"type\": \"parcoords\"}], \"pie\": [{\"automargin\": true, \"type\": \"pie\"}], \"scatter\": [{\"marker\": {\"colorbar\": {\"outlinewidth\": 0, \"ticks\": \"\"}}, \"type\": \"scatter\"}], \"scatter3d\": [{\"line\": {\"colorbar\": {\"outlinewidth\": 0, \"ticks\": \"\"}}, \"marker\": {\"colorbar\": {\"outlinewidth\": 0, \"ticks\": \"\"}}, \"type\": \"scatter3d\"}], \"scattercarpet\": [{\"marker\": {\"colorbar\": {\"outlinewidth\": 0, \"ticks\": \"\"}}, \"type\": \"scattercarpet\"}], \"scattergeo\": [{\"marker\": {\"colorbar\": {\"outlinewidth\": 0, \"ticks\": \"\"}}, \"type\": \"scattergeo\"}], \"scattergl\": [{\"marker\": {\"colorbar\": {\"outlinewidth\": 0, \"ticks\": \"\"}}, \"type\": \"scattergl\"}], \"scattermapbox\": [{\"marker\": {\"colorbar\": {\"outlinewidth\": 0, \"ticks\": \"\"}}, \"type\": \"scattermapbox\"}], \"scatterpolar\": [{\"marker\": {\"colorbar\": {\"outlinewidth\": 0, \"ticks\": \"\"}}, \"type\": \"scatterpolar\"}], \"scatterpolargl\": [{\"marker\": {\"colorbar\": {\"outlinewidth\": 0, \"ticks\": \"\"}}, \"type\": \"scatterpolargl\"}], \"scatterternary\": [{\"marker\": {\"colorbar\": {\"outlinewidth\": 0, \"ticks\": \"\"}}, \"type\": \"scatterternary\"}], \"surface\": [{\"colorbar\": {\"outlinewidth\": 0, \"ticks\": \"\"}, \"colorscale\": [[0.0, \"#0d0887\"], [0.1111111111111111, \"#46039f\"], [0.2222222222222222, \"#7201a8\"], [0.3333333333333333, \"#9c179e\"], [0.4444444444444444, \"#bd3786\"], [0.5555555555555556, \"#d8576b\"], [0.6666666666666666, \"#ed7953\"], [0.7777777777777778, \"#fb9f3a\"], [0.8888888888888888, \"#fdca26\"], [1.0, \"#f0f921\"]], \"type\": \"surface\"}], \"table\": [{\"cells\": {\"fill\": {\"color\": \"#EBF0F8\"}, \"line\": {\"color\": \"white\"}}, \"header\": {\"fill\": {\"color\": \"#C8D4E3\"}, \"line\": {\"color\": \"white\"}}, \"type\": \"table\"}]}, \"layout\": {\"annotationdefaults\": {\"arrowcolor\": \"#2a3f5f\", \"arrowhead\": 0, \"arrowwidth\": 1}, \"coloraxis\": {\"colorbar\": {\"outlinewidth\": 0, \"ticks\": \"\"}}, \"colorscale\": {\"diverging\": [[0, \"#8e0152\"], [0.1, \"#c51b7d\"], [0.2, \"#de77ae\"], [0.3, \"#f1b6da\"], [0.4, \"#fde0ef\"], [0.5, \"#f7f7f7\"], [0.6, \"#e6f5d0\"], [0.7, \"#b8e186\"], [0.8, \"#7fbc41\"], [0.9, \"#4d9221\"], [1, \"#276419\"]], \"sequential\": [[0.0, \"#0d0887\"], [0.1111111111111111, \"#46039f\"], [0.2222222222222222, \"#7201a8\"], [0.3333333333333333, \"#9c179e\"], [0.4444444444444444, \"#bd3786\"], [0.5555555555555556, \"#d8576b\"], [0.6666666666666666, \"#ed7953\"], [0.7777777777777778, \"#fb9f3a\"], [0.8888888888888888, \"#fdca26\"], [1.0, \"#f0f921\"]], \"sequentialminus\": [[0.0, \"#0d0887\"], [0.1111111111111111, \"#46039f\"], [0.2222222222222222, \"#7201a8\"], [0.3333333333333333, \"#9c179e\"], [0.4444444444444444, \"#bd3786\"], [0.5555555555555556, \"#d8576b\"], [0.6666666666666666, \"#ed7953\"], [0.7777777777777778, \"#fb9f3a\"], [0.8888888888888888, \"#fdca26\"], [1.0, \"#f0f921\"]]}, \"colorway\": [\"#636efa\", \"#EF553B\", \"#00cc96\", \"#ab63fa\", \"#FFA15A\", \"#19d3f3\", \"#FF6692\", \"#B6E880\", \"#FF97FF\", \"#FECB52\"], \"font\": {\"color\": \"#2a3f5f\"}, \"geo\": {\"bgcolor\": \"white\", \"lakecolor\": \"white\", \"landcolor\": \"#E5ECF6\", \"showlakes\": true, \"showland\": true, \"subunitcolor\": \"white\"}, \"hoverlabel\": {\"align\": \"left\"}, \"hovermode\": \"closest\", \"mapbox\": {\"style\": \"light\"}, \"paper_bgcolor\": \"white\", \"plot_bgcolor\": \"#E5ECF6\", \"polar\": {\"angularaxis\": {\"gridcolor\": \"white\", \"linecolor\": \"white\", \"ticks\": \"\"}, \"bgcolor\": \"#E5ECF6\", \"radialaxis\": {\"gridcolor\": \"white\", \"linecolor\": \"white\", \"ticks\": \"\"}}, \"scene\": {\"xaxis\": {\"backgroundcolor\": \"#E5ECF6\", \"gridcolor\": \"white\", \"gridwidth\": 2, \"linecolor\": \"white\", \"showbackground\": true, \"ticks\": \"\", \"zerolinecolor\": \"white\"}, \"yaxis\": {\"backgroundcolor\": \"#E5ECF6\", \"gridcolor\": \"white\", \"gridwidth\": 2, \"linecolor\": \"white\", \"showbackground\": true, \"ticks\": \"\", \"zerolinecolor\": \"white\"}, \"zaxis\": {\"backgroundcolor\": \"#E5ECF6\", \"gridcolor\": \"white\", \"gridwidth\": 2, \"linecolor\": \"white\", \"showbackground\": true, \"ticks\": \"\", \"zerolinecolor\": \"white\"}}, \"shapedefaults\": {\"line\": {\"color\": \"#2a3f5f\"}}, \"ternary\": {\"aaxis\": {\"gridcolor\": \"white\", \"linecolor\": \"white\", \"ticks\": \"\"}, \"baxis\": {\"gridcolor\": \"white\", \"linecolor\": \"white\", \"ticks\": \"\"}, \"bgcolor\": \"#E5ECF6\", \"caxis\": {\"gridcolor\": \"white\", \"linecolor\": \"white\", \"ticks\": \"\"}}, \"title\": {\"x\": 0.05}, \"xaxis\": {\"automargin\": true, \"gridcolor\": \"white\", \"linecolor\": \"white\", \"ticks\": \"\", \"title\": {\"standoff\": 15}, \"zerolinecolor\": \"white\", \"zerolinewidth\": 2}, \"yaxis\": {\"automargin\": true, \"gridcolor\": \"white\", \"linecolor\": \"white\", \"ticks\": \"\", \"title\": {\"standoff\": 15}, \"zerolinecolor\": \"white\", \"zerolinewidth\": 2}}}, \"title\": {\"text\": \"Palavras mais frequentes\"}},\n",
       "                        {\"responsive\": true}\n",
       "                    ).then(function(){\n",
       "                            \n",
       "var gd = document.getElementById('dce4b940-5eb0-4b55-8ab3-ed4e0753fd13');\n",
       "var x = new MutationObserver(function (mutations, observer) {{\n",
       "        var display = window.getComputedStyle(gd).display;\n",
       "        if (!display || display === 'none') {{\n",
       "            console.log([gd, 'removed!']);\n",
       "            Plotly.purge(gd);\n",
       "            observer.disconnect();\n",
       "        }}\n",
       "}});\n",
       "\n",
       "// Listen for the removal of the full notebook cells\n",
       "var notebookContainer = gd.closest('#notebook-container');\n",
       "if (notebookContainer) {{\n",
       "    x.observe(notebookContainer, {childList: true});\n",
       "}}\n",
       "\n",
       "// Listen for the clearing of the current output cell\n",
       "var outputEl = gd.closest('.output');\n",
       "if (outputEl) {{\n",
       "    x.observe(outputEl, {childList: true});\n",
       "}}\n",
       "\n",
       "                        })\n",
       "                };\n",
       "                });\n",
       "            </script>\n",
       "        </div>"
      ]
     },
     "metadata": {},
     "output_type": "display_data"
    }
   ],
   "source": [
    "# Vamos inserir a coluna lyrics, filtrando apenas os dados preenchidos\n",
    "words_g, freq_words, freq_values = count_words(\n",
    "    df_pink_floyd[df_pink_floyd['lyrics'].notnull()]['lyrics'].values, 25\n",
    ")\n",
    "most_freq_words_chart(freq_words, freq_values)"
   ]
  },
  {
   "cell_type": "markdown",
   "metadata": {},
   "source": [
    "<img src=\"assets/plotly_chart.png\" width=\"700\" height=\"350\" />"
   ]
  },
  {
   "cell_type": "markdown",
   "metadata": {},
   "source": [
    "## Nuvem de palavras"
   ]
  },
  {
   "cell_type": "code",
   "execution_count": null,
   "metadata": {},
   "outputs": [],
   "source": [
    "# Limpando as palavras para serem usadas pelo wordcloud\n",
    "words_final = clean_text(stop_words, df_pink_floyd[df_pink_floyd['lyrics'].notnull()]['lyrics'].values)"
   ]
  },
  {
   "cell_type": "code",
   "execution_count": null,
   "metadata": {},
   "outputs": [],
   "source": [
    "wordcloud = WordCloud(\n",
    "    collocations = False,\n",
    "    #max_font_size = 50, \n",
    "    stopwords = stop_words, \n",
    "    background_color=\"black\",\n",
    "    width=1200, \n",
    "    height=700,\n",
    "    random_state=42,\n",
    "    ).generate(words_final)\n",
    "plt.figure()\n",
    "plt.imshow(wordcloud, interpolation=\"bilinear\")\n",
    "plt.axis(\"off\")\n",
    "plt.show()\n",
    "wordcloud.to_file(\"assets/pink_floyd_cloudwords_generated.png\")"
   ]
  },
  {
   "cell_type": "markdown",
   "metadata": {},
   "source": [
    "<img src=\"assets/pink_floyd_cloudwords_generated.png\" />"
   ]
  },
  {
   "cell_type": "markdown",
   "metadata": {},
   "source": [
    "Agora vamos aplicar essa wordcloud nessa imagem abaixo, que contém os membros da banda, na seguinte ordem: Roger Waters, Nick Mason, David Gilmour e Richard Wright (imagem de 1971).\n",
    "\n",
    "<img src=\"assets/pinkfloydband.jpg\" width=\"300\" height=\"200\" />"
   ]
  },
  {
   "cell_type": "code",
   "execution_count": null,
   "metadata": {},
   "outputs": [],
   "source": [
    "prism_mask = np.array(Image.open(\"assets/pinkfloydband.jpg\"))\n",
    "wc = WordCloud(stopwords= stop_words,\n",
    "               mask= prism_mask, #background_color=\"white\",\n",
    "               max_words=2000, max_font_size=256,\n",
    "               random_state=42, width= prism_mask.shape[1],\n",
    "               height= prism_mask.shape[0])\n",
    "wc.generate(words_final)\n",
    "plt.imshow(wc, interpolation=\"bilinear\")\n",
    "plt.axis('off')\n",
    "plt.show()\n",
    "wc.to_file(\"assets/pink_floyd_cloudwords_generated_mask.png\")"
   ]
  },
  {
   "cell_type": "markdown",
   "metadata": {},
   "source": [
    "<img src=\"assets/pink_floyd_cloudwords_generated_mask.png\" />"
   ]
  },
  {
   "cell_type": "markdown",
   "metadata": {},
   "source": [
    "### Referências\n",
    "\n",
    "- [Kaggle - Pink Floyd Lyrics](https://www.kaggle.com/joaorobson/pink-floyd-lyrics)\n",
    "- [Wikipedia - Pink Floyd](https://pt.wikipedia.org/wiki/Pink_Floyd)\n",
    "- [Nb Viewer](https://nbviewer.jupyter.org/)\n",
    "\n",
    "#### Info\n",
    "\n",
    "O github renderiza as páginas estaticamente, e por isso não mostra os gráfico do plotly (por isso adicionei uma imagem).\n",
    "\n",
    "Para visualizar e interagir com o gráfico basta acessar o link:\n",
    "\n",
    "https://nbviewer.jupyter.org/github/heavyrick/datascience/blob/master/analises/pink_floyd_wordcloud/pink_floyd_wordcloud.ipynb"
   ]
  }
 ],
 "metadata": {
  "kernelspec": {
   "display_name": "Python 3 (ipykernel)",
   "language": "python",
   "name": "python3"
  },
  "language_info": {
   "codemirror_mode": {
    "name": "ipython",
    "version": 3
   },
   "file_extension": ".py",
   "mimetype": "text/x-python",
   "name": "python",
   "nbconvert_exporter": "python",
   "pygments_lexer": "ipython3",
   "version": "3.9.1"
  }
 },
 "nbformat": 4,
 "nbformat_minor": 4
}
