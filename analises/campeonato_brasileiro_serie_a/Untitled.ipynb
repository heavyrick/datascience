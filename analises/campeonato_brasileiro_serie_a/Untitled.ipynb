{
 "cells": [
  {
   "cell_type": "code",
   "execution_count": null,
   "id": "6bb0c485-a584-473d-817d-da2e4c7cf4e2",
   "metadata": {},
   "outputs": [],
   "source": []
  },
  {
   "cell_type": "code",
   "execution_count": null,
   "id": "3be00ce7-ea61-4595-ab67-994799b54f83",
   "metadata": {},
   "outputs": [],
   "source": []
  },
  {
   "cell_type": "code",
   "execution_count": null,
   "id": "6de8be17-2c27-481d-a3c5-8eb55fbc8b06",
   "metadata": {},
   "outputs": [],
   "source": []
  },
  {
   "cell_type": "code",
   "execution_count": null,
   "id": "df2bba98-af6d-4ac0-96ce-5a18b400f42a",
   "metadata": {},
   "outputs": [],
   "source": []
  },
  {
   "cell_type": "markdown",
   "id": "b2b07c55-2998-4843-8cb9-4c6a797d7ef2",
   "metadata": {},
   "source": [
    "##\n",
    "\n",
    "Tese do Guardiola\n",
    "\n",
    "https://www.espn.com.br/futebol/artigo/_/id/8856337/brasileirao-o-que-teoria-de-guardiola-diz-sobre-os-favoritos-apos-oito-rodadas\n",
    "\n",
    "\n",
    "A tese do hoje treinador do Manchester City está no livro “Pep Confidencial”, de Marti Perarnau. “É um pouco como uma receita, diz Pep. ‘Títulos de liga são ganhos nos últimos oito jogos, mas eles são perdidos nos primeiros oito’. A experiência ensinou a ele a importância de não perder o campeonato em seus primeiros dois meses.”"
   ]
  }
 ],
 "metadata": {
  "kernelspec": {
   "display_name": "Python 3 (ipykernel)",
   "language": "python",
   "name": "python3"
  },
  "language_info": {
   "codemirror_mode": {
    "name": "ipython",
    "version": 3
   },
   "file_extension": ".py",
   "mimetype": "text/x-python",
   "name": "python",
   "nbconvert_exporter": "python",
   "pygments_lexer": "ipython3",
   "version": "3.10.4"
  }
 },
 "nbformat": 4,
 "nbformat_minor": 5
}
