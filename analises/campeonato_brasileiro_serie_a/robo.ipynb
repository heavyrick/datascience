{
 "cells": [
  {
   "cell_type": "markdown",
   "id": "9ef40d13-2496-49ef-a650-6a321ae99bb7",
   "metadata": {},
   "source": [
    "# Robô tabelas\n",
    "\n",
    "Robozinho para criar planilhas csv com as tabelas do campeonatos extraídas do site da CBF"
   ]
  },
  {
   "cell_type": "code",
   "execution_count": 2,
   "id": "59cad4ce-02f5-4e32-9e96-2cddfa32871d",
   "metadata": {},
   "outputs": [],
   "source": [
    "# Bibliotecas\n",
    "\n",
    "import numpy as np\n",
    "import pandas as pd\n",
    "\n",
    "import requests\n",
    "import re\n",
    "from bs4 import BeautifulSoup\n",
    "from os.path import exists\n",
    "\n",
    "%load_ext autoreload\n",
    "%autoreload 2\n",
    "\n",
    "from ExtrairJogos import ExtrairJogos\n",
    "from funcoes import criar_dataframe"
   ]
  },
  {
   "cell_type": "code",
   "execution_count": 3,
   "id": "3a06f658-81e7-4666-9f49-5e6d84a722c3",
   "metadata": {},
   "outputs": [
    {
     "data": {
      "text/plain": [
       "array([2012, 2013, 2014, 2015, 2016, 2017, 2018, 2019, 2020, 2021])"
      ]
     },
     "execution_count": 3,
     "metadata": {},
     "output_type": "execute_result"
    }
   ],
   "source": [
    "anos = np.arange(2012, 2022)\n",
    "anos"
   ]
  },
  {
   "cell_type": "code",
   "execution_count": 18,
   "id": "3dff2434-b477-45e2-994d-f3838484cb71",
   "metadata": {},
   "outputs": [
    {
     "name": "stdout",
     "output_type": "stream",
     "text": [
      "CPU times: total: 5.25 s\n",
      "Wall time: 12.1 s\n"
     ]
    }
   ],
   "source": [
    "%%time\n",
    "\n",
    "for ano in anos:\n",
    "    \n",
    "    arquivo_dados = 'tabela_jogos_serie_a_{}.csv'.format(ano)\n",
    "    link_pagina = 'https://www.cbf.com.br/futebol-brasileiro/competicoes/campeonato-brasileiro-serie-a/{}'.format(ano)\n",
    "    \n",
    "    if not exists('data/' + arquivo_dados):\n",
    "        pagina = ExtrairJogos.extrair_pagina(link_pagina)\n",
    "        blocos = ExtrairJogos.extrair_area_dados(pagina)\n",
    "        df = criar_dataframe(blocos)\n",
    "        df.to_csv('data/' + arquivo_dados, sep=';', encoding='utf-8', index=False)\n",
    "    else:\n",
    "        df = pd.read_csv('data/' + arquivo_dados, delimiter=';', encoding='utf-8')"
   ]
  },
  {
   "cell_type": "markdown",
   "id": "0e5a8746-8a9f-45f8-9714-f97247e27cb5",
   "metadata": {},
   "source": [
    "WO duplo no Brasileirão de 2016 / Atlético-MG x Chapecoense\n",
    "\n",
    "http://ge.globo.com/blogs/especial-blog/bastidores-fc/post/cbf-confirma-rodada-com-nove-jogos-e-wo-duplo-para-chapecoense-e-galo.html"
   ]
  }
 ],
 "metadata": {
  "kernelspec": {
   "display_name": "Python 3 (ipykernel)",
   "language": "python",
   "name": "python3"
  },
  "language_info": {
   "codemirror_mode": {
    "name": "ipython",
    "version": 3
   },
   "file_extension": ".py",
   "mimetype": "text/x-python",
   "name": "python",
   "nbconvert_exporter": "python",
   "pygments_lexer": "ipython3",
   "version": "3.10.4"
  }
 },
 "nbformat": 4,
 "nbformat_minor": 5
}
