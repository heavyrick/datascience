{
 "cells": [
  {
   "cell_type": "markdown",
   "id": "convenient-mountain",
   "metadata": {},
   "source": [
    "# Campeonato Brasileiro Série B 2020\n",
    "\n",
    "A Série B do Campeonato Brasileiro de Futebol de 2020 foi uma competição de futebol realizada no Brasil, equivalente à segunda divisão. Foi disputada por 20 clubes, dos quais os quatro primeiros colocados tiveram acesso a Série A de 2021 e os quatro últimos foram rebaixados a Série C de 2021.\n",
    "\n",
    "A ideia é tirar alguns insights a partir apenas da tabela final do campeonato."
   ]
  },
  {
   "cell_type": "code",
   "execution_count": 4,
   "id": "communist-faculty",
   "metadata": {},
   "outputs": [],
   "source": [
    "# bibliotecas\n",
    "\n",
    "import pandas as pd\n",
    "import numpy as np\n",
    "import matplotlib.pyplot as plt\n",
    "import seaborn as sns\n",
    "%matplotlib inline\n",
    "\n",
    "import math\n",
    "import scipy.stats as stats\n",
    "from sklearn.linear_model import LinearRegression"
   ]
  },
  {
   "cell_type": "code",
   "execution_count": 5,
   "id": "distinct-acquisition",
   "metadata": {},
   "outputs": [
    {
     "data": {
      "text/html": [
       "<div>\n",
       "<style scoped>\n",
       "    .dataframe tbody tr th:only-of-type {\n",
       "        vertical-align: middle;\n",
       "    }\n",
       "\n",
       "    .dataframe tbody tr th {\n",
       "        vertical-align: top;\n",
       "    }\n",
       "\n",
       "    .dataframe thead th {\n",
       "        text-align: right;\n",
       "    }\n",
       "</style>\n",
       "<table border=\"1\" class=\"dataframe\">\n",
       "  <thead>\n",
       "    <tr style=\"text-align: right;\">\n",
       "      <th></th>\n",
       "      <th>posicao</th>\n",
       "      <th>pontos</th>\n",
       "      <th>jogos</th>\n",
       "      <th>vitorias</th>\n",
       "      <th>empates</th>\n",
       "      <th>derrotas</th>\n",
       "      <th>gols_pro</th>\n",
       "      <th>gols_contra</th>\n",
       "      <th>saldo_gols</th>\n",
       "      <th>aproveitamento</th>\n",
       "      <th>variacao_posicao</th>\n",
       "      <th>ultimos_jogos</th>\n",
       "      <th>time.time_id</th>\n",
       "      <th>time.nome_popular</th>\n",
       "      <th>time.sigla</th>\n",
       "      <th>time.escudo</th>\n",
       "    </tr>\n",
       "  </thead>\n",
       "  <tbody>\n",
       "    <tr>\n",
       "      <th>0</th>\n",
       "      <td>1</td>\n",
       "      <td>73</td>\n",
       "      <td>38</td>\n",
       "      <td>20</td>\n",
       "      <td>13</td>\n",
       "      <td>5</td>\n",
       "      <td>42</td>\n",
       "      <td>21</td>\n",
       "      <td>21</td>\n",
       "      <td>64.0</td>\n",
       "      <td>1</td>\n",
       "      <td>['v', 'e', 'v', 'd', 'v']</td>\n",
       "      <td>5</td>\n",
       "      <td>Chapecoense</td>\n",
       "      <td>CHA</td>\n",
       "      <td>https://apifutebol.s3.sa-east-1.amazonaws.com/...</td>\n",
       "    </tr>\n",
       "    <tr>\n",
       "      <th>1</th>\n",
       "      <td>2</td>\n",
       "      <td>73</td>\n",
       "      <td>38</td>\n",
       "      <td>20</td>\n",
       "      <td>13</td>\n",
       "      <td>5</td>\n",
       "      <td>43</td>\n",
       "      <td>23</td>\n",
       "      <td>20</td>\n",
       "      <td>64.0</td>\n",
       "      <td>-1</td>\n",
       "      <td>['e', 'e', 'e', 'e', 'v']</td>\n",
       "      <td>33</td>\n",
       "      <td>América-MG</td>\n",
       "      <td>AMG</td>\n",
       "      <td>https://apifutebol.s3.sa-east-1.amazonaws.com/...</td>\n",
       "    </tr>\n",
       "  </tbody>\n",
       "</table>\n",
       "</div>"
      ],
      "text/plain": [
       "   posicao  pontos  jogos  vitorias  empates  derrotas  gols_pro  gols_contra  \\\n",
       "0        1      73     38        20       13         5        42           21   \n",
       "1        2      73     38        20       13         5        43           23   \n",
       "\n",
       "   saldo_gols  aproveitamento  variacao_posicao              ultimos_jogos  \\\n",
       "0          21            64.0                 1  ['v', 'e', 'v', 'd', 'v']   \n",
       "1          20            64.0                -1  ['e', 'e', 'e', 'e', 'v']   \n",
       "\n",
       "   time.time_id time.nome_popular time.sigla  \\\n",
       "0             5       Chapecoense        CHA   \n",
       "1            33        América-MG        AMG   \n",
       "\n",
       "                                         time.escudo  \n",
       "0  https://apifutebol.s3.sa-east-1.amazonaws.com/...  \n",
       "1  https://apifutebol.s3.sa-east-1.amazonaws.com/...  "
      ]
     },
     "execution_count": 5,
     "metadata": {},
     "output_type": "execute_result"
    }
   ],
   "source": [
    "# importar dados\n",
    "\n",
    "df = pd.read_csv('data/tabela_campeonato.csv', sep=';', encoding='latin 1')\n",
    "df.head(2)"
   ]
  },
  {
   "cell_type": "markdown",
   "id": "social-hampshire",
   "metadata": {},
   "source": [
    "**Aproveitamento** é a quantidade de pontos que uma equipe fez, dividido pelo máximo de pontos possíveis naquela rodada do campeonato.\n",
    "\n",
    "Por exemplo, na primeira rodada do campeonato uma equipe venceu e ganhou 3 pontos, de 3 possíveis: 3 / 3 = 1, ela obteve 100% de aproveitamento. Se empatou, ganhou 1 de 3 possíveis, logo, 1 / 3 = 0,33 = 33%.\n",
    "\n",
    "Ao final do campeonato, com 38 rodadas disputadas, são 114 pontos possíveis, ou seja, basta dividir quantos pontos uma equipe fez por esse valor."
   ]
  },
  {
   "cell_type": "code",
   "execution_count": 6,
   "id": "crucial-serve",
   "metadata": {},
   "outputs": [
    {
     "data": {
      "text/html": [
       "<div>\n",
       "<style scoped>\n",
       "    .dataframe tbody tr th:only-of-type {\n",
       "        vertical-align: middle;\n",
       "    }\n",
       "\n",
       "    .dataframe tbody tr th {\n",
       "        vertical-align: top;\n",
       "    }\n",
       "\n",
       "    .dataframe thead th {\n",
       "        text-align: right;\n",
       "    }\n",
       "</style>\n",
       "<table border=\"1\" class=\"dataframe\">\n",
       "  <thead>\n",
       "    <tr style=\"text-align: right;\">\n",
       "      <th></th>\n",
       "      <th>posicao</th>\n",
       "      <th>pontos</th>\n",
       "      <th>jogos</th>\n",
       "      <th>vitorias</th>\n",
       "      <th>empates</th>\n",
       "      <th>derrotas</th>\n",
       "      <th>gols_pro</th>\n",
       "      <th>gols_contra</th>\n",
       "      <th>saldo_gols</th>\n",
       "      <th>aproveitamento</th>\n",
       "      <th>variacao_posicao</th>\n",
       "      <th>time.time_id</th>\n",
       "    </tr>\n",
       "  </thead>\n",
       "  <tbody>\n",
       "    <tr>\n",
       "      <th>count</th>\n",
       "      <td>20.00000</td>\n",
       "      <td>20.000000</td>\n",
       "      <td>20.0</td>\n",
       "      <td>20.000000</td>\n",
       "      <td>20.000000</td>\n",
       "      <td>20.000000</td>\n",
       "      <td>20.000000</td>\n",
       "      <td>20.000000</td>\n",
       "      <td>20.000000</td>\n",
       "      <td>20.000000</td>\n",
       "      <td>20.000000</td>\n",
       "      <td>20.00000</td>\n",
       "    </tr>\n",
       "    <tr>\n",
       "      <th>mean</th>\n",
       "      <td>10.50000</td>\n",
       "      <td>51.350000</td>\n",
       "      <td>38.0</td>\n",
       "      <td>13.650000</td>\n",
       "      <td>10.700000</td>\n",
       "      <td>13.650000</td>\n",
       "      <td>41.200000</td>\n",
       "      <td>41.200000</td>\n",
       "      <td>0.000000</td>\n",
       "      <td>45.300000</td>\n",
       "      <td>0.000000</td>\n",
       "      <td>74.85000</td>\n",
       "    </tr>\n",
       "    <tr>\n",
       "      <th>std</th>\n",
       "      <td>5.91608</td>\n",
       "      <td>11.590718</td>\n",
       "      <td>0.0</td>\n",
       "      <td>3.869925</td>\n",
       "      <td>2.735729</td>\n",
       "      <td>4.463595</td>\n",
       "      <td>7.997368</td>\n",
       "      <td>9.484614</td>\n",
       "      <td>13.090776</td>\n",
       "      <td>10.173185</td>\n",
       "      <td>1.025978</td>\n",
       "      <td>55.68263</td>\n",
       "    </tr>\n",
       "    <tr>\n",
       "      <th>min</th>\n",
       "      <td>1.00000</td>\n",
       "      <td>29.000000</td>\n",
       "      <td>38.0</td>\n",
       "      <td>7.000000</td>\n",
       "      <td>6.000000</td>\n",
       "      <td>5.000000</td>\n",
       "      <td>26.000000</td>\n",
       "      <td>21.000000</td>\n",
       "      <td>-32.000000</td>\n",
       "      <td>25.400000</td>\n",
       "      <td>-3.000000</td>\n",
       "      <td>5.00000</td>\n",
       "    </tr>\n",
       "    <tr>\n",
       "      <th>25%</th>\n",
       "      <td>5.75000</td>\n",
       "      <td>45.500000</td>\n",
       "      <td>38.0</td>\n",
       "      <td>10.750000</td>\n",
       "      <td>9.000000</td>\n",
       "      <td>11.000000</td>\n",
       "      <td>35.000000</td>\n",
       "      <td>36.250000</td>\n",
       "      <td>-7.250000</td>\n",
       "      <td>39.950000</td>\n",
       "      <td>-0.250000</td>\n",
       "      <td>41.50000</td>\n",
       "    </tr>\n",
       "    <tr>\n",
       "      <th>50%</th>\n",
       "      <td>10.50000</td>\n",
       "      <td>50.500000</td>\n",
       "      <td>38.0</td>\n",
       "      <td>14.500000</td>\n",
       "      <td>10.000000</td>\n",
       "      <td>13.500000</td>\n",
       "      <td>41.500000</td>\n",
       "      <td>42.000000</td>\n",
       "      <td>0.500000</td>\n",
       "      <td>46.900000</td>\n",
       "      <td>0.000000</td>\n",
       "      <td>63.50000</td>\n",
       "    </tr>\n",
       "    <tr>\n",
       "      <th>75%</th>\n",
       "      <td>15.25000</td>\n",
       "      <td>57.250000</td>\n",
       "      <td>38.0</td>\n",
       "      <td>16.250000</td>\n",
       "      <td>13.000000</td>\n",
       "      <td>16.000000</td>\n",
       "      <td>48.000000</td>\n",
       "      <td>48.250000</td>\n",
       "      <td>8.500000</td>\n",
       "      <td>50.225000</td>\n",
       "      <td>1.000000</td>\n",
       "      <td>96.75000</td>\n",
       "    </tr>\n",
       "    <tr>\n",
       "      <th>max</th>\n",
       "      <td>20.00000</td>\n",
       "      <td>73.000000</td>\n",
       "      <td>38.0</td>\n",
       "      <td>20.000000</td>\n",
       "      <td>16.000000</td>\n",
       "      <td>23.000000</td>\n",
       "      <td>54.000000</td>\n",
       "      <td>60.000000</td>\n",
       "      <td>21.000000</td>\n",
       "      <td>64.000000</td>\n",
       "      <td>1.000000</td>\n",
       "      <td>205.00000</td>\n",
       "    </tr>\n",
       "  </tbody>\n",
       "</table>\n",
       "</div>"
      ],
      "text/plain": [
       "        posicao     pontos  jogos   vitorias    empates   derrotas   gols_pro  \\\n",
       "count  20.00000  20.000000   20.0  20.000000  20.000000  20.000000  20.000000   \n",
       "mean   10.50000  51.350000   38.0  13.650000  10.700000  13.650000  41.200000   \n",
       "std     5.91608  11.590718    0.0   3.869925   2.735729   4.463595   7.997368   \n",
       "min     1.00000  29.000000   38.0   7.000000   6.000000   5.000000  26.000000   \n",
       "25%     5.75000  45.500000   38.0  10.750000   9.000000  11.000000  35.000000   \n",
       "50%    10.50000  50.500000   38.0  14.500000  10.000000  13.500000  41.500000   \n",
       "75%    15.25000  57.250000   38.0  16.250000  13.000000  16.000000  48.000000   \n",
       "max    20.00000  73.000000   38.0  20.000000  16.000000  23.000000  54.000000   \n",
       "\n",
       "       gols_contra  saldo_gols  aproveitamento  variacao_posicao  time.time_id  \n",
       "count    20.000000   20.000000       20.000000         20.000000      20.00000  \n",
       "mean     41.200000    0.000000       45.300000          0.000000      74.85000  \n",
       "std       9.484614   13.090776       10.173185          1.025978      55.68263  \n",
       "min      21.000000  -32.000000       25.400000         -3.000000       5.00000  \n",
       "25%      36.250000   -7.250000       39.950000         -0.250000      41.50000  \n",
       "50%      42.000000    0.500000       46.900000          0.000000      63.50000  \n",
       "75%      48.250000    8.500000       50.225000          1.000000      96.75000  \n",
       "max      60.000000   21.000000       64.000000          1.000000     205.00000  "
      ]
     },
     "execution_count": 6,
     "metadata": {},
     "output_type": "execute_result"
    }
   ],
   "source": [
    "df.describe()\n",
    "\n",
    "# sem dados ausentes\n",
    "# sem necessidade de conversões"
   ]
  },
  {
   "cell_type": "code",
   "execution_count": 7,
   "id": "alien-throw",
   "metadata": {},
   "outputs": [],
   "source": [
    "# Eliminar as colunas que não serão utilizadas\n",
    "\n",
    "df.drop(['variacao_posicao', 'ultimos_jogos', 'time.sigla', 'time.escudo'], axis=1, inplace=True)"
   ]
  },
  {
   "cell_type": "code",
   "execution_count": 8,
   "id": "indoor-fashion",
   "metadata": {},
   "outputs": [],
   "source": [
    "# Alterar índice da tabela para a posição do time\n",
    "\n",
    "df.set_index('posicao', inplace=True)"
   ]
  },
  {
   "cell_type": "code",
   "execution_count": 9,
   "id": "intense-stupid",
   "metadata": {
    "scrolled": true
   },
   "outputs": [
    {
     "data": {
      "text/html": [
       "<div>\n",
       "<style scoped>\n",
       "    .dataframe tbody tr th:only-of-type {\n",
       "        vertical-align: middle;\n",
       "    }\n",
       "\n",
       "    .dataframe tbody tr th {\n",
       "        vertical-align: top;\n",
       "    }\n",
       "\n",
       "    .dataframe thead th {\n",
       "        text-align: right;\n",
       "    }\n",
       "</style>\n",
       "<table border=\"1\" class=\"dataframe\">\n",
       "  <thead>\n",
       "    <tr style=\"text-align: right;\">\n",
       "      <th></th>\n",
       "      <th>pontos</th>\n",
       "      <th>jogos</th>\n",
       "      <th>vitorias</th>\n",
       "      <th>empates</th>\n",
       "      <th>derrotas</th>\n",
       "      <th>gols_pro</th>\n",
       "      <th>gols_contra</th>\n",
       "      <th>saldo_gols</th>\n",
       "      <th>aproveitamento</th>\n",
       "      <th>time.time_id</th>\n",
       "      <th>time.nome_popular</th>\n",
       "    </tr>\n",
       "    <tr>\n",
       "      <th>posicao</th>\n",
       "      <th></th>\n",
       "      <th></th>\n",
       "      <th></th>\n",
       "      <th></th>\n",
       "      <th></th>\n",
       "      <th></th>\n",
       "      <th></th>\n",
       "      <th></th>\n",
       "      <th></th>\n",
       "      <th></th>\n",
       "      <th></th>\n",
       "    </tr>\n",
       "  </thead>\n",
       "  <tbody>\n",
       "    <tr>\n",
       "      <th>1</th>\n",
       "      <td>73</td>\n",
       "      <td>38</td>\n",
       "      <td>20</td>\n",
       "      <td>13</td>\n",
       "      <td>5</td>\n",
       "      <td>42</td>\n",
       "      <td>21</td>\n",
       "      <td>21</td>\n",
       "      <td>64.0</td>\n",
       "      <td>5</td>\n",
       "      <td>Chapecoense</td>\n",
       "    </tr>\n",
       "    <tr>\n",
       "      <th>2</th>\n",
       "      <td>73</td>\n",
       "      <td>38</td>\n",
       "      <td>20</td>\n",
       "      <td>13</td>\n",
       "      <td>5</td>\n",
       "      <td>43</td>\n",
       "      <td>23</td>\n",
       "      <td>20</td>\n",
       "      <td>64.0</td>\n",
       "      <td>33</td>\n",
       "      <td>América-MG</td>\n",
       "    </tr>\n",
       "    <tr>\n",
       "      <th>3</th>\n",
       "      <td>61</td>\n",
       "      <td>38</td>\n",
       "      <td>17</td>\n",
       "      <td>10</td>\n",
       "      <td>11</td>\n",
       "      <td>52</td>\n",
       "      <td>42</td>\n",
       "      <td>10</td>\n",
       "      <td>53.5</td>\n",
       "      <td>43</td>\n",
       "      <td>Juventude</td>\n",
       "    </tr>\n",
       "    <tr>\n",
       "      <th>4</th>\n",
       "      <td>61</td>\n",
       "      <td>38</td>\n",
       "      <td>17</td>\n",
       "      <td>10</td>\n",
       "      <td>11</td>\n",
       "      <td>48</td>\n",
       "      <td>40</td>\n",
       "      <td>8</td>\n",
       "      <td>53.5</td>\n",
       "      <td>204</td>\n",
       "      <td>Cuiabá</td>\n",
       "    </tr>\n",
       "    <tr>\n",
       "      <th>5</th>\n",
       "      <td>58</td>\n",
       "      <td>38</td>\n",
       "      <td>16</td>\n",
       "      <td>10</td>\n",
       "      <td>12</td>\n",
       "      <td>50</td>\n",
       "      <td>37</td>\n",
       "      <td>13</td>\n",
       "      <td>50.9</td>\n",
       "      <td>95</td>\n",
       "      <td>CSA</td>\n",
       "    </tr>\n",
       "    <tr>\n",
       "      <th>6</th>\n",
       "      <td>57</td>\n",
       "      <td>38</td>\n",
       "      <td>17</td>\n",
       "      <td>6</td>\n",
       "      <td>15</td>\n",
       "      <td>50</td>\n",
       "      <td>38</td>\n",
       "      <td>12</td>\n",
       "      <td>50.0</td>\n",
       "      <td>120</td>\n",
       "      <td>Sampaio Corrêa</td>\n",
       "    </tr>\n",
       "    <tr>\n",
       "      <th>7</th>\n",
       "      <td>57</td>\n",
       "      <td>38</td>\n",
       "      <td>16</td>\n",
       "      <td>9</td>\n",
       "      <td>13</td>\n",
       "      <td>54</td>\n",
       "      <td>49</td>\n",
       "      <td>5</td>\n",
       "      <td>50.0</td>\n",
       "      <td>61</td>\n",
       "      <td>Ponte Preta</td>\n",
       "    </tr>\n",
       "    <tr>\n",
       "      <th>8</th>\n",
       "      <td>57</td>\n",
       "      <td>38</td>\n",
       "      <td>15</td>\n",
       "      <td>12</td>\n",
       "      <td>11</td>\n",
       "      <td>40</td>\n",
       "      <td>34</td>\n",
       "      <td>6</td>\n",
       "      <td>50.0</td>\n",
       "      <td>117</td>\n",
       "      <td>Operário-PR</td>\n",
       "    </tr>\n",
       "    <tr>\n",
       "      <th>9</th>\n",
       "      <td>55</td>\n",
       "      <td>38</td>\n",
       "      <td>16</td>\n",
       "      <td>7</td>\n",
       "      <td>15</td>\n",
       "      <td>45</td>\n",
       "      <td>49</td>\n",
       "      <td>-4</td>\n",
       "      <td>48.2</td>\n",
       "      <td>6</td>\n",
       "      <td>Avaí</td>\n",
       "    </tr>\n",
       "    <tr>\n",
       "      <th>10</th>\n",
       "      <td>52</td>\n",
       "      <td>38</td>\n",
       "      <td>15</td>\n",
       "      <td>7</td>\n",
       "      <td>16</td>\n",
       "      <td>48</td>\n",
       "      <td>47</td>\n",
       "      <td>1</td>\n",
       "      <td>45.6</td>\n",
       "      <td>90</td>\n",
       "      <td>CRB</td>\n",
       "    </tr>\n",
       "    <tr>\n",
       "      <th>11</th>\n",
       "      <td>49</td>\n",
       "      <td>38</td>\n",
       "      <td>14</td>\n",
       "      <td>13</td>\n",
       "      <td>11</td>\n",
       "      <td>39</td>\n",
       "      <td>32</td>\n",
       "      <td>7</td>\n",
       "      <td>48.2</td>\n",
       "      <td>37</td>\n",
       "      <td>Cruzeiro</td>\n",
       "    </tr>\n",
       "    <tr>\n",
       "      <th>12</th>\n",
       "      <td>49</td>\n",
       "      <td>38</td>\n",
       "      <td>11</td>\n",
       "      <td>16</td>\n",
       "      <td>11</td>\n",
       "      <td>31</td>\n",
       "      <td>33</td>\n",
       "      <td>-2</td>\n",
       "      <td>43.0</td>\n",
       "      <td>48</td>\n",
       "      <td>Brasil de Pelotas</td>\n",
       "    </tr>\n",
       "    <tr>\n",
       "      <th>13</th>\n",
       "      <td>48</td>\n",
       "      <td>38</td>\n",
       "      <td>13</td>\n",
       "      <td>9</td>\n",
       "      <td>16</td>\n",
       "      <td>41</td>\n",
       "      <td>48</td>\n",
       "      <td>-7</td>\n",
       "      <td>42.1</td>\n",
       "      <td>54</td>\n",
       "      <td>Guarani</td>\n",
       "    </tr>\n",
       "    <tr>\n",
       "      <th>14</th>\n",
       "      <td>48</td>\n",
       "      <td>38</td>\n",
       "      <td>11</td>\n",
       "      <td>15</td>\n",
       "      <td>12</td>\n",
       "      <td>45</td>\n",
       "      <td>45</td>\n",
       "      <td>0</td>\n",
       "      <td>42.1</td>\n",
       "      <td>102</td>\n",
       "      <td>Vitória</td>\n",
       "    </tr>\n",
       "    <tr>\n",
       "      <th>15</th>\n",
       "      <td>46</td>\n",
       "      <td>38</td>\n",
       "      <td>12</td>\n",
       "      <td>10</td>\n",
       "      <td>16</td>\n",
       "      <td>38</td>\n",
       "      <td>46</td>\n",
       "      <td>-8</td>\n",
       "      <td>40.4</td>\n",
       "      <td>205</td>\n",
       "      <td>Confiança</td>\n",
       "    </tr>\n",
       "    <tr>\n",
       "      <th>16</th>\n",
       "      <td>44</td>\n",
       "      <td>38</td>\n",
       "      <td>10</td>\n",
       "      <td>14</td>\n",
       "      <td>14</td>\n",
       "      <td>35</td>\n",
       "      <td>42</td>\n",
       "      <td>-7</td>\n",
       "      <td>38.6</td>\n",
       "      <td>74</td>\n",
       "      <td>Náutico</td>\n",
       "    </tr>\n",
       "    <tr>\n",
       "      <th>17</th>\n",
       "      <td>39</td>\n",
       "      <td>38</td>\n",
       "      <td>9</td>\n",
       "      <td>12</td>\n",
       "      <td>17</td>\n",
       "      <td>35</td>\n",
       "      <td>49</td>\n",
       "      <td>-14</td>\n",
       "      <td>34.2</td>\n",
       "      <td>9</td>\n",
       "      <td>Figueirense</td>\n",
       "    </tr>\n",
       "    <tr>\n",
       "      <th>18</th>\n",
       "      <td>37</td>\n",
       "      <td>38</td>\n",
       "      <td>9</td>\n",
       "      <td>10</td>\n",
       "      <td>19</td>\n",
       "      <td>34</td>\n",
       "      <td>50</td>\n",
       "      <td>-16</td>\n",
       "      <td>32.5</td>\n",
       "      <td>76</td>\n",
       "      <td>Paraná</td>\n",
       "    </tr>\n",
       "    <tr>\n",
       "      <th>19</th>\n",
       "      <td>34</td>\n",
       "      <td>38</td>\n",
       "      <td>8</td>\n",
       "      <td>10</td>\n",
       "      <td>20</td>\n",
       "      <td>26</td>\n",
       "      <td>39</td>\n",
       "      <td>-13</td>\n",
       "      <td>29.8</td>\n",
       "      <td>66</td>\n",
       "      <td>Botafogo-SP</td>\n",
       "    </tr>\n",
       "    <tr>\n",
       "      <th>20</th>\n",
       "      <td>29</td>\n",
       "      <td>38</td>\n",
       "      <td>7</td>\n",
       "      <td>8</td>\n",
       "      <td>23</td>\n",
       "      <td>28</td>\n",
       "      <td>60</td>\n",
       "      <td>-32</td>\n",
       "      <td>25.4</td>\n",
       "      <td>52</td>\n",
       "      <td>Oeste</td>\n",
       "    </tr>\n",
       "  </tbody>\n",
       "</table>\n",
       "</div>"
      ],
      "text/plain": [
       "         pontos  jogos  vitorias  empates  derrotas  gols_pro  gols_contra  \\\n",
       "posicao                                                                      \n",
       "1            73     38        20       13         5        42           21   \n",
       "2            73     38        20       13         5        43           23   \n",
       "3            61     38        17       10        11        52           42   \n",
       "4            61     38        17       10        11        48           40   \n",
       "5            58     38        16       10        12        50           37   \n",
       "6            57     38        17        6        15        50           38   \n",
       "7            57     38        16        9        13        54           49   \n",
       "8            57     38        15       12        11        40           34   \n",
       "9            55     38        16        7        15        45           49   \n",
       "10           52     38        15        7        16        48           47   \n",
       "11           49     38        14       13        11        39           32   \n",
       "12           49     38        11       16        11        31           33   \n",
       "13           48     38        13        9        16        41           48   \n",
       "14           48     38        11       15        12        45           45   \n",
       "15           46     38        12       10        16        38           46   \n",
       "16           44     38        10       14        14        35           42   \n",
       "17           39     38         9       12        17        35           49   \n",
       "18           37     38         9       10        19        34           50   \n",
       "19           34     38         8       10        20        26           39   \n",
       "20           29     38         7        8        23        28           60   \n",
       "\n",
       "         saldo_gols  aproveitamento  time.time_id  time.nome_popular  \n",
       "posicao                                                               \n",
       "1                21            64.0             5        Chapecoense  \n",
       "2                20            64.0            33         América-MG  \n",
       "3                10            53.5            43          Juventude  \n",
       "4                 8            53.5           204             Cuiabá  \n",
       "5                13            50.9            95                CSA  \n",
       "6                12            50.0           120     Sampaio Corrêa  \n",
       "7                 5            50.0            61        Ponte Preta  \n",
       "8                 6            50.0           117        Operário-PR  \n",
       "9                -4            48.2             6               Avaí  \n",
       "10                1            45.6            90                CRB  \n",
       "11                7            48.2            37           Cruzeiro  \n",
       "12               -2            43.0            48  Brasil de Pelotas  \n",
       "13               -7            42.1            54            Guarani  \n",
       "14                0            42.1           102            Vitória  \n",
       "15               -8            40.4           205          Confiança  \n",
       "16               -7            38.6            74            Náutico  \n",
       "17              -14            34.2             9        Figueirense  \n",
       "18              -16            32.5            76             Paraná  \n",
       "19              -13            29.8            66        Botafogo-SP  \n",
       "20              -32            25.4            52              Oeste  "
      ]
     },
     "execution_count": 9,
     "metadata": {},
     "output_type": "execute_result"
    }
   ],
   "source": [
    "df"
   ]
  },
  {
   "cell_type": "code",
   "execution_count": 10,
   "id": "changed-craft",
   "metadata": {},
   "outputs": [
    {
     "data": {
      "text/plain": [
       "posicao\n",
       "1           Chapecoense\n",
       "2            América-MG\n",
       "3             Juventude\n",
       "4                Cuiabá\n",
       "5                   CSA\n",
       "6        Sampaio Corrêa\n",
       "7           Ponte Preta\n",
       "8           Operário-PR\n",
       "9                  Avaí\n",
       "10                  CRB\n",
       "11             Cruzeiro\n",
       "12    Brasil de Pelotas\n",
       "13              Guarani\n",
       "14              Vitória\n",
       "15            Confiança\n",
       "16              Náutico\n",
       "17          Figueirense\n",
       "18               Paraná\n",
       "19          Botafogo-SP\n",
       "20                Oeste\n",
       "Name: time.nome_popular, dtype: object"
      ]
     },
     "execution_count": 10,
     "metadata": {},
     "output_type": "execute_result"
    }
   ],
   "source": [
    "# Times\n",
    "\n",
    "df['time.nome_popular']"
   ]
  },
  {
   "cell_type": "markdown",
   "id": "disturbed-distribution",
   "metadata": {},
   "source": [
    "#### Os jogos\n",
    "\n",
    "Como foram os resultados dos jogos."
   ]
  },
  {
   "cell_type": "code",
   "execution_count": 11,
   "id": "native-following",
   "metadata": {},
   "outputs": [
    {
     "data": {
      "image/png": "[encoded data removed]",
      "text/plain": [
       "<Figure size 720x432 with 1 Axes>"
      ]
     },
     "metadata": {
      "needs_background": "light"
     },
     "output_type": "display_data"
    }
   ],
   "source": [
    "colors = ['#27b714', '#e5e516', '#e51616']\n",
    "\n",
    "ax = df.plot(kind='bar', y=['vitorias', 'empates', 'derrotas'], x='time.nome_popular', \n",
    "             stacked=True, figsize=(10, 6), color = colors);\n",
    "\n",
    "ax.set(xlabel='', ylabel='Jogos', title='Resultados dos jogos')\n",
    "plt.legend(loc=\"lower left\",bbox_to_anchor=(1.0, 0.84));\n",
    "plt.show();"
   ]
  },
  {
   "cell_type": "markdown",
   "id": "adjacent-thailand",
   "metadata": {},
   "source": [
    "#### Os 10 maiores pontuadores\n",
    "\n",
    "Os 10 times com mais pontos no campeonato"
   ]
  },
  {
   "cell_type": "code",
   "execution_count": 12,
   "id": "alpha-sellers",
   "metadata": {},
   "outputs": [
    {
     "data": {
      "image/png": "[encoded data removed]",
      "text/plain": [
       "<Figure size 576x360 with 1 Axes>"
      ]
     },
     "metadata": {
      "needs_background": "light"
     },
     "output_type": "display_data"
    }
   ],
   "source": [
    "f, ax = plt.subplots(figsize=(8, 5))\n",
    "ax = sns.barplot(data=df.head(10), y='time.nome_popular', x='pontos', palette=\"flare\");\n",
    "ax.set(xlabel='Pontos', ylabel='', title='Os 10 times com mais pontos')\n",
    "\n",
    "for p in ax.patches:\n",
    "    width = p.get_width()\n",
    "    ax.text(width + 1, p.get_y() + p.get_height() / 2, '{:1.0f}'.format(width), ha = 'left', va = 'center') \n",
    "\n",
    "sns.despine(left=True, bottom=True);"
   ]
  },
  {
   "cell_type": "markdown",
   "id": "classical-deployment",
   "metadata": {},
   "source": [
    "#### Os 10 maiores vencedores\n",
    "\n",
    "As 10 equipes que mais venceram no campeonato"
   ]
  },
  {
   "cell_type": "code",
   "execution_count": 21,
   "id": "established-flower",
   "metadata": {},
   "outputs": [
    {
     "data": {
      "image/png": "[encoded data removed]",
      "text/plain": [
       "<Figure size 576x360 with 1 Axes>"
      ]
     },
     "metadata": {
      "needs_background": "light"
     },
     "output_type": "display_data"
    }
   ],
   "source": [
    "f, ax = plt.subplots(figsize=(8, 5))\n",
    "ax = sns.barplot(data=df.head(10), y='time.nome_popular', x='vitorias', palette=\"flare\");\n",
    "ax.set(xlabel='Pontos', ylabel='', title='Os 10 times com mais vitórias')\n",
    "\n",
    "for p in ax.patches:\n",
    "    width = p.get_width()\n",
    "    ax.text(width + 1, p.get_y() + p.get_height() / 2, '{:1.0f}'.format(width), ha = 'left', va = 'center') \n",
    "\n",
    "sns.despine(left=True, bottom=True);"
   ]
  },
  {
   "cell_type": "markdown",
   "id": "golden-fountain",
   "metadata": {},
   "source": [
    "#### Gols marcados\n",
    "\n",
    "As 10 equipes com mais gols marcados"
   ]
  },
  {
   "cell_type": "code",
   "execution_count": 13,
   "id": "floating-hartford",
   "metadata": {},
   "outputs": [
    {
     "data": {
      "image/png": "[encoded data removed]",
      "text/plain": [
       "<Figure size 576x360 with 1 Axes>"
      ]
     },
     "metadata": {
      "needs_background": "light"
     },
     "output_type": "display_data"
    }
   ],
   "source": [
    "f, ax = plt.subplots(figsize=(8, 5))\n",
    "ax = sns.barplot(data=df.sort_values('gols_pro', ascending=False).head(10), y='time.nome_popular', x='gols_pro', palette=\"flare\");\n",
    "ax.set(xlabel='Gols', ylabel='', title='Os 10 times com mais gols')\n",
    "\n",
    "for p in ax.patches:\n",
    "    width = p.get_width()\n",
    "    ax.text(width + 1, p.get_y() + p.get_height() / 2, '{:1.0f}'.format(width), ha = 'left', va = 'center') \n",
    "\n",
    "sns.despine(left=True, bottom=True);"
   ]
  },
  {
   "cell_type": "markdown",
   "id": "quiet-action",
   "metadata": {},
   "source": [
    "#### Gols sofridos\n",
    "\n",
    "As 10 equipes que menos sofreram gols no campeonato"
   ]
  },
  {
   "cell_type": "code",
   "execution_count": 14,
   "id": "asian-swedish",
   "metadata": {},
   "outputs": [
    {
     "data": {
      "image/png": "[encoded data removed]",
      "text/plain": [
       "<Figure size 576x360 with 1 Axes>"
      ]
     },
     "metadata": {
      "needs_background": "light"
     },
     "output_type": "display_data"
    }
   ],
   "source": [
    "f, ax = plt.subplots(figsize=(8, 5))\n",
    "ax = sns.barplot(data=df.sort_values('gols_contra', ascending=True).head(10), y='time.nome_popular', x='gols_contra', palette=\"flare\");\n",
    "ax.set(xlabel='Gols', ylabel='', title='Os 10 times que menos sofreram gols')\n",
    "\n",
    "for p in ax.patches:\n",
    "    width = p.get_width()\n",
    "    ax.text(width + 1, p.get_y() + p.get_height() / 2, '{:1.0f}'.format(width), ha = 'left', va = 'center')\n",
    "\n",
    "sns.despine(left=True, bottom=True);"
   ]
  },
  {
   "cell_type": "markdown",
   "id": "based-revision",
   "metadata": {},
   "source": [
    "---\n",
    "\n",
    "## Análises de variáveis\n",
    "\n",
    "Vamos selecionar alguns pares de variáveis, para entendermos as correlações entre elas.\n",
    "\n",
    "Será fixado o valor de significância em 5% (a = 0,05), sendo assim, o coeficiente de correlação populacional é significativo, quando realmente não é em 5% das vezes.\n",
    "\n",
    "Abaixo algumas funções que calculam e mostram os gráficos com os resultados."
   ]
  },
  {
   "cell_type": "code",
   "execution_count": 15,
   "id": "manual-library",
   "metadata": {},
   "outputs": [],
   "source": [
    "###################\n",
    "\n",
    "def grafico_pontos(df, rotulo_x, rotulo_y, titulo):\n",
    "    \"\"\"\n",
    "    Mostra o gráfico com o valor do coeficiente r, além da reta de regressão\n",
    "    \n",
    "    A correlação (resultado de np.corrcoef()) é a correlação de Pearson, onde retorna um valor entre -1 e 1.\n",
    "    Quanto mais próximo de -1, a correlação é negativa (quando uma variável aumenta, a outra diminui de valor)\n",
    "    Quanto mais próximo de 1, a correlação é positiva (quando uma variável aumenta, a outra também)\n",
    "    \"\"\"\n",
    "    coef = np.corrcoef(df[rotulo_x], df[rotulo_y])\n",
    "    \n",
    "    # Reta de regressão\n",
    "    _x = df.loc[:, rotulo_x].values.reshape(-1, 1)\n",
    "    _y = df.loc[:, rotulo_y].values.reshape(-1, 1)\n",
    "    lr = LinearRegression()\n",
    "    lr.fit(_x, _y)\n",
    "    y_pred = lr.predict(_x)\n",
    "    #reta = 'y^ = ' + str(lr.intercept_[0]) + str(lr.coef_[0]) + 'x'\n",
    "    \n",
    "    # Obter coeficiente de determinação r²\n",
    "    r2 = lr.score(_x, _y)\n",
    "    \n",
    "    # Gráficos\n",
    "    fig, ax = plt.subplots(figsize=(8, 5))\n",
    "    ax.scatter(x=df[rotulo_x], y= df[rotulo_y] ,color='blue')\n",
    "    ax.plot(df[rotulo_x], y_pred, color = '#F2929F')\n",
    "    plt.suptitle(titulo, y=1.05, fontsize=18)\n",
    "    plt.title(\"Correlação: \" + \n",
    "              \"{:.3f}\".format(coef[0,1]) + \" | Determinação: {:.2f}\".format(r2) +\n",
    "              \"\\n Reta: y^ = {:.3f} + {:.3f} x\".format(lr.intercept_[0], lr.coef_[0][0])\n",
    "             )\n",
    "    ax.set(xlabel=rotulo_x, ylabel=rotulo_y)\n",
    "    plt.show()\n",
    "\n",
    "###################\n",
    "\n",
    "def testar_coeficiente_r(df, x, y, alpha):\n",
    "    \"\"\"\n",
    "    Verifica se o coeficiente r é significativo\n",
    "    \n",
    "    Se |r| for maior que o valor crítico, então há evidência suficiente para decidir que a correlação é significativa. \n",
    "    Caso contrário, não há evidência suficiente para dizer que a correlação é significativa.\n",
    "    \"\"\"\n",
    "    r = abs(np.corrcoef(df[x], df[y])[0][1])\n",
    "    d_freedom = len(df) - 2\n",
    "    critical_t = stats.t.ppf(alpha / 2, d_freedom)\n",
    "    critical_r = np.sqrt( (critical_t ** 2) / ((critical_t ** 2) + d_freedom))\n",
    "    if(r > critical_r):\n",
    "        return {'r': round(r, 4), 'r_critico': round(critical_r, 4), 'alpha': alpha, 'significativo': True}\n",
    "    else:\n",
    "        return {'r': round(r, 4), 'r_critico': round(critical_r, 4), 'alpha': alpha, 'significativo': False}\n",
    "\n",
    "###################"
   ]
  },
  {
   "cell_type": "markdown",
   "id": "interested-jumping",
   "metadata": {},
   "source": [
    "### Vitórias e pontos\n",
    "\n",
    "Selecionando as variáveis `vitórias` e `pontos`."
   ]
  },
  {
   "cell_type": "code",
   "execution_count": 18,
   "id": "classical-serum",
   "metadata": {},
   "outputs": [
    {
     "data": {
      "image/png": "[encoded data removed]",
      "text/plain": [
       "<Figure size 576x360 with 1 Axes>"
      ]
     },
     "metadata": {
      "needs_background": "light"
     },
     "output_type": "display_data"
    }
   ],
   "source": [
    "grafico_pontos(df, 'vitorias', 'pontos', 'Vitórias x pontos')"
   ]
  },
  {
   "cell_type": "code",
   "execution_count": 17,
   "id": "racial-count",
   "metadata": {},
   "outputs": [
    {
     "data": {
      "text/plain": [
       "{'r': 0.9709, 'r_critico': 0.4438, 'alpha': 0.05, 'significativo': True}"
      ]
     },
     "execution_count": 17,
     "metadata": {},
     "output_type": "execute_result"
    }
   ],
   "source": [
    "testar_coeficiente_r(df, 'vitorias', 'pontos', 0.05)"
   ]
  },
  {
   "cell_type": "markdown",
   "id": "veterinary-comparative",
   "metadata": {},
   "source": [
    "A correlação linear entre x e y é de 0,971 e x explica 94% da variância em y (coeficiente de determinação), o que pode ser considerado alto.\n",
    "\n",
    "Há evidência suficiente, ao nível de significância de 5%, para concluir que há uma correlação linear entre o número de vitórias e a quantidade de pontos.\n",
    "\n",
    "Aqui meramente constatamos uma obviedade: quanto mais jogos um time vence, mais pontos ele acumula."
   ]
  },
  {
   "cell_type": "markdown",
   "id": "wrong-worthy",
   "metadata": {},
   "source": [
    "### Vitórias e gols pró\n",
    "\n",
    "Selecionando as variáveis `vitórias` e `gols_pro`."
   ]
  },
  {
   "cell_type": "code",
   "execution_count": 19,
   "id": "social-consensus",
   "metadata": {},
   "outputs": [
    {
     "data": {
      "image/png": "[encoded data removed]",
      "text/plain": [
       "<Figure size 576x360 with 1 Axes>"
      ]
     },
     "metadata": {
      "needs_background": "light"
     },
     "output_type": "display_data"
    }
   ],
   "source": [
    "grafico_pontos(df, 'vitorias', 'gols_pro', 'Vitórias x gols pró')"
   ]
  },
  {
   "cell_type": "code",
   "execution_count": 20,
   "id": "vietnamese-shooting",
   "metadata": {},
   "outputs": [
    {
     "data": {
      "text/plain": [
       "{'r': 0.7693, 'r_critico': 0.4438, 'alpha': 0.05, 'significativo': True}"
      ]
     },
     "execution_count": 20,
     "metadata": {},
     "output_type": "execute_result"
    }
   ],
   "source": [
    "testar_coeficiente_r(df, 'vitorias', 'gols_pro', 0.05)"
   ]
  },
  {
   "cell_type": "markdown",
   "id": "ranking-bacteria",
   "metadata": {},
   "source": [
    "A correlação entre x e y é de 0,769 e x explica 59% da variância em y (coeficiente de determinação), o que pode ser considerado baixo.\n",
    "\n",
    "Há evidência suficiente, ao nível de significância de 5%, para concluir que há uma correlação linear entre o número de vitórias e a quantidade de gols.\n",
    "\n",
    "Aqui se pode dizer que mesmo havendo uma correlação entre as vitórias e a quantidade de gols marcados, ela não é tão alta assim. E faz sentido. Pegando a Chapecoense como exemplo, a equipe catarinense foi a que mais venceu jogos (junto com o Coelho mineiro), a que menos sofreu gols, mas é apenas o 10º melhor ataque.\n",
    "\n",
    "Claro que isso diz respeito a uma única equipe, para reforçar o argumento, podemos adicionar mais um dado: a média de gols geral."
   ]
  },
  {
   "cell_type": "code",
   "execution_count": 26,
   "id": "structural-string",
   "metadata": {},
   "outputs": [],
   "source": [
    "numero_rodadas = 38\n",
    "jogos_por_rodada = 10"
   ]
  },
  {
   "cell_type": "code",
   "execution_count": 27,
   "id": "affected-forest",
   "metadata": {},
   "outputs": [
    {
     "data": {
      "text/plain": [
       "2.168421052631579"
      ]
     },
     "execution_count": 27,
     "metadata": {},
     "output_type": "execute_result"
    }
   ],
   "source": [
    "sum(df['gols_pro']) / (numero_rodadas * jogos_por_rodada)"
   ]
  },
  {
   "cell_type": "markdown",
   "id": "casual-current",
   "metadata": {},
   "source": [
    "Em 380 jogos, a média foi de 2,17 gols por jogo, o que não é muito.\n",
    "\n",
    "Agora vamos adicionar mais um outro olhar, sobre as médias de gols feitos de cada equipe."
   ]
  },
  {
   "cell_type": "code",
   "execution_count": 31,
   "id": "through-montana",
   "metadata": {},
   "outputs": [],
   "source": [
    "df['gols_pro_media'] = df['gols_pro'] / 38"
   ]
  },
  {
   "cell_type": "code",
   "execution_count": 36,
   "id": "transsexual-nancy",
   "metadata": {},
   "outputs": [
    {
     "data": {
      "text/html": [
       "<div>\n",
       "<style scoped>\n",
       "    .dataframe tbody tr th:only-of-type {\n",
       "        vertical-align: middle;\n",
       "    }\n",
       "\n",
       "    .dataframe tbody tr th {\n",
       "        vertical-align: top;\n",
       "    }\n",
       "\n",
       "    .dataframe thead th {\n",
       "        text-align: right;\n",
       "    }\n",
       "</style>\n",
       "<table border=\"1\" class=\"dataframe\">\n",
       "  <thead>\n",
       "    <tr style=\"text-align: right;\">\n",
       "      <th></th>\n",
       "      <th>time.nome_popular</th>\n",
       "      <th>pontos</th>\n",
       "      <th>gols_pro_media</th>\n",
       "    </tr>\n",
       "    <tr>\n",
       "      <th>posicao</th>\n",
       "      <th></th>\n",
       "      <th></th>\n",
       "      <th></th>\n",
       "    </tr>\n",
       "  </thead>\n",
       "  <tbody>\n",
       "    <tr>\n",
       "      <th>7</th>\n",
       "      <td>Ponte Preta</td>\n",
       "      <td>57</td>\n",
       "      <td>1.421053</td>\n",
       "    </tr>\n",
       "    <tr>\n",
       "      <th>3</th>\n",
       "      <td>Juventude</td>\n",
       "      <td>61</td>\n",
       "      <td>1.368421</td>\n",
       "    </tr>\n",
       "    <tr>\n",
       "      <th>5</th>\n",
       "      <td>CSA</td>\n",
       "      <td>58</td>\n",
       "      <td>1.315789</td>\n",
       "    </tr>\n",
       "    <tr>\n",
       "      <th>6</th>\n",
       "      <td>Sampaio Corrêa</td>\n",
       "      <td>57</td>\n",
       "      <td>1.315789</td>\n",
       "    </tr>\n",
       "    <tr>\n",
       "      <th>4</th>\n",
       "      <td>Cuiabá</td>\n",
       "      <td>61</td>\n",
       "      <td>1.263158</td>\n",
       "    </tr>\n",
       "    <tr>\n",
       "      <th>10</th>\n",
       "      <td>CRB</td>\n",
       "      <td>52</td>\n",
       "      <td>1.263158</td>\n",
       "    </tr>\n",
       "    <tr>\n",
       "      <th>9</th>\n",
       "      <td>Avaí</td>\n",
       "      <td>55</td>\n",
       "      <td>1.184211</td>\n",
       "    </tr>\n",
       "    <tr>\n",
       "      <th>14</th>\n",
       "      <td>Vitória</td>\n",
       "      <td>48</td>\n",
       "      <td>1.184211</td>\n",
       "    </tr>\n",
       "    <tr>\n",
       "      <th>2</th>\n",
       "      <td>América-MG</td>\n",
       "      <td>73</td>\n",
       "      <td>1.131579</td>\n",
       "    </tr>\n",
       "    <tr>\n",
       "      <th>1</th>\n",
       "      <td>Chapecoense</td>\n",
       "      <td>73</td>\n",
       "      <td>1.105263</td>\n",
       "    </tr>\n",
       "    <tr>\n",
       "      <th>13</th>\n",
       "      <td>Guarani</td>\n",
       "      <td>48</td>\n",
       "      <td>1.078947</td>\n",
       "    </tr>\n",
       "    <tr>\n",
       "      <th>8</th>\n",
       "      <td>Operário-PR</td>\n",
       "      <td>57</td>\n",
       "      <td>1.052632</td>\n",
       "    </tr>\n",
       "    <tr>\n",
       "      <th>11</th>\n",
       "      <td>Cruzeiro</td>\n",
       "      <td>49</td>\n",
       "      <td>1.026316</td>\n",
       "    </tr>\n",
       "    <tr>\n",
       "      <th>15</th>\n",
       "      <td>Confiança</td>\n",
       "      <td>46</td>\n",
       "      <td>1.000000</td>\n",
       "    </tr>\n",
       "    <tr>\n",
       "      <th>16</th>\n",
       "      <td>Náutico</td>\n",
       "      <td>44</td>\n",
       "      <td>0.921053</td>\n",
       "    </tr>\n",
       "    <tr>\n",
       "      <th>17</th>\n",
       "      <td>Figueirense</td>\n",
       "      <td>39</td>\n",
       "      <td>0.921053</td>\n",
       "    </tr>\n",
       "    <tr>\n",
       "      <th>18</th>\n",
       "      <td>Paraná</td>\n",
       "      <td>37</td>\n",
       "      <td>0.894737</td>\n",
       "    </tr>\n",
       "    <tr>\n",
       "      <th>12</th>\n",
       "      <td>Brasil de Pelotas</td>\n",
       "      <td>49</td>\n",
       "      <td>0.815789</td>\n",
       "    </tr>\n",
       "    <tr>\n",
       "      <th>20</th>\n",
       "      <td>Oeste</td>\n",
       "      <td>29</td>\n",
       "      <td>0.736842</td>\n",
       "    </tr>\n",
       "    <tr>\n",
       "      <th>19</th>\n",
       "      <td>Botafogo-SP</td>\n",
       "      <td>34</td>\n",
       "      <td>0.684211</td>\n",
       "    </tr>\n",
       "  </tbody>\n",
       "</table>\n",
       "</div>"
      ],
      "text/plain": [
       "         time.nome_popular  pontos  gols_pro_media\n",
       "posicao                                           \n",
       "7              Ponte Preta      57        1.421053\n",
       "3                Juventude      61        1.368421\n",
       "5                      CSA      58        1.315789\n",
       "6           Sampaio Corrêa      57        1.315789\n",
       "4                   Cuiabá      61        1.263158\n",
       "10                     CRB      52        1.263158\n",
       "9                     Avaí      55        1.184211\n",
       "14                 Vitória      48        1.184211\n",
       "2               América-MG      73        1.131579\n",
       "1              Chapecoense      73        1.105263\n",
       "13                 Guarani      48        1.078947\n",
       "8              Operário-PR      57        1.052632\n",
       "11                Cruzeiro      49        1.026316\n",
       "15               Confiança      46        1.000000\n",
       "16                 Náutico      44        0.921053\n",
       "17             Figueirense      39        0.921053\n",
       "18                  Paraná      37        0.894737\n",
       "12       Brasil de Pelotas      49        0.815789\n",
       "20                   Oeste      29        0.736842\n",
       "19             Botafogo-SP      34        0.684211"
      ]
     },
     "execution_count": 36,
     "metadata": {},
     "output_type": "execute_result"
    }
   ],
   "source": [
    "df[['time.nome_popular', 'pontos', 'gols_pro_media']].sort_values(by='gols_pro_media', ascending=False)"
   ]
  },
  {
   "cell_type": "markdown",
   "id": "elegant-accuracy",
   "metadata": {},
   "source": [
    "Olhando as médias de gol por jogo, na parte de cima da tabela, as equipes com maior média, não são necessariamente as que mais pontuaram. E olhando no final da tabela, temos um intruso, o Brasil que ficou em 12º e teve o terceiro pior ataque."
   ]
  },
  {
   "cell_type": "markdown",
   "id": "absent-isaac",
   "metadata": {},
   "source": [
    "### Pontos x Gols contra\n",
    "\n",
    "Selecionando as variáveis `pontos` e `gols_contra`"
   ]
  },
  {
   "cell_type": "code",
   "execution_count": 47,
   "id": "initial-spread",
   "metadata": {},
   "outputs": [
    {
     "data": {
      "image/png": "[encoded data removed]",
      "text/plain": [
       "<Figure size 576x360 with 1 Axes>"
      ]
     },
     "metadata": {
      "needs_background": "light"
     },
     "output_type": "display_data"
    }
   ],
   "source": [
    "grafico_pontos(df, 'pontos', 'gols_contra', 'Pontos x gols contra')"
   ]
  },
  {
   "cell_type": "code",
   "execution_count": 48,
   "id": "aerial-bishop",
   "metadata": {},
   "outputs": [
    {
     "data": {
      "text/plain": [
       "{'r': 0.7068, 'r_critico': 0.4438, 'alpha': 0.05, 'significativo': True}"
      ]
     },
     "execution_count": 48,
     "metadata": {},
     "output_type": "execute_result"
    }
   ],
   "source": [
    "testar_coeficiente_r(df, 'pontos', 'gols_contra', 0.05)"
   ]
  },
  {
   "cell_type": "markdown",
   "id": "fresh-attention",
   "metadata": {},
   "source": [
    "A correlação entre x e y é de -0,7 e x explica 50% da variância em y (coeficiente de determinação), o que pode ser considerado baixo.\n",
    "\n",
    "Há evidência suficiente, ao nível de significância de 5%, para concluir que há uma correlação linear entre o número de pontos e a quantidade de gols sofridos.\n",
    "\n",
    "Aqui a correlação é negativa, ou seja, quanto mais pontos conquistados, menor a quantidade de gols sofridos. Apesar da correlação linear não ser tão alta, só de olhar o gráfico é possível perceber essa tendência. É possível perceber que os times com mais pontos, tiveram as melhores defesas, e o time com menos pontos, o com mais sofreu gols."
   ]
  }
 ],
 "metadata": {
  "kernelspec": {
   "display_name": "Python 3",
   "language": "python",
   "name": "python3"
  },
  "language_info": {
   "codemirror_mode": {
    "name": "ipython",
    "version": 3
   },
   "file_extension": ".py",
   "mimetype": "text/x-python",
   "name": "python",
   "nbconvert_exporter": "python",
   "pygments_lexer": "ipython3",
   "version": "3.9.1"
  }
 },
 "nbformat": 4,
 "nbformat_minor": 5
}
