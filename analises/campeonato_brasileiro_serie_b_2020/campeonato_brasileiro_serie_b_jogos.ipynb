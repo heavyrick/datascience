{
 "cells": [
  {
   "cell_type": "markdown",
   "id": "0e2b7aa4-7b9f-4268-a959-b9e9dcaf9b2d",
   "metadata": {},
   "source": [
    "# Campeonato Brasileiro Série B 2020 - Jogos\n",
    "\n",
    "\n",
    "Análise do campeonato, com base nos jogos.\n",
    "\n",
    "Os dados foram extraídos do site da CBF.\n",
    "\n",
    "https://www.cbf.com.br/futebol-brasileiro/competicoes/campeonato-brasileiro-serie-b/2020"
   ]
  },
  {
   "cell_type": "code",
   "execution_count": 3,
   "id": "4bc7f73e-27b5-43a8-b1eb-cd3cd1b65047",
   "metadata": {},
   "outputs": [
    {
     "name": "stdout",
     "output_type": "stream",
     "text": [
      "The autoreload extension is already loaded. To reload it, use:\n",
      "  %reload_ext autoreload\n"
     ]
    }
   ],
   "source": [
    "# Bibliotecas\n",
    "\n",
    "import numpy as np\n",
    "import pandas as pd\n",
    "import matplotlib.pyplot as plt\n",
    "import seaborn as sns\n",
    "%matplotlib inline\n",
    "\n",
    "import requests\n",
    "import re\n",
    "from bs4 import BeautifulSoup\n",
    "from datetime import datetime\n",
    "from os.path import exists\n",
    "\n",
    "%load_ext autoreload\n",
    "%autoreload 2\n",
    "\n",
    "from ExtrairJogos import ExtrairJogos\n",
    "from funcoes import criar_dataframe"
   ]
  },
  {
   "cell_type": "code",
   "execution_count": 2,
   "id": "51dc67c1-97b4-4655-92ea-34a6c28b56f5",
   "metadata": {},
   "outputs": [],
   "source": [
    "arquivo_dados = 'tabela_jogos_serie_b_2020.csv'\n",
    "\n",
    "link_pagina = 'https://www.cbf.com.br/futebol-brasileiro/competicoes/campeonato-brasileiro-serie-b/2020'"
   ]
  },
  {
   "cell_type": "code",
   "execution_count": 27,
   "id": "8c56095f-fba4-4a08-b7ef-70e9ee5ddc2d",
   "metadata": {},
   "outputs": [],
   "source": [
    "if not exists('data/' + arquivo_dados):\n",
    "    pagina = ExtrairJogos.extrair_pagina(link_pagina)\n",
    "    blocos = ExtrairJogos.extrair_area_dados(pagina)\n",
    "    df = criar_dataframe(blocos)\n",
    "    df.to_csv('data/' + arquivo_dados, sep=';', encoding='utf-8', index=False)\n",
    "else:\n",
    "    df = pd.read_csv('data/' + arquivo_dados, delimiter=';', encoding='utf-8')"
   ]
  },
  {
   "cell_type": "code",
   "execution_count": 24,
   "id": "393cceb1-b989-4117-b54d-6ac6a29f6275",
   "metadata": {},
   "outputs": [
    {
     "data": {
      "text/html": [
       "<div>\n",
       "<style scoped>\n",
       "    .dataframe tbody tr th:only-of-type {\n",
       "        vertical-align: middle;\n",
       "    }\n",
       "\n",
       "    .dataframe tbody tr th {\n",
       "        vertical-align: top;\n",
       "    }\n",
       "\n",
       "    .dataframe thead th {\n",
       "        text-align: right;\n",
       "    }\n",
       "</style>\n",
       "<table border=\"1\" class=\"dataframe\">\n",
       "  <thead>\n",
       "    <tr style=\"text-align: right;\">\n",
       "      <th></th>\n",
       "      <th>Rodada</th>\n",
       "      <th>Data</th>\n",
       "      <th>Time casa</th>\n",
       "      <th>Gols time casa</th>\n",
       "      <th>Time visitante</th>\n",
       "      <th>Gols time visitante</th>\n",
       "    </tr>\n",
       "  </thead>\n",
       "  <tbody>\n",
       "    <tr>\n",
       "      <th>370</th>\n",
       "      <td>38</td>\n",
       "      <td>29/01/2021</td>\n",
       "      <td>Figueirense - SC</td>\n",
       "      <td>2</td>\n",
       "      <td>Ponte Preta - SP</td>\n",
       "      <td>7</td>\n",
       "    </tr>\n",
       "    <tr>\n",
       "      <th>371</th>\n",
       "      <td>38</td>\n",
       "      <td>29/01/2021</td>\n",
       "      <td>Sampaio Correa - MA</td>\n",
       "      <td>1</td>\n",
       "      <td>Oeste - SP</td>\n",
       "      <td>0</td>\n",
       "    </tr>\n",
       "    <tr>\n",
       "      <th>372</th>\n",
       "      <td>38</td>\n",
       "      <td>29/01/2021</td>\n",
       "      <td>Crb - AL</td>\n",
       "      <td>4</td>\n",
       "      <td>Cuiabá - MT</td>\n",
       "      <td>1</td>\n",
       "    </tr>\n",
       "    <tr>\n",
       "      <th>373</th>\n",
       "      <td>38</td>\n",
       "      <td>29/01/2021</td>\n",
       "      <td>Botafogo - SP</td>\n",
       "      <td>0</td>\n",
       "      <td>Operário - PR</td>\n",
       "      <td>1</td>\n",
       "    </tr>\n",
       "    <tr>\n",
       "      <th>374</th>\n",
       "      <td>38</td>\n",
       "      <td>29/01/2021</td>\n",
       "      <td>Náutico - PE</td>\n",
       "      <td>1</td>\n",
       "      <td>Csa - AL</td>\n",
       "      <td>1</td>\n",
       "    </tr>\n",
       "    <tr>\n",
       "      <th>375</th>\n",
       "      <td>38</td>\n",
       "      <td>29/01/2021</td>\n",
       "      <td>America - MG</td>\n",
       "      <td>2</td>\n",
       "      <td>Avaí - SC</td>\n",
       "      <td>1</td>\n",
       "    </tr>\n",
       "    <tr>\n",
       "      <th>376</th>\n",
       "      <td>38</td>\n",
       "      <td>29/01/2021</td>\n",
       "      <td>Brasil - RS</td>\n",
       "      <td>0</td>\n",
       "      <td>Vitória - BA</td>\n",
       "      <td>1</td>\n",
       "    </tr>\n",
       "    <tr>\n",
       "      <th>377</th>\n",
       "      <td>38</td>\n",
       "      <td>29/01/2021</td>\n",
       "      <td>Paraná - PR</td>\n",
       "      <td>0</td>\n",
       "      <td>Cruzeiro - MG</td>\n",
       "      <td>0</td>\n",
       "    </tr>\n",
       "    <tr>\n",
       "      <th>378</th>\n",
       "      <td>38</td>\n",
       "      <td>29/01/2021</td>\n",
       "      <td>Guarani - SP</td>\n",
       "      <td>0</td>\n",
       "      <td>Juventude - RS</td>\n",
       "      <td>1</td>\n",
       "    </tr>\n",
       "    <tr>\n",
       "      <th>379</th>\n",
       "      <td>38</td>\n",
       "      <td>29/01/2021</td>\n",
       "      <td>Chapecoense - SC</td>\n",
       "      <td>3</td>\n",
       "      <td>Confiança - SE</td>\n",
       "      <td>1</td>\n",
       "    </tr>\n",
       "  </tbody>\n",
       "</table>\n",
       "</div>"
      ],
      "text/plain": [
       "     Rodada        Data            Time casa  Gols time casa  \\\n",
       "370      38  29/01/2021     Figueirense - SC               2   \n",
       "371      38  29/01/2021  Sampaio Correa - MA               1   \n",
       "372      38  29/01/2021             Crb - AL               4   \n",
       "373      38  29/01/2021        Botafogo - SP               0   \n",
       "374      38  29/01/2021         Náutico - PE               1   \n",
       "375      38  29/01/2021         America - MG               2   \n",
       "376      38  29/01/2021          Brasil - RS               0   \n",
       "377      38  29/01/2021          Paraná - PR               0   \n",
       "378      38  29/01/2021         Guarani - SP               0   \n",
       "379      38  29/01/2021     Chapecoense - SC               3   \n",
       "\n",
       "       Time visitante  Gols time visitante  \n",
       "370  Ponte Preta - SP                    7  \n",
       "371        Oeste - SP                    0  \n",
       "372       Cuiabá - MT                    1  \n",
       "373     Operário - PR                    1  \n",
       "374          Csa - AL                    1  \n",
       "375         Avaí - SC                    1  \n",
       "376      Vitória - BA                    1  \n",
       "377     Cruzeiro - MG                    0  \n",
       "378    Juventude - RS                    1  \n",
       "379    Confiança - SE                    1  "
      ]
     },
     "execution_count": 24,
     "metadata": {},
     "output_type": "execute_result"
    }
   ],
   "source": [
    "df.tail(10)"
   ]
  },
  {
   "cell_type": "code",
   "execution_count": null,
   "id": "b28bc4a2-1916-4239-9c2a-b0a39b3d9b92",
   "metadata": {},
   "outputs": [],
   "source": []
  },
  {
   "cell_type": "code",
   "execution_count": null,
   "id": "1c85acff-67f1-439c-99a1-2153da12e3b1",
   "metadata": {},
   "outputs": [],
   "source": []
  },
  {
   "cell_type": "code",
   "execution_count": null,
   "id": "98d7489c-19aa-4483-aa3d-c68e81483ab8",
   "metadata": {},
   "outputs": [],
   "source": []
  },
  {
   "cell_type": "code",
   "execution_count": null,
   "id": "ea8d3964-a19f-4f41-9f03-05f28710f818",
   "metadata": {},
   "outputs": [],
   "source": []
  },
  {
   "cell_type": "code",
   "execution_count": null,
   "id": "3d5a33db-faa7-49bc-bad1-e8374ba2ecbc",
   "metadata": {},
   "outputs": [],
   "source": []
  },
  {
   "cell_type": "code",
   "execution_count": null,
   "id": "c95cc0d4-279b-44ba-aa61-16266550593b",
   "metadata": {},
   "outputs": [],
   "source": []
  },
  {
   "cell_type": "code",
   "execution_count": null,
   "id": "5b30ffe4-c4c2-4313-adf1-2543036c3b7e",
   "metadata": {},
   "outputs": [],
   "source": []
  },
  {
   "cell_type": "code",
   "execution_count": null,
   "id": "e227e04d-a744-43c6-a59f-7889a795d435",
   "metadata": {},
   "outputs": [],
   "source": []
  },
  {
   "cell_type": "code",
   "execution_count": null,
   "id": "afde863a-8e01-4f7d-b5f2-5d4dd1c70e36",
   "metadata": {},
   "outputs": [],
   "source": []
  },
  {
   "cell_type": "code",
   "execution_count": null,
   "id": "0260afa1-75bb-42d6-82dd-8f68a35146aa",
   "metadata": {},
   "outputs": [],
   "source": []
  },
  {
   "cell_type": "code",
   "execution_count": null,
   "id": "6baf9e02-3dff-45dd-959d-f2640a432f1b",
   "metadata": {},
   "outputs": [],
   "source": []
  },
  {
   "cell_type": "code",
   "execution_count": null,
   "id": "500afe6f-e5c0-42cf-8bb4-f5b23fecceb6",
   "metadata": {},
   "outputs": [],
   "source": []
  },
  {
   "cell_type": "code",
   "execution_count": null,
   "id": "757454fc-c857-4e8a-8d90-e21d9059b0b9",
   "metadata": {},
   "outputs": [],
   "source": []
  },
  {
   "cell_type": "code",
   "execution_count": null,
   "id": "791a000f-fc3f-47fe-b045-d2e907a097f3",
   "metadata": {},
   "outputs": [],
   "source": []
  },
  {
   "cell_type": "code",
   "execution_count": null,
   "id": "0dffb897-4bdc-4c39-8f9c-c6e9ff2fbc5f",
   "metadata": {},
   "outputs": [],
   "source": []
  },
  {
   "cell_type": "code",
   "execution_count": null,
   "id": "7a63c7c7-9224-4150-9636-a35518df0c59",
   "metadata": {},
   "outputs": [],
   "source": []
  }
 ],
 "metadata": {
  "kernelspec": {
   "display_name": "Python 3 (ipykernel)",
   "language": "python",
   "name": "python3"
  },
  "language_info": {
   "codemirror_mode": {
    "name": "ipython",
    "version": 3
   },
   "file_extension": ".py",
   "mimetype": "text/x-python",
   "name": "python",
   "nbconvert_exporter": "python",
   "pygments_lexer": "ipython3",
   "version": "3.10.4"
  }
 },
 "nbformat": 4,
 "nbformat_minor": 5
}
