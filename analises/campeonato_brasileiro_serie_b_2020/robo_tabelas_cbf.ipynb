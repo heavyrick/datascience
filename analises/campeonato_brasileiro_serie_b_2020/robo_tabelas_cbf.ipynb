{
 "cells": [
  {
   "cell_type": "markdown",
   "id": "91995ab2-fc97-495c-8f2f-1ba6eecfc571",
   "metadata": {},
   "source": [
    "# Robô tabelas\n",
    "\n",
    "Robozinho para criar planilhas csv com as tabelas do campeonatos extraídas do site da CBF"
   ]
  },
  {
   "cell_type": "code",
   "execution_count": 3,
   "id": "b42e04eb-214b-4be5-8d6b-efe32a0949be",
   "metadata": {},
   "outputs": [
    {
     "name": "stdout",
     "output_type": "stream",
     "text": [
      "The autoreload extension is already loaded. To reload it, use:\n",
      "  %reload_ext autoreload\n"
     ]
    }
   ],
   "source": [
    "# Bibliotecas\n",
    "\n",
    "import numpy as np\n",
    "import pandas as pd\n",
    "\n",
    "import requests\n",
    "import re\n",
    "from bs4 import BeautifulSoup\n",
    "from os.path import exists\n",
    "\n",
    "%load_ext autoreload\n",
    "%autoreload 2\n",
    "\n",
    "from ExtrairJogos import ExtrairJogos\n",
    "from funcoes import criar_dataframe"
   ]
  },
  {
   "cell_type": "code",
   "execution_count": null,
   "id": "87e24ab3-78c7-4b7d-8dd6-3b703d663d96",
   "metadata": {},
   "outputs": [],
   "source": [
    "anos = [2012, 2013]"
   ]
  },
  {
   "cell_type": "code",
   "execution_count": 7,
   "id": "7db4e049-d1de-4f8e-b185-6fd2d0b9ecc9",
   "metadata": {},
   "outputs": [
    {
     "data": {
      "text/plain": [
       "array([2012, 2013, 2014, 2015, 2016, 2017, 2018, 2019, 2020, 2021])"
      ]
     },
     "execution_count": 7,
     "metadata": {},
     "output_type": "execute_result"
    }
   ],
   "source": [
    "anos = np.arange(2012, 2022)\n",
    "anos"
   ]
  },
  {
   "cell_type": "code",
   "execution_count": 11,
   "id": "0264ffab-0bd2-40b1-ab20-7b2ae33aac35",
   "metadata": {},
   "outputs": [
    {
     "name": "stdout",
     "output_type": "stream",
     "text": [
      "CPU times: total: 5.64 s\n",
      "Wall time: 13.5 s\n"
     ]
    }
   ],
   "source": [
    "%%time\n",
    "\n",
    "for ano in anos:\n",
    "    \n",
    "    arquivo_dados = 'tabela_jogos_serie_b_{}.csv'.format(ano)\n",
    "    link_pagina = 'https://www.cbf.com.br/futebol-brasileiro/competicoes/campeonato-brasileiro-serie-b/{}'.format(ano)\n",
    "    \n",
    "    if not exists('data/' + arquivo_dados):\n",
    "        pagina = ExtrairJogos.extrair_pagina(link_pagina)\n",
    "        blocos = ExtrairJogos.extrair_area_dados(pagina)\n",
    "        df = criar_dataframe(blocos)\n",
    "        df.to_csv('data/' + arquivo_dados, sep=';', encoding='utf-8', index=False)\n",
    "    else:\n",
    "        df = pd.read_csv('data/' + arquivo_dados, delimiter=';', encoding='utf-8')"
   ]
  }
 ],
 "metadata": {
  "kernelspec": {
   "display_name": "Python 3 (ipykernel)",
   "language": "python",
   "name": "python3"
  },
  "language_info": {
   "codemirror_mode": {
    "name": "ipython",
    "version": 3
   },
   "file_extension": ".py",
   "mimetype": "text/x-python",
   "name": "python",
   "nbconvert_exporter": "python",
   "pygments_lexer": "ipython3",
   "version": "3.10.4"
  }
 },
 "nbformat": 4,
 "nbformat_minor": 5
}
