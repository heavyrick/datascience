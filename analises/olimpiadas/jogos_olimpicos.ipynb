{
 "cells": [
  {
   "cell_type": "markdown",
   "id": "copyrighted-glossary",
   "metadata": {},
   "source": [
    "# Olimpíadas\n",
    "\n",
    "Os jogos olímpicos têm esse nome porque se referem a uma cidade da Antiga Grécia chamada Olímpia, na qual eram praticados jogos esportivos nos momentos de trégua entre uma guerra e outra. Tal prática também estava associada a rituais religiosos.\n",
    "\n",
    "Com o declínio da civilização grega, as competições esportivas tornaram-se esparsas nas civilizações subsequentes. A proposta de resgatar a prática das olimpíadas e o seu sentido principal, a celebração da paz – ou da trégua – entre as nações por meio do esporte, só aconteceu no fim do século XIX, por intermédio de Pierre de Frédy, conhecido como Barão de Coubertin. Ele propôs a criação do evento, e em 1896 ocorreu sua primeira edição em Atenas, na Grécia. Mesmo com algumas interrupções devido as guerras, os jogos acabaram consolidando-se, reunindo os grandes atletas do mundo todo até os dias de hoje.\n",
    "\n",
    "Os dados desse dataset não contemplam as olimpíadas de Tokyo 2020. O dataset original, é bem grande, e tem informações inclusive de atletas que não ganharam medalhas. Para esta análise, fiz dois recortes: um com apenas os medalhistas do mundo todo, e outro apenas com os atletas que competiram pelo Brasil (medalhistas ou não)."
   ]
  },
  {
   "cell_type": "markdown",
   "id": "serial-somewhere",
   "metadata": {},
   "source": [
    "Temos as colunas da tabela e seus tipos:\n",
    "\n",
    "- ID (quantitativo discreto)\n",
    "- Name, Team, NOC, Games, Season, City, Sport, Event (qualitativo nominal)\n",
    "- Sex (qualitativo nominal / dicotômico: F, M)\n",
    "- Age, Year (quantitativo discreto)\n",
    "- Height, Weight (quantitativo contínuo ou discreto, já que estão coletados como valores inteiros)\n",
    "- Medal (qualitativo ordinal: ouro, prata e bronze)"
   ]
  },
  {
   "cell_type": "code",
   "execution_count": 1,
   "id": "aggressive-given",
   "metadata": {},
   "outputs": [],
   "source": [
    "import pandas as pd\n",
    "import numpy as np\n",
    "import matplotlib.pyplot as plt\n",
    "%matplotlib inline"
   ]
  },
  {
   "cell_type": "code",
   "execution_count": 5,
   "id": "informative-story",
   "metadata": {},
   "outputs": [],
   "source": [
    "df = pd.read_csv('data/olimpiadas_atenas_1896_rio_2016.csv', delimiter=';')"
   ]
  },
  {
   "cell_type": "code",
   "execution_count": 9,
   "id": "affecting-arnold",
   "metadata": {},
   "outputs": [
    {
     "data": {
      "text/plain": [
       "(39783, 15)"
      ]
     },
     "execution_count": 9,
     "metadata": {},
     "output_type": "execute_result"
    }
   ],
   "source": [
    "df.shape # linhas e colunas"
   ]
  },
  {
   "cell_type": "code",
   "execution_count": 3,
   "id": "orange-respondent",
   "metadata": {},
   "outputs": [
    {
     "data": {
      "text/html": [
       "<div>\n",
       "<style scoped>\n",
       "    .dataframe tbody tr th:only-of-type {\n",
       "        vertical-align: middle;\n",
       "    }\n",
       "\n",
       "    .dataframe tbody tr th {\n",
       "        vertical-align: top;\n",
       "    }\n",
       "\n",
       "    .dataframe thead th {\n",
       "        text-align: right;\n",
       "    }\n",
       "</style>\n",
       "<table border=\"1\" class=\"dataframe\">\n",
       "  <thead>\n",
       "    <tr style=\"text-align: right;\">\n",
       "      <th></th>\n",
       "      <th>ID</th>\n",
       "      <th>Age</th>\n",
       "      <th>Height</th>\n",
       "      <th>Year</th>\n",
       "    </tr>\n",
       "  </thead>\n",
       "  <tbody>\n",
       "    <tr>\n",
       "      <th>count</th>\n",
       "      <td>39783.000000</td>\n",
       "      <td>39051.000000</td>\n",
       "      <td>31072.000000</td>\n",
       "      <td>39783.000000</td>\n",
       "    </tr>\n",
       "    <tr>\n",
       "      <th>mean</th>\n",
       "      <td>69407.051806</td>\n",
       "      <td>25.925175</td>\n",
       "      <td>177.554197</td>\n",
       "      <td>1973.943845</td>\n",
       "    </tr>\n",
       "    <tr>\n",
       "      <th>std</th>\n",
       "      <td>38849.980737</td>\n",
       "      <td>5.914026</td>\n",
       "      <td>10.893723</td>\n",
       "      <td>33.822857</td>\n",
       "    </tr>\n",
       "    <tr>\n",
       "      <th>min</th>\n",
       "      <td>4.000000</td>\n",
       "      <td>10.000000</td>\n",
       "      <td>136.000000</td>\n",
       "      <td>1896.000000</td>\n",
       "    </tr>\n",
       "    <tr>\n",
       "      <th>25%</th>\n",
       "      <td>36494.000000</td>\n",
       "      <td>22.000000</td>\n",
       "      <td>170.000000</td>\n",
       "      <td>1952.000000</td>\n",
       "    </tr>\n",
       "    <tr>\n",
       "      <th>50%</th>\n",
       "      <td>68990.000000</td>\n",
       "      <td>25.000000</td>\n",
       "      <td>178.000000</td>\n",
       "      <td>1984.000000</td>\n",
       "    </tr>\n",
       "    <tr>\n",
       "      <th>75%</th>\n",
       "      <td>103461.500000</td>\n",
       "      <td>29.000000</td>\n",
       "      <td>185.000000</td>\n",
       "      <td>2002.000000</td>\n",
       "    </tr>\n",
       "    <tr>\n",
       "      <th>max</th>\n",
       "      <td>135563.000000</td>\n",
       "      <td>73.000000</td>\n",
       "      <td>223.000000</td>\n",
       "      <td>2016.000000</td>\n",
       "    </tr>\n",
       "  </tbody>\n",
       "</table>\n",
       "</div>"
      ],
      "text/plain": [
       "                  ID           Age        Height          Year\n",
       "count   39783.000000  39051.000000  31072.000000  39783.000000\n",
       "mean    69407.051806     25.925175    177.554197   1973.943845\n",
       "std     38849.980737      5.914026     10.893723     33.822857\n",
       "min         4.000000     10.000000    136.000000   1896.000000\n",
       "25%     36494.000000     22.000000    170.000000   1952.000000\n",
       "50%     68990.000000     25.000000    178.000000   1984.000000\n",
       "75%    103461.500000     29.000000    185.000000   2002.000000\n",
       "max    135563.000000     73.000000    223.000000   2016.000000"
      ]
     },
     "execution_count": 3,
     "metadata": {},
     "output_type": "execute_result"
    }
   ],
   "source": [
    "df.describe()"
   ]
  },
  {
   "cell_type": "code",
   "execution_count": 10,
   "id": "failing-champion",
   "metadata": {},
   "outputs": [
    {
     "name": "stdout",
     "output_type": "stream",
     "text": [
      "<class 'pandas.core.frame.DataFrame'>\n",
      "RangeIndex: 39783 entries, 0 to 39782\n",
      "Data columns (total 15 columns):\n",
      " #   Column  Non-Null Count  Dtype  \n",
      "---  ------  --------------  -----  \n",
      " 0   ID      39783 non-null  int64  \n",
      " 1   Name    39783 non-null  object \n",
      " 2   Sex     39783 non-null  object \n",
      " 3   Age     39051 non-null  float64\n",
      " 4   Height  31072 non-null  float64\n",
      " 5   Weight  30456 non-null  object \n",
      " 6   Team    39783 non-null  object \n",
      " 7   NOC     39783 non-null  object \n",
      " 8   Games   39783 non-null  object \n",
      " 9   Year    39783 non-null  int64  \n",
      " 10  Season  39783 non-null  object \n",
      " 11  City    39783 non-null  object \n",
      " 12  Sport   39783 non-null  object \n",
      " 13  Event   39783 non-null  object \n",
      " 14  Medal   39783 non-null  object \n",
      "dtypes: float64(2), int64(2), object(11)\n",
      "memory usage: 4.6+ MB\n"
     ]
    }
   ],
   "source": [
    "df.info()"
   ]
  },
  {
   "cell_type": "markdown",
   "id": "collaborative-neighbor",
   "metadata": {},
   "source": [
    "As colunas com valores vazios são idade, altura e peso, que até então não pensei se vou utilizá-las ou não.\n",
    "\n",
    "Quais edições dos jogos temos aqui?"
   ]
  },
  {
   "cell_type": "code",
   "execution_count": 26,
   "id": "genetic-integration",
   "metadata": {},
   "outputs": [
    {
     "data": {
      "text/plain": [
       "array(['1900 Summer', 'Paris', '1920 Summer', 'Antwerpen', '2014 Winter',\n",
       "       'Sochi', '1948 Summer', 'London', '1952 Summer', 'Helsinki',\n",
       "       '1992 Winter', 'Albertville', '1994 Winter', 'Lillehammer',\n",
       "       '2002 Winter', 'Salt Lake City', '2006 Winter', 'Torino',\n",
       "       '2008 Summer', 'Beijing', '1988 Summer', 'Seoul', '1996 Summer',\n",
       "       'Atlanta', '1952 Winter', 'Oslo', '1960 Winter', 'Squaw Valley',\n",
       "       '1912 Summer', 'Stockholm', '1956 Summer', 'Melbourne',\n",
       "       '2016 Summer', 'Rio de Janeiro', '2012 Summer', '2000 Summer',\n",
       "       'Sydney', '2004 Summer', 'Athina', '1980 Summer', 'Moskva',\n",
       "       '1984 Summer', 'Los Angeles', '1992 Summer', 'Barcelona',\n",
       "       '1936 Summer', 'Berlin', '1906 Summer', '1960 Summer', 'Roma',\n",
       "       '1964 Summer', 'Tokyo', '1972 Summer', 'Munich', '1924 Summer',\n",
       "       '1924 Winter', 'Chamonix', '1904 Summer', 'St. Louis',\n",
       "       '1932 Summer', '1928 Winter', 'Sankt Moritz', '1988 Winter',\n",
       "       'Calgary', '1968 Winter', 'Grenoble', '1976 Summer', 'Montreal',\n",
       "       '2010 Winter', 'Vancouver', '1908 Summer', '1928 Summer',\n",
       "       'Amsterdam', '1972 Winter', 'Sapporo', '1980 Winter',\n",
       "       'Lake Placid', '1984 Winter', 'Sarajevo', '1968 Summer',\n",
       "       'Mexico City', '1936 Winter', 'Garmisch-Partenkirchen',\n",
       "       '1998 Winter', 'Nagano', '1956 Winter', \"Cortina d'Ampezzo\",\n",
       "       '1976 Winter', 'Innsbruck', '1964 Winter', '1948 Winter',\n",
       "       '1932 Winter', '1896 Summer'], dtype=object)"
      ]
     },
     "execution_count": 26,
     "metadata": {},
     "output_type": "execute_result"
    }
   ],
   "source": [
    "pd.unique(df[['Games', 'City']].values.ravel())"
   ]
  },
  {
   "cell_type": "markdown",
   "id": "optical-diary",
   "metadata": {},
   "source": [
    "O que podemos explorar aqui...\n",
    "\n",
    "Podemos ver a quantidade de medalhas por país, a pontuação dos países por diferentes tipos de rankings, verificar diferenças de medalhas entre homens e mulheres, mapear as categorias esportivas ao longo do tempo, etc."
   ]
  },
  {
   "cell_type": "code",
   "execution_count": null,
   "id": "accessible-punishment",
   "metadata": {},
   "outputs": [],
   "source": []
  },
  {
   "cell_type": "code",
   "execution_count": 11,
   "id": "necessary-missile",
   "metadata": {},
   "outputs": [
    {
     "data": {
      "text/html": [
       "<div>\n",
       "<style scoped>\n",
       "    .dataframe tbody tr th:only-of-type {\n",
       "        vertical-align: middle;\n",
       "    }\n",
       "\n",
       "    .dataframe tbody tr th {\n",
       "        vertical-align: top;\n",
       "    }\n",
       "\n",
       "    .dataframe thead th {\n",
       "        text-align: right;\n",
       "    }\n",
       "</style>\n",
       "<table border=\"1\" class=\"dataframe\">\n",
       "  <thead>\n",
       "    <tr style=\"text-align: right;\">\n",
       "      <th></th>\n",
       "      <th>ID</th>\n",
       "      <th>Name</th>\n",
       "      <th>Sex</th>\n",
       "      <th>Age</th>\n",
       "      <th>Height</th>\n",
       "      <th>Weight</th>\n",
       "      <th>Team</th>\n",
       "      <th>NOC</th>\n",
       "      <th>Games</th>\n",
       "      <th>Year</th>\n",
       "      <th>Season</th>\n",
       "      <th>City</th>\n",
       "      <th>Sport</th>\n",
       "      <th>Event</th>\n",
       "      <th>Medal</th>\n",
       "    </tr>\n",
       "  </thead>\n",
       "  <tbody>\n",
       "    <tr>\n",
       "      <th>0</th>\n",
       "      <td>4</td>\n",
       "      <td>Edgar Lindenau Aabye</td>\n",
       "      <td>M</td>\n",
       "      <td>34.0</td>\n",
       "      <td>NaN</td>\n",
       "      <td>NaN</td>\n",
       "      <td>Denmark/Sweden</td>\n",
       "      <td>DEN</td>\n",
       "      <td>1900 Summer</td>\n",
       "      <td>1900</td>\n",
       "      <td>Summer</td>\n",
       "      <td>Paris</td>\n",
       "      <td>Tug-Of-War</td>\n",
       "      <td>Tug-Of-War Men's Tug-Of-War</td>\n",
       "      <td>Gold</td>\n",
       "    </tr>\n",
       "    <tr>\n",
       "      <th>1</th>\n",
       "      <td>15</td>\n",
       "      <td>Arvo Ossian Aaltonen</td>\n",
       "      <td>M</td>\n",
       "      <td>30.0</td>\n",
       "      <td>NaN</td>\n",
       "      <td>NaN</td>\n",
       "      <td>Finland</td>\n",
       "      <td>FIN</td>\n",
       "      <td>1920 Summer</td>\n",
       "      <td>1920</td>\n",
       "      <td>Summer</td>\n",
       "      <td>Antwerpen</td>\n",
       "      <td>Swimming</td>\n",
       "      <td>Swimming Men's 200 metres Breaststroke</td>\n",
       "      <td>Bronze</td>\n",
       "    </tr>\n",
       "    <tr>\n",
       "      <th>2</th>\n",
       "      <td>15</td>\n",
       "      <td>Arvo Ossian Aaltonen</td>\n",
       "      <td>M</td>\n",
       "      <td>30.0</td>\n",
       "      <td>NaN</td>\n",
       "      <td>NaN</td>\n",
       "      <td>Finland</td>\n",
       "      <td>FIN</td>\n",
       "      <td>1920 Summer</td>\n",
       "      <td>1920</td>\n",
       "      <td>Summer</td>\n",
       "      <td>Antwerpen</td>\n",
       "      <td>Swimming</td>\n",
       "      <td>Swimming Men's 400 metres Breaststroke</td>\n",
       "      <td>Bronze</td>\n",
       "    </tr>\n",
       "    <tr>\n",
       "      <th>3</th>\n",
       "      <td>16</td>\n",
       "      <td>Juhamatti Tapio Aaltonen</td>\n",
       "      <td>M</td>\n",
       "      <td>28.0</td>\n",
       "      <td>184.0</td>\n",
       "      <td>85</td>\n",
       "      <td>Finland</td>\n",
       "      <td>FIN</td>\n",
       "      <td>2014 Winter</td>\n",
       "      <td>2014</td>\n",
       "      <td>Winter</td>\n",
       "      <td>Sochi</td>\n",
       "      <td>Ice Hockey</td>\n",
       "      <td>Ice Hockey Men's Ice Hockey</td>\n",
       "      <td>Bronze</td>\n",
       "    </tr>\n",
       "    <tr>\n",
       "      <th>4</th>\n",
       "      <td>17</td>\n",
       "      <td>Paavo Johannes Aaltonen</td>\n",
       "      <td>M</td>\n",
       "      <td>28.0</td>\n",
       "      <td>175.0</td>\n",
       "      <td>64</td>\n",
       "      <td>Finland</td>\n",
       "      <td>FIN</td>\n",
       "      <td>1948 Summer</td>\n",
       "      <td>1948</td>\n",
       "      <td>Summer</td>\n",
       "      <td>London</td>\n",
       "      <td>Gymnastics</td>\n",
       "      <td>Gymnastics Men's Individual All-Around</td>\n",
       "      <td>Bronze</td>\n",
       "    </tr>\n",
       "  </tbody>\n",
       "</table>\n",
       "</div>"
      ],
      "text/plain": [
       "   ID                      Name Sex   Age  Height Weight            Team  NOC  \\\n",
       "0   4      Edgar Lindenau Aabye   M  34.0     NaN    NaN  Denmark/Sweden  DEN   \n",
       "1  15      Arvo Ossian Aaltonen   M  30.0     NaN    NaN         Finland  FIN   \n",
       "2  15      Arvo Ossian Aaltonen   M  30.0     NaN    NaN         Finland  FIN   \n",
       "3  16  Juhamatti Tapio Aaltonen   M  28.0   184.0     85         Finland  FIN   \n",
       "4  17   Paavo Johannes Aaltonen   M  28.0   175.0     64         Finland  FIN   \n",
       "\n",
       "         Games  Year  Season       City       Sport  \\\n",
       "0  1900 Summer  1900  Summer      Paris  Tug-Of-War   \n",
       "1  1920 Summer  1920  Summer  Antwerpen    Swimming   \n",
       "2  1920 Summer  1920  Summer  Antwerpen    Swimming   \n",
       "3  2014 Winter  2014  Winter      Sochi  Ice Hockey   \n",
       "4  1948 Summer  1948  Summer     London  Gymnastics   \n",
       "\n",
       "                                    Event   Medal  \n",
       "0             Tug-Of-War Men's Tug-Of-War    Gold  \n",
       "1  Swimming Men's 200 metres Breaststroke  Bronze  \n",
       "2  Swimming Men's 400 metres Breaststroke  Bronze  \n",
       "3             Ice Hockey Men's Ice Hockey  Bronze  \n",
       "4  Gymnastics Men's Individual All-Around  Bronze  "
      ]
     },
     "execution_count": 11,
     "metadata": {},
     "output_type": "execute_result"
    }
   ],
   "source": [
    "df.head()"
   ]
  },
  {
   "cell_type": "code",
   "execution_count": null,
   "id": "resistant-lodging",
   "metadata": {},
   "outputs": [],
   "source": []
  },
  {
   "cell_type": "code",
   "execution_count": null,
   "id": "musical-courage",
   "metadata": {},
   "outputs": [],
   "source": []
  },
  {
   "cell_type": "code",
   "execution_count": null,
   "id": "engaged-exhibition",
   "metadata": {},
   "outputs": [],
   "source": []
  },
  {
   "cell_type": "code",
   "execution_count": null,
   "id": "positive-detective",
   "metadata": {},
   "outputs": [],
   "source": []
  },
  {
   "cell_type": "markdown",
   "id": "recovered-bernard",
   "metadata": {},
   "source": [
    "--- \n",
    "\n",
    "### Referências\n",
    "\n",
    "[120 years of Olympic history: athletes and results](https://www.kaggle.com/heesoo37/120-years-of-olympic-history-athletes-and-results)\n",
    "\n",
    "[Brasil Escola - Olimpíadas](https://brasilescola.uol.com.br/educacao-fisica/olimpiadas.htm)\n",
    "\n",
    "[Topend Sports - Medal Tally Ranking Systems](https://www.topendsports.com/events/summer/medal-tally/rankings.htm)"
   ]
  }
 ],
 "metadata": {
  "kernelspec": {
   "display_name": "Python 3 (ipykernel)",
   "language": "python",
   "name": "python3"
  },
  "language_info": {
   "codemirror_mode": {
    "name": "ipython",
    "version": 3
   },
   "file_extension": ".py",
   "mimetype": "text/x-python",
   "name": "python",
   "nbconvert_exporter": "python",
   "pygments_lexer": "ipython3",
   "version": "3.9.1"
  }
 },
 "nbformat": 4,
 "nbformat_minor": 5
}
