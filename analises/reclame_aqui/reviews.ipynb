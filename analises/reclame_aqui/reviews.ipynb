{
 "cells": [
  {
   "cell_type": "markdown",
   "id": "specialized-enhancement",
   "metadata": {},
   "source": [
    "# Amazon mobile phones reviews\n",
    "\n",
    "O dataset de reviews de celulares da Amazon foi baixado do [data.world](https://data.world/opensnippets/amazon-mobile-phones-reviews).\n",
    "\n",
    "A ideia aqui é pegar os reviews de vários produtos, e tentar entender o que os usuários mais estão falando sobre eles."
   ]
  },
  {
   "cell_type": "code",
   "execution_count": 1,
   "id": "entire-shannon",
   "metadata": {},
   "outputs": [],
   "source": [
    "import pandas as pd\n",
    "import numpy as np\n",
    "import re\n",
    "import json\n",
    "import string\n",
    "from unidecode import unidecode\n",
    "\n",
    "import matplotlib.pyplot as plt\n",
    "import seaborn as sns\n",
    "%matplotlib inline\n",
    "\n",
    "import nltk\n",
    "#nltk.download('punkt')\n",
    "#nltk.download('wordnet')\n",
    "#nltk.download(\"stopwords\")\n",
    "#nltk.download('rslp')\n",
    "\n",
    "from nltk import sent_tokenize, word_tokenize\n",
    "from nltk.probability import FreqDist\n",
    "from nltk.stem.snowball import SnowballStemmer\n",
    "from nltk.stem.wordnet import WordNetLemmatizer\n",
    "from nltk.corpus import stopwords\n",
    "\n",
    "import spacy"
   ]
  },
  {
   "cell_type": "markdown",
   "id": "spread-couple",
   "metadata": {},
   "source": [
    "### Dados"
   ]
  },
  {
   "cell_type": "code",
   "execution_count": 2,
   "id": "activated-filename",
   "metadata": {},
   "outputs": [],
   "source": [
    "reviews_dataset = pd.read_json('data/amazon_one_plus_reviews.json', encoding='utf-8')"
   ]
  },
  {
   "cell_type": "code",
   "execution_count": 3,
   "id": "latin-decrease",
   "metadata": {},
   "outputs": [
    {
     "data": {
      "text/plain": [
       "(30612, 20)"
      ]
     },
     "execution_count": 3,
     "metadata": {},
     "output_type": "execute_result"
    }
   ],
   "source": [
    "reviews_dataset.shape"
   ]
  },
  {
   "cell_type": "code",
   "execution_count": 4,
   "id": "handled-serbia",
   "metadata": {},
   "outputs": [
    {
     "data": {
      "text/plain": [
       "Index(['product', 'product_company', 'profile_name', 'review_title',\n",
       "       'review_rating', 'review_text', 'helpful_count', 'total_comments',\n",
       "       'review_country', 'reviewed_at', 'url', 'crawled_at', '_id',\n",
       "       'verified_purchase', 'color', 'style_name', 'size_name', 'category',\n",
       "       'sub_category', 'images'],\n",
       "      dtype='object')"
      ]
     },
     "execution_count": 4,
     "metadata": {},
     "output_type": "execute_result"
    }
   ],
   "source": [
    "reviews_dataset.columns"
   ]
  },
  {
   "cell_type": "markdown",
   "id": "theoretical-privilege",
   "metadata": {},
   "source": [
    "Este dataset contém 30612 registros e 20 atributos (colunas). E aparentemente não há registros vazios, mas é possível verificar que há alguns registros com o valor `na` como string, é necessário tratar isso mais adiante."
   ]
  },
  {
   "cell_type": "code",
   "execution_count": 5,
   "id": "hindu-webmaster",
   "metadata": {},
   "outputs": [
    {
     "data": {
      "text/html": [
       "<div>\n",
       "<style scoped>\n",
       "    .dataframe tbody tr th:only-of-type {\n",
       "        vertical-align: middle;\n",
       "    }\n",
       "\n",
       "    .dataframe tbody tr th {\n",
       "        vertical-align: top;\n",
       "    }\n",
       "\n",
       "    .dataframe thead th {\n",
       "        text-align: right;\n",
       "    }\n",
       "</style>\n",
       "<table border=\"1\" class=\"dataframe\">\n",
       "  <thead>\n",
       "    <tr style=\"text-align: right;\">\n",
       "      <th></th>\n",
       "      <th>product</th>\n",
       "      <th>product_company</th>\n",
       "      <th>profile_name</th>\n",
       "      <th>review_title</th>\n",
       "      <th>review_rating</th>\n",
       "      <th>review_text</th>\n",
       "      <th>helpful_count</th>\n",
       "      <th>total_comments</th>\n",
       "      <th>review_country</th>\n",
       "      <th>reviewed_at</th>\n",
       "      <th>url</th>\n",
       "      <th>crawled_at</th>\n",
       "      <th>_id</th>\n",
       "      <th>verified_purchase</th>\n",
       "      <th>color</th>\n",
       "      <th>style_name</th>\n",
       "      <th>size_name</th>\n",
       "      <th>category</th>\n",
       "      <th>sub_category</th>\n",
       "      <th>images</th>\n",
       "    </tr>\n",
       "  </thead>\n",
       "  <tbody>\n",
       "    <tr>\n",
       "      <th>0</th>\n",
       "      <td>OnePlus Nord 5G (Gray Onyx, 8GB RAM, 128GB Sto...</td>\n",
       "      <td>OnePlus</td>\n",
       "      <td>Nikhil</td>\n",
       "      <td>*Read before you buy!!*</td>\n",
       "      <td>5.0 out of 5 stars</td>\n",
       "      <td>\\n  Yea..pre-ordered on 28 July, got it on 4 A...</td>\n",
       "      <td>721 people found this helpful</td>\n",
       "      <td>3</td>\n",
       "      <td>India</td>\n",
       "      <td>2020-08-04</td>\n",
       "      <td>https://www.amazon.in/product-reviews/B08695ZS...</td>\n",
       "      <td>2020-10-18 11:23:47</td>\n",
       "      <td>45ca015a-2e39-5650-a174-ba966dd1e51f</td>\n",
       "      <td>Verified Purchase</td>\n",
       "      <td>Marble Blue</td>\n",
       "      <td>8GB RAM + 128GB Storage</td>\n",
       "      <td>na</td>\n",
       "      <td>electronics</td>\n",
       "      <td>mobiles</td>\n",
       "      <td>[https://images-na.ssl-images-amazon.com/image...</td>\n",
       "    </tr>\n",
       "    <tr>\n",
       "      <th>1</th>\n",
       "      <td>OnePlus Nord 5G (Gray Onyx, 8GB RAM, 128GB Sto...</td>\n",
       "      <td>OnePlus</td>\n",
       "      <td>Amit</td>\n",
       "      <td>Near to mid range  Perfection</td>\n",
       "      <td>5.0 out of 5 stars</td>\n",
       "      <td>\\n  Got it delivered yesterday , used for abou...</td>\n",
       "      <td>436 people found this helpful</td>\n",
       "      <td>1</td>\n",
       "      <td>India</td>\n",
       "      <td>2020-08-03</td>\n",
       "      <td>https://www.amazon.in/product-reviews/B08695ZS...</td>\n",
       "      <td>2020-10-18 11:23:47</td>\n",
       "      <td>6820f8ae-f3cd-5783-b826-5e5805376047</td>\n",
       "      <td>Verified Purchase</td>\n",
       "      <td>na</td>\n",
       "      <td>na</td>\n",
       "      <td>na</td>\n",
       "      <td>electronics</td>\n",
       "      <td>mobiles</td>\n",
       "      <td>[]</td>\n",
       "    </tr>\n",
       "    <tr>\n",
       "      <th>2</th>\n",
       "      <td>OnePlus Nord 5G (Gray Onyx, 8GB RAM, 128GB Sto...</td>\n",
       "      <td>OnePlus</td>\n",
       "      <td>aishwarya</td>\n",
       "      <td>Great price!</td>\n",
       "      <td>5.0 out of 5 stars</td>\n",
       "      <td>\\n  An amazing phone!</td>\n",
       "      <td>322 people found this helpful</td>\n",
       "      <td>1</td>\n",
       "      <td>India</td>\n",
       "      <td>2020-08-04</td>\n",
       "      <td>https://www.amazon.in/product-reviews/B08695ZS...</td>\n",
       "      <td>2020-10-18 11:23:47</td>\n",
       "      <td>bea91c43-8d65-5ef5-ab04-595a5f5cc542</td>\n",
       "      <td>Verified Purchase</td>\n",
       "      <td>na</td>\n",
       "      <td>na</td>\n",
       "      <td>na</td>\n",
       "      <td>electronics</td>\n",
       "      <td>mobiles</td>\n",
       "      <td>[https://images-na.ssl-images-amazon.com/image...</td>\n",
       "    </tr>\n",
       "    <tr>\n",
       "      <th>3</th>\n",
       "      <td>OnePlus Nord 5G (Gray Onyx, 8GB RAM, 128GB Sto...</td>\n",
       "      <td>OnePlus</td>\n",
       "      <td>vasu a.</td>\n",
       "      <td>Beast in OnePlus.</td>\n",
       "      <td>5.0 out of 5 stars</td>\n",
       "      <td>\\n  Brilliant..</td>\n",
       "      <td>243 people found this helpful</td>\n",
       "      <td>7</td>\n",
       "      <td>India</td>\n",
       "      <td>2020-08-02</td>\n",
       "      <td>https://www.amazon.in/product-reviews/B08695ZS...</td>\n",
       "      <td>2020-10-18 11:23:47</td>\n",
       "      <td>76f68b53-5c52-56b2-9727-a5ab8c4bb4ff</td>\n",
       "      <td>Verified Purchase</td>\n",
       "      <td>na</td>\n",
       "      <td>na</td>\n",
       "      <td>na</td>\n",
       "      <td>electronics</td>\n",
       "      <td>mobiles</td>\n",
       "      <td>[https://images-na.ssl-images-amazon.com/image...</td>\n",
       "    </tr>\n",
       "    <tr>\n",
       "      <th>4</th>\n",
       "      <td>OnePlus Nord 5G (Gray Onyx, 8GB RAM, 128GB Sto...</td>\n",
       "      <td>OnePlus</td>\n",
       "      <td>Amazon Customer</td>\n",
       "      <td>Changed to Nord from 6t</td>\n",
       "      <td>5.0 out of 5 stars</td>\n",
       "      <td>\\n  I was skeptical about changing from One pl...</td>\n",
       "      <td>109 people found this helpful</td>\n",
       "      <td>2</td>\n",
       "      <td>India</td>\n",
       "      <td>2020-08-04</td>\n",
       "      <td>https://www.amazon.in/product-reviews/B08695ZS...</td>\n",
       "      <td>2020-10-18 11:23:47</td>\n",
       "      <td>22228681-b884-56a1-b04e-87167f6f76e6</td>\n",
       "      <td>Verified Purchase</td>\n",
       "      <td>na</td>\n",
       "      <td>na</td>\n",
       "      <td>na</td>\n",
       "      <td>electronics</td>\n",
       "      <td>mobiles</td>\n",
       "      <td>[]</td>\n",
       "    </tr>\n",
       "  </tbody>\n",
       "</table>\n",
       "</div>"
      ],
      "text/plain": [
       "                                             product product_company  \\\n",
       "0  OnePlus Nord 5G (Gray Onyx, 8GB RAM, 128GB Sto...         OnePlus   \n",
       "1  OnePlus Nord 5G (Gray Onyx, 8GB RAM, 128GB Sto...         OnePlus   \n",
       "2  OnePlus Nord 5G (Gray Onyx, 8GB RAM, 128GB Sto...         OnePlus   \n",
       "3  OnePlus Nord 5G (Gray Onyx, 8GB RAM, 128GB Sto...         OnePlus   \n",
       "4  OnePlus Nord 5G (Gray Onyx, 8GB RAM, 128GB Sto...         OnePlus   \n",
       "\n",
       "      profile_name                   review_title       review_rating  \\\n",
       "0           Nikhil        *Read before you buy!!*  5.0 out of 5 stars   \n",
       "1             Amit  Near to mid range  Perfection  5.0 out of 5 stars   \n",
       "2        aishwarya                   Great price!  5.0 out of 5 stars   \n",
       "3          vasu a.              Beast in OnePlus.  5.0 out of 5 stars   \n",
       "4  Amazon Customer        Changed to Nord from 6t  5.0 out of 5 stars   \n",
       "\n",
       "                                         review_text  \\\n",
       "0  \\n  Yea..pre-ordered on 28 July, got it on 4 A...   \n",
       "1  \\n  Got it delivered yesterday , used for abou...   \n",
       "2                              \\n  An amazing phone!   \n",
       "3                                    \\n  Brilliant..   \n",
       "4  \\n  I was skeptical about changing from One pl...   \n",
       "\n",
       "                   helpful_count  total_comments review_country reviewed_at  \\\n",
       "0  721 people found this helpful               3         India   2020-08-04   \n",
       "1  436 people found this helpful               1         India   2020-08-03   \n",
       "2  322 people found this helpful               1         India   2020-08-04   \n",
       "3  243 people found this helpful               7         India   2020-08-02   \n",
       "4  109 people found this helpful               2         India   2020-08-04   \n",
       "\n",
       "                                                 url          crawled_at  \\\n",
       "0  https://www.amazon.in/product-reviews/B08695ZS... 2020-10-18 11:23:47   \n",
       "1  https://www.amazon.in/product-reviews/B08695ZS... 2020-10-18 11:23:47   \n",
       "2  https://www.amazon.in/product-reviews/B08695ZS... 2020-10-18 11:23:47   \n",
       "3  https://www.amazon.in/product-reviews/B08695ZS... 2020-10-18 11:23:47   \n",
       "4  https://www.amazon.in/product-reviews/B08695ZS... 2020-10-18 11:23:47   \n",
       "\n",
       "                                    _id  verified_purchase         color  \\\n",
       "0  45ca015a-2e39-5650-a174-ba966dd1e51f  Verified Purchase   Marble Blue   \n",
       "1  6820f8ae-f3cd-5783-b826-5e5805376047  Verified Purchase            na   \n",
       "2  bea91c43-8d65-5ef5-ab04-595a5f5cc542  Verified Purchase            na   \n",
       "3  76f68b53-5c52-56b2-9727-a5ab8c4bb4ff  Verified Purchase            na   \n",
       "4  22228681-b884-56a1-b04e-87167f6f76e6  Verified Purchase            na   \n",
       "\n",
       "                 style_name size_name     category sub_category  \\\n",
       "0   8GB RAM + 128GB Storage        na  electronics      mobiles   \n",
       "1                        na        na  electronics      mobiles   \n",
       "2                        na        na  electronics      mobiles   \n",
       "3                        na        na  electronics      mobiles   \n",
       "4                        na        na  electronics      mobiles   \n",
       "\n",
       "                                              images  \n",
       "0  [https://images-na.ssl-images-amazon.com/image...  \n",
       "1                                                 []  \n",
       "2  [https://images-na.ssl-images-amazon.com/image...  \n",
       "3  [https://images-na.ssl-images-amazon.com/image...  \n",
       "4                                                 []  "
      ]
     },
     "execution_count": 5,
     "metadata": {},
     "output_type": "execute_result"
    }
   ],
   "source": [
    "reviews_dataset.head()"
   ]
  },
  {
   "cell_type": "code",
   "execution_count": 6,
   "id": "pediatric-contemporary",
   "metadata": {},
   "outputs": [
    {
     "name": "stdout",
     "output_type": "stream",
     "text": [
      "<class 'pandas.core.frame.DataFrame'>\n",
      "RangeIndex: 30612 entries, 0 to 30611\n",
      "Data columns (total 20 columns):\n",
      " #   Column             Non-Null Count  Dtype         \n",
      "---  ------             --------------  -----         \n",
      " 0   product            30612 non-null  object        \n",
      " 1   product_company    30612 non-null  object        \n",
      " 2   profile_name       30612 non-null  object        \n",
      " 3   review_title       30612 non-null  object        \n",
      " 4   review_rating      30612 non-null  object        \n",
      " 5   review_text        30612 non-null  object        \n",
      " 6   helpful_count      30612 non-null  object        \n",
      " 7   total_comments     30612 non-null  int64         \n",
      " 8   review_country     30612 non-null  object        \n",
      " 9   reviewed_at        30612 non-null  datetime64[ns]\n",
      " 10  url                30612 non-null  object        \n",
      " 11  crawled_at         30612 non-null  datetime64[ns]\n",
      " 12  _id                30612 non-null  object        \n",
      " 13  verified_purchase  30612 non-null  object        \n",
      " 14  color              30612 non-null  object        \n",
      " 15  style_name         30612 non-null  object        \n",
      " 16  size_name          30612 non-null  object        \n",
      " 17  category           30612 non-null  object        \n",
      " 18  sub_category       30612 non-null  object        \n",
      " 19  images             30612 non-null  object        \n",
      "dtypes: datetime64[ns](2), int64(1), object(17)\n",
      "memory usage: 4.7+ MB\n"
     ]
    }
   ],
   "source": [
    "reviews_dataset.info()"
   ]
  },
  {
   "cell_type": "markdown",
   "id": "undefined-magnet",
   "metadata": {},
   "source": [
    "### Tratar dados\n",
    "\n",
    "Para a finalidade desta análise, alguns destes atributos não serão necessários, como a imagem, as categorias (até porque se sabe que todos os produtos são celulares), a data do scrapping, a imagem.\n",
    "\n",
    "O país até seria interessante manter, mas este dataset trabalha com quase todos os usuários de um único país, a Índia, então faz mais sentido ignorar essa informação."
   ]
  },
  {
   "cell_type": "code",
   "execution_count": 7,
   "id": "awful-miracle",
   "metadata": {},
   "outputs": [
    {
     "data": {
      "text/plain": [
       "array([' India ', ' Saudi Arabia ', ' Mexico ', ' Italy '], dtype=object)"
      ]
     },
     "execution_count": 7,
     "metadata": {},
     "output_type": "execute_result"
    }
   ],
   "source": [
    "reviews_dataset['review_country'].unique()"
   ]
  },
  {
   "cell_type": "code",
   "execution_count": 8,
   "id": "secondary-smile",
   "metadata": {},
   "outputs": [
    {
     "data": {
      "text/plain": [
       "review_country\n",
       " India            30609\n",
       " Italy                1\n",
       " Mexico               1\n",
       " Saudi Arabia         1\n",
       "dtype: int64"
      ]
     },
     "execution_count": 8,
     "metadata": {},
     "output_type": "execute_result"
    }
   ],
   "source": [
    "reviews_dataset.value_counts(['review_country'])"
   ]
  },
  {
   "cell_type": "code",
   "execution_count": 9,
   "id": "secondary-humanitarian",
   "metadata": {},
   "outputs": [],
   "source": [
    "reviews_dataset.drop([\n",
    "    'helpful_count', 'total_comments', 'url', 'crawled_at', 'verified_purchase', 'color', 'category', 'sub_category', 'images',\n",
    "'review_country', 'reviewed_at', 'profile_name'], \n",
    "    axis=1, inplace=True)"
   ]
  },
  {
   "cell_type": "code",
   "execution_count": 10,
   "id": "relative-constraint",
   "metadata": {},
   "outputs": [
    {
     "name": "stdout",
     "output_type": "stream",
     "text": [
      "<class 'pandas.core.frame.DataFrame'>\n",
      "RangeIndex: 30612 entries, 0 to 30611\n",
      "Data columns (total 8 columns):\n",
      " #   Column           Non-Null Count  Dtype \n",
      "---  ------           --------------  ----- \n",
      " 0   product          30612 non-null  object\n",
      " 1   product_company  30612 non-null  object\n",
      " 2   review_title     30612 non-null  object\n",
      " 3   review_rating    30612 non-null  object\n",
      " 4   review_text      30612 non-null  object\n",
      " 5   _id              30612 non-null  object\n",
      " 6   style_name       30612 non-null  object\n",
      " 7   size_name        30612 non-null  object\n",
      "dtypes: object(8)\n",
      "memory usage: 1.9+ MB\n"
     ]
    }
   ],
   "source": [
    "# Foi eliminado metade das colunas\n",
    "\n",
    "reviews_dataset.info()"
   ]
  },
  {
   "cell_type": "markdown",
   "id": "raising-dollar",
   "metadata": {},
   "source": [
    "A principal informação que se deseja usar, é o `review_text` que é a avaliação de cada usuário, além do atributo `product` que é o produto alvo da análise e ainda o `product_company` que é a marca. Sendo assim, é necessário verificar se existem registros `na` nestas colunas e ceifá-los!"
   ]
  },
  {
   "cell_type": "code",
   "execution_count": 11,
   "id": "front-cross",
   "metadata": {},
   "outputs": [
    {
     "data": {
      "text/plain": [
       "0"
      ]
     },
     "execution_count": 11,
     "metadata": {},
     "output_type": "execute_result"
    }
   ],
   "source": [
    "len(reviews_dataset[\n",
    "    (reviews_dataset['review_text'] == 'na') | \n",
    "    (reviews_dataset['product'] == 'na') |\n",
    "    (reviews_dataset['product_company'] == 'na')\n",
    "])"
   ]
  },
  {
   "cell_type": "code",
   "execution_count": 12,
   "id": "harmful-analysis",
   "metadata": {},
   "outputs": [
    {
     "data": {
      "text/plain": [
       "array(['OnePlus Nord 5G (Gray Onyx, 8GB RAM, 128GB Storage)',\n",
       "       'Redmi Note 8 (Neptune Blue, 4GB RAM, 64GB Storage)',\n",
       "       'Redmi Note 9 Pro (Aurora Blue, 4GB RAM, 64GB Storage) - Latest 8nm Snapdragon 720G & Alexa Hands-Free | 6 Months No Cost EMI'],\n",
       "      dtype=object)"
      ]
     },
     "execution_count": 12,
     "metadata": {},
     "output_type": "execute_result"
    }
   ],
   "source": [
    "reviews_dataset['product'].unique()"
   ]
  },
  {
   "cell_type": "markdown",
   "id": "placed-table",
   "metadata": {},
   "source": [
    "Ao buscar o nome de cada produto, verificou-se que tais nomes são bem grandes e podem ser simplificados. Para melhorar a visualização será criado uma nova coluna com o nome e o modelo do celular, sem as especificações extras."
   ]
  },
  {
   "cell_type": "code",
   "execution_count": 13,
   "id": "instrumental-omaha",
   "metadata": {},
   "outputs": [],
   "source": [
    "reviews_dataset.loc[reviews_dataset['product'] == 'OnePlus Nord 5G (Gray Onyx, 8GB RAM, 128GB Storage)', 'product_simple_name'] = 'OnePlus Nord 5G'\n",
    "reviews_dataset.loc[reviews_dataset['product'] == 'Redmi Note 8 (Neptune Blue, 4GB RAM, 64GB Storage)', 'product_simple_name'] = 'Redmi Note 8'\n",
    "reviews_dataset.loc[reviews_dataset['product'] == 'Redmi Note 9 Pro (Aurora Blue, 4GB RAM, 64GB Storage) - Latest 8nm Snapdragon 720G & Alexa Hands-Free | 6 Months No Cost EMI', 'product_simple_name'] = 'Redmi Note 9 Pro'"
   ]
  },
  {
   "cell_type": "markdown",
   "id": "false-facial",
   "metadata": {},
   "source": [
    "Ao verificar a coluna `review_rating`, é possível verificar que as notas estão num formato de texto, e podem ser convertidas em número."
   ]
  },
  {
   "cell_type": "code",
   "execution_count": 14,
   "id": "daily-harassment",
   "metadata": {},
   "outputs": [
    {
     "data": {
      "text/plain": [
       "review_rating     \n",
       "5.0 out of 5 stars    13967\n",
       "4.0 out of 5 stars     8537\n",
       "3.0 out of 5 stars     4172\n",
       "1.0 out of 5 stars     2088\n",
       "2.0 out of 5 stars     1848\n",
       "dtype: int64"
      ]
     },
     "execution_count": 14,
     "metadata": {},
     "output_type": "execute_result"
    }
   ],
   "source": [
    "reviews_dataset.value_counts(['review_rating'])"
   ]
  },
  {
   "cell_type": "code",
   "execution_count": 15,
   "id": "green-sixth",
   "metadata": {},
   "outputs": [],
   "source": [
    "reviews_dataset.loc[reviews_dataset['review_rating'] == '5.0 out of 5 stars', 'review_rating'] = 5\n",
    "reviews_dataset.loc[reviews_dataset['review_rating'] == '4.0 out of 5 stars', 'review_rating'] = 4\n",
    "reviews_dataset.loc[reviews_dataset['review_rating'] == '3.0 out of 5 stars', 'review_rating'] = 3\n",
    "reviews_dataset.loc[reviews_dataset['review_rating'] == '2.0 out of 5 stars', 'review_rating'] = 2\n",
    "reviews_dataset.loc[reviews_dataset['review_rating'] == '1.0 out of 5 stars', 'review_rating'] = 1"
   ]
  },
  {
   "cell_type": "code",
   "execution_count": 16,
   "id": "direct-child",
   "metadata": {},
   "outputs": [
    {
     "data": {
      "text/html": [
       "<div>\n",
       "<style scoped>\n",
       "    .dataframe tbody tr th:only-of-type {\n",
       "        vertical-align: middle;\n",
       "    }\n",
       "\n",
       "    .dataframe tbody tr th {\n",
       "        vertical-align: top;\n",
       "    }\n",
       "\n",
       "    .dataframe thead th {\n",
       "        text-align: right;\n",
       "    }\n",
       "</style>\n",
       "<table border=\"1\" class=\"dataframe\">\n",
       "  <thead>\n",
       "    <tr style=\"text-align: right;\">\n",
       "      <th></th>\n",
       "      <th>product</th>\n",
       "      <th>product_company</th>\n",
       "      <th>review_title</th>\n",
       "      <th>review_rating</th>\n",
       "      <th>review_text</th>\n",
       "      <th>_id</th>\n",
       "      <th>style_name</th>\n",
       "      <th>size_name</th>\n",
       "      <th>product_simple_name</th>\n",
       "    </tr>\n",
       "  </thead>\n",
       "  <tbody>\n",
       "    <tr>\n",
       "      <th>0</th>\n",
       "      <td>OnePlus Nord 5G (Gray Onyx, 8GB RAM, 128GB Sto...</td>\n",
       "      <td>OnePlus</td>\n",
       "      <td>*Read before you buy!!*</td>\n",
       "      <td>5</td>\n",
       "      <td>\\n  Yea..pre-ordered on 28 July, got it on 4 A...</td>\n",
       "      <td>45ca015a-2e39-5650-a174-ba966dd1e51f</td>\n",
       "      <td>8GB RAM + 128GB Storage</td>\n",
       "      <td>na</td>\n",
       "      <td>OnePlus Nord 5G</td>\n",
       "    </tr>\n",
       "  </tbody>\n",
       "</table>\n",
       "</div>"
      ],
      "text/plain": [
       "                                             product product_company  \\\n",
       "0  OnePlus Nord 5G (Gray Onyx, 8GB RAM, 128GB Sto...         OnePlus   \n",
       "\n",
       "              review_title review_rating  \\\n",
       "0  *Read before you buy!!*             5   \n",
       "\n",
       "                                         review_text  \\\n",
       "0  \\n  Yea..pre-ordered on 28 July, got it on 4 A...   \n",
       "\n",
       "                                    _id                style_name size_name  \\\n",
       "0  45ca015a-2e39-5650-a174-ba966dd1e51f   8GB RAM + 128GB Storage        na   \n",
       "\n",
       "  product_simple_name  \n",
       "0     OnePlus Nord 5G  "
      ]
     },
     "execution_count": 16,
     "metadata": {},
     "output_type": "execute_result"
    }
   ],
   "source": [
    "# Ver uma linha para saber como ficou\n",
    "\n",
    "reviews_dataset[:1]"
   ]
  },
  {
   "cell_type": "markdown",
   "id": "common-copyright",
   "metadata": {},
   "source": [
    "### Explorar dados\n",
    "\n",
    "O dataset contém as reviews de usuários de três celulares, um da OnePlus e mais dois da Redmi (linha da Xiaomi)."
   ]
  },
  {
   "cell_type": "code",
   "execution_count": 17,
   "id": "remarkable-history",
   "metadata": {},
   "outputs": [
    {
     "data": {
      "text/plain": [
       "array(['OnePlus', 'Redmi'], dtype=object)"
      ]
     },
     "execution_count": 17,
     "metadata": {},
     "output_type": "execute_result"
    }
   ],
   "source": [
    "reviews_dataset['product_company'].unique()"
   ]
  },
  {
   "cell_type": "code",
   "execution_count": 18,
   "id": "fossil-product",
   "metadata": {},
   "outputs": [
    {
     "data": {
      "text/plain": [
       "product_simple_name\n",
       "Redmi Note 8           13934\n",
       "OnePlus Nord 5G         9469\n",
       "Redmi Note 9 Pro        7209\n",
       "dtype: int64"
      ]
     },
     "execution_count": 18,
     "metadata": {},
     "output_type": "execute_result"
    }
   ],
   "source": [
    "reviews_dataset.value_counts(['product_simple_name'])"
   ]
  },
  {
   "cell_type": "markdown",
   "id": "gorgeous-scott",
   "metadata": {},
   "source": [
    "São 3 modelos de celular com muitas avaliações cada."
   ]
  },
  {
   "cell_type": "code",
   "execution_count": 19,
   "id": "minus-hawaiian",
   "metadata": {},
   "outputs": [
    {
     "data": {
      "text/plain": [
       "review_rating\n",
       "5                13967\n",
       "4                 8537\n",
       "3                 4172\n",
       "1                 2088\n",
       "2                 1848\n",
       "dtype: int64"
      ]
     },
     "execution_count": 19,
     "metadata": {},
     "output_type": "execute_result"
    }
   ],
   "source": [
    "reviews_dataset.value_counts(['review_rating'])"
   ]
  },
  {
   "cell_type": "markdown",
   "id": "headed-department",
   "metadata": {},
   "source": [
    "A maioria das avaliações gerais são positivas."
   ]
  },
  {
   "cell_type": "code",
   "execution_count": 20,
   "id": "accessory-shadow",
   "metadata": {},
   "outputs": [
    {
     "data": {
      "text/plain": [
       "review_rating\n",
       "5                13967\n",
       "4                 8537\n",
       "3                 4172\n",
       "1                 2088\n",
       "2                 1848\n",
       "dtype: int64"
      ]
     },
     "execution_count": 20,
     "metadata": {},
     "output_type": "execute_result"
    }
   ],
   "source": [
    "reviews_dataset.value_counts(['review_rating'])"
   ]
  },
  {
   "cell_type": "markdown",
   "id": "revolutionary-growing",
   "metadata": {},
   "source": [
    "Contagem de ratings do modelo `OnePlus Nord 5G`"
   ]
  },
  {
   "cell_type": "code",
   "execution_count": 21,
   "id": "interesting-violin",
   "metadata": {},
   "outputs": [
    {
     "data": {
      "text/plain": [
       "review_rating\n",
       "5                4796\n",
       "4                2064\n",
       "1                1198\n",
       "3                 941\n",
       "2                 470\n",
       "dtype: int64"
      ]
     },
     "execution_count": 21,
     "metadata": {},
     "output_type": "execute_result"
    }
   ],
   "source": [
    "reviews_dataset.loc[reviews_dataset['product_simple_name'] == 'OnePlus Nord 5G'].value_counts(['review_rating'])"
   ]
  },
  {
   "cell_type": "markdown",
   "id": "boring-support",
   "metadata": {},
   "source": [
    "Contagem de ratings do modelo `Redmi Note 8`"
   ]
  },
  {
   "cell_type": "code",
   "execution_count": 22,
   "id": "outdoor-rochester",
   "metadata": {},
   "outputs": [
    {
     "data": {
      "text/plain": [
       "review_rating\n",
       "4                5010\n",
       "5                5010\n",
       "3                2719\n",
       "2                1155\n",
       "1                  40\n",
       "dtype: int64"
      ]
     },
     "execution_count": 22,
     "metadata": {},
     "output_type": "execute_result"
    }
   ],
   "source": [
    "reviews_dataset.loc[reviews_dataset['product_simple_name'] == 'Redmi Note 8'].value_counts(['review_rating'])"
   ]
  },
  {
   "cell_type": "markdown",
   "id": "hired-wellington",
   "metadata": {},
   "source": [
    "Contagem de ratings do modelo `Redmi Note 9 Pro`"
   ]
  },
  {
   "cell_type": "code",
   "execution_count": 23,
   "id": "ceramic-grant",
   "metadata": {},
   "outputs": [
    {
     "data": {
      "text/plain": [
       "review_rating\n",
       "5                4161\n",
       "4                1463\n",
       "1                 850\n",
       "3                 512\n",
       "2                 223\n",
       "dtype: int64"
      ]
     },
     "execution_count": 23,
     "metadata": {},
     "output_type": "execute_result"
    }
   ],
   "source": [
    "reviews_dataset.loc[reviews_dataset['product_simple_name'] == 'Redmi Note 9 Pro'].value_counts(['review_rating'])"
   ]
  },
  {
   "cell_type": "markdown",
   "id": "funny-brass",
   "metadata": {},
   "source": [
    "Plotar gráfico comparando as notas dos usuários para cada produto.\n",
    "\n",
    "*A visão do gráfico ficou bem legal, posso descartar algumas células acima depois.*"
   ]
  },
  {
   "cell_type": "code",
   "execution_count": 24,
   "id": "comic-perfume",
   "metadata": {},
   "outputs": [],
   "source": [
    "df_group_product_ratings = reviews_dataset.groupby(['product_simple_name', 'review_rating'])['product'].count().reset_index()"
   ]
  },
  {
   "cell_type": "code",
   "execution_count": 25,
   "id": "exposed-dominant",
   "metadata": {},
   "outputs": [
    {
     "data": {
      "image/png": "[encoded data removed]",
      "text/plain": [
       "<Figure size 576x360 with 1 Axes>"
      ]
     },
     "metadata": {
      "needs_background": "light"
     },
     "output_type": "display_data"
    }
   ],
   "source": [
    "#df_group_product_ratings.plot.bar(stacked=True);\n",
    "\n",
    "plt.figure(figsize=(8,5))\n",
    "sns.barplot(y='product',x='product_simple_name', hue='review_rating',\n",
    "            data=df_group_product_ratings, palette=\"coolwarm_r\")\n",
    "sns.despine(left=True)\n",
    "\n",
    "plt.title('Quantidade de avaliações por produto', fontsize=16)\n",
    "plt.xlabel('Produtos', fontsize=13)\n",
    "plt.ylabel('Número de avaliações', fontsize=13)\n",
    "plt.legend(loc='best')\n",
    "plt.show();"
   ]
  },
  {
   "cell_type": "markdown",
   "id": "suitable-coordinate",
   "metadata": {},
   "source": [
    "Os três aparelhos são bem avaliados no geral, mas olhando para cada um deles nota-se algumas diferenças:\n",
    "    \n",
    "- **OnePlus Nord 5G**: As notas 5 somadas superam todas as demais, as notas 4 vem logo em seguida, mas sua terceira maior avaliação é de mais de 1000 pessoas. Olhando assim, parece ser um produto que muita gente ou gostou muito, ou não gostou nenhum pouco;\n",
    "\n",
    "- **Redmi Note 8**: Disparado o melhor avaliado, com muitas notas 4 e 5. Aqui, talvez valha a pena entender porque tanta gente deu 4, mas não 5, talvez demostre que tem algo nele que poderia ser melhor na visão dos usuários. As avaliações 1, são baixíssimas!\n",
    "\n",
    "- **Redmi Note 9 Pro**: Segue um pouco a tendência do primeiro produto avaliado, com muitas notas altas, e proporcionalmente um bom número de pessoas que não gostaram nem um pouco. As notas médias também são baixas."
   ]
  },
  {
   "cell_type": "markdown",
   "id": "fifty-worry",
   "metadata": {},
   "source": [
    "### Pré-processamento da NLP\n",
    "\n",
    "\n",
    "- Tokenização\n",
    "- Capitalização\n",
    "- Remover stop words\n",
    "- Remover números\n",
    "- Remover pontuações\n",
    "- Remover acentos\n",
    "- Remover letras sozinhas\n",
    "- Lematização"
   ]
  },
  {
   "cell_type": "code",
   "execution_count": 28,
   "id": "patent-reproduction",
   "metadata": {},
   "outputs": [],
   "source": [
    "def obter_corpus(reviews):\n",
    "    \"\"\"\n",
    "    Recebe o array com as reviews e retorna o corpus\n",
    "    \"\"\"\n",
    "    corpus = ''\n",
    "    for rev in reviews:\n",
    "        corpus += rev\n",
    "    return corpus\n",
    "\n",
    "###\n",
    "\n",
    "def preprocessamento(corpus, stop_words = []):\n",
    "    tokens = re.findall(r\"\\w+(?:'\\w+)?|[^\\w\\s]\", corpus) # converte o corpus em tokens\n",
    "    \n",
    "    n_tokens = []\n",
    "    for txt in tokens:\n",
    "        texto = txt.lower() # Converte para minúsculo\n",
    "        if stop_words: # remove as stop words\n",
    "            if texto in stop_words:\n",
    "                continue\n",
    "        texto = re.sub(r'\\d', '', texto) # remove os números\n",
    "        if texto in string.punctuation: # remove as pontuações\n",
    "            continue\n",
    "        texto = unidecode(texto) # remover os acentos\n",
    "        if len(texto) > 1: # adicionar palavras maiores que 1 letra\n",
    "            n_tokens.append(texto)\n",
    "        \n",
    "    return n_tokens\n",
    "\n",
    "###\n",
    "\n",
    "def plot_frequencia_tokens(tokens):\n",
    "    fd_words = FreqDist(tokens)\n",
    "    fd_words.plot(20)"
   ]
  },
  {
   "cell_type": "code",
   "execution_count": 47,
   "id": "separate-kitty",
   "metadata": {},
   "outputs": [],
   "source": [
    "reviews_oneplus_nord = reviews_dataset[reviews_dataset['product_simple_name'] == 'OnePlus Nord 5G']['review_text']\n",
    "reviews_redmi8 = reviews_dataset[reviews_dataset['product_simple_name'] == 'Redmi Note 8']['review_text']\n",
    "reviews_redmi9 = reviews_dataset[reviews_dataset['product_simple_name'] == 'Redmi Note 9 Pro']['review_text']"
   ]
  },
  {
   "cell_type": "code",
   "execution_count": 48,
   "id": "demographic-heather",
   "metadata": {
    "scrolled": true
   },
   "outputs": [],
   "source": [
    "corpus_oneplus_nord = obter_corpus(reviews_oneplus_nord)\n",
    "tokens_oneplus_nord = preprocessamento(corpus_oneplus_nord, stopwords.words('english'))\n",
    "\n",
    "corpus_redmi8 = obter_corpus(reviews_redmi8)\n",
    "tokens_redmi8 = preprocessamento(corpus_redmi8, stopwords.words('english'))\n",
    "\n",
    "corpus_redmi9 = obter_corpus(reviews_redmi9)\n",
    "tokens_redmi9 = preprocessamento(corpus_redmi9, stopwords.words('english'))"
   ]
  },
  {
   "cell_type": "code",
   "execution_count": 51,
   "id": "documented-increase",
   "metadata": {},
   "outputs": [
    {
     "name": "stdout",
     "output_type": "stream",
     "text": [
      "Tamanho: One Plus Nord / 83356\n"
     ]
    },
    {
     "data": {
      "image/png": "[encoded data removed]",
      "text/plain": [
       "<Figure size 432x288 with 1 Axes>"
      ]
     },
     "metadata": {
      "needs_background": "light"
     },
     "output_type": "display_data"
    },
    {
     "name": "stdout",
     "output_type": "stream",
     "text": [
      "Tamanho: Redmi 8 / 96351\n"
     ]
    },
    {
     "data": {
      "image/png": "[encoded data removed]",
      "text/plain": [
       "<Figure size 432x288 with 1 Axes>"
      ]
     },
     "metadata": {
      "needs_background": "light"
     },
     "output_type": "display_data"
    },
    {
     "name": "stdout",
     "output_type": "stream",
     "text": [
      "Tamanho: Redmi 9 / 47256\n"
     ]
    },
    {
     "data": {
      "image/png": "[encoded data removed]",
      "text/plain": [
       "<Figure size 432x288 with 1 Axes>"
      ]
     },
     "metadata": {
      "needs_background": "light"
     },
     "output_type": "display_data"
    }
   ],
   "source": [
    "print(\"Tamanho: One Plus Nord /\", len(tokens_oneplus_nord))\n",
    "plot_frequencia_tokens(tokens_oneplus_nord)\n",
    "\n",
    "print(\"Tamanho: Redmi 8 /\", len(tokens_redmi8))\n",
    "plot_frequencia_tokens(tokens_redmi8)\n",
    "\n",
    "print(\"Tamanho: Redmi 9 /\", len(tokens_redmi9))\n",
    "plot_frequencia_tokens(tokens_redmi9)"
   ]
  },
  {
   "cell_type": "markdown",
   "id": "binary-soviet",
   "metadata": {},
   "source": [
    "#### Lemmatização"
   ]
  },
  {
   "cell_type": "code",
   "execution_count": 34,
   "id": "vietnamese-simpson",
   "metadata": {},
   "outputs": [],
   "source": [
    "def lematizar_tokens_spacy(tokens):\n",
    "    nlp = spacy.load(\"en_core_web_md\") \n",
    "    \n",
    "    str_tokens = ' '.join(tokens) \n",
    "    doc = nlp(str_tokens)\n",
    "    tokens_lemm = [token.lemma_ for token in doc]\n",
    "    return tokens_lemm\n",
    "\n",
    "###\n",
    "\n",
    "def lematizar_tokens_nltk(tokens):\n",
    "    \"\"\"\n",
    "    Essa função é mais rápida que a anterior e normaliza mais termos também\n",
    "    \"\"\"\n",
    "    lemmatizer = WordNetLemmatizer()\n",
    "    \n",
    "    lem_words = [lemmatizer.lemmatize(x) for x in (tokens)]\n",
    "    return lem_words"
   ]
  },
  {
   "cell_type": "code",
   "execution_count": 53,
   "id": "systematic-length",
   "metadata": {},
   "outputs": [
    {
     "name": "stdout",
     "output_type": "stream",
     "text": [
      "Wall time: 1min 1s\n"
     ]
    }
   ],
   "source": [
    "%%time\n",
    "\n",
    "tokens_oneplus_nord_nltk_lema = lematizar_tokens_nltk(tokens_oneplus_nord)\n",
    "tokens_oneplus_nord_spacy_lema = lematizar_tokens_spacy(tokens_oneplus_nord)"
   ]
  },
  {
   "cell_type": "code",
   "execution_count": 56,
   "id": "fewer-course",
   "metadata": {},
   "outputs": [
    {
     "name": "stdout",
     "output_type": "stream",
     "text": [
      "Tamanho 83356\n"
     ]
    },
    {
     "data": {
      "image/png": "[encoded data removed]",
      "text/plain": [
       "<Figure size 432x288 with 1 Axes>"
      ]
     },
     "metadata": {
      "needs_background": "light"
     },
     "output_type": "display_data"
    },
    {
     "name": "stdout",
     "output_type": "stream",
     "text": [
      "Tamanho 83940\n"
     ]
    },
    {
     "data": {
      "image/png": "[encoded data removed]",
      "text/plain": [
       "<Figure size 432x288 with 1 Axes>"
      ]
     },
     "metadata": {
      "needs_background": "light"
     },
     "output_type": "display_data"
    }
   ],
   "source": [
    "# plot tokens_lemm nltk e spacy\n",
    "\n",
    "print(\"Tamanho\", len(tokens_oneplus_nord_nltk_lema))\n",
    "plot_frequencia_tokens(tokens_oneplus_nord_nltk_lema)\n",
    "print(\"Tamanho\", len(tokens_oneplus_nord_spacy_lema))\n",
    "plot_frequencia_tokens(tokens_oneplus_nord_spacy_lema)"
   ]
  },
  {
   "cell_type": "code",
   "execution_count": 54,
   "id": "union-powder",
   "metadata": {},
   "outputs": [
    {
     "name": "stdout",
     "output_type": "stream",
     "text": [
      "Wall time: 1min 3s\n"
     ]
    }
   ],
   "source": [
    "%%time\n",
    "\n",
    "tokens_redmi8_nltk_lema = lematizar_tokens_nltk(tokens_redmi8)\n",
    "tokens_redmi8_spacy_lema = lematizar_tokens_spacy(tokens_redmi8)"
   ]
  },
  {
   "cell_type": "code",
   "execution_count": 57,
   "id": "functional-compatibility",
   "metadata": {},
   "outputs": [
    {
     "name": "stdout",
     "output_type": "stream",
     "text": [
      "Tamanho 96351\n"
     ]
    },
    {
     "data": {
      "image/png": "[encoded data removed]",
      "text/plain": [
       "<Figure size 432x288 with 1 Axes>"
      ]
     },
     "metadata": {
      "needs_background": "light"
     },
     "output_type": "display_data"
    },
    {
     "name": "stdout",
     "output_type": "stream",
     "text": [
      "Tamanho 96916\n"
     ]
    },
    {
     "data": {
      "image/png": "[encoded data removed]",
      "text/plain": [
       "<Figure size 432x288 with 1 Axes>"
      ]
     },
     "metadata": {
      "needs_background": "light"
     },
     "output_type": "display_data"
    }
   ],
   "source": [
    "print(\"Tamanho\", len(tokens_redmi8_nltk_lema))\n",
    "plot_frequencia_tokens(tokens_redmi8_nltk_lema)\n",
    "print(\"Tamanho\", len(tokens_redmi8_spacy_lema))\n",
    "plot_frequencia_tokens(tokens_redmi8_spacy_lema)"
   ]
  },
  {
   "cell_type": "code",
   "execution_count": 55,
   "id": "unnecessary-projection",
   "metadata": {},
   "outputs": [
    {
     "name": "stdout",
     "output_type": "stream",
     "text": [
      "Wall time: 20 s\n"
     ]
    }
   ],
   "source": [
    "%%time\n",
    "\n",
    "tokens_redmi9_nltk_lema = lematizar_tokens_nltk(tokens_redmi9)\n",
    "tokens_redmi9_spacy_lema = lematizar_tokens_spacy(tokens_redmi9)"
   ]
  },
  {
   "cell_type": "code",
   "execution_count": 58,
   "id": "social-manufacturer",
   "metadata": {},
   "outputs": [
    {
     "name": "stdout",
     "output_type": "stream",
     "text": [
      "Tamanho 47256\n"
     ]
    },
    {
     "data": {
      "image/png": "[encoded data removed]",
      "text/plain": [
       "<Figure size 432x288 with 1 Axes>"
      ]
     },
     "metadata": {
      "needs_background": "light"
     },
     "output_type": "display_data"
    },
    {
     "name": "stdout",
     "output_type": "stream",
     "text": [
      "Tamanho 47529\n"
     ]
    },
    {
     "data": {
      "image/png": "[encoded data removed]",
      "text/plain": [
       "<Figure size 432x288 with 1 Axes>"
      ]
     },
     "metadata": {
      "needs_background": "light"
     },
     "output_type": "display_data"
    }
   ],
   "source": [
    "print(\"Tamanho\", len(tokens_redmi9_nltk_lema))\n",
    "plot_frequencia_tokens(tokens_redmi9_nltk_lema)\n",
    "print(\"Tamanho\", len(tokens_redmi9_spacy_lema))\n",
    "plot_frequencia_tokens(tokens_redmi9_spacy_lema)"
   ]
  },
  {
   "cell_type": "markdown",
   "id": "thick-electronics",
   "metadata": {},
   "source": [
    "Tem várias palavras que aparecem com frequência nos 3 casos: good, phone, camera, product, battery, awesome, price, etc.\n",
    "\n",
    "Na comparação entre a lematização por nltk ou spacy, as palavras mais frequentes mudam de ordem e até algumas aparecem num gráfico e não no outro."
   ]
  },
  {
   "cell_type": "code",
   "execution_count": 60,
   "id": "urban-narrative",
   "metadata": {},
   "outputs": [
    {
     "data": {
      "text/plain": [
       "['hello', 'am', 'good', 'boy']"
      ]
     },
     "execution_count": 60,
     "metadata": {},
     "output_type": "execute_result"
    }
   ],
   "source": [
    "x = preprocessamento(\"Hello1 ! I am a good boy\") \n",
    "x"
   ]
  },
  {
   "cell_type": "code",
   "execution_count": 61,
   "id": "described-custody",
   "metadata": {},
   "outputs": [],
   "source": [
    "from sklearn.feature_extraction.text import TfidfVectorizer\n",
    "from sklearn.naive_bayes import MultinomialNB\n",
    "from sklearn.pipeline import Pipeline\n",
    "from sklearn.metrics import classification_report"
   ]
  },
  {
   "cell_type": "code",
   "execution_count": null,
   "id": "unnecessary-jimmy",
   "metadata": {},
   "outputs": [],
   "source": [
    "classificador = MultinomialNB()\n",
    "tfidf_vector = TfidfVectorizer(tokenizer = preprocess)\n",
    "\n",
    "# Create pipeline\n",
    "pipe = Pipeline([('tfidf',tfidf_vector), ('classifier', classificador)])\n",
    "\n",
    "# model generation\n",
    "pipe.fit(df['Phrase'],df['Sentiment'])"
   ]
  },
  {
   "cell_type": "code",
   "execution_count": null,
   "id": "framed-morgan",
   "metadata": {},
   "outputs": [],
   "source": []
  },
  {
   "cell_type": "code",
   "execution_count": null,
   "id": "twenty-joseph",
   "metadata": {},
   "outputs": [],
   "source": []
  },
  {
   "cell_type": "code",
   "execution_count": null,
   "id": "plain-international",
   "metadata": {},
   "outputs": [],
   "source": []
  },
  {
   "cell_type": "markdown",
   "id": "compliant-output",
   "metadata": {},
   "source": [
    "---\n",
    "\n",
    "### Referências\n",
    "\n",
    "https://towardsdatascience.com/nlp-building-text-cleanup-and-preprocessing-pipeline-eba4095245a0\n",
    "\n",
    "https://data.world/opensnippets/amazon-mobile-phones-reviews\n"
   ]
  }
 ],
 "metadata": {
  "kernelspec": {
   "display_name": "Python 3 (ipykernel)",
   "language": "python",
   "name": "python3"
  },
  "language_info": {
   "codemirror_mode": {
    "name": "ipython",
    "version": 3
   },
   "file_extension": ".py",
   "mimetype": "text/x-python",
   "name": "python",
   "nbconvert_exporter": "python",
   "pygments_lexer": "ipython3",
   "version": "3.9.1"
  }
 },
 "nbformat": 4,
 "nbformat_minor": 5
}
