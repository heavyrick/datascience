{
 "cells": [
  {
   "cell_type": "markdown",
   "id": "involved-aerospace",
   "metadata": {},
   "source": [
    "# Glossário de Estatística\n",
    "\n",
    "Neste notebook deixarei alguns termos e conceitos usados em estatística. \n",
    "\n",
    "- <a href='#s1'>Dados e estatística</a>\n",
    "- <a href='#s2'>População e amostra</a>\n",
    "- <a href='#s3'>Parâmetro e estatística</a>\n",
    "- <a href='#s4'>Tipos de dados</a>\n",
    "- <a href='#s5'>Níveis de mensuração</a>"
   ]
  },
  {
   "cell_type": "markdown",
   "id": "noticed-hometown",
   "metadata": {},
   "source": [
    "<a id='s1'></a>\n",
    "\n",
    "---\n",
    "\n",
    "### Dados e estatística\n",
    "\n",
    "**Dados** consistem em informações provenientes de observações, contagens, medições ou respostas.\n",
    "\n",
    "**Estatística** é a ciência que trata da coleta, organização, análise e interpretação dos dados para a tomada de decisões."
   ]
  },
  {
   "cell_type": "markdown",
   "id": "dependent-fellow",
   "metadata": {},
   "source": [
    "<a id='s2'></a>\n",
    "\n",
    "---\n",
    "\n",
    "### População e amostra\n",
    "\n",
    "**População** é a coleção de todos os resultados, respostas, medições ou contagens que são de interesse.\n",
    "\n",
    "**Amostra** é um subconjunto ou parte de uma população.\n",
    "\n",
    "Uma amostra deve ser representativa de uma população de modo que seus dados possam ser usados para tirar conclusões sobre aquela população. Os dados amostrais devem ser coletados usando-se um método apropriado, tal como a *amostragem aleatória*. Quando os dados amostrais são coletados usando-se um método inapropriado, eles não podem ser usados para tirar conclusões sobra a população."
   ]
  },
  {
   "cell_type": "markdown",
   "id": "diagnostic-profession",
   "metadata": {},
   "source": [
    "<a id='s3'></a>\n",
    "\n",
    "---\n",
    "\n",
    "### Parâmetro e estatística\n",
    "\n",
    "Um **parâmetro** é a descrição numérica de uma característica `populacional`.\n",
    "\n",
    "Uma **estatística** é a descrição numérica de uma característica `amostral`.\n",
    "\n",
    "É importante notar que uma estatística amostral pode diferir de uma amostra para outra, enquanto um parâmetro populacional é constante para uma população."
   ]
  },
  {
   "cell_type": "markdown",
   "id": "together-sensitivity",
   "metadata": {},
   "source": [
    "<a id='s4'></a>\n",
    "\n",
    "---\n",
    "\n",
    "### Tipos de dados\n",
    "\n",
    "**Dados qualitativos** consistem em atributos, rótulos ou entradas não numéricas.\n",
    "\n",
    "**Dados quantitativos** consistem em medidas numéricas ou contagens."
   ]
  },
  {
   "cell_type": "markdown",
   "id": "oriental-administrator",
   "metadata": {},
   "source": [
    "<a id='s5'></a>\n",
    "\n",
    "---\n",
    "\n",
    "### Níveis de mensuração\n",
    "\n",
    "Outra característica dos dados é o nível de mensuração. O nível de mensuração determina quais operações estatísticas são apropriadas. Os quatro níveis de medida, em ordem do mais baixo para o mais alto, são: **nominal, ordinal, intervalar e de razão**.\n",
    "\n",
    "Dados no **nível nominal de mensuração** são apenas qualitativos. Dados nesse nível são categorizados usando-se nomes, rótulos ou qualidades. Não é possível realizar cálculos matemáticos nesse nível.\n",
    "\n",
    "Dados no **nível ordinal de mensuração** são qualitativos ou quantitativos. Dados nesse nível podem ser postos em ordem ou classificados, mas as diferenças entre as entradas de dados não têm sentido matemático.\n",
    "\n",
    "Dados no **nível de mensuração intervalar** podem ser ordenados e é possível calcular diferenças que tenham sentido matemático entre as entradas de dados. No nível intervalar, um registro zero simplesmente \n",
    "representa uma posição em uma escala; a entrada não é um zero natural.\n",
    "\n",
    "Dados no **nível de mensuração de razão** são similares aos dados no nível intervalar, com a propriedade adicional de que, nesse nível, um registro zero é um zero natural. Uma razão de dois valores pode ser formada de modo que um dado possa ser expresso significativamente como um múltiplo de outro.\n",
    "\n",
    "**Intervalo x razão**\n",
    "\n",
    "Quando números estão no nível nominal de mensuração, eles simplesmente representam um rótulo. Exemplos de números usados como rótulos incluem o número da seguridade social e os números nos uniformes esportivos. Por exemplo, não faria sentido somar os números dos uniformes de dois jogadores, eles são meremente indicadores.\n",
    "\n",
    "Um zero natural é um zero que significa \"nenhum\". Por exemplo, a quantia de dinheiro que você tem em uma conta de poupança pode ser de zero real. Nesse caso, o zero representa nenhum dinheiro; é um zero natural. Por outro lado, a temperatura de 0 ºC não representa uma condição na qual não há calor. A temperatura de 0 ºC é simplesmente uma posição na escala Celsius; não é um zero natural.\n",
    "\n",
    "Para distinguir entre dados no nível intervalar e no nível de razão, determine se a expressão “duas vezes mais” tem algum sentido no contexto dos dados. Por exemplo, R\\\\$ 2 é duas vezes mais que R\\\\$ 1, então esses dados estão no nível de razão. Por outro lado, 2 ºC não é duas vezes mais quente que 1 ºC, então esses dados estão no nível intervalar."
   ]
  }
 ],
 "metadata": {
  "kernelspec": {
   "display_name": "Python 3",
   "language": "python",
   "name": "python3"
  },
  "language_info": {
   "codemirror_mode": {
    "name": "ipython",
    "version": 3
   },
   "file_extension": ".py",
   "mimetype": "text/x-python",
   "name": "python",
   "nbconvert_exporter": "python",
   "pygments_lexer": "ipython3",
   "version": "3.9.1"
  }
 },
 "nbformat": 4,
 "nbformat_minor": 5
}
