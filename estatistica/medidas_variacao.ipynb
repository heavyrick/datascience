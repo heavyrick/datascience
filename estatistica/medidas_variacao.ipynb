{
 "cells": [
  {
   "cell_type": "markdown",
   "id": "proved-sodium",
   "metadata": {},
   "source": [
    "# Medidas de variação\n",
    "\n",
    "As medidas de variação ou dispersão, servem para indicar o quanto os dados se apresentam dispersos em torno da região central. Elas caracterizam o grau de variação existente em um conjunto de valores.\n",
    "\n",
    "- <a href='#s1'>Amplitude</a>\n",
    "- <a href='#s2'>Variância e Desvio Padrão</a>\n",
    "- <a href='#s3'>Interpretando o desvio padrão</a>\n",
    "- <a href='#s4'>Coeficiente de variação</a>"
   ]
  },
  {
   "cell_type": "code",
   "execution_count": 5,
   "id": "fossil-mills",
   "metadata": {},
   "outputs": [],
   "source": [
    "import numpy as np\n",
    "import pandas as pd"
   ]
  },
  {
   "cell_type": "markdown",
   "id": "colored-confusion",
   "metadata": {},
   "source": [
    "Quase nunca uma única medida é suficiente para descrever de modo satisfatório um conjunto de dados.\n",
    "\n",
    "Vamos pensar em um caso de dois alunos, Mario e Luigi, onde cada um fez 6 provas ao longo do ano. Vamos analisar suas notas:\n",
    "\n",
    "- Mario: {6 6 6 6 6 6} \n",
    "- Luigi: {3 9 4 8 2 10}"
   ]
  },
  {
   "cell_type": "code",
   "execution_count": 10,
   "id": "popular-parts",
   "metadata": {},
   "outputs": [
    {
     "name": "stdout",
     "output_type": "stream",
     "text": [
      "Média notas do Mário: 6.0 \n",
      "\n",
      "Média notas de Luigi: 6.0\n"
     ]
    }
   ],
   "source": [
    "notas_mario = np.array([6, 6, 6, 6, 6, 6])\n",
    "print('Média notas do Mário:', np.mean(notas_mario), '\\n')\n",
    "\n",
    "notas_luigi = np.array([3, 9, 4, 8, 2, 10])\n",
    "print('Média notas de Luigi:', np.mean(notas_luigi))"
   ]
  },
  {
   "cell_type": "markdown",
   "id": "looking-sphere",
   "metadata": {},
   "source": [
    "Repare que ambos possuem a mesma média de notas, 6. Mas ao olhar para as notas do Mário, ele foi muito regular, tirando a mesma nota em todas as provas. Ao olhar para as notas do Luigi, vemos uma maior variação das notas. \n",
    "\n",
    "Em certas análises, entender essa variação é muito importante. \n",
    "\n",
    "Até mesmo nesse exemplo, o professor poderia se questionar porque um aluno sempre tira a mesma nota nas provas, e outro, tem um desempenho menos regular."
   ]
  },
  {
   "cell_type": "markdown",
   "id": "solid-preview",
   "metadata": {},
   "source": [
    "<a id='s1'></a>\n",
    "\n",
    "---\n",
    "\n",
    "### Amplitude\n",
    "\n",
    "A amplitude de um conjunto de dados é a diferença entre os valores máximo e mínimo. Para encontrar a amplitude, os dados devem ser quantitativos.\n",
    "\n",
    "`Amplitude = valor máximo - valor mínimo`"
   ]
  },
  {
   "cell_type": "code",
   "execution_count": 4,
   "id": "noted-dealer",
   "metadata": {
    "scrolled": true
   },
   "outputs": [
    {
     "data": {
      "text/html": [
       "<div>\n",
       "<style scoped>\n",
       "    .dataframe tbody tr th:only-of-type {\n",
       "        vertical-align: middle;\n",
       "    }\n",
       "\n",
       "    .dataframe tbody tr th {\n",
       "        vertical-align: top;\n",
       "    }\n",
       "\n",
       "    .dataframe thead th {\n",
       "        text-align: right;\n",
       "    }\n",
       "</style>\n",
       "<table border=\"1\" class=\"dataframe\">\n",
       "  <thead>\n",
       "    <tr style=\"text-align: right;\">\n",
       "      <th></th>\n",
       "      <th>altura</th>\n",
       "      <th>frequencia</th>\n",
       "      <th>frequencia_acumulada</th>\n",
       "    </tr>\n",
       "  </thead>\n",
       "  <tbody>\n",
       "    <tr>\n",
       "      <th>0</th>\n",
       "      <td>160</td>\n",
       "      <td>2</td>\n",
       "      <td>2</td>\n",
       "    </tr>\n",
       "    <tr>\n",
       "      <th>1</th>\n",
       "      <td>161</td>\n",
       "      <td>1</td>\n",
       "      <td>3</td>\n",
       "    </tr>\n",
       "    <tr>\n",
       "      <th>2</th>\n",
       "      <td>162</td>\n",
       "      <td>1</td>\n",
       "      <td>4</td>\n",
       "    </tr>\n",
       "    <tr>\n",
       "      <th>3</th>\n",
       "      <td>163</td>\n",
       "      <td>1</td>\n",
       "      <td>5</td>\n",
       "    </tr>\n",
       "    <tr>\n",
       "      <th>4</th>\n",
       "      <td>164</td>\n",
       "      <td>2</td>\n",
       "      <td>7</td>\n",
       "    </tr>\n",
       "    <tr>\n",
       "      <th>5</th>\n",
       "      <td>165</td>\n",
       "      <td>5</td>\n",
       "      <td>12</td>\n",
       "    </tr>\n",
       "    <tr>\n",
       "      <th>6</th>\n",
       "      <td>166</td>\n",
       "      <td>2</td>\n",
       "      <td>14</td>\n",
       "    </tr>\n",
       "    <tr>\n",
       "      <th>7</th>\n",
       "      <td>167</td>\n",
       "      <td>4</td>\n",
       "      <td>18</td>\n",
       "    </tr>\n",
       "    <tr>\n",
       "      <th>8</th>\n",
       "      <td>168</td>\n",
       "      <td>4</td>\n",
       "      <td>22</td>\n",
       "    </tr>\n",
       "    <tr>\n",
       "      <th>9</th>\n",
       "      <td>169</td>\n",
       "      <td>1</td>\n",
       "      <td>23</td>\n",
       "    </tr>\n",
       "    <tr>\n",
       "      <th>10</th>\n",
       "      <td>170</td>\n",
       "      <td>7</td>\n",
       "      <td>30</td>\n",
       "    </tr>\n",
       "    <tr>\n",
       "      <th>11</th>\n",
       "      <td>171</td>\n",
       "      <td>1</td>\n",
       "      <td>31</td>\n",
       "    </tr>\n",
       "    <tr>\n",
       "      <th>12</th>\n",
       "      <td>172</td>\n",
       "      <td>2</td>\n",
       "      <td>33</td>\n",
       "    </tr>\n",
       "    <tr>\n",
       "      <th>13</th>\n",
       "      <td>173</td>\n",
       "      <td>1</td>\n",
       "      <td>34</td>\n",
       "    </tr>\n",
       "    <tr>\n",
       "      <th>14</th>\n",
       "      <td>174</td>\n",
       "      <td>4</td>\n",
       "      <td>38</td>\n",
       "    </tr>\n",
       "    <tr>\n",
       "      <th>15</th>\n",
       "      <td>175</td>\n",
       "      <td>2</td>\n",
       "      <td>40</td>\n",
       "    </tr>\n",
       "    <tr>\n",
       "      <th>16</th>\n",
       "      <td>176</td>\n",
       "      <td>2</td>\n",
       "      <td>42</td>\n",
       "    </tr>\n",
       "    <tr>\n",
       "      <th>17</th>\n",
       "      <td>177</td>\n",
       "      <td>3</td>\n",
       "      <td>45</td>\n",
       "    </tr>\n",
       "    <tr>\n",
       "      <th>18</th>\n",
       "      <td>178</td>\n",
       "      <td>3</td>\n",
       "      <td>48</td>\n",
       "    </tr>\n",
       "    <tr>\n",
       "      <th>19</th>\n",
       "      <td>179</td>\n",
       "      <td>1</td>\n",
       "      <td>49</td>\n",
       "    </tr>\n",
       "    <tr>\n",
       "      <th>20</th>\n",
       "      <td>180</td>\n",
       "      <td>1</td>\n",
       "      <td>50</td>\n",
       "    </tr>\n",
       "  </tbody>\n",
       "</table>\n",
       "</div>"
      ],
      "text/plain": [
       "    altura  frequencia  frequencia_acumulada\n",
       "0      160           2                     2\n",
       "1      161           1                     3\n",
       "2      162           1                     4\n",
       "3      163           1                     5\n",
       "4      164           2                     7\n",
       "5      165           5                    12\n",
       "6      166           2                    14\n",
       "7      167           4                    18\n",
       "8      168           4                    22\n",
       "9      169           1                    23\n",
       "10     170           7                    30\n",
       "11     171           1                    31\n",
       "12     172           2                    33\n",
       "13     173           1                    34\n",
       "14     174           4                    38\n",
       "15     175           2                    40\n",
       "16     176           2                    42\n",
       "17     177           3                    45\n",
       "18     178           3                    48\n",
       "19     179           1                    49\n",
       "20     180           1                    50"
      ]
     },
     "execution_count": 4,
     "metadata": {},
     "output_type": "execute_result"
    }
   ],
   "source": [
    "alturas = pd.read_csv('dados/alturas_frequencias.csv', delimiter=';')\n",
    "alturas"
   ]
  },
  {
   "cell_type": "code",
   "execution_count": 11,
   "id": "scenic-armenia",
   "metadata": {},
   "outputs": [
    {
     "name": "stdout",
     "output_type": "stream",
     "text": [
      "Amplitude das alturas é de: 180 - 160 = 20\n"
     ]
    }
   ],
   "source": [
    "amp = alturas['altura'].max() - alturas['altura'].min()\n",
    "\n",
    "print(\"Amplitude das alturas é de: {} - {} = {}\".format(\n",
    "    alturas['altura'].max(), alturas['altura'].min(), amp)\n",
    ")"
   ]
  },
  {
   "cell_type": "markdown",
   "id": "natural-passion",
   "metadata": {},
   "source": [
    "Outro jeito de ver o maior e menor valor e fazer cálculo de cabeça simples:"
   ]
  },
  {
   "cell_type": "code",
   "execution_count": 12,
   "id": "signed-terry",
   "metadata": {},
   "outputs": [
    {
     "data": {
      "text/plain": [
       "count     21.000000\n",
       "mean     170.000000\n",
       "std        6.204837\n",
       "min      160.000000\n",
       "25%      165.000000\n",
       "50%      170.000000\n",
       "75%      175.000000\n",
       "max      180.000000\n",
       "Name: altura, dtype: float64"
      ]
     },
     "execution_count": 12,
     "metadata": {},
     "output_type": "execute_result"
    }
   ],
   "source": [
    "alturas.describe()['altura'] # aqui podemos ver o maior e menor valor"
   ]
  },
  {
   "cell_type": "markdown",
   "id": "permanent-sellers",
   "metadata": {},
   "source": [
    "Voltando no exemplo dos alunos Mário e Luigi"
   ]
  },
  {
   "cell_type": "code",
   "execution_count": 15,
   "id": "weekly-concept",
   "metadata": {},
   "outputs": [
    {
     "name": "stdout",
     "output_type": "stream",
     "text": [
      "Amplitude das notas do Mário: 0\n"
     ]
    }
   ],
   "source": [
    "amplitude_notas_mario = notas_mario.max() - notas_mario.min()\n",
    "\n",
    "print('Amplitude das notas do Mário: {}'.format(amplitude_notas_mario))"
   ]
  },
  {
   "cell_type": "code",
   "execution_count": 16,
   "id": "acquired-regression",
   "metadata": {},
   "outputs": [
    {
     "name": "stdout",
     "output_type": "stream",
     "text": [
      "Amplitude das notas do Luigi: 8\n"
     ]
    }
   ],
   "source": [
    "amplitude_notas_luigi = notas_luigi.max() - notas_luigi.min()\n",
    "\n",
    "print('Amplitude das notas do Luigi: {}'.format(amplitude_notas_luigi))"
   ]
  },
  {
   "cell_type": "markdown",
   "id": "becoming-visiting",
   "metadata": {},
   "source": [
    "<a id='s2'></a>\n",
    "\n",
    "---\n",
    "\n",
    "### Variância e Desvio Padrão\n",
    "\n",
    "Como uma medida de variação, a amplitude tem a vantagem de ser fácil de calcular. Sua desvantagem, entretanto, é que ela usa somente dois valores do conjunto de dados. Duas medidas de variação que usam todos os valores do conjunto de dados são a *variância* e o *desvio padrão*. Porém, antes de aprendermos essas medidas, precisamos entender o que chamamos **desvio** de um valor no conjunto de dados."
   ]
  },
  {
   "cell_type": "markdown",
   "id": "suitable-basketball",
   "metadata": {},
   "source": [
    "#### Desvio\n",
    "\n",
    "O desvio de um valor x é a diferença entre o valor e a média do conjunto de dados.\n",
    "\n",
    "- Primeiro calculamos a média dos valores\n",
    "- em seguida vamos subtrair cada valor pela média \n",
    "- A soma do resultados destes valores será sempre zero.\n",
    "\n",
    "Vamos pegar as notas do Luigi, onde já sabemos que a média é `6`.\n",
    "\n",
    "Notas Luigi, x|x - media\n",
    "-|-|\n",
    "2|2 - 6 = -4\n",
    "3|3 - 6 = -3\n",
    "4|4 - 6 = -2\n",
    "8|8 - 6 = 2\n",
    "9|9 - 6 = 3\n",
    "10|10 - 6 = 4\n",
    "-|-|\n",
    "|0|\n"
   ]
  },
  {
   "cell_type": "markdown",
   "id": "transparent-implement",
   "metadata": {},
   "source": [
    "#### Variância\n",
    "\n",
    "Como a soma dos desvios é zero, não faz muito sentido usar esse valor para alguma coisa. Para resolver essa treta, o jeito é elevar cada valor obtido ao quadrado, e somá-los no final. Essa soma dos quadrados, é a variância populacional.\n",
    "\n",
    "Notas Luigi, x|x - media| (x - media)² \n",
    "-|-|-|\n",
    "2|2 - 6 = -4| 16\n",
    "3|3 - 6 = -3| 9\n",
    "4|4 - 6 = -2| 4\n",
    "8|8 - 6 = 2| 4\n",
    "9|9 - 6 = 3| 9\n",
    "10|10 - 6 = 4| 16\n",
    "-|-|-|\n",
    "|0| 58 |\n",
    "\n",
    "O resultado da variância, será a soma dos quadrados pela média:\n",
    "\n",
    "`58 / 6 = 9,6` "
   ]
  },
  {
   "cell_type": "code",
   "execution_count": 27,
   "id": "delayed-median",
   "metadata": {},
   "outputs": [
    {
     "data": {
      "text/plain": [
       "9.666666666666666"
      ]
     },
     "execution_count": 27,
     "metadata": {},
     "output_type": "execute_result"
    }
   ],
   "source": [
    "np.var(notas_luigi, ddof=0)"
   ]
  },
  {
   "cell_type": "markdown",
   "id": "alpine-publisher",
   "metadata": {},
   "source": [
    "Como uma medida de variação, uma desvantagem da variância é que sua unidade de medida é diferente da unidade de medida do conjunto de dados. Aqui as notas acabam ficando ao quadrado. E, claro, também há um jeito de resolver isso, pegando a variância e fazer sua raíz quadrada, e ao fazer isso, estamos obtendo o resultado do **desvio padrão**."
   ]
  },
  {
   "cell_type": "markdown",
   "id": "private-marshall",
   "metadata": {},
   "source": [
    "#### Desvio padrão\n",
    "\n",
    "- O desvio padrão mede a variação dos dados com relação à média e tem a mesma unidade de medida que o conjunto de dados.\n",
    "- O desvio padrão é sempre maior ou igual a 0. Quando variância = 0, o conjunto de dados não apresenta variação (todos os elementos têm o mesmo valor)\n",
    "- À medida que os valores se afastam da média (isto é, estão mais dispersos), o valor da variâcia aumenta."
   ]
  },
  {
   "cell_type": "markdown",
   "id": "equipped-northwest",
   "metadata": {},
   "source": [
    "Recuperando a variância das provas do Luigi, temos:\n",
    "\n",
    "`raíz quadrada da variância: 9,6 = 3,1`"
   ]
  },
  {
   "cell_type": "code",
   "execution_count": 28,
   "id": "mighty-acoustic",
   "metadata": {},
   "outputs": [
    {
     "data": {
      "text/plain": [
       "3.1091263510296048"
      ]
     },
     "execution_count": 28,
     "metadata": {},
     "output_type": "execute_result"
    }
   ],
   "source": [
    "np.std(notas_luigi)"
   ]
  },
  {
   "cell_type": "markdown",
   "id": "numerous-garbage",
   "metadata": {},
   "source": [
    "E agora vamos comparar com o desvio padrão das notas do Mário"
   ]
  },
  {
   "cell_type": "code",
   "execution_count": 29,
   "id": "presidential-atlantic",
   "metadata": {},
   "outputs": [
    {
     "data": {
      "text/plain": [
       "0.0"
      ]
     },
     "execution_count": 29,
     "metadata": {},
     "output_type": "execute_result"
    }
   ],
   "source": [
    "np.std(notas_mario)"
   ]
  },
  {
   "cell_type": "markdown",
   "id": "sealed-messaging",
   "metadata": {},
   "source": [
    "Deu zero!\n",
    "\n",
    "Como a média das notas foi 6, e todas as notas foram 6, não há distância entre as notas e a média, por isso zero. Já no caso do Luigi, o desvio padrão nos mostra a tal irregularidade que notamos lá no início. Sendo assim, por mais que ambos os estudantes tenham tido a mesma média, seus desempenhos, ou se preferir, a forma como chegaram a tais médias, foram diferentes."
   ]
  },
  {
   "cell_type": "markdown",
   "id": "searching-message",
   "metadata": {},
   "source": [
    "<a id='s3'></a>\n",
    "\n",
    "---\n",
    "\n",
    "### Interpretando o desvio padrão\n",
    "\n",
    "Ao interpretar o desvio padrão de um conjunto de dados, lembre-se de que ele é uma medida que indica o quanto, em média, os valores se desviam da média desse conjunto. Quanto mais espalhados estiverem os valores, maior será o desvio padrão.\n",
    "\n",
    "Muitos conjuntos de dados da vida real têm distribuições que são aproximadamente simétricas e em forma de sino.\n",
    "\n",
    "Valores de dados que se encontram a mais ou menos dois desvios padrão da média são considerados incomuns, enquanto aqueles que se encontram a mais de três desvios padrão da média são muito incomuns. Valores incomuns e muito incomuns (os outliers) têm uma influência maior no desvio padrão do que aqueles que estão mais próximos da média."
   ]
  },
  {
   "cell_type": "markdown",
   "id": "varied-investor",
   "metadata": {},
   "source": [
    "Valor, x|Desvio, (x - media)| Quadrados, (x - media)² \n",
    "-|-|-|\n",
    "1|1 - 4 = -3| 9\n",
    "3|3 - 4 = -1| 1\n",
    "5|5 - 4 = 1| 1\n",
    "7|7 - 4 = 3| 9\n",
    "-|-|-|\n",
    "|0| 20 |"
   ]
  },
  {
   "cell_type": "markdown",
   "id": "crazy-delicious",
   "metadata": {},
   "source": [
    "A Regra Empírica pode ajudá-lo a ver quão valioso é o desvio padrão como uma medida de variação."
   ]
  },
  {
   "cell_type": "markdown",
   "id": "wicked-portal",
   "metadata": {},
   "source": [
    "<div style=\"text-align:center\"><img src=\"dados/dist_simetrica.jpeg\" width=\"550\" /></div>"
   ]
  },
  {
   "cell_type": "markdown",
   "id": "mature-cradle",
   "metadata": {},
   "source": [
    "#### Regra Empírica (ou Regra 68-95-99,7)\n",
    "\n",
    "Para conjuntos de dados com distribuições que são aproximadamente simétricas e com forma de sino, o desvio padrão tem estas características:\n",
    "\n",
    "1. Cerca de 68% dos dados encontram-se dentro do intervalo de ± 1 desvio padrão em relação à média.\n",
    "2. Cerca de 95% dos dados encontram-se dentro do intervalo de ± 2 desvios padrão em relação à média.\n",
    "3. Cerca de 99,7% dos dados encontram-se dentro do intervalo de ± 3 desvios padrão em relação à média"
   ]
  },
  {
   "cell_type": "markdown",
   "id": "powerful-murder",
   "metadata": {},
   "source": [
    "<a id='s4'></a>\n",
    "\n",
    "---\n",
    "\n",
    "### Coeficiente de variação\n",
    "\n",
    "Para comparar a variação em conjuntos de dados diferentes, podemos usar o desvio padrão quando os elementos dos conjuntos têm a mesma unidade de medida e suas médias são aproximadamente iguais. Para conjuntos de dados com unidades de medida diferentes ou médias diferentes, usa-se o coeficiente de variação.\n",
    "\n",
    "O coeficiente de variação definido por: `CV = (variancia / x) * 100`, mede a dispersão em termos relativos, ou seja, descreve o desvio padrão como uma percentagem da média.\n",
    "\n",
    "Por vezes é conveniente exprimir a variabilidade em termos relativos, isto porque, por exemplo, um desvio padrão de 10 pode ser insignificante se a média é 10.000 mas altamente significativo para um conjunto de dados onde a média é 100.\n",
    "\n",
    "O coeficiente de variação é adimensional (não tem unidade de medida), tornando-se útil quando queremos comparar a variabilidade de observações com diferentes unidades de medidas.\n",
    "\n",
    "O exemplo abaixo, mostra as alturas (em polegadas) e pesos (em libras) populacionais dos jogadores de um time de basquete."
   ]
  },
  {
   "cell_type": "code",
   "execution_count": 34,
   "id": "celtic-blues",
   "metadata": {},
   "outputs": [],
   "source": [
    "ex_alturas = np.array([72, 74, 68, 76, 74, 69, 72, 79, 70,69 ,77, 73])\n",
    "\n",
    "ex_pesos = np.array([180, 168, 225, 201, 189, 192, 197, 162, 174, 171, 185, 210])"
   ]
  },
  {
   "cell_type": "code",
   "execution_count": 38,
   "id": "israeli-philadelphia",
   "metadata": {},
   "outputs": [
    {
     "name": "stdout",
     "output_type": "stream",
     "text": [
      "O coeficiente de variação das alturas é de 4.53 %\n"
     ]
    }
   ],
   "source": [
    "cv_altura = np.std(ex_alturas) / np.mean(ex_alturas) * 100\n",
    "\n",
    "print('O coeficiente de variação das alturas é de %.2f %%' % cv_altura)"
   ]
  },
  {
   "cell_type": "code",
   "execution_count": 39,
   "id": "digital-father",
   "metadata": {},
   "outputs": [
    {
     "name": "stdout",
     "output_type": "stream",
     "text": [
      "O coeficiente de variação dos pesos é de 9.42 %\n"
     ]
    }
   ],
   "source": [
    "cv_peso = np.std(ex_pesos) / np.mean(ex_pesos) * 100\n",
    "\n",
    "print('O coeficiente de variação dos pesos é de %.2f %%' % cv_peso)"
   ]
  },
  {
   "cell_type": "markdown",
   "id": "lyric-breakdown",
   "metadata": {},
   "source": [
    "**Resposta**: Os pesos (9,4%) são mais variáveis que as alturas (4,5%)."
   ]
  },
  {
   "cell_type": "markdown",
   "id": "sudden-opposition",
   "metadata": {},
   "source": [
    "---\n",
    "\n",
    "### Referências\n",
    "\n",
    "https://stackoverflow.com/questions/41204400/what-is-the-difference-between-numpy-var-and-statistics-variance-in-python"
   ]
  }
 ],
 "metadata": {
  "kernelspec": {
   "display_name": "Python 3",
   "language": "python",
   "name": "python3"
  },
  "language_info": {
   "codemirror_mode": {
    "name": "ipython",
    "version": 3
   },
   "file_extension": ".py",
   "mimetype": "text/x-python",
   "name": "python",
   "nbconvert_exporter": "python",
   "pygments_lexer": "ipython3",
   "version": "3.9.1"
  }
 },
 "nbformat": 4,
 "nbformat_minor": 5
}
