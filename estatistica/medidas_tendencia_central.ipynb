{
 "cells": [
  {
   "cell_type": "markdown",
   "id": "dental-rover",
   "metadata": {},
   "source": [
    "# Medidas de tendência central\n",
    "\n",
    "Uma medida de tendência central é um valor que representa uma observação típica ou central de um conjunto de dados. As três medidas da tendência central mais comumente usadas são a **média, a mediana e a moda**.\n",
    "\n",
    "- <a href='#s1'>Média</a>\n",
    "- <a href='#s2'>Mediana</a>\n",
    "- <a href='#s3'>Moda</a>\n",
    "- <a href='#s4'>Outliers</a>\n",
    "- <a href='#s5'>Média ponderada</a>\n",
    "- <a href='#s6'>Média de distribuição de frequência</a>"
   ]
  },
  {
   "cell_type": "code",
   "execution_count": 2,
   "id": "vulnerable-manner",
   "metadata": {},
   "outputs": [],
   "source": [
    "import numpy as np"
   ]
  },
  {
   "cell_type": "markdown",
   "id": "comparable-example",
   "metadata": {},
   "source": [
    "<a id='s1'></a>\n",
    "\n",
    "---\n",
    "\n",
    "### Média\n",
    "\n",
    "A média de um conjunto de dados é a soma dos valores dos dados dividida pelo número de observações. \n",
    "\n",
    "Ex: Dado o conjunto de valores 2, 4, 6, 8, 10, 12, vamos encontrar a média.\n",
    "\n",
    "- O primeiro passo é somar todos os valores: 2 + 4 + 6 + 8 + 10 + 12 = 42\n",
    "- Depois basta dividir o total encontrado, pela quantidade de observações, nesse caso, 6.\n",
    "- 42 / 6 = 7, logo, a média desse conjunto de dados é 7"
   ]
  },
  {
   "cell_type": "code",
   "execution_count": 4,
   "id": "fewer-contemporary",
   "metadata": {},
   "outputs": [
    {
     "name": "stdout",
     "output_type": "stream",
     "text": [
      "[2, 4, 6, 8, 10, 12]\n"
     ]
    }
   ],
   "source": [
    "lista = [2, 4, 6, 8, 10, 12]\n",
    "print(lista)"
   ]
  },
  {
   "cell_type": "markdown",
   "id": "careful-rebecca",
   "metadata": {},
   "source": [
    "Uma maneira de calcular a média, é simplesmente aplicar as funções `sum` e `len` nas listas, e dividir:"
   ]
  },
  {
   "cell_type": "code",
   "execution_count": 7,
   "id": "apparent-inside",
   "metadata": {},
   "outputs": [
    {
     "data": {
      "text/plain": [
       "7.0"
      ]
     },
     "execution_count": 7,
     "metadata": {},
     "output_type": "execute_result"
    }
   ],
   "source": [
    "sum(lista) / len(lista)"
   ]
  },
  {
   "cell_type": "markdown",
   "id": "dimensional-delhi",
   "metadata": {},
   "source": [
    "Outra forma mais rápida ainda, é usando o método `mean` do numpy."
   ]
  },
  {
   "cell_type": "code",
   "execution_count": 8,
   "id": "assured-marks",
   "metadata": {},
   "outputs": [
    {
     "data": {
      "text/plain": [
       "7.0"
      ]
     },
     "execution_count": 8,
     "metadata": {},
     "output_type": "execute_result"
    }
   ],
   "source": [
    "np.mean(lista)"
   ]
  },
  {
   "cell_type": "code",
   "execution_count": 12,
   "id": "given-midnight",
   "metadata": {},
   "outputs": [
    {
     "data": {
      "text/plain": [
       "7.0"
      ]
     },
     "execution_count": 12,
     "metadata": {},
     "output_type": "execute_result"
    }
   ],
   "source": [
    "np.array([2, 4, 6, 8, 10, 12]).mean()"
   ]
  },
  {
   "cell_type": "markdown",
   "id": "molecular-fellowship",
   "metadata": {},
   "source": [
    "<a id='s2'></a>\n",
    "\n",
    "---\n",
    "\n",
    "### Mediana\n",
    "\n",
    "\n",
    "A mediana de um conjunto de dados é um valor que está no meio dos dados quando o conjunto está ordenado. A mediana indica o centro de um conjunto de dados ordenado, dividindo-o em duas partes com quantidades iguais de valores. \n",
    "\n",
    "Quando o conjunto de dados tem um número ímpar de observações, a mediana é o elemento do meio. Se o conjunto de dados tem um número par de observações, a mediana é a média dos dois elementos que ocupam as posições central.\n",
    "\n",
    "Dados os valores `5,8,4,6,7,3,4`\n",
    "\n",
    "Precisamos ordená-los num rol: `3,4,4,5,6,7,8`\n",
    "\n",
    "Se a quantidade de valores for **ímpar**, pegamos o valor do meio, se for **par**, somamos os dois valores centrais e dividimos por 2.\n",
    "\n",
    "No exemplo temos 7 valores, ou seja, `Md=5` "
   ]
  },
  {
   "cell_type": "code",
   "execution_count": 14,
   "id": "particular-edinburgh",
   "metadata": {},
   "outputs": [
    {
     "name": "stdout",
     "output_type": "stream",
     "text": [
      "5.0\n"
     ]
    }
   ],
   "source": [
    "lista_2 = np.array([5,8,4,6,7,3,4])\n",
    "print(np.median(lista_2))"
   ]
  },
  {
   "cell_type": "markdown",
   "id": "australian-constitution",
   "metadata": {},
   "source": [
    "Agora vamos num rol com quantidade par: `0,4,5,6,7,7,8,10`\n",
    "\n",
    "* `Md = 7 + 6 / 2 = 6,5` "
   ]
  },
  {
   "cell_type": "code",
   "execution_count": 15,
   "id": "south-denial",
   "metadata": {},
   "outputs": [
    {
     "name": "stdout",
     "output_type": "stream",
     "text": [
      "6.5\n"
     ]
    }
   ],
   "source": [
    "lista_3 = np.array([0,4,5,6,7,7,8,10])\n",
    "print(np.median(lista_3))"
   ]
  },
  {
   "cell_type": "markdown",
   "id": "scheduled-request",
   "metadata": {},
   "source": [
    "<a id='s3'></a>\n",
    "\n",
    "---\n",
    "\n",
    "### Moda\n",
    "\n",
    "A moda de um conjunto de dados é o valor que ocorre com a maior frequência. Um conjunto de dados pode ter uma moda, mais de uma moda, ou não ter moda. Quando nenhum valor se repete, o conjunto de dados não tem moda.  \n",
    "\n",
    "Quando dois valores ocorrem com a mesma maior frequência, cada um é uma moda e o conjunto é chamado de bimodal.\n",
    "\n",
    "Na mesma lista do exemplo anterior, `0,4,5,6,7,7,8,10`, vemos que o valor que mais se repete é o 7 (2 vezes),  e essa é nossa moda."
   ]
  },
  {
   "cell_type": "markdown",
   "id": "logical-chess",
   "metadata": {},
   "source": [
    "Por alguma razão, o numpy não calcula a moda, mas, o scipy faz o trabalho."
   ]
  },
  {
   "cell_type": "code",
   "execution_count": 17,
   "id": "broad-triangle",
   "metadata": {},
   "outputs": [],
   "source": [
    "from scipy import stats"
   ]
  },
  {
   "cell_type": "code",
   "execution_count": 22,
   "id": "sudden-luxembourg",
   "metadata": {},
   "outputs": [
    {
     "data": {
      "text/plain": [
       "ModeResult(mode=array([7]), count=array([2]))"
      ]
     },
     "execution_count": 22,
     "metadata": {},
     "output_type": "execute_result"
    }
   ],
   "source": [
    "stats.mode(lista_3)"
   ]
  },
  {
   "cell_type": "markdown",
   "id": "incredible-amber",
   "metadata": {},
   "source": [
    "O primeiro valor é o número com mais ocorrências, e o segundo valor, a quantidade de vezes em que ele aparece."
   ]
  },
  {
   "cell_type": "markdown",
   "id": "existing-module",
   "metadata": {},
   "source": [
    "<a id='s4'></a>\n",
    "\n",
    "---\n",
    "\n",
    "### Outliers\n",
    "\n",
    "Embora a média, a mediana e a moda descrevam, cada uma, um valor típico de um conjunto de dados, há vantagens e desvantagens em seus usos. \n",
    "\n",
    "A média é uma medida mais usual e confiável, pois leva em conta cada elemento de um conjunto de dados. Contudo, a média pode ser muito afetada quando o conjunto de dados contém valores discrepantes (outliers).\n",
    "\n",
    "Um **outlier** é um valor que está muito afastado dos demais valores do conjunto de dados\n",
    "\n",
    "Enquanto alguns outliers são dados válidos, outros podem ocorrer por causa de erros no registro dos dados. Um conjunto de dados pode ter um ou mais outliers, causando lacunas em uma distribuição. As conclusões que são tomadas de um conjunto de dados que contém outliers podem ser falhas."
   ]
  },
  {
   "cell_type": "markdown",
   "id": "alike-mercury",
   "metadata": {},
   "source": [
    "Qual das medidas de tendência central melhor descreve o conjunto de dados abaixo?\n",
    "\n",
    "`20, 20, 20, 20, 20, 20, 21, 21, 21, 21, 22, 22, 22, 23, 23, 23, 23, 24, 24, 65`"
   ]
  },
  {
   "cell_type": "code",
   "execution_count": 23,
   "id": "variable-klein",
   "metadata": {},
   "outputs": [],
   "source": [
    "idade_alunos = np.array([20, 20, 20, 20, 20, 20, 21, 21, 21, 21, 22, 22, 22, 23, 23, 23, 23, 24, 24, 65])"
   ]
  },
  {
   "cell_type": "code",
   "execution_count": 29,
   "id": "flying-shuttle",
   "metadata": {},
   "outputs": [
    {
     "name": "stdout",
     "output_type": "stream",
     "text": [
      "Média:  23.75\n",
      "Mediana:  21.5\n",
      "Moda:  20\n"
     ]
    }
   ],
   "source": [
    "print('Média: ', np.mean(idade_alunos))\n",
    "print('Mediana: ', np.median(idade_alunos))\n",
    "print('Moda: ', stats.mode(idade_alunos)[0][0])"
   ]
  },
  {
   "cell_type": "markdown",
   "id": "dying-dining",
   "metadata": {},
   "source": [
    "A média leva em consideração todos os valores, mas é influenciada pelo outlier de valor 65. A mediana também leva em consideração todos os valores, e não é afetada pelo outlier. Nesse caso, a moda existe, mas não parece representar um valor típico (região central)."
   ]
  },
  {
   "cell_type": "code",
   "execution_count": 30,
   "id": "local-median",
   "metadata": {},
   "outputs": [],
   "source": [
    "import matplotlib.pyplot as plt\n",
    "%matplotlib inline"
   ]
  },
  {
   "cell_type": "code",
   "execution_count": 37,
   "id": "golden-seattle",
   "metadata": {},
   "outputs": [
    {
     "data": {
      "image/png": "[encoded data removed]",
      "text/plain": [
       "<Figure size 432x288 with 1 Axes>"
      ]
     },
     "metadata": {
      "needs_background": "light"
     },
     "output_type": "display_data"
    }
   ],
   "source": [
    "plt.hist(idade_alunos, bins=30);"
   ]
  },
  {
   "cell_type": "markdown",
   "id": "explicit-final",
   "metadata": {},
   "source": [
    "Jogando no gráfico de histograma, vemos o valor 65 largado lá no canto direito, este é o outlier. E como ele influencia na média, jogando ela para cima, nos parece melhor usar a mediana para representar o conjunto de dados. "
   ]
  },
  {
   "cell_type": "markdown",
   "id": "million-romance",
   "metadata": {},
   "source": [
    "<a id='s5'></a>\n",
    "\n",
    "---\n",
    "\n",
    "### Média ponderada\n",
    "\n",
    "Uma média ponderada é a média de um conjunto de dados cujos valores têm pesos variados.\n",
    "\n",
    "Nesse exemplo, vamos calcular a média ponderada de 5 provas, onde cada uma delas tem um peso diferente na nota final.\n",
    "\n",
    "Prova | Nota, x | Peso, w | x * w\n",
    "-|-|-|-|\n",
    "P1 | 86 | 0,50 | 43\n",
    "P2 | 96 | 0,15 | 14,4\n",
    "P3 | 82 | 0,20 | 16,4\n",
    "P4 | 98 | 0,10 | 9,8\n",
    "P5 | 100 | 0,05 | 5,0\n",
    "-| -| 1 | 88,6\n",
    "\n",
    "Aqui multiplicamos cada nota por cada peso e anotamos seu resultado. No final, somamos todos os valores de `x * w` e teremos a média ponderada."
   ]
  },
  {
   "cell_type": "code",
   "execution_count": 39,
   "id": "micro-updating",
   "metadata": {},
   "outputs": [],
   "source": [
    "import pandas as pd"
   ]
  },
  {
   "cell_type": "code",
   "execution_count": 40,
   "id": "educated-instrument",
   "metadata": {},
   "outputs": [
    {
     "data": {
      "text/html": [
       "<div>\n",
       "<style scoped>\n",
       "    .dataframe tbody tr th:only-of-type {\n",
       "        vertical-align: middle;\n",
       "    }\n",
       "\n",
       "    .dataframe tbody tr th {\n",
       "        vertical-align: top;\n",
       "    }\n",
       "\n",
       "    .dataframe thead th {\n",
       "        text-align: right;\n",
       "    }\n",
       "</style>\n",
       "<table border=\"1\" class=\"dataframe\">\n",
       "  <thead>\n",
       "    <tr style=\"text-align: right;\">\n",
       "      <th></th>\n",
       "      <th>Nota</th>\n",
       "      <th>Peso</th>\n",
       "    </tr>\n",
       "  </thead>\n",
       "  <tbody>\n",
       "    <tr>\n",
       "      <th>0</th>\n",
       "      <td>86</td>\n",
       "      <td>0.50</td>\n",
       "    </tr>\n",
       "    <tr>\n",
       "      <th>1</th>\n",
       "      <td>96</td>\n",
       "      <td>0.15</td>\n",
       "    </tr>\n",
       "    <tr>\n",
       "      <th>2</th>\n",
       "      <td>82</td>\n",
       "      <td>0.20</td>\n",
       "    </tr>\n",
       "    <tr>\n",
       "      <th>3</th>\n",
       "      <td>98</td>\n",
       "      <td>0.10</td>\n",
       "    </tr>\n",
       "    <tr>\n",
       "      <th>4</th>\n",
       "      <td>100</td>\n",
       "      <td>0.05</td>\n",
       "    </tr>\n",
       "  </tbody>\n",
       "</table>\n",
       "</div>"
      ],
      "text/plain": [
       "   Nota  Peso\n",
       "0    86  0.50\n",
       "1    96  0.15\n",
       "2    82  0.20\n",
       "3    98  0.10\n",
       "4   100  0.05"
      ]
     },
     "execution_count": 40,
     "metadata": {},
     "output_type": "execute_result"
    }
   ],
   "source": [
    "notas_pesos = [[86, 0.5],[96, 0.15],[82, 0.2],[98, 0.1], [100, 0.05]]\n",
    "\n",
    "df_notas_pesos = pd.DataFrame(notas_pesos, columns=['Nota', 'Peso'])\n",
    "df_notas_pesos"
   ]
  },
  {
   "cell_type": "markdown",
   "id": "second-signal",
   "metadata": {},
   "source": [
    "Por sorte, no numpy há um jeito simples de calcular isso, com o método `average` que recebe os valores a serem calculados, e seus pesos."
   ]
  },
  {
   "cell_type": "code",
   "execution_count": 41,
   "id": "italian-meaning",
   "metadata": {},
   "outputs": [
    {
     "data": {
      "text/plain": [
       "88.6"
      ]
     },
     "execution_count": 41,
     "metadata": {},
     "output_type": "execute_result"
    }
   ],
   "source": [
    "np.average(df_notas_pesos['Nota'], weights=df_notas_pesos['Peso'])"
   ]
  }
 ],
 "metadata": {
  "kernelspec": {
   "display_name": "Python 3",
   "language": "python",
   "name": "python3"
  },
  "language_info": {
   "codemirror_mode": {
    "name": "ipython",
    "version": 3
   },
   "file_extension": ".py",
   "mimetype": "text/x-python",
   "name": "python",
   "nbconvert_exporter": "python",
   "pygments_lexer": "ipython3",
   "version": "3.9.1"
  }
 },
 "nbformat": 4,
 "nbformat_minor": 5
}
