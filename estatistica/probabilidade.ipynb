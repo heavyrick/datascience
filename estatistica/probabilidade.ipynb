{
 "cells": [
  {
   "cell_type": "markdown",
   "id": "5f845867-d5d7-4c6b-bfc9-d038e8d5f5f8",
   "metadata": {},
   "source": [
    "# Probabilidade\n",
    "\n",
    "Vai começar o jogo, o árbitro da partida pega a moeda, fala com o atleta do time A e o questiona se ele deseja escolher cara ou coroa. O jogador, fica pensativo, e nesse momento se pergunta: \"Qual a melhor escolha, cara ou coroa?\"\n",
    "\n",
    "A pergunta pode parecer boba, mas ela é o pontapé inicial para falarmos brevemente sobre probabilidade.\n",
    "\n",
    "O ato de lançar uma moeda é um **experimento probabilístico**, que é uma ação que está sujeita a lei do acaso. Sim, acaso, por mais que saibamos que vai dar cara ou coroa, não sabemos qual o resultado do lançamento.\n",
    "\n",
    "O produto dessa tentativa, é o **resultado**, e o conjunto dos resultados possíveis desse experimento é chamado de **espaço amostral**. E um **evento** é um subconjunto do espaço amostral e pode ser o espaço todo ou pode ser um conjunto vazio.\n",
    "\n",
    "Afinal, quando lançamos uma moeda, com as faces cara e coroa, qual a chance de dar uma das faces?\n",
    "\n",
    "Vamos organizar as ideias:\n",
    "\n",
    "* Experimento: Jogar uma moeda e dar cara\n",
    "* Espaço amostral S = {cara, coroa}\n",
    "* Evento: A = {dar cara}\n",
    "\n",
    "* `P(A) = 1/2`\n",
    "* `P(A) = 0,5 ou 50%`\n",
    "\n",
    "O resultado do lançamento de uma moeda é de 50%. Com isso, podemos falar ao jogador, que tanto faz qual lado da moeda ele escolher, a chance é a mesma."
   ]
  },
  {
   "cell_type": "markdown",
   "id": "102b50fe-d18e-496a-bf8b-56d238a842b6",
   "metadata": {},
   "source": [
    "Usando o python..."
   ]
  },
  {
   "cell_type": "code",
   "execution_count": 33,
   "id": "b0f32934-49d9-480e-af76-50222669c78d",
   "metadata": {},
   "outputs": [],
   "source": [
    "import numpy as np\n",
    "import pandas as pd"
   ]
  },
  {
   "cell_type": "code",
   "execution_count": 3,
   "id": "f4548323-1738-4c19-b64d-52d5e4bf354a",
   "metadata": {},
   "outputs": [
    {
     "name": "stdout",
     "output_type": "stream",
     "text": [
      "Resposta: A chance de dar cara é de 50%\n"
     ]
    }
   ],
   "source": [
    "moeda = np.array(['par','impar'])\n",
    "\n",
    "# qual a chance de dar cara?\n",
    "n_evento_favoravel = 1\n",
    "\n",
    "# quantidade de casos possíveis: {cara, coroa} = 2\n",
    "total_evento_possivel = moeda.size\n",
    "\n",
    "# calculando a probabilidade = número de resultados do evento / número total de resultados do espaço amostral (em 100%)\n",
    "p = (n_evento_favoravel / total_evento_possivel) * 100\n",
    "\n",
    "print(\"Resposta: A chance de dar cara é de %2.f\" % p + '%')"
   ]
  },
  {
   "cell_type": "markdown",
   "id": "05ffe6c3-f970-4d10-98b7-42a63bd129e8",
   "metadata": {},
   "source": [
    "<div style='text-align:center'>\n",
    "<img src=\"imagens/dados.png\" width='200' height='200' />\n",
    "</div>"
   ]
  },
  {
   "cell_type": "markdown",
   "id": "61f2cf4f-3e32-4c28-9db2-0212f58162bf",
   "metadata": {},
   "source": [
    "Outro exemplo clássico é o de um lançamento de um dado de seis lados. O espaço amostral são todos os lados dele, e o evento é aquilo que queremos obter com seu lançamento. Aqui vamos tentar responder as perguntas:\n",
    "\n",
    "- Qual a chance de ao lançar um dado, sair o número 5?\n",
    "- Qual a chance de ao lançar um dado, sair o número 7?\n",
    "- Qual a chance de ao lançar um dado, sair um número par?\n",
    "- Qual a chance de ao lançar um dado, sair um número primo?"
   ]
  },
  {
   "cell_type": "code",
   "execution_count": 4,
   "id": "495fabd1-8c20-40b5-977c-1fffcb6ebef2",
   "metadata": {},
   "outputs": [],
   "source": [
    "# Dado honesto rs\n",
    "dado = np.array([1,2,3,4,5,6])"
   ]
  },
  {
   "cell_type": "code",
   "execution_count": 16,
   "id": "bd0c8ced-93b7-43ac-8f0b-f5d3124e9628",
   "metadata": {},
   "outputs": [
    {
     "name": "stdout",
     "output_type": "stream",
     "text": [
      "A chance do dado ser lançado e o número ser 5 é de 1/6 ou 17%\n"
     ]
    }
   ],
   "source": [
    "# 1: Experimento: Jogar um dado e sair o número 5\n",
    "\n",
    "# sair o número 5\n",
    "n_evento_favoravel = 1\n",
    "\n",
    "# quantidade de casos possíveis: {1,2,3,4,5,6} = 6\n",
    "total_evento_possivel = dado.size\n",
    "\n",
    "p = (n_evento_favoravel / total_evento_possivel) * 100\n",
    "\n",
    "print('A chance do dado ser lançado e o número ser 5 é de %i/%i ou %2.f%%' % (n_evento_favoravel, total_evento_possivel, p))"
   ]
  },
  {
   "cell_type": "code",
   "execution_count": 29,
   "id": "d42374ad-7b9c-4dc7-8acf-389cff9e9d64",
   "metadata": {},
   "outputs": [
    {
     "name": "stdout",
     "output_type": "stream",
     "text": [
      "A chance do dado ser lançado e o número ser 7 é de 0/6 ou  0%\n"
     ]
    }
   ],
   "source": [
    "# 2: Experimento: Jogar um dado e sair o número 7\n",
    "\n",
    "# sair o número 7 / não tem 7 no dado, então, não existem eventos favoráveis\n",
    "n_evento_favoravel = 0\n",
    "\n",
    "# quantidade de casos possíveis: {1,2,3,4,5,6} = 6\n",
    "total_evento_possivel = dado.size\n",
    "\n",
    "p = (n_evento_favoravel / total_evento_possivel) * 100\n",
    "\n",
    "print('A chance do dado ser lançado e o número ser 7 é de %i/%i ou %2.f%%' % (n_evento_favoravel, total_evento_possivel, p))"
   ]
  },
  {
   "cell_type": "code",
   "execution_count": 30,
   "id": "d57f6257-79e8-4f36-b180-7a9cdb1637e5",
   "metadata": {},
   "outputs": [
    {
     "name": "stdout",
     "output_type": "stream",
     "text": [
      "A chance do dado ser lançado e o número ser par é de 3/6 ou 50%\n"
     ]
    }
   ],
   "source": [
    "# 3: Experimento: Jogar um dado e sair um número par\n",
    "\n",
    "# sair um número par /2,4,6/\n",
    "n_evento_favoravel = 3\n",
    "\n",
    "# quantidade de casos possíveis: {1,2,3,4,5,6} = 6\n",
    "total_evento_possivel = dado.size\n",
    "\n",
    "p = (n_evento_favoravel / total_evento_possivel) * 100\n",
    "\n",
    "print('A chance do dado ser lançado e o número ser par é de %i/%i ou %2.f%%' % (n_evento_favoravel, total_evento_possivel, p))"
   ]
  },
  {
   "cell_type": "markdown",
   "id": "ac28425f-c52d-4c74-bff0-5738a60e2587",
   "metadata": {},
   "source": [
    "Para a próxima resposta, vamos criar uma função."
   ]
  },
  {
   "cell_type": "code",
   "execution_count": 27,
   "id": "1f30b5c4-efb0-44e6-b9dd-c3d839cfd672",
   "metadata": {},
   "outputs": [],
   "source": [
    "def retornar_probabilidade(n_evento_favoravel, espaco_amostral):\n",
    "    p = (n_evento_favoravel / espaco_amostral) * 100\n",
    "    return {'n_evento_favoravel': n_evento_favoravel, 'total_evento_possivel': espaco_amostral, 'p_resultado': p}"
   ]
  },
  {
   "cell_type": "code",
   "execution_count": 28,
   "id": "f84daa3f-1b1f-4087-bee8-e69d9497e8c5",
   "metadata": {},
   "outputs": [
    {
     "name": "stdout",
     "output_type": "stream",
     "text": [
      "A chance do dado ser lançado e o número ser primo é de 3/6 ou 50%\n"
     ]
    }
   ],
   "source": [
    "# 4: Experimento: Jogar um dado e sair um número primo\n",
    "\n",
    "# sair um número primo /2,3,5/ = 3\n",
    "# quantidade de casos possíveis: {1,2,3,4,5,6} = 6\n",
    "\n",
    "resposta = retornar_probabilidade(3, dado.size)\n",
    "print('A chance do dado ser lançado e o número ser primo é de %i/%i ou %2.f%%' % \n",
    "      (resposta['n_evento_favoravel'], resposta['total_evento_possivel'], resposta['p_resultado'])\n",
    "     )"
   ]
  },
  {
   "cell_type": "markdown",
   "id": "d136c3f8-7cc2-4995-bfda-8a8f9bb6fc43",
   "metadata": {},
   "source": [
    "As probabilidades vistas acima, são casos de **Probabilidade clássica (ou teórica)**, que é usada quando cada resultado em um espaço amostral é igualmente possível de ocorrer.\n",
    "\n",
    "Quando um experimento é repetido muitas vezes, são formados padrões regulares. Esses padrões permitem encontrar a probabilidade empírica, a qual pode ser usada mesmo quando cada resultado de um evento não é igualmente provável de ocorrer.\n",
    "\n",
    "A **Probabilidade empírica (ou estatística)** é baseada em observações obtidas de experimentos probabilísticos.\n",
    "\n",
    "`P(E) = frequência do evento E / frequência total = f/ n`"
   ]
  },
  {
   "cell_type": "markdown",
   "id": "0a97eef0-1e4b-4eff-821f-aee062fff0af",
   "metadata": {},
   "source": [
    "Para entender essa segunda parte, vamos ao exemplo:\n",
    "    \n",
    "Uma empresa está conduzindo uma pesquisa pela internet com indivíduos selecionados aleatoriamente para determinar com que frequência eles reciclam. Até o momento, **2.541 pessoas** foram pesquisadas. A distribuição de frequência abaixo mostra os resultados. Qual é a probabilidade de que a próxima pessoa pesquisada **sempre** recicle?\n",
    "\n",
    "Resposta | Número de vezes, f\n",
    "--|--|\n",
    "Sempre | 1054\n",
    "Frequentemente | 613\n",
    "Algumas vezes | 417\n",
    "Raramente | 196\n",
    "Nunca | 171"
   ]
  },
  {
   "cell_type": "markdown",
   "id": "a02e06a7-815f-40bb-a038-f70cededf6c2",
   "metadata": {},
   "source": [
    "- Experimento: Probabilidade de que uma pessoa responda \"sempre\"\n",
    "- Espaço amostral S = {As 2451 respostas}\n",
    "- Evento: P = {Sempre}\n",
    "\n",
    "O evento é uma resposta \"sempre\". A frequência desse evento é 1.054. Como a frequência total é 2.451, a probabilidade empírica de a próxima pessoa sempre reciclar é:\n",
    "\n",
    "`P(Sempre) = 1054 / 2451 = 0,43`\n",
    "\n",
    "Agora podemos fazer outra pergunta, e qual a chance da pessoa responder qualquer coisa que não seja \"sempre\"?\n",
    "\n",
    "- Experimento: Probabilidade de que uma pessoa não responda \"sempre\"\n",
    "- Espaço amostral S = {As 2451 respostas}\n",
    "- Evento: P = {Frequentemente, Algumas vezes, Raramente, Nunca}\n",
    "\n",
    "`P(Frequentemente, Algumas vezes, Raramente, Nunca) = (613 + 417 + 196 + 171) / 2451 = 0,57`"
   ]
  },
  {
   "cell_type": "markdown",
   "id": "a20ecae0-f444-4708-9562-705db44ff539",
   "metadata": {},
   "source": [
    "Mais um exemplo, agora aplicado com o python:\n",
    "    \n",
    "Uma empresa está conduzindo uma pesquisa por telefone com indivíduos selecionados aleatoriamente para determinar a idade dos usuários de sites de redes sociais. Até o momento, 975 usuários foram pesquisados. Os resultados estão no dataframe. Qual é a probabilidade de que o próximo usuário pesquisado tenha de **23 a 35 anos de idade**?"
   ]
  },
  {
   "cell_type": "code",
   "execution_count": 36,
   "id": "f9fae283-f205-4c94-9768-70e976f75fbf",
   "metadata": {},
   "outputs": [
    {
     "data": {
      "text/html": [
       "<div>\n",
       "<style scoped>\n",
       "    .dataframe tbody tr th:only-of-type {\n",
       "        vertical-align: middle;\n",
       "    }\n",
       "\n",
       "    .dataframe tbody tr th {\n",
       "        vertical-align: top;\n",
       "    }\n",
       "\n",
       "    .dataframe thead th {\n",
       "        text-align: right;\n",
       "    }\n",
       "</style>\n",
       "<table border=\"1\" class=\"dataframe\">\n",
       "  <thead>\n",
       "    <tr style=\"text-align: right;\">\n",
       "      <th></th>\n",
       "      <th>Idades</th>\n",
       "      <th>Frequência</th>\n",
       "    </tr>\n",
       "  </thead>\n",
       "  <tbody>\n",
       "    <tr>\n",
       "      <th>0</th>\n",
       "      <td>18 a 22</td>\n",
       "      <td>156</td>\n",
       "    </tr>\n",
       "    <tr>\n",
       "      <th>1</th>\n",
       "      <td>23 a 35</td>\n",
       "      <td>312</td>\n",
       "    </tr>\n",
       "    <tr>\n",
       "      <th>2</th>\n",
       "      <td>36 a 49</td>\n",
       "      <td>254</td>\n",
       "    </tr>\n",
       "    <tr>\n",
       "      <th>3</th>\n",
       "      <td>50 a 65</td>\n",
       "      <td>195</td>\n",
       "    </tr>\n",
       "    <tr>\n",
       "      <th>4</th>\n",
       "      <td>acima de 65</td>\n",
       "      <td>58</td>\n",
       "    </tr>\n",
       "  </tbody>\n",
       "</table>\n",
       "</div>"
      ],
      "text/plain": [
       "        Idades  Frequência\n",
       "0      18 a 22         156\n",
       "1      23 a 35         312\n",
       "2      36 a 49         254\n",
       "3      50 a 65         195\n",
       "4  acima de 65          58"
      ]
     },
     "execution_count": 36,
     "metadata": {},
     "output_type": "execute_result"
    }
   ],
   "source": [
    "lista_idades = pd.DataFrame(\n",
    "    [['18 a 22', 156], ['23 a 35', 312], ['36 a 49', 254], ['50 a 65', 195], ['acima de 65', 58]],\n",
    "    columns=['Idades', 'Frequência'])\n",
    "\n",
    "lista_idades"
   ]
  },
  {
   "cell_type": "code",
   "execution_count": 71,
   "id": "0831da0d-c3dc-4f2d-9949-ecc219d7c734",
   "metadata": {},
   "outputs": [
    {
     "name": "stdout",
     "output_type": "stream",
     "text": [
      "P(idade entre 23 e 35 anos) = 0.32\n"
     ]
    }
   ],
   "source": [
    "resultado = lista_idades[lista_idades['Idades'] == '23 a 35']['Frequência'].values[0] / sum(lista_idades['Frequência'])\n",
    "\n",
    "print('P(idade entre 23 e 35 anos) = %2.2f' % resultado)"
   ]
  },
  {
   "cell_type": "markdown",
   "id": "063907e7-cd74-4736-b3d3-37d4bed4993d",
   "metadata": {},
   "source": [
    "**Lei dos grandes números**\n",
    "\n",
    "Conforme um experimento é repetido um grande numero de vezes, a probabilidade empírica de um evento tende a se aproximar de sua probabilidade teórica (real).\n",
    "\n",
    "Ao lançar uma moeda, sabemos que a chance de cair cara ou coroa é de 1/2 (probabilidade teórica). Mas digamos que vamos repetir esse experimento 10 vezes, e o número de caras é de 4, com isso, a probabilidade empírica é de 4/10. De acordo com a lei, se repetirmos esse experimento milhares de vezes, a probabilidade empírica vai se aproximar da probabilidade teórica.\n",
    "\n",
    "Para comprovar essa lei, vamos testar."
   ]
  },
  {
   "cell_type": "code",
   "execution_count": 132,
   "id": "7d042314-51c4-4e9c-9a82-e3ef7629c0a6",
   "metadata": {},
   "outputs": [],
   "source": [
    "import random\n",
    "\n",
    "def teste_lancamento():\n",
    "    \"\"\"\n",
    "    A função lança uma moeda 100 vezes\n",
    "    Em cada lançamento, ele faz um teste com um valor aleatório, se esse valor é menor igual a 0,5, ele é considerado cara\n",
    "    e a variável recebe um valor 1. Ao final retorna a quantidade de vezes que deu cara.\n",
    "    \"\"\"\n",
    "    caras = 0\n",
    "    for i in range(100): # lançamento de uma moeda 100 vezes\n",
    "        if random.random() <= 0.5: # random() gera números de 0 a 1\n",
    "            caras += 1\n",
    "    return caras\n",
    "\n",
    "def simulacao(n):\n",
    "    \"\"\"\n",
    "    Na simulação, recebe um n vezes que o processo será repetido\n",
    "    A quantidade de caras vai ser armazenada em testes\n",
    "    Essa lista será somada e será dividida pela quantidade de simulações\n",
    "    \"\"\"\n",
    "    testes = []\n",
    "    for i in range(n):  # quantidade de testes\n",
    "        testes.append(teste_lancamento()) # quantidade de caras\n",
    "    return(np.round(sum(testes)/n,2)) # soma da quantidade de caras dividido pela quantidade de testes"
   ]
  },
  {
   "cell_type": "markdown",
   "id": "0b0b138f-8de3-485f-be59-ae357289d08b",
   "metadata": {},
   "source": [
    "Ao rodar a função `simulacao()`, o resultado vai ficar muito próximo de 50, que é exatamente a metade da quantidade de lançamentos."
   ]
  },
  {
   "cell_type": "code",
   "execution_count": 151,
   "id": "8a5ec9ec-8ad7-43bb-a8cf-f5bfb3e25e83",
   "metadata": {},
   "outputs": [
    {
     "data": {
      "text/plain": [
       "49.96"
      ]
     },
     "execution_count": 151,
     "metadata": {},
     "output_type": "execute_result"
    }
   ],
   "source": [
    "simulacao(10000)"
   ]
  },
  {
   "cell_type": "markdown",
   "id": "c2f39cb2-4c17-477e-bef3-a2b8d730f376",
   "metadata": {},
   "source": [
    "Para ficar mais legal, é possível reproduzir a função e mostrar seus resultados no gráfico."
   ]
  },
  {
   "cell_type": "code",
   "execution_count": 134,
   "id": "09d577c9-3683-4e10-9a92-abef2c07ac34",
   "metadata": {},
   "outputs": [],
   "source": [
    "import seaborn as sns"
   ]
  },
  {
   "cell_type": "code",
   "execution_count": 135,
   "id": "51bbe3c6-2b8e-4876-9e85-964e30632b81",
   "metadata": {},
   "outputs": [],
   "source": [
    "def simulacao_grafico(n):\n",
    "    x = []\n",
    "    y = []\n",
    "    for i in range(n): # quantidade de testes\n",
    "        x.append(i)\n",
    "        y.append(teste_lancamento())\n",
    "    sns.lineplot(x=x, y=y, palette=\"tab10\", linewidth=2.5)"
   ]
  },
  {
   "cell_type": "code",
   "execution_count": 136,
   "id": "4a947be4-d995-49a9-8fda-7d2520e80823",
   "metadata": {},
   "outputs": [
    {
     "data": {
      "image/png": "[encoded data removed]",
      "text/plain": [
       "<Figure size 432x288 with 1 Axes>"
      ]
     },
     "metadata": {
      "needs_background": "light"
     },
     "output_type": "display_data"
    }
   ],
   "source": [
    "simulacao_grafico(1000)"
   ]
  },
  {
   "cell_type": "markdown",
   "id": "f4719228-0187-4a29-8fd1-5f285f9a633a",
   "metadata": {},
   "source": [
    "É possível notar no gráfico, que por mais que tenham valores mais distantes de 50, a maioiria deles se aproxima dessa média."
   ]
  },
  {
   "cell_type": "markdown",
   "id": "f7410fe6-85a2-464a-bc06-3ad94467fc79",
   "metadata": {},
   "source": [
    "--- \n",
    "\n",
    "### Referências\n",
    "\n",
    "Estatística aplicada - por Ron Larson, Betsy Farber. Editora Pearson / [link](https://www.amazon.com.br/Estat%C3%ADstica-aplicada-Ron-Larson-ebook/dp/B01IPIN4YC)"
   ]
  }
 ],
 "metadata": {
  "kernelspec": {
   "display_name": "Python 3 (ipykernel)",
   "language": "python",
   "name": "python3"
  },
  "language_info": {
   "codemirror_mode": {
    "name": "ipython",
    "version": 3
   },
   "file_extension": ".py",
   "mimetype": "text/x-python",
   "name": "python",
   "nbconvert_exporter": "python",
   "pygments_lexer": "ipython3",
   "version": "3.10.4"
  }
 },
 "nbformat": 4,
 "nbformat_minor": 5
}
