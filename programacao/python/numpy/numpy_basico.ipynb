{
 "cells": [
  {
   "cell_type": "markdown",
   "id": "explicit-contemporary",
   "metadata": {},
   "source": [
    "# NumPy\n",
    "\n",
    "- <a href='#l1'>Operações matemáticas</a>\n",
    "- <a href='#l2'>Funções universais</a>\n",
    "- <a href='#l3'>Mais funções</a>\n",
    "- <a href='#l4'>Gráficos</a>\n",
    "\n",
    "O numPy é um pacote fundamental de computação científica para Python. Ele facilita muito a vida dos programadores para executar cálculos numéricos em diversas tarefas como em modelos de machine learning, processamento de imagens e computação gráfica."
   ]
  },
  {
   "cell_type": "markdown",
   "id": "controversial-twist",
   "metadata": {},
   "source": [
    "### Instalação\n",
    "\n",
    "```shell\n",
    "$ pip install numpy\n",
    "```"
   ]
  },
  {
   "cell_type": "markdown",
   "id": "extended-seven",
   "metadata": {},
   "source": [
    "### Importar biblioteca"
   ]
  },
  {
   "cell_type": "code",
   "execution_count": 2,
   "id": "plastic-adventure",
   "metadata": {},
   "outputs": [
    {
     "data": {
      "text/plain": [
       "'1.19.5'"
      ]
     },
     "execution_count": 2,
     "metadata": {},
     "output_type": "execute_result"
    }
   ],
   "source": [
    "import numpy as np\n",
    "np.__version__"
   ]
  },
  {
   "cell_type": "markdown",
   "id": "fifth-public",
   "metadata": {},
   "source": [
    "### Dimensões (eixos)\n",
    "\n",
    "As dimensões são chamadas de eixos (axis), se a matriz tem apenas uma dimensão, ela tem apenas um eixo (1D Array), se tem duas dimensões, tem dois eixos (2D Array) e assim por diante. \n",
    "\n",
    "<div style=\"text-align:center\">\n",
    "<img src=\"img/numpy_axis.png\" width=\"500\" />\n",
    "</div>"
   ]
  },
  {
   "cell_type": "code",
   "execution_count": 155,
   "id": "clean-source",
   "metadata": {},
   "outputs": [],
   "source": [
    "# Criando arrays\n",
    "\n",
    "d1_array = np.array([1, 2, 3, 4, 5])\n",
    "d2_array = np.array([[1, 2, 3, 4, 5], [6, 7, 8, 9, 10]])\n",
    "d3_array = np.array([[[1, 2, 3, 4, 5], [6, 7, 8, 9, 10], [11, 12, 13, 14, 15]]])"
   ]
  },
  {
   "cell_type": "code",
   "execution_count": 4,
   "id": "floral-citizen",
   "metadata": {},
   "outputs": [
    {
     "data": {
      "text/plain": [
       "numpy.ndarray"
      ]
     },
     "execution_count": 4,
     "metadata": {},
     "output_type": "execute_result"
    }
   ],
   "source": [
    "# Verificando o tipo da variável\n",
    "\n",
    "type(d1_array)"
   ]
  },
  {
   "cell_type": "code",
   "execution_count": 149,
   "id": "marine-punch",
   "metadata": {},
   "outputs": [
    {
     "data": {
      "text/plain": [
       "3"
      ]
     },
     "execution_count": 149,
     "metadata": {},
     "output_type": "execute_result"
    }
   ],
   "source": [
    "# dimensões\n",
    "\n",
    "d3_array.ndim"
   ]
  },
  {
   "cell_type": "code",
   "execution_count": 157,
   "id": "unavailable-satisfaction",
   "metadata": {},
   "outputs": [
    {
     "data": {
      "text/plain": [
       "4"
      ]
     },
     "execution_count": 157,
     "metadata": {},
     "output_type": "execute_result"
    }
   ],
   "source": [
    "d3_array.itemsize"
   ]
  },
  {
   "cell_type": "code",
   "execution_count": 159,
   "id": "willing-workstation",
   "metadata": {},
   "outputs": [
    {
     "data": {
      "text/plain": [
       "(1, 3, 5)"
      ]
     },
     "execution_count": 159,
     "metadata": {},
     "output_type": "execute_result"
    }
   ],
   "source": [
    "d3_array.shape"
   ]
  },
  {
   "cell_type": "markdown",
   "id": "included-penny",
   "metadata": {},
   "source": [
    "No array de 1D, ele retorna apenas uma tupla com os elementos, no caso as colunas de uma única linha."
   ]
  },
  {
   "cell_type": "code",
   "execution_count": 5,
   "id": "attended-lloyd",
   "metadata": {},
   "outputs": [
    {
     "name": "stdout",
     "output_type": "stream",
     "text": [
      "[1 2 3 4 5]\n",
      "(5,)\n"
     ]
    }
   ],
   "source": [
    "# Array 1D\n",
    "\n",
    "print(d1_array)\n",
    "print(d1_array.shape)"
   ]
  },
  {
   "cell_type": "markdown",
   "id": "raised-arthur",
   "metadata": {},
   "source": [
    "No array de 2D, ele retorna no método shape a quantidade de linhas (2) e colunas (5)."
   ]
  },
  {
   "cell_type": "code",
   "execution_count": 6,
   "id": "seventh-executive",
   "metadata": {},
   "outputs": [
    {
     "name": "stdout",
     "output_type": "stream",
     "text": [
      "[[ 1  2  3  4  5]\n",
      " [ 6  7  8  9 10]]\n",
      "(2, 5)\n"
     ]
    }
   ],
   "source": [
    "# Array 2D\n",
    "\n",
    "print(d2_array)\n",
    "print(d2_array.shape)"
   ]
  },
  {
   "cell_type": "markdown",
   "id": "welcome-sweden",
   "metadata": {},
   "source": [
    "No array de 3D, ele retorna no método shape."
   ]
  },
  {
   "cell_type": "code",
   "execution_count": 160,
   "id": "linear-internship",
   "metadata": {},
   "outputs": [
    {
     "name": "stdout",
     "output_type": "stream",
     "text": [
      "[[[ 1  2  3  4  5]\n",
      "  [ 6  7  8  9 10]\n",
      "  [11 12 13 14 15]]]\n",
      "(1, 3, 5)\n"
     ]
    }
   ],
   "source": [
    "# Array 3D\n",
    "\n",
    "print(d3_array)\n",
    "print(d3_array.shape)"
   ]
  },
  {
   "cell_type": "markdown",
   "id": "minute-rubber",
   "metadata": {},
   "source": [
    "<a id='l1'></a>\n",
    "\n",
    "---\n",
    "\n",
    "### Operações matemáticas\n",
    "\n",
    "Vamos criar dois arrays de valores, e aplicar algumas operações entre os arrays."
   ]
  },
  {
   "cell_type": "code",
   "execution_count": 19,
   "id": "fantastic-wilderness",
   "metadata": {},
   "outputs": [],
   "source": [
    "lista_numeros_1 = np.array([10, 20, 30, 40])\n",
    "lista_numeros_2 = np.array([2, 4, 5, 10])"
   ]
  },
  {
   "cell_type": "code",
   "execution_count": 23,
   "id": "known-thompson",
   "metadata": {},
   "outputs": [
    {
     "name": "stdout",
     "output_type": "stream",
     "text": [
      "Lista 1 [10 20 30 40]\n",
      "Lista 2 [ 2  4  5 10]\n"
     ]
    }
   ],
   "source": [
    "print(\"Lista 1\", lista_numeros_1)\n",
    "print(\"Lista 2\", lista_numeros_2)"
   ]
  },
  {
   "cell_type": "markdown",
   "id": "curious-closing",
   "metadata": {},
   "source": [
    "Importante notar que as arrays têm o mesmo tamanho e formato de 1D, e que a operação se dá entre valores de posição igual, exemplo: `array_1[0] + array_2[0] ... array_1[n] + array_2[n]`.\n",
    "\n",
    "Fazendo um esquema mais passo a passo, podemos ver o que está rolando."
   ]
  },
  {
   "cell_type": "code",
   "execution_count": 33,
   "id": "purple-fifteen",
   "metadata": {},
   "outputs": [
    {
     "name": "stdout",
     "output_type": "stream",
     "text": [
      "Soma posição [0] : 10 + 2 = 12\n",
      "Soma posição [1] : 20 + 4 = 24\n",
      "Soma posição [2] : 30 + 5 = 35\n",
      "Soma posição [3] : 40 + 10 = 50\n"
     ]
    }
   ],
   "source": [
    "i = 0\n",
    "for l1, l2 in zip(lista_numeros_1, lista_numeros_2):\n",
    "    print('Soma posição [{}] : {} + {} = {}'.format(i, l1, l2, l1 + l2))\n",
    "    i += 1"
   ]
  },
  {
   "cell_type": "code",
   "execution_count": 20,
   "id": "express-religion",
   "metadata": {},
   "outputs": [
    {
     "name": "stdout",
     "output_type": "stream",
     "text": [
      "Soma:  [12 24 35 50]\n",
      "Subtração:  [ 8 16 25 30]\n",
      "Multiplicação:  [ 20  80 150 400]\n",
      "Divisão:  [ 20  80 150 400]\n"
     ]
    }
   ],
   "source": [
    "print(\"Soma: \", lista_numeros_1 + lista_numeros_2)\n",
    "print(\"Subtração: \", lista_numeros_1 - lista_numeros_2)\n",
    "print(\"Multiplicação: \", lista_numeros_1 * lista_numeros_2)\n",
    "print(\"Divisão: \", lista_numeros_1 * lista_numeros_2)"
   ]
  },
  {
   "cell_type": "markdown",
   "id": "ruled-communications",
   "metadata": {},
   "source": [
    "É possível calcular toda a lista por um valor apenas."
   ]
  },
  {
   "cell_type": "code",
   "execution_count": 39,
   "id": "portuguese-sheriff",
   "metadata": {},
   "outputs": [
    {
     "name": "stdout",
     "output_type": "stream",
     "text": [
      "Dividir a lista por 10:  [1. 2. 3. 4.]\n",
      "Elevar a lista a potência de 2:  [  4  16  25 100]\n"
     ]
    }
   ],
   "source": [
    "print(\"Dividir a lista por 10: \", lista_numeros_1 / 10)\n",
    "print(\"Elevar a lista à potência de 2: \", lista_numeros_2 ** 2)"
   ]
  },
  {
   "cell_type": "markdown",
   "id": "supported-sunrise",
   "metadata": {},
   "source": [
    "<a id='l2'></a>\n",
    "\n",
    "---\n",
    "\n",
    "### Funções universais (ufunc)\n",
    "\n",
    "Estas funções operam nas ndarrays, elemento por elemento. Recomendo que seja veja o link da documentação, mas aqui colocarei algumas para demonstração.\n",
    "\n",
    "https://numpy.org/doc/stable/reference/ufuncs.html"
   ]
  },
  {
   "cell_type": "markdown",
   "id": "mobile-quick",
   "metadata": {},
   "source": [
    "**Raíz quadrada**"
   ]
  },
  {
   "cell_type": "code",
   "execution_count": 40,
   "id": "mathematical-result",
   "metadata": {},
   "outputs": [
    {
     "data": {
      "text/plain": [
       "array([2., 4., 5., 6., 7.])"
      ]
     },
     "execution_count": 40,
     "metadata": {},
     "output_type": "execute_result"
    }
   ],
   "source": [
    "np.sqrt(np.array([4, 16, 25, 36, 49]))"
   ]
  },
  {
   "cell_type": "markdown",
   "id": "outstanding-budget",
   "metadata": {},
   "source": [
    "**Valor máximo**"
   ]
  },
  {
   "cell_type": "code",
   "execution_count": 42,
   "id": "beneficial-detective",
   "metadata": {},
   "outputs": [
    {
     "data": {
      "text/plain": [
       "10"
      ]
     },
     "execution_count": 42,
     "metadata": {},
     "output_type": "execute_result"
    }
   ],
   "source": [
    "np.max(np.array([8, 10, 5, 3, 2, 9]))"
   ]
  },
  {
   "cell_type": "markdown",
   "id": "regular-variety",
   "metadata": {},
   "source": [
    "**Comparar listas**\n",
    "\n",
    "Verificar se cada elemento do array1 é maior que do array2."
   ]
  },
  {
   "cell_type": "code",
   "execution_count": 47,
   "id": "disciplinary-taiwan",
   "metadata": {},
   "outputs": [
    {
     "data": {
      "text/plain": [
       "array([False,  True,  True,  True])"
      ]
     },
     "execution_count": 47,
     "metadata": {},
     "output_type": "execute_result"
    }
   ],
   "source": [
    "np.greater(np.array([1, 3, 5, 7]), np.array([2, 2, 2, 2]))"
   ]
  },
  {
   "cell_type": "markdown",
   "id": "focal-cooper",
   "metadata": {},
   "source": [
    "**Verificar valor nulo**\n",
    "\n",
    "Retorna True onde o valor nulo for encontrado."
   ]
  },
  {
   "cell_type": "code",
   "execution_count": 55,
   "id": "caroline-weight",
   "metadata": {},
   "outputs": [
    {
     "data": {
      "text/plain": [
       "array([False,  True, False, False,  True])"
      ]
     },
     "execution_count": 55,
     "metadata": {},
     "output_type": "execute_result"
    }
   ],
   "source": [
    "np.isnan(np.array([5, np.nan, 1, 10, np.nan]))"
   ]
  },
  {
   "cell_type": "markdown",
   "id": "polar-gates",
   "metadata": {},
   "source": [
    "<a id='l3'></a>\n",
    "\n",
    "---\n",
    "\n",
    "### Mais funções\n"
   ]
  },
  {
   "cell_type": "markdown",
   "id": "respiratory-arctic",
   "metadata": {},
   "source": [
    "**arange(inicio, fim, passo)**\n",
    "\n",
    "Retorna um array de números dentro de um intervalo."
   ]
  },
  {
   "cell_type": "code",
   "execution_count": 64,
   "id": "embedded-language",
   "metadata": {},
   "outputs": [
    {
     "data": {
      "text/plain": [
       "array([0, 1, 2, 3, 4, 5, 6, 7, 8, 9])"
      ]
     },
     "execution_count": 64,
     "metadata": {},
     "output_type": "execute_result"
    }
   ],
   "source": [
    "np.arange(0,10, 1)"
   ]
  },
  {
   "cell_type": "code",
   "execution_count": 98,
   "id": "restricted-trance",
   "metadata": {},
   "outputs": [
    {
     "data": {
      "text/plain": [
       "array([0, 1, 2, 3, 4, 5, 6, 7, 8, 9])"
      ]
     },
     "execution_count": 98,
     "metadata": {},
     "output_type": "execute_result"
    }
   ],
   "source": [
    "np.arange(10) # np.arange(0,10) assim retorna o mesmo resultado, o padrão do último parâmetro é 1 "
   ]
  },
  {
   "cell_type": "code",
   "execution_count": 65,
   "id": "similar-covering",
   "metadata": {},
   "outputs": [
    {
     "data": {
      "text/plain": [
       "array([ 0,  2,  4,  6,  8, 10, 12, 14, 16, 18, 20])"
      ]
     },
     "execution_count": 65,
     "metadata": {},
     "output_type": "execute_result"
    }
   ],
   "source": [
    "np.arange(0,21,2)"
   ]
  },
  {
   "cell_type": "markdown",
   "id": "danish-lender",
   "metadata": {},
   "source": [
    "**zeros(formato) e ones(formato)**\n",
    "\n",
    "Gerar matrizes de zeros ou de ums."
   ]
  },
  {
   "cell_type": "code",
   "execution_count": 78,
   "id": "expensive-japanese",
   "metadata": {},
   "outputs": [
    {
     "data": {
      "text/plain": [
       "array([0., 0., 0., 0., 0.])"
      ]
     },
     "execution_count": 78,
     "metadata": {},
     "output_type": "execute_result"
    }
   ],
   "source": [
    "np.zeros([5]) #1d 1x5"
   ]
  },
  {
   "cell_type": "code",
   "execution_count": 79,
   "id": "disturbed-appliance",
   "metadata": {},
   "outputs": [
    {
     "data": {
      "text/plain": [
       "array([[0., 0.],\n",
       "       [0., 0.],\n",
       "       [0., 0.]])"
      ]
     },
     "execution_count": 79,
     "metadata": {},
     "output_type": "execute_result"
    }
   ],
   "source": [
    "np.zeros([3,2]) #2d 3x2 "
   ]
  },
  {
   "cell_type": "code",
   "execution_count": 80,
   "id": "prepared-barbados",
   "metadata": {},
   "outputs": [
    {
     "data": {
      "text/plain": [
       "array([1., 1., 1., 1.])"
      ]
     },
     "execution_count": 80,
     "metadata": {},
     "output_type": "execute_result"
    }
   ],
   "source": [
    "np.ones([4]) #1d 1x4"
   ]
  },
  {
   "cell_type": "markdown",
   "id": "naval-brass",
   "metadata": {},
   "source": [
    "**linspace(inicio, fim, numeros)**\n",
    "\n",
    "Retorna números uniformemente espaçados ao longo de um intervalo especificado."
   ]
  },
  {
   "cell_type": "code",
   "execution_count": 88,
   "id": "controlling-absorption",
   "metadata": {},
   "outputs": [
    {
     "data": {
      "text/plain": [
       "array([ 1.        ,  1.47368421,  1.94736842,  2.42105263,  2.89473684,\n",
       "        3.36842105,  3.84210526,  4.31578947,  4.78947368,  5.26315789,\n",
       "        5.73684211,  6.21052632,  6.68421053,  7.15789474,  7.63157895,\n",
       "        8.10526316,  8.57894737,  9.05263158,  9.52631579, 10.        ])"
      ]
     },
     "execution_count": 88,
     "metadata": {},
     "output_type": "execute_result"
    }
   ],
   "source": [
    "np.linspace(1, 10, 20)"
   ]
  },
  {
   "cell_type": "markdown",
   "id": "structured-decision",
   "metadata": {},
   "source": [
    "**randint(menor, maior, tamanho)**\n",
    "\n",
    "Retorna um inteiro (ou mais valores) dentro de um intervalo."
   ]
  },
  {
   "cell_type": "code",
   "execution_count": 93,
   "id": "isolated-picking",
   "metadata": {},
   "outputs": [
    {
     "data": {
      "text/plain": [
       "67"
      ]
     },
     "execution_count": 93,
     "metadata": {},
     "output_type": "execute_result"
    }
   ],
   "source": [
    "np.random.randint(1,100)"
   ]
  },
  {
   "cell_type": "code",
   "execution_count": 94,
   "id": "certified-riverside",
   "metadata": {},
   "outputs": [
    {
     "data": {
      "text/plain": [
       "array([ 8, 31, 44, 56])"
      ]
     },
     "execution_count": 94,
     "metadata": {},
     "output_type": "execute_result"
    }
   ],
   "source": [
    "np.random.randint(1,100, 4)"
   ]
  },
  {
   "cell_type": "markdown",
   "id": "friendly-circulation",
   "metadata": {},
   "source": [
    "**argmax(array)**\n",
    "\n",
    "Retorna o índice do maior valor do array."
   ]
  },
  {
   "cell_type": "code",
   "execution_count": 101,
   "id": "figured-island",
   "metadata": {},
   "outputs": [
    {
     "data": {
      "text/plain": [
       "2"
      ]
     },
     "execution_count": 101,
     "metadata": {},
     "output_type": "execute_result"
    }
   ],
   "source": [
    "np.argmax(np.array([4,5,8,2,1]))"
   ]
  },
  {
   "cell_type": "markdown",
   "id": "recreational-presentation",
   "metadata": {},
   "source": [
    "**squeeze(array)**\n",
    "\n",
    "Remove dos arrays valores com apenas 1d"
   ]
  },
  {
   "cell_type": "code",
   "execution_count": 115,
   "id": "sacred-american",
   "metadata": {},
   "outputs": [
    {
     "data": {
      "text/plain": [
       "array([1, 5, 8])"
      ]
     },
     "execution_count": 115,
     "metadata": {},
     "output_type": "execute_result"
    }
   ],
   "source": [
    "np.squeeze(np.array([[1], [5], [8]]))"
   ]
  },
  {
   "cell_type": "markdown",
   "id": "empty-valentine",
   "metadata": {},
   "source": [
    "**repeat(valor, numero de vezes, eixo)**\n",
    "\n",
    "Repetir um valor por n vezes"
   ]
  },
  {
   "cell_type": "code",
   "execution_count": 118,
   "id": "devoted-ontario",
   "metadata": {},
   "outputs": [
    {
     "data": {
      "text/plain": [
       "array([2, 2, 2, 2, 2, 2, 2])"
      ]
     },
     "execution_count": 118,
     "metadata": {},
     "output_type": "execute_result"
    }
   ],
   "source": [
    "np.repeat(2, 7)"
   ]
  },
  {
   "cell_type": "code",
   "execution_count": 122,
   "id": "devoted-serial",
   "metadata": {},
   "outputs": [
    {
     "data": {
      "text/plain": [
       "array([100, 100, 100, 200, 200, 200,   1,   1,   1,   2,   2,   2])"
      ]
     },
     "execution_count": 122,
     "metadata": {},
     "output_type": "execute_result"
    }
   ],
   "source": [
    "np.repeat(np.array([[100,200],[1,2]]), 3)"
   ]
  },
  {
   "cell_type": "markdown",
   "id": "southeast-prefix",
   "metadata": {},
   "source": [
    "Repetir valores no eixo 0 (nas linhas)"
   ]
  },
  {
   "cell_type": "code",
   "execution_count": 127,
   "id": "spare-glory",
   "metadata": {},
   "outputs": [
    {
     "data": {
      "text/plain": [
       "array([[1, 2],\n",
       "       [1, 2],\n",
       "       [4, 5],\n",
       "       [4, 5]])"
      ]
     },
     "execution_count": 127,
     "metadata": {},
     "output_type": "execute_result"
    }
   ],
   "source": [
    "np.repeat(np.array([[1, 2], [4,5]]), 2, axis=0)"
   ]
  },
  {
   "cell_type": "markdown",
   "id": "equal-animal",
   "metadata": {},
   "source": [
    "Repetir valores no eixo 1 (nas colunas)"
   ]
  },
  {
   "cell_type": "code",
   "execution_count": 128,
   "id": "continent-madison",
   "metadata": {},
   "outputs": [
    {
     "data": {
      "text/plain": [
       "array([[1, 1, 2, 2],\n",
       "       [4, 4, 5, 5]])"
      ]
     },
     "execution_count": 128,
     "metadata": {},
     "output_type": "execute_result"
    }
   ],
   "source": [
    "np.repeat(np.array([[1, 2], [4,5]]), 2, axis=1)"
   ]
  },
  {
   "cell_type": "markdown",
   "id": "parliamentary-motivation",
   "metadata": {},
   "source": [
    "**unique(array)**\n",
    "\n",
    "Retornar valores únicos do array."
   ]
  },
  {
   "cell_type": "code",
   "execution_count": 137,
   "id": "unsigned-kitchen",
   "metadata": {},
   "outputs": [
    {
     "data": {
      "text/plain": [
       "array([1, 2, 3, 4, 5])"
      ]
     },
     "execution_count": 137,
     "metadata": {},
     "output_type": "execute_result"
    }
   ],
   "source": [
    "array = np.array([[1,2],[2,3],[3,3],[4,4],[4,5]])\n",
    "np.unique(array)"
   ]
  },
  {
   "cell_type": "markdown",
   "id": "herbal-improvement",
   "metadata": {},
   "source": [
    "<a id='l4'></a>\n",
    "\n",
    "---\n",
    "\n",
    "### Gráficos"
   ]
  },
  {
   "cell_type": "code",
   "execution_count": 140,
   "id": "applicable-fairy",
   "metadata": {},
   "outputs": [],
   "source": [
    "import matplotlib.pyplot as plt\n",
    "%matplotlib inline"
   ]
  },
  {
   "cell_type": "code",
   "execution_count": 141,
   "id": "educational-recipient",
   "metadata": {},
   "outputs": [
    {
     "data": {
      "text/plain": [
       "array([1200, 1500, 1300, 1400, 1100, 1550, 1700])"
      ]
     },
     "execution_count": 141,
     "metadata": {},
     "output_type": "execute_result"
    }
   ],
   "source": [
    "salario = np.array([1200,1500,1300,1400,1100, 1550, 1700])\n",
    "salario"
   ]
  },
  {
   "cell_type": "code",
   "execution_count": 143,
   "id": "naval-possible",
   "metadata": {},
   "outputs": [
    {
     "data": {
      "image/png": "[encoded data removed]",
      "text/plain": [
       "<Figure size 432x288 with 1 Axes>"
      ]
     },
     "metadata": {
      "needs_background": "light"
     },
     "output_type": "display_data"
    }
   ],
   "source": [
    "plt.plot(salario, c='Green', ls='--', marker='s', ms=5)\n",
    "plt.show();"
   ]
  },
  {
   "cell_type": "markdown",
   "id": "described-terrorism",
   "metadata": {},
   "source": [
    "---\n",
    "\n",
    "### Referências\n",
    "\n",
    "https://numpy.org/\n",
    "\n",
    "https://github.com/numpy/numpy\n",
    "\n",
    "https://medium.com/ensina-ai/entendendo-a-biblioteca-numpy-4858fde63355\n",
    "\n",
    "https://towardsdatascience.com/10-numpy-functions-you-should-know-1dc4863764c5"
   ]
  }
 ],
 "metadata": {
  "kernelspec": {
   "display_name": "Python 3",
   "language": "python",
   "name": "python3"
  },
  "language_info": {
   "codemirror_mode": {
    "name": "ipython",
    "version": 3
   },
   "file_extension": ".py",
   "mimetype": "text/x-python",
   "name": "python",
   "nbconvert_exporter": "python",
   "pygments_lexer": "ipython3",
   "version": "3.9.1"
  }
 },
 "nbformat": 4,
 "nbformat_minor": 5
}
