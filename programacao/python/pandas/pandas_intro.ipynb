{
 "cells": [
  {
   "cell_type": "markdown",
   "id": "backed-constitutional",
   "metadata": {},
   "source": [
    "# Pandas\n",
    "\n",
    "É uma biblioteca open source de análise e manipulação de dados.\n",
    "\n",
    "- <a href='#l1'>Series</a>\n",
    "- <a href='#l2'>Dataframes</a>"
   ]
  },
  {
   "cell_type": "markdown",
   "id": "saving-electronics",
   "metadata": {},
   "source": [
    "### Instalação\n",
    "\n",
    "```shell\n",
    "$ pip install pandas\n",
    "```"
   ]
  },
  {
   "cell_type": "markdown",
   "id": "going-asthma",
   "metadata": {},
   "source": [
    "### Importar biblioteca"
   ]
  },
  {
   "cell_type": "code",
   "execution_count": 1,
   "id": "material-photography",
   "metadata": {},
   "outputs": [
    {
     "data": {
      "text/plain": [
       "'1.4.1'"
      ]
     },
     "execution_count": 1,
     "metadata": {},
     "output_type": "execute_result"
    }
   ],
   "source": [
    "import pandas as pd\n",
    "pd.__version__"
   ]
  },
  {
   "cell_type": "code",
   "execution_count": 22,
   "id": "peripheral-secretariat",
   "metadata": {},
   "outputs": [],
   "source": [
    "import numpy as np"
   ]
  },
  {
   "cell_type": "markdown",
   "id": "operating-waters",
   "metadata": {},
   "source": [
    "<a id='l1'></a>\n",
    "\n",
    "---\n",
    "\n",
    "### Series\n",
    "\n",
    "A Serie é muito semelhante a uma matriz NumPy (na verdade, ela é construída em cima do objeto de matriz NumPy). O que diferencia a matriz NumPy de uma Série, é que uma Serie pode ter rótulos de eixos, o que significa que pode ser indexado por um rótulo, em vez de apenas uma localização numérica. Também não precisa manter dados numéricos, ele pode conter qualquer objeto Python arbitrário."
   ]
  },
  {
   "cell_type": "code",
   "execution_count": 8,
   "id": "liked-photograph",
   "metadata": {},
   "outputs": [],
   "source": [
    "labels = ['a','b','c']\n",
    "minha_lista = [10,20,30]"
   ]
  },
  {
   "cell_type": "code",
   "execution_count": 17,
   "id": "major-viewer",
   "metadata": {},
   "outputs": [
    {
     "data": {
      "text/plain": [
       "0    10\n",
       "1    20\n",
       "2    30\n",
       "dtype: int64"
      ]
     },
     "execution_count": 17,
     "metadata": {},
     "output_type": "execute_result"
    }
   ],
   "source": [
    "# Criando uma serie sem rótulos\n",
    "\n",
    "serie1 = pd.Series(data=minha_lista)\n",
    "serie1"
   ]
  },
  {
   "cell_type": "code",
   "execution_count": 19,
   "id": "rough-grove",
   "metadata": {},
   "outputs": [
    {
     "data": {
      "text/plain": [
       "pandas.core.series.Series"
      ]
     },
     "execution_count": 19,
     "metadata": {},
     "output_type": "execute_result"
    }
   ],
   "source": [
    "# Vendo o tipo do dado\n",
    "\n",
    "type(serie1)"
   ]
  },
  {
   "cell_type": "code",
   "execution_count": 11,
   "id": "surrounded-wagner",
   "metadata": {},
   "outputs": [
    {
     "data": {
      "text/plain": [
       "a    10\n",
       "b    20\n",
       "c    30\n",
       "dtype: int64"
      ]
     },
     "execution_count": 11,
     "metadata": {},
     "output_type": "execute_result"
    }
   ],
   "source": [
    "# Criando uma serie com rótulos\n",
    "\n",
    "serie2 = pd.Series(data=minha_lista, index=labels)\n",
    "serie2"
   ]
  },
  {
   "cell_type": "markdown",
   "id": "subsequent-italian",
   "metadata": {},
   "source": [
    "Criando uma serie a partir de dois arrays."
   ]
  },
  {
   "cell_type": "code",
   "execution_count": 24,
   "id": "differential-duncan",
   "metadata": {},
   "outputs": [
    {
     "data": {
      "text/plain": [
       "EUA         1\n",
       "Alemanha    2\n",
       "USSR        3\n",
       "Japão       4\n",
       "dtype: int32"
      ]
     },
     "execution_count": 24,
     "metadata": {},
     "output_type": "execute_result"
    }
   ],
   "source": [
    "serie3 = pd.Series(data = np.array([1,2,3,4]), \n",
    "                   index = np.array(['EUA', 'Alemanha','USSR', 'Japão']))\n",
    "serie3"
   ]
  },
  {
   "cell_type": "markdown",
   "id": "likely-crack",
   "metadata": {},
   "source": [
    "Criando uma série a partir de uma tupla."
   ]
  },
  {
   "cell_type": "code",
   "execution_count": 35,
   "id": "vital-integer",
   "metadata": {},
   "outputs": [
    {
     "data": {
      "text/plain": [
       "0     1\n",
       "1     4\n",
       "2     6\n",
       "3     5\n",
       "4     7\n",
       "5    10\n",
       "6     6\n",
       "dtype: int64"
      ]
     },
     "execution_count": 35,
     "metadata": {},
     "output_type": "execute_result"
    }
   ],
   "source": [
    "serie4 = pd.Series((1, 4, 6, 5, 7, 10, 6))\n",
    "serie4"
   ]
  },
  {
   "cell_type": "markdown",
   "id": "about-cylinder",
   "metadata": {},
   "source": [
    "Nas séries é possível também recolher informações estatísticas."
   ]
  },
  {
   "cell_type": "code",
   "execution_count": 26,
   "id": "typical-insulin",
   "metadata": {},
   "outputs": [
    {
     "data": {
      "text/plain": [
       "count     7.000000\n",
       "mean      5.571429\n",
       "std       2.760262\n",
       "min       1.000000\n",
       "25%       4.500000\n",
       "50%       6.000000\n",
       "75%       6.500000\n",
       "max      10.000000\n",
       "dtype: float64"
      ]
     },
     "execution_count": 26,
     "metadata": {},
     "output_type": "execute_result"
    }
   ],
   "source": [
    "serie4.describe()"
   ]
  },
  {
   "cell_type": "markdown",
   "id": "straight-cambodia",
   "metadata": {},
   "source": [
    "Aqui podemos selecionar apenas uma delas."
   ]
  },
  {
   "cell_type": "code",
   "execution_count": 27,
   "id": "rough-liabilities",
   "metadata": {},
   "outputs": [
    {
     "data": {
      "text/plain": [
       "7.0"
      ]
     },
     "execution_count": 27,
     "metadata": {},
     "output_type": "execute_result"
    }
   ],
   "source": [
    "serie4.describe()['count']"
   ]
  },
  {
   "cell_type": "markdown",
   "id": "explicit-observer",
   "metadata": {},
   "source": [
    "Ou aplicar algumas funções para fazer a mesma coisa."
   ]
  },
  {
   "cell_type": "code",
   "execution_count": 30,
   "id": "discrete-beaver",
   "metadata": {},
   "outputs": [
    {
     "name": "stdout",
     "output_type": "stream",
     "text": [
      "Média: 5.571428571428571\n",
      "Mínimo 1\n",
      "Máximo 10\n",
      "Contagem 7\n",
      "Desvio padrão 2.760262237369417\n",
      "Mediana 6.0\n"
     ]
    }
   ],
   "source": [
    "print(\"Média:\", serie4.mean())\n",
    "print(\"Mínimo\", serie4.min())\n",
    "print(\"Máximo\", serie4.max())\n",
    "print(\"Contagem\", serie4.count())\n",
    "print(\"Desvio padrão\", serie4.std())\n",
    "print(\"Mediana\", serie4.median())"
   ]
  },
  {
   "cell_type": "markdown",
   "id": "found-currency",
   "metadata": {},
   "source": [
    "<a id='l2'></a>\n",
    "\n",
    "---\n",
    "\n",
    "### Dataframes\n",
    "\n",
    "DataFrame é o elemeto mais importante dos Pandas e são diretamente inspirados pela linguagem de programação R. Podemos pensar em um DataFrame como um monte de objetos da série juntos para compartilhar o mesmo índice."
   ]
  },
  {
   "cell_type": "code",
   "execution_count": 36,
   "id": "amber-radio",
   "metadata": {},
   "outputs": [
    {
     "data": {
      "text/html": [
       "<div>\n",
       "<style scoped>\n",
       "    .dataframe tbody tr th:only-of-type {\n",
       "        vertical-align: middle;\n",
       "    }\n",
       "\n",
       "    .dataframe tbody tr th {\n",
       "        vertical-align: top;\n",
       "    }\n",
       "\n",
       "    .dataframe thead th {\n",
       "        text-align: right;\n",
       "    }\n",
       "</style>\n",
       "<table border=\"1\" class=\"dataframe\">\n",
       "  <thead>\n",
       "    <tr style=\"text-align: right;\">\n",
       "      <th></th>\n",
       "      <th>carros</th>\n",
       "      <th>ano</th>\n",
       "    </tr>\n",
       "  </thead>\n",
       "  <tbody>\n",
       "    <tr>\n",
       "      <th>0</th>\n",
       "      <td>Uno</td>\n",
       "      <td>1990</td>\n",
       "    </tr>\n",
       "    <tr>\n",
       "      <th>1</th>\n",
       "      <td>Celta</td>\n",
       "      <td>2003</td>\n",
       "    </tr>\n",
       "    <tr>\n",
       "      <th>2</th>\n",
       "      <td>Gol</td>\n",
       "      <td>1998</td>\n",
       "    </tr>\n",
       "  </tbody>\n",
       "</table>\n",
       "</div>"
      ],
      "text/plain": [
       "  carros   ano\n",
       "0    Uno  1990\n",
       "1  Celta  2003\n",
       "2    Gol  1998"
      ]
     },
     "execution_count": 36,
     "metadata": {},
     "output_type": "execute_result"
    }
   ],
   "source": [
    "dados = {\n",
    "  'carros': [\"Uno\", \"Celta\", \"Gol\"],\n",
    "  'ano': [1990, 2003, 1998]\n",
    "}\n",
    "\n",
    "df = pd.DataFrame(dados)\n",
    "\n",
    "df"
   ]
  },
  {
   "cell_type": "code",
   "execution_count": 37,
   "id": "wrapped-benjamin",
   "metadata": {},
   "outputs": [],
   "source": [
    "import pydataset"
   ]
  },
  {
   "cell_type": "code",
   "execution_count": 39,
   "id": "conventional-puppy",
   "metadata": {},
   "outputs": [],
   "source": [
    "df_titanic = pydataset.data('titanic')"
   ]
  },
  {
   "cell_type": "markdown",
   "id": "handy-forty",
   "metadata": {},
   "source": [
    "A função `head` seleciona os primeiros elementos do dataframe, se nenhum valor for passado, ele pega os 5 primeiros. A `tail` pega os últimos, respeitando o mesmo critério."
   ]
  },
  {
   "cell_type": "code",
   "execution_count": 41,
   "id": "baking-philadelphia",
   "metadata": {},
   "outputs": [
    {
     "data": {
      "text/html": [
       "<div>\n",
       "<style scoped>\n",
       "    .dataframe tbody tr th:only-of-type {\n",
       "        vertical-align: middle;\n",
       "    }\n",
       "\n",
       "    .dataframe tbody tr th {\n",
       "        vertical-align: top;\n",
       "    }\n",
       "\n",
       "    .dataframe thead th {\n",
       "        text-align: right;\n",
       "    }\n",
       "</style>\n",
       "<table border=\"1\" class=\"dataframe\">\n",
       "  <thead>\n",
       "    <tr style=\"text-align: right;\">\n",
       "      <th></th>\n",
       "      <th>class</th>\n",
       "      <th>age</th>\n",
       "      <th>sex</th>\n",
       "      <th>survived</th>\n",
       "    </tr>\n",
       "  </thead>\n",
       "  <tbody>\n",
       "    <tr>\n",
       "      <th>1</th>\n",
       "      <td>1st class</td>\n",
       "      <td>adults</td>\n",
       "      <td>man</td>\n",
       "      <td>yes</td>\n",
       "    </tr>\n",
       "    <tr>\n",
       "      <th>2</th>\n",
       "      <td>1st class</td>\n",
       "      <td>adults</td>\n",
       "      <td>man</td>\n",
       "      <td>yes</td>\n",
       "    </tr>\n",
       "    <tr>\n",
       "      <th>3</th>\n",
       "      <td>1st class</td>\n",
       "      <td>adults</td>\n",
       "      <td>man</td>\n",
       "      <td>yes</td>\n",
       "    </tr>\n",
       "    <tr>\n",
       "      <th>4</th>\n",
       "      <td>1st class</td>\n",
       "      <td>adults</td>\n",
       "      <td>man</td>\n",
       "      <td>yes</td>\n",
       "    </tr>\n",
       "    <tr>\n",
       "      <th>5</th>\n",
       "      <td>1st class</td>\n",
       "      <td>adults</td>\n",
       "      <td>man</td>\n",
       "      <td>yes</td>\n",
       "    </tr>\n",
       "    <tr>\n",
       "      <th>6</th>\n",
       "      <td>1st class</td>\n",
       "      <td>adults</td>\n",
       "      <td>man</td>\n",
       "      <td>yes</td>\n",
       "    </tr>\n",
       "  </tbody>\n",
       "</table>\n",
       "</div>"
      ],
      "text/plain": [
       "       class     age  sex survived\n",
       "1  1st class  adults  man      yes\n",
       "2  1st class  adults  man      yes\n",
       "3  1st class  adults  man      yes\n",
       "4  1st class  adults  man      yes\n",
       "5  1st class  adults  man      yes\n",
       "6  1st class  adults  man      yes"
      ]
     },
     "execution_count": 41,
     "metadata": {},
     "output_type": "execute_result"
    }
   ],
   "source": [
    "df_titanic.head(6)"
   ]
  },
  {
   "cell_type": "code",
   "execution_count": 47,
   "id": "distinguished-publicity",
   "metadata": {},
   "outputs": [
    {
     "data": {
      "text/plain": [
       "(1316, 4)"
      ]
     },
     "execution_count": 47,
     "metadata": {},
     "output_type": "execute_result"
    }
   ],
   "source": [
    "df_titanic.shape # formato"
   ]
  },
  {
   "cell_type": "code",
   "execution_count": 48,
   "id": "large-eight",
   "metadata": {},
   "outputs": [
    {
     "data": {
      "text/plain": [
       "2"
      ]
     },
     "execution_count": 48,
     "metadata": {},
     "output_type": "execute_result"
    }
   ],
   "source": [
    "df_titanic.ndim # n dimensões"
   ]
  },
  {
   "cell_type": "markdown",
   "id": "ambient-string",
   "metadata": {},
   "source": [
    "Selecionar colunas específicas."
   ]
  },
  {
   "cell_type": "code",
   "execution_count": 45,
   "id": "rapid-casino",
   "metadata": {},
   "outputs": [
    {
     "data": {
      "text/html": [
       "<div>\n",
       "<style scoped>\n",
       "    .dataframe tbody tr th:only-of-type {\n",
       "        vertical-align: middle;\n",
       "    }\n",
       "\n",
       "    .dataframe tbody tr th {\n",
       "        vertical-align: top;\n",
       "    }\n",
       "\n",
       "    .dataframe thead th {\n",
       "        text-align: right;\n",
       "    }\n",
       "</style>\n",
       "<table border=\"1\" class=\"dataframe\">\n",
       "  <thead>\n",
       "    <tr style=\"text-align: right;\">\n",
       "      <th></th>\n",
       "      <th>class</th>\n",
       "      <th>age</th>\n",
       "    </tr>\n",
       "  </thead>\n",
       "  <tbody>\n",
       "    <tr>\n",
       "      <th>1</th>\n",
       "      <td>1st class</td>\n",
       "      <td>adults</td>\n",
       "    </tr>\n",
       "    <tr>\n",
       "      <th>2</th>\n",
       "      <td>1st class</td>\n",
       "      <td>adults</td>\n",
       "    </tr>\n",
       "    <tr>\n",
       "      <th>3</th>\n",
       "      <td>1st class</td>\n",
       "      <td>adults</td>\n",
       "    </tr>\n",
       "    <tr>\n",
       "      <th>4</th>\n",
       "      <td>1st class</td>\n",
       "      <td>adults</td>\n",
       "    </tr>\n",
       "    <tr>\n",
       "      <th>5</th>\n",
       "      <td>1st class</td>\n",
       "      <td>adults</td>\n",
       "    </tr>\n",
       "  </tbody>\n",
       "</table>\n",
       "</div>"
      ],
      "text/plain": [
       "       class     age\n",
       "1  1st class  adults\n",
       "2  1st class  adults\n",
       "3  1st class  adults\n",
       "4  1st class  adults\n",
       "5  1st class  adults"
      ]
     },
     "execution_count": 45,
     "metadata": {},
     "output_type": "execute_result"
    }
   ],
   "source": [
    "df_titanic[['class', 'age']].head()"
   ]
  },
  {
   "cell_type": "markdown",
   "id": "inclusive-disaster",
   "metadata": {},
   "source": [
    "---\n",
    "\n",
    "### Referências\n",
    "\n",
    "https://pandas.pydata.org/"
   ]
  }
 ],
 "metadata": {
  "kernelspec": {
   "display_name": "Python 3",
   "language": "python",
   "name": "python3"
  },
  "language_info": {
   "codemirror_mode": {
    "name": "ipython",
    "version": 3
   },
   "file_extension": ".py",
   "mimetype": "text/x-python",
   "name": "python",
   "nbconvert_exporter": "python",
   "pygments_lexer": "ipython3",
   "version": "3.9.1"
  }
 },
 "nbformat": 4,
 "nbformat_minor": 5
}
