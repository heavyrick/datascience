{
 "cells": [
  {
   "cell_type": "markdown",
   "id": "disturbed-river",
   "metadata": {},
   "source": [
    "# Python"
   ]
  },
  {
   "cell_type": "markdown",
   "id": "altered-understanding",
   "metadata": {},
   "source": [
    "\n",
    "- <a href='#l1'>Sobre</a>\n",
    "- <a href='#l2'>Instalar</a>\n",
    "- <a href='#l3'>IDEs</a>\n",
    "  - <a href='#l3-1'>Jupyter</a>\n",
    "- <a href='#l4'>Python básico</a>\n",
    "  - <a href='#l4-1'>Variáveis</a>\n",
    "  - <a href='#l4-2'>Tipos de dados</a>\n",
    "  - <a href='#l4-3'>Listas, tuplas e dicionários</a>\n",
    "  - <a href='#l4-4'>Condições</a>\n",
    "  - <a href='#l4-5'>Loopings</a>\n",
    "  - <a href='#l4-6'>Funções</a>\n",
    "\n",
    "---\n"
   ]
  },
  {
   "cell_type": "markdown",
   "id": "august-egypt",
   "metadata": {},
   "source": [
    "<a id='l1'></a>\n",
    "\n",
    "## Sobre\n",
    "\n",
    "O Python é uma linguagem de programação interpretada e foi escrita pelo matemático e desenvolvedor holandês, Guido van Rossum (65 anos), e lançada em 1991. Atualmente está na versão 3.10.\n",
    "\n",
    "Os objetivos principais de Guido com a linguagem eram:\n",
    "\n",
    "- De fácil aprendizado, intuitiva e tão poderosa quanto as competidoras;\n",
    "- Código aberto para que qualquer um pudesse contribuir.\n",
    "\n",
    "A inspiração do nome vem de um dos programas favoritos do Guido, o clássico inglês dos anos 70, Monty Pythons Flying Circus.\n",
    "\n",
    "Uma pequena sketch deles aqui no [youtube](https://www.youtube.com/watch?v=0ESmScmKWr4).\n",
    "\n",
    "#### Por que python?\n",
    "\n",
    "E por que python está sendo cada vez mais usado? (Ver o link do [Light-it](https://light-it.net/blog/most-popular-programming-languages-of-the-last-decade-and-best-choices/))\n",
    "\n",
    "- Flexível e fácil de aprender\n",
    "- Usado cada vez mais pelas comunidades de ciência de dados e também DevOps\n",
    "- Roda nos sistemas operacionais mais usados (windows, linux e mac)\n",
    "- A quantidade absurda de bibliotecas existentes (no site do [Python Package Index  - Pypi](https://pypi.org/) mostra mais de 340.000 projetos)\n",
    "\n",
    "O python pode ser usado para programação procedural (estruturada), orientado a objeto e também para programação funcional. Pode ser usado para criar apps web, desktop e mobile. Possui vários frameworks de desenvolvimento, sendo os mais famosos **Django** e **Flask**."
   ]
  },
  {
   "cell_type": "markdown",
   "id": "celtic-fairy",
   "metadata": {},
   "source": [
    "<a id='l2'></a>\n",
    "\n",
    "## Instalar\n",
    "\n",
    "Basta acessar o site do [python.org](https://www.python.org/), fazer o download de acordo com sua plataforma.\n",
    "\n",
    "Feita a instalação, pelo windows, é possível ver nos programas instalados um console interativo do python (o **REPL** - Read Evaluate Print Loop) e uma simples IDE, o **IDLE** (Integrated Development and Learning Environment) _ que na realidade é um shell coloridinho, feito com o tkinter, que é uma biblioteca gráfica do python.\n",
    "\n",
    "Em ambos é possível executar comandos python diretamente.\n",
    "\n",
    "Um outro modo é criar um arquivo `.py` com alguns comandos e executar com:\n",
    "\n",
    "```shell\n",
    "$ py .\\scripts\\teste.py\n",
    "```\n",
    "\n",
    "O resultado do teste vai imprimir a velha frase conhecida de guerra: **\"Olá mundo!\"**"
   ]
  },
  {
   "cell_type": "markdown",
   "id": "minimal-eating",
   "metadata": {},
   "source": [
    "<a id='l3'></a>\n",
    "\n",
    "## IDEs\n",
    "\n",
    "È possível trabalhar com python usando outras IDEs mais completas:\n",
    "\n",
    "- Pycharm (da Jetbrains)\n",
    "- Jupyter Notebook / JupyterLab\n",
    "- Visual Studio\n",
    "- PyDev (Python para o Eclipse)\n",
    "- Sublime Text\n",
    "- Atom\n"
   ]
  },
  {
   "cell_type": "markdown",
   "id": "divided-proceeding",
   "metadata": {},
   "source": [
    "<a id='l3-1'></a>\n",
    "\n",
    "### Jupyter\n",
    "\n",
    "O Projeto Jupyter é uma organização sem fins lucrativos criada para \"desenvolver software de código aberto, padrões abertos e serviços para computação interativa em dezenas de linguagens de programação\"\n",
    "\n",
    "O nome se refere as 3 principais linguagens suportadas por ele: `Julia, Python e R`.\n",
    "\n",
    "O Jupyter possibilita que se trabalhe com os `notebooks`, que são arquivos estruturados em JSON, com listas que contém código, textos em markdown, textos enriquecidos, imagens e gráficos. A extensão do arquivo é o `.ipynb`.\n",
    "\n",
    "Estes arquivos são bem úteis para documentação de tarefas razoavelmente simples, além de fáceis de serem compartilhados.\n",
    "\n",
    "Podem ser abertos dentro do github por exemplo:\n",
    "\n",
    "https://github.com/heavyrick/datascience/blob/master/analises/salario_minimo_dieese/salario_minimo.ipynb\n",
    "\n",
    "Para esta demonstração, iremos utilizar o Jupyterlab. Quem quiser estudar com as IDEs, só precisa lembrar-se de configurar o python como interpretador dos scripts do projeto.\n",
    "\n",
    "Para instalar o JupyterLab basta ir no prompt de comando (depois de instalado o python e verificando que a variável PATH do python está lá) e executar:\n",
    "\n",
    "```shell\n",
    "$ pip install jupyterlab\n",
    "```\n",
    "\n",
    "Para rodar, vá até a pasta com seus projetos e execute:\n",
    "\n",
    "```shell\n",
    "$ jupyter lab\n",
    "```"
   ]
  },
  {
   "cell_type": "markdown",
   "id": "visible-animation",
   "metadata": {},
   "source": [
    "<a id='l4'></a>\n",
    "\n",
    "---\n",
    "\n",
    "## Python básico\n",
    "\n",
    "Vamos testar esse programa bem simples que vai printar na tela nossa famigerada frase, e depois, vamos receber um nome de usuário para lhe dar boas vindas.\n",
    "\n",
    "```shell\n",
    "$ py .\\scripts\\variavel1.py\n",
    "```\n",
    "\n",
    "Aqui usamos duas funções predefinidas (built-in) do python `print()` e `input()`. \n",
    "\n",
    "A função print joga um texto na tela. A input para a execução do script, espera o usuário entrar com algum dado, recebe esse dado digitado, e já retorna esse valor para a variável `user_name`."
   ]
  },
  {
   "cell_type": "markdown",
   "id": "pretty-volunteer",
   "metadata": {},
   "source": [
    "Olhando para o script `tabuada.py` podemos ver que não há nenhum tipo de demarcação de início ou fim do programa (como algumas linguagens como Cobol, Pascal, necessitam), ou mesmo alguma função principal onde ele precise estar inserido (como C ou Java).\n",
    "\n",
    "O interpretador do Python trabalha com a execução de instruções (declarações), e estas podem estar escritas numa única linha:\n",
    "\n",
    "```python\n",
    "print(\"Imprimir esta instrução escrita em uma linha!\")\n",
    "```\n",
    "\n",
    "Ou até em mais de uma, mas com algumas condições, como nesse caso que deixamos claro onde começa e onde termina o conteúdo da função print.\n",
    "\n",
    "```python\n",
    "print(\"Imprimir \",\n",
    "      \"esta \",\n",
    "      \"instrução \",\n",
    "      \"escrita em \",\n",
    "      \"várias linhas!\"\n",
    "     )\n",
    "```\n",
    "\n",
    "Geralmente se trabalha com as instruções em linha única, o segundo caso é mais usado por uma questão de layout mesmo, para facilitar a leitura do código.\n",
    "\n",
    "Para quem vem do PHP, C, Java, perceba que não há ponto-e-vírgula ao final de cada instrução. \n",
    "\n",
    "Isso não quer dizer que ele não possa ser usado. Em certas situações quando se deseja escrever mais de uma instrução numa mesma linha, usa-se o `;` para separar cada instrução.\n",
    "\n",
    "```python\n",
    "print(\"um\"); print(\"dois\")\n",
    "```\n",
    "\n",
    "Porém, como um dos princípios do python é a simplicidade, não é recomendado seu uso. Acredito que seu uso só faz sentido dentro do shell, por uma questão de espaço."
   ]
  },
  {
   "cell_type": "markdown",
   "id": "dramatic-dakota",
   "metadata": {},
   "source": [
    "---\n",
    "\n",
    "<a id='l4-1'></a>\n",
    "\n",
    "### Variáveis\n",
    "\n",
    "De modo simples, variável é um espaço reservado na memória do computador, onde um determinado dado é armazenado. O programa pode criar esse espaço para guardar um dado, e recuperar quando necessário.\n",
    "\n",
    "O sinal de `=` nesse caso, é usado como atribuição (e assim o chamamos), ou seja, ele atribui o valor à variável, que o armazena. É sem dúvida um dos símbolos mais usados na programação python.\n",
    "\n",
    "No exemplo, criamos a variável `user_name`, atribuímos o valor digitado no prompt de comando para a variável, e depois usamos a função `print()` que imprimiu o valor armazenado dessa mesma variável.\n",
    "\n",
    "E porque esses espaços na memória são chamados de variáveis? Ora, porque eles variam. Uma mesma variável pode receber um determinado valor, e depois ser sobrescrita quantas vezes forem necessárias.\n",
    "\n",
    "<div style=\"text-align:center; margin: 15px 0px\">\n",
    "<img src=\"img/variavel.png\" width=\"500\" height=\"300\" />\n",
    "</div>\n",
    "\n",
    "Executando o segundo exemplo teremos uma noção disso, ao vermos como a variável `name` recebe um valor, e depois receberá um segundo valor por cima.\n",
    "\n",
    "```shell\n",
    "$ py .\\scripts\\variavel2.py\n",
    "```\n",
    "\n",
    "Mas, nem tudo são textos... as variáveis em python aceitam outros tipos de valores:\n",
    "\n",
    "- Textos (str)\n",
    "- Numéricos (int, float, complex)\n",
    "- Sequencias (list, tuple, range)\n",
    "- Mapeamento (dict)\n",
    "- Conjuntos (set, frozenset)\n",
    "- Booleanos (bool)\n",
    "- Binários (bytes, bytearray, memoryview)\n",
    "\n"
   ]
  },
  {
   "cell_type": "markdown",
   "id": "illegal-criminal",
   "metadata": {},
   "source": [
    "---\n",
    "\n",
    "<a id='l4-2'></a>\n",
    "\n",
    "### Tipos de dados"
   ]
  },
  {
   "cell_type": "markdown",
   "id": "brazilian-johnson",
   "metadata": {},
   "source": [
    "#### Strings\n",
    "\n",
    "Strings são sequências de caracteres ordenados. Não são apenas letras, mas também números e caracteres especiais _ e também os espaços em branco. Para criar uma string, basta fazê-lo entre aspas simples ou duplas ou ainda triplas."
   ]
  },
  {
   "cell_type": "markdown",
   "id": "sixth-matter",
   "metadata": {},
   "source": [
    "As aspas simples são os comumente usado para representar strings. Se houver dúvida de qual usar, use sempre essa, deixando os outros casos para ocasiões especiais."
   ]
  },
  {
   "cell_type": "code",
   "execution_count": 91,
   "id": "marked-knitting",
   "metadata": {},
   "outputs": [],
   "source": [
    "citacao_socrates = 'Só sei que nada sei'"
   ]
  },
  {
   "cell_type": "code",
   "execution_count": 92,
   "id": "cheap-effect",
   "metadata": {},
   "outputs": [
    {
     "name": "stdout",
     "output_type": "stream",
     "text": [
      "Só sei que nada sei\n"
     ]
    }
   ],
   "source": [
    "print(citacao_socrates)"
   ]
  },
  {
   "cell_type": "markdown",
   "id": "naval-airline",
   "metadata": {},
   "source": [
    "Aspas duplas funcionam normalmente, mas é interessante usar nos seguintes casos:\n",
    "\n",
    "Quando houver uma aspa simples ou apóstrofo na frase:"
   ]
  },
  {
   "cell_type": "code",
   "execution_count": 93,
   "id": "ruled-mills",
   "metadata": {},
   "outputs": [
    {
     "name": "stdout",
     "output_type": "stream",
     "text": [
      "I'm / you´re / haven't\n"
     ]
    }
   ],
   "source": [
    "print(\"I'm / you´re / haven't\")"
   ]
  },
  {
   "cell_type": "code",
   "execution_count": 95,
   "id": "comic-software",
   "metadata": {},
   "outputs": [
    {
     "name": "stdout",
     "output_type": "stream",
     "text": [
      "E então ele disse:\n",
      "_ 'Só sei que nada sei'!\n"
     ]
    }
   ],
   "source": [
    "print(\"E então ele disse:\\n_ 'Só sei que nada sei'!\")"
   ]
  },
  {
   "cell_type": "markdown",
   "id": "upset-farmer",
   "metadata": {},
   "source": [
    "As aspas triplas podem ser usadas tanto para comentários, como para representar textos longos ou que precisam ser quebrados em várias linhas."
   ]
  },
  {
   "cell_type": "code",
   "execution_count": 96,
   "id": "convinced-isaac",
   "metadata": {},
   "outputs": [],
   "source": [
    "poema_camoes = \"\"\"\n",
    "Amor é fogo que arde sem se ver;\n",
    "É ferida que dói e não se sente;\n",
    "É um contentamento descontente;\n",
    "É dor que desatina sem doer;\n",
    "\n",
    "É um não querer mais que bem querer;\n",
    "É solitário andar por entre a gente;\n",
    "É nunca contentar-se de contente;\n",
    "É cuidar que se ganha em se perder;\n",
    "\n",
    "É querer estar preso por vontade;\n",
    "É servir a quem vence, o vencedor;\n",
    "É ter com quem nos mata lealdade.\n",
    "\n",
    "Mas como causar pode seu favor\n",
    "Nos corações humanos amizade,\n",
    "Se tão contrário a si é o mesmo Amor?\n",
    "\n",
    "\\t\\t\\tLuís de Camões\n",
    "\"\"\""
   ]
  },
  {
   "cell_type": "code",
   "execution_count": 97,
   "id": "smaller-abraham",
   "metadata": {},
   "outputs": [
    {
     "name": "stdout",
     "output_type": "stream",
     "text": [
      "\n",
      "Amor é fogo que arde sem se ver;\n",
      "É ferida que dói e não se sente;\n",
      "É um contentamento descontente;\n",
      "É dor que desatina sem doer;\n",
      "\n",
      "É um não querer mais que bem querer;\n",
      "É solitário andar por entre a gente;\n",
      "É nunca contentar-se de contente;\n",
      "É cuidar que se ganha em se perder;\n",
      "\n",
      "É querer estar preso por vontade;\n",
      "É servir a quem vence, o vencedor;\n",
      "É ter com quem nos mata lealdade.\n",
      "\n",
      "Mas como causar pode seu favor\n",
      "Nos corações humanos amizade,\n",
      "Se tão contrário a si é o mesmo Amor?\n",
      "\n",
      "\t\t\tLuís de Camões\n",
      "\n"
     ]
    }
   ],
   "source": [
    "print(poema_camoes)"
   ]
  },
  {
   "cell_type": "markdown",
   "id": "israeli-salmon",
   "metadata": {},
   "source": [
    "Para ver o tipo da variável, podemos usar a função `type()`"
   ]
  },
  {
   "cell_type": "code",
   "execution_count": 98,
   "id": "greenhouse-complement",
   "metadata": {},
   "outputs": [
    {
     "name": "stdout",
     "output_type": "stream",
     "text": [
      "<class 'str'>\n"
     ]
    }
   ],
   "source": [
    "print(type(citacao_socrates))"
   ]
  },
  {
   "cell_type": "markdown",
   "id": "proper-lighter",
   "metadata": {},
   "source": [
    "Podemos fazer muuuuuuitas coisas com as strings, e para que este documento não fique gigantesco, podemos rapidamente passar por algumas das possibilidades:"
   ]
  },
  {
   "cell_type": "markdown",
   "id": "collaborative-dating",
   "metadata": {},
   "source": [
    "Concatenar textos com o símbolo `+`"
   ]
  },
  {
   "cell_type": "code",
   "execution_count": 99,
   "id": "extra-limit",
   "metadata": {},
   "outputs": [
    {
     "name": "stdout",
     "output_type": "stream",
     "text": [
      "Iron Maiden\n"
     ]
    }
   ],
   "source": [
    "str1 = 'Iron'\n",
    "str2 = \"Maiden\"\n",
    "str3 = str1 + ' ' + str2\n",
    "\n",
    "print(str3)"
   ]
  },
  {
   "cell_type": "markdown",
   "id": "special-arthur",
   "metadata": {},
   "source": [
    "Tamanho da string usando a função `len()`"
   ]
  },
  {
   "cell_type": "code",
   "execution_count": 100,
   "id": "noticed-stockholm",
   "metadata": {},
   "outputs": [
    {
     "name": "stdout",
     "output_type": "stream",
     "text": [
      "11\n"
     ]
    }
   ],
   "source": [
    "print(len(str3))"
   ]
  },
  {
   "cell_type": "markdown",
   "id": "addressed-kansas",
   "metadata": {},
   "source": [
    "Acessar um caractere através do índice, usando colchetes `[]`. No inglês, esse corte na string é chamado de `substring`"
   ]
  },
  {
   "cell_type": "code",
   "execution_count": 105,
   "id": "subsequent-state",
   "metadata": {},
   "outputs": [
    {
     "name": "stdout",
     "output_type": "stream",
     "text": [
      "Primeira letra:  I\n",
      "Segunda letra:  r\n",
      "Quinta letra:   \n",
      "Última letra:  n\n"
     ]
    }
   ],
   "source": [
    "print('Primeira letra: ', str3[0])\n",
    "print('Segunda letra: ', str3[1])\n",
    "print('Quinta letra: ', str3[4])\n",
    "print('Última letra: ', str3[-1])"
   ]
  },
  {
   "cell_type": "markdown",
   "id": "unknown-adolescent",
   "metadata": {},
   "source": [
    "Acessar um conjunto de caracteres, usando colchetes e dois-pontos para indicar início e fim `[:]`"
   ]
  },
  {
   "cell_type": "code",
   "execution_count": 108,
   "id": "municipal-rocket",
   "metadata": {},
   "outputs": [
    {
     "name": "stdout",
     "output_type": "stream",
     "text": [
      "Apenas a palavra Iron:  Iron\n",
      "Apenas a palavra Maiden:  Maiden\n",
      "Imprimir 'on Mai':  on Mai\n"
     ]
    }
   ],
   "source": [
    "# da posição inicial até a posição 4 (a última posição não é incluída)\n",
    "print('Apenas a palavra Iron: ', str3[:4])\n",
    "\n",
    "# da posição 5 em diante \n",
    "print('Apenas a palavra Maiden: ', str3[5:])\n",
    "\n",
    "# começa na posição 2 e termina na posição 8\n",
    "print(\"Imprimir 'on Mai': \", str3[2:8])"
   ]
  },
  {
   "cell_type": "markdown",
   "id": "aboriginal-hundred",
   "metadata": {},
   "source": [
    "Repetindo strings um n número de vezes:"
   ]
  },
  {
   "cell_type": "code",
   "execution_count": 109,
   "id": "subjective-motion",
   "metadata": {},
   "outputs": [
    {
     "name": "stdout",
     "output_type": "stream",
     "text": [
      "------------------------------\n",
      "Oi Oi Oi Oi Oi Oi Oi Oi Oi Oi \n",
      "------------------------------\n"
     ]
    }
   ],
   "source": [
    "print('-' * 30)\n",
    "print('Oi ' * 10)\n",
    "print('-' * 30)"
   ]
  },
  {
   "cell_type": "markdown",
   "id": "optional-accessory",
   "metadata": {},
   "source": [
    "Dividindo strings com `split()`\n",
    "\n",
    "Para dividir uma string em lista de strings, usando alguma seperador, basta chamar a função split. O tipo retornado porém, não será uma string, mas sim `list`, contendo as strings em cada item."
   ]
  },
  {
   "cell_type": "code",
   "execution_count": 94,
   "id": "devoted-tender",
   "metadata": {},
   "outputs": [
    {
     "name": "stdout",
     "output_type": "stream",
     "text": [
      "['Só', 'sei', 'que', 'nada', 'sei']\n"
     ]
    }
   ],
   "source": [
    "lista_strings = citacao_socrates.split(' ')\n",
    "\n",
    "print(lista_strings)"
   ]
  },
  {
   "cell_type": "code",
   "execution_count": 95,
   "id": "three-worship",
   "metadata": {},
   "outputs": [
    {
     "data": {
      "text/plain": [
       "list"
      ]
     },
     "execution_count": 95,
     "metadata": {},
     "output_type": "execute_result"
    }
   ],
   "source": [
    "type(lista_strings)"
   ]
  },
  {
   "cell_type": "code",
   "execution_count": 97,
   "id": "laughing-motor",
   "metadata": {},
   "outputs": [
    {
     "data": {
      "text/plain": [
       "['Texto', 'com', 'um', 'monte de', 'vír', 'gulas']"
      ]
     },
     "execution_count": 97,
     "metadata": {},
     "output_type": "execute_result"
    }
   ],
   "source": [
    "'Texto, com, um, monte de, vír, gulas'.split(', ')"
   ]
  },
  {
   "cell_type": "markdown",
   "id": "advised-employment",
   "metadata": {},
   "source": [
    "#### Números"
   ]
  },
  {
   "cell_type": "markdown",
   "id": "after-protocol",
   "metadata": {},
   "source": [
    "##### Inteiros\n",
    "\n",
    "Temos os números inteiros, que são aqueles que não tem componentes fracionais, e estes podem ser maiores e menores que zero."
   ]
  },
  {
   "cell_type": "code",
   "execution_count": 110,
   "id": "historical-hotel",
   "metadata": {},
   "outputs": [
    {
     "name": "stdout",
     "output_type": "stream",
     "text": [
      "10\n",
      "<class 'int'>\n"
     ]
    }
   ],
   "source": [
    "x = 10\n",
    "print(x)\n",
    "print(type(x))"
   ]
  },
  {
   "cell_type": "code",
   "execution_count": 111,
   "id": "terminal-likelihood",
   "metadata": {},
   "outputs": [
    {
     "name": "stdout",
     "output_type": "stream",
     "text": [
      "-15\n",
      "<class 'int'>\n"
     ]
    }
   ],
   "source": [
    "y = -15\n",
    "print(y)\n",
    "print(type(y))"
   ]
  },
  {
   "cell_type": "markdown",
   "id": "desperate-roman",
   "metadata": {},
   "source": [
    "##### Ponto / Vírgula flutuante\n",
    "\n",
    "O ponto ou vírgula flutuante (float) é uma representação digital dos números racionais. Os números racionais, por sua vez, são números que podem ser representados por meio de fração, exemplo `1/2 = 0,5`."
   ]
  },
  {
   "cell_type": "code",
   "execution_count": 112,
   "id": "complete-exclusive",
   "metadata": {},
   "outputs": [
    {
     "name": "stdout",
     "output_type": "stream",
     "text": [
      "1.75\n",
      "<class 'float'>\n"
     ]
    }
   ],
   "source": [
    "altura = 1.75\n",
    "print(altura)\n",
    "print(type(altura))"
   ]
  },
  {
   "cell_type": "markdown",
   "id": "stable-official",
   "metadata": {},
   "source": [
    "##### Valores boleanos\n",
    "\n",
    "Este só possui dois valores: `True` e `False`, escritos com letra inicial maiúscula."
   ]
  },
  {
   "cell_type": "code",
   "execution_count": 114,
   "id": "stylish-board",
   "metadata": {},
   "outputs": [
    {
     "name": "stdout",
     "output_type": "stream",
     "text": [
      "True\n",
      "<class 'bool'>\n"
     ]
    }
   ],
   "source": [
    "verdadeiro = True\n",
    "print(verdadeiro)\n",
    "print(type(verdadeiro))"
   ]
  },
  {
   "cell_type": "code",
   "execution_count": 115,
   "id": "gothic-circular",
   "metadata": {},
   "outputs": [
    {
     "name": "stdout",
     "output_type": "stream",
     "text": [
      "False\n",
      "<class 'bool'>\n"
     ]
    }
   ],
   "source": [
    "falso = False\n",
    "print(falso)\n",
    "print(type(falso))"
   ]
  },
  {
   "cell_type": "markdown",
   "id": "coral-advertiser",
   "metadata": {},
   "source": [
    "#### Operadores\n",
    "\n",
    "\n",
    "| Operador | Descrição | Examplo |\n",
    "| --|--|--|\n",
    "| + | Adição | 1 + 2 = 3 |\n",
    "| - | Subtração | 10 - 7 = 3 |\n",
    "| * | Multiplicação | 2 * 5 = 10 | \n",
    "| / | Divisão  | 15 / 2 = 7,5  |\n",
    "| // | Divisão inteira | 15 // 2 = 7 |\n",
    "| % | Modulo (resto) da divisão  | 15 % 2 = 1  |\n",
    "| ** | Potência | 2 ** 5 = 32  |\n"
   ]
  },
  {
   "cell_type": "markdown",
   "id": "higher-conservative",
   "metadata": {},
   "source": [
    "---\n",
    "\n",
    "<a id='l4-3'></a>\n",
    "\n",
    "### Listas, tuplas e dicionários\n",
    "\n",
    "Estes tipos de dados podem ser chamados de coleções, pois representam coleções de outros tipos de dados.\n",
    "\n",
    "- **Tuplas (tuple)**: é uma coleção de dados ordenados e imutáveis. Permitem dados duplicados e são indexadas;\n",
    "- **Listas (list)**: armazena uma coleção de objetos ordenados e mutáveis, são indexados e permitem dados duplicados;\n",
    "- **Dicionários (dicts)**: É uma coleção desordenada, indexada por uma chave que faz referência a um valor. O valor é retornado quando uma chave é fornecida. Não permite chaves duplicadas, mas permite valores duplicados e são mutáveis."
   ]
  },
  {
   "cell_type": "markdown",
   "id": "healthy-defense",
   "metadata": {},
   "source": [
    "#### Tuplas\n",
    "\n",
    "As tuplas (tuples) são uma coleção de dados ordenados e imutáveis. Permitem dados duplicados e são indexadas.\n",
    "\n",
    "Elas são definidas usando os parênteses `()`.\n",
    "\n",
    "As tuplas apesar de não permitirem alterações, são mais rápidas que as listas e também de certa forma, mais seguras. Mesmo quando fatiamos uma tupla, não estamos alterando a original, mas apenas criando uma nova instância da classe Tuple."
   ]
  },
  {
   "cell_type": "code",
   "execution_count": 116,
   "id": "complicated-reader",
   "metadata": {},
   "outputs": [
    {
     "name": "stdout",
     "output_type": "stream",
     "text": [
      "(1, 2, 3, 4)\n",
      "<class 'tuple'>\n"
     ]
    }
   ],
   "source": [
    "tup1 = (1, 2, 3, 4)\n",
    "\n",
    "print(tup1)\n",
    "print(type(tup1))"
   ]
  },
  {
   "cell_type": "markdown",
   "id": "handy-school",
   "metadata": {},
   "source": [
    "Para acessar os valores de uma tupla basta buscar pelo índice:"
   ]
  },
  {
   "cell_type": "code",
   "execution_count": 118,
   "id": "naval-petersburg",
   "metadata": {},
   "outputs": [
    {
     "name": "stdout",
     "output_type": "stream",
     "text": [
      "Indíce 0 da tupla:  1\n",
      "Indíce 1 da tupla:  2\n",
      "Indíce 2 da tupla:  3\n",
      "Indíce 3 da tupla:  4\n"
     ]
    }
   ],
   "source": [
    "print(\"Indíce 0 da tupla: \", tup1[0])\n",
    "\n",
    "print(\"Indíce 1 da tupla: \", tup1[1])\n",
    "print(\"Indíce 2 da tupla: \", tup1[2])\n",
    "print(\"Indíce 3 da tupla: \", tup1[3])"
   ]
  },
  {
   "cell_type": "markdown",
   "id": "thrown-links",
   "metadata": {},
   "source": [
    "Outra forma de selecionar dados da tupla é fatiando-a: "
   ]
  },
  {
   "cell_type": "code",
   "execution_count": 120,
   "id": "delayed-simple",
   "metadata": {},
   "outputs": [
    {
     "name": "stdout",
     "output_type": "stream",
     "text": [
      "Selecionar os valores centrais:\t (2, 3)\n",
      "Selecionar do índice 1 em diante :\t (2, 3, 4)\n",
      "Selecionar do índice 3 para trás :\t (1, 2, 3)\n",
      "Reverter a seleção :\t (4, 3, 2, 1)\n"
     ]
    }
   ],
   "source": [
    "print('Selecionar os valores centrais:\\t', tup1[1:3])\n",
    "\n",
    "print('Selecionar do índice 1 em diante :\\t', tup1[1:])\n",
    "\n",
    "print('Selecionar do índice 3 para trás :\\t', tup1[:3])\n",
    "\n",
    "print('Reverter a seleção :\\t', tup1[::-1])"
   ]
  },
  {
   "cell_type": "markdown",
   "id": "individual-snapshot",
   "metadata": {},
   "source": [
    "As tuplas também aceitam dados com tipos diferentes:"
   ]
  },
  {
   "cell_type": "code",
   "execution_count": 121,
   "id": "technical-proportion",
   "metadata": {},
   "outputs": [
    {
     "name": "stdout",
     "output_type": "stream",
     "text": [
      "(1, 'string', 1.5, False, ['isso', 'é', 'uma', 'lista'], (10, 15))\n"
     ]
    }
   ],
   "source": [
    "tup2 = (1, 'string', 1.5, False, ['isso', 'é', 'uma', 'lista'], (10, 15))\n",
    "\n",
    "print(tup2)"
   ]
  },
  {
   "cell_type": "code",
   "execution_count": 122,
   "id": "desperate-smile",
   "metadata": {},
   "outputs": [
    {
     "name": "stdout",
     "output_type": "stream",
     "text": [
      "1  =>  <class 'int'> \n",
      "\n",
      "string  =>  <class 'str'> \n",
      "\n",
      "1.5  =>  <class 'float'> \n",
      "\n",
      "False  =>  <class 'bool'> \n",
      "\n",
      "['isso', 'é', 'uma', 'lista']  =>  <class 'list'> \n",
      "\n",
      "(10, 15)  =>  <class 'tuple'> \n",
      "\n"
     ]
    }
   ],
   "source": [
    "for i in tup2:\n",
    "    print(i , ' => ' , type(i), '\\n')"
   ]
  },
  {
   "cell_type": "code",
   "execution_count": 123,
   "id": "departmental-calibration",
   "metadata": {},
   "outputs": [
    {
     "name": "stdout",
     "output_type": "stream",
     "text": [
      "6\n"
     ]
    }
   ],
   "source": [
    "print(len(tup2))"
   ]
  },
  {
   "cell_type": "markdown",
   "id": "soviet-apparatus",
   "metadata": {},
   "source": [
    "Verificando se um item está na tupla:"
   ]
  },
  {
   "cell_type": "code",
   "execution_count": 124,
   "id": "tribal-blackberry",
   "metadata": {},
   "outputs": [],
   "source": [
    "tup3 = ('maçã', 'banana', 'laranja', 'manga', 'abacaxi')"
   ]
  },
  {
   "cell_type": "code",
   "execution_count": 125,
   "id": "first-austin",
   "metadata": {},
   "outputs": [
    {
     "name": "stdout",
     "output_type": "stream",
     "text": [
      "Laranja está na tupla\n"
     ]
    }
   ],
   "source": [
    "if 'laranja' in tup3:\n",
    "    print('Laranja está na tupla')\n",
    "else:\n",
    "    print('Laranja não está na tupla')"
   ]
  },
  {
   "cell_type": "markdown",
   "id": "funky-verification",
   "metadata": {},
   "source": [
    "É possível criar uma tupla a partir de uma lista:"
   ]
  },
  {
   "cell_type": "code",
   "execution_count": 1,
   "id": "disciplinary-curtis",
   "metadata": {},
   "outputs": [
    {
     "name": "stdout",
     "output_type": "stream",
     "text": [
      "(1, 2, 3)\n"
     ]
    }
   ],
   "source": [
    "list1 = [1, 2, 3]\n",
    "t1 = tuple(list1)\n",
    "print(t1)"
   ]
  },
  {
   "cell_type": "markdown",
   "id": "senior-robin",
   "metadata": {},
   "source": [
    "#### Listas\n",
    "\n",
    "As listas são containers ordenados de outros objetos. São bem parecidos com as tuplas, mas, ao contrário delas, são mutáveis e aceitam a adição, remoção e alteração de elementos.\n",
    "\n",
    "Elas são definidas usando colchetes `[]`."
   ]
  },
  {
   "cell_type": "code",
   "execution_count": 127,
   "id": "natural-underground",
   "metadata": {},
   "outputs": [
    {
     "data": {
      "text/plain": [
       "['Bruce', 'Steve', 'Nicko', 'Dave', 'Janick', 'Adrian']"
      ]
     },
     "execution_count": 127,
     "metadata": {},
     "output_type": "execute_result"
    }
   ],
   "source": [
    "lista1 = ['Bruce', 'Steve', 'Nicko', 'Dave', 'Janick', 'Adrian']\n",
    "lista1"
   ]
  },
  {
   "cell_type": "code",
   "execution_count": 128,
   "id": "continental-protest",
   "metadata": {},
   "outputs": [
    {
     "name": "stdout",
     "output_type": "stream",
     "text": [
      "Indíce 0 da lista:  Bruce\n",
      "Indíce 1 da lista:  Steve\n",
      "Indíce 2 da lista:  Nicko\n",
      "Indíce 3 da lista:  Dave\n",
      "Indíce 4 da lista:  Janick\n",
      "Indíce 5 da lista:  Adrian\n"
     ]
    }
   ],
   "source": [
    "print(\"Indíce 0 da lista: \", lista1[0])\n",
    "print(\"Indíce 1 da lista: \", lista1[1])\n",
    "print(\"Indíce 2 da lista: \", lista1[2])\n",
    "print(\"Indíce 3 da lista: \", lista1[3])\n",
    "print(\"Indíce 4 da lista: \", lista1[4])\n",
    "print(\"Indíce 5 da lista: \", lista1[5])"
   ]
  },
  {
   "cell_type": "code",
   "execution_count": 129,
   "id": "provincial-astronomy",
   "metadata": {},
   "outputs": [
    {
     "name": "stdout",
     "output_type": "stream",
     "text": [
      "Selecionar os valores centrais:\t ['Nicko', 'Dave']\n",
      "Selecionar do índice 1 em diante :\t ['Steve', 'Nicko', 'Dave', 'Janick', 'Adrian']\n",
      "Selecionar do índice 3 para trás :\t ['Bruce', 'Steve', 'Nicko']\n",
      "Reverter a seleção :\t ['Adrian', 'Janick', 'Dave', 'Nicko', 'Steve', 'Bruce']\n"
     ]
    }
   ],
   "source": [
    "print('Selecionar os valores centrais:\\t', lista1[2:4])\n",
    "\n",
    "print('Selecionar do índice 1 em diante :\\t', lista1[1:])\n",
    "\n",
    "print('Selecionar do índice 3 para trás :\\t', lista1[:3])\n",
    "\n",
    "print('Reverter a seleção :\\t', lista1[::-1])"
   ]
  },
  {
   "cell_type": "markdown",
   "id": "polyphonic-light",
   "metadata": {},
   "source": [
    "**Adicionar valores na lista**\n",
    "\n",
    "Basta usar o método `append` para adicionar um elemento, e o método `extend` para adicionar uma lista de itens. Eles são adicionados no fim da lista.\n",
    "\n",
    "A adição de novos itens altera a lista original, não cria uma nova instância dela."
   ]
  },
  {
   "cell_type": "code",
   "execution_count": 130,
   "id": "simplified-arizona",
   "metadata": {},
   "outputs": [
    {
     "data": {
      "text/plain": [
       "[1, 2, 3, 4, 5, 6]"
      ]
     },
     "execution_count": 130,
     "metadata": {},
     "output_type": "execute_result"
    }
   ],
   "source": [
    "lista2 = [1,2,3,4,5,6]\n",
    "lista2"
   ]
  },
  {
   "cell_type": "code",
   "execution_count": 131,
   "id": "actual-buyer",
   "metadata": {},
   "outputs": [
    {
     "name": "stdout",
     "output_type": "stream",
     "text": [
      "[1, 2, 3, 4, 5, 6, 7]\n"
     ]
    }
   ],
   "source": [
    "lista2.append(7)\n",
    "print(lista2)"
   ]
  },
  {
   "cell_type": "code",
   "execution_count": 132,
   "id": "reported-guitar",
   "metadata": {},
   "outputs": [
    {
     "name": "stdout",
     "output_type": "stream",
     "text": [
      "[1, 2, 3, 4, 5, 6, 7, 8, 9, 10]\n"
     ]
    }
   ],
   "source": [
    "lista2.extend([8,9,10])\n",
    "print(lista2)"
   ]
  },
  {
   "cell_type": "markdown",
   "id": "regional-alaska",
   "metadata": {},
   "source": [
    "Usando o 'mais atribuição' `+=` ele reproduz o efeito do extend."
   ]
  },
  {
   "cell_type": "code",
   "execution_count": 133,
   "id": "streaming-exercise",
   "metadata": {},
   "outputs": [
    {
     "name": "stdout",
     "output_type": "stream",
     "text": [
      "[1, 2, 3, 4, 5, 6, 7, 8, 9, 10, 11, 12, 13]\n"
     ]
    }
   ],
   "source": [
    "lista2 += [11, 12, 13] \n",
    "print(lista2)"
   ]
  },
  {
   "cell_type": "markdown",
   "id": "liberal-people",
   "metadata": {},
   "source": [
    "O método `insert` permite a inserção de um item em uma posição específica.\n",
    "\n",
    "`<list>.insert(<index>, <object>)`"
   ]
  },
  {
   "cell_type": "code",
   "execution_count": 134,
   "id": "plastic-beads",
   "metadata": {},
   "outputs": [
    {
     "name": "stdout",
     "output_type": "stream",
     "text": [
      "[-1, 1, 2, 3, 4, 5, 6, 7, 8, 9, 10, 11, 12, 13]\n"
     ]
    }
   ],
   "source": [
    "# Adicionando o valor -1 na posição zero\n",
    "lista2.insert(0, -1)\n",
    "print(lista2)"
   ]
  },
  {
   "cell_type": "code",
   "execution_count": 135,
   "id": "completed-distance",
   "metadata": {},
   "outputs": [
    {
     "name": "stdout",
     "output_type": "stream",
     "text": [
      "[-1, 0, 1, 2, 3, 4, 5, 6, 7, 8, 9, 10, 11, 12, 13]\n"
     ]
    }
   ],
   "source": [
    "# Adicionando o valor 0 na posição 1\n",
    "lista2.insert(1, 0)\n",
    "print(lista2)"
   ]
  },
  {
   "cell_type": "markdown",
   "id": "received-applicant",
   "metadata": {},
   "source": [
    "**Concatenar listas**"
   ]
  },
  {
   "cell_type": "code",
   "execution_count": 136,
   "id": "streaming-arrival",
   "metadata": {},
   "outputs": [],
   "source": [
    "lista_ambev = ['brahma', 'skol', 'antartica', 'original']\n",
    "lista_petro = ['itaipava', 'petra', 'crystal', 'cacildis']"
   ]
  },
  {
   "cell_type": "code",
   "execution_count": 137,
   "id": "cloudy-whole",
   "metadata": {},
   "outputs": [
    {
     "name": "stdout",
     "output_type": "stream",
     "text": [
      "['brahma', 'skol', 'antartica', 'original', 'itaipava', 'petra', 'crystal', 'cacildis']\n"
     ]
    }
   ],
   "source": [
    "cervejas = lista_ambev + lista_petro\n",
    "\n",
    "print(cervejas)"
   ]
  },
  {
   "cell_type": "markdown",
   "id": "greek-spine",
   "metadata": {},
   "source": [
    "#### Dicionários\n",
    "\n",
    "É uma coleção desordenada, indexada por uma chave que faz referência a um valor. O valor é retornado quando uma chave é fornecida. Não permite chaves duplicadas, mas permite valores duplicados e são mutáveis.\n",
    "\n",
    "Elas são definidas usando os parênteses `{}`."
   ]
  },
  {
   "cell_type": "code",
   "execution_count": 1,
   "id": "automated-context",
   "metadata": {},
   "outputs": [],
   "source": [
    "capitais = {\n",
    "    'PR': 'Curitiba',\n",
    "    'SP': 'São Paulo',\n",
    "    'PB': 'João Pessoa',\n",
    "    'AC': 'Rio Branco'\n",
    "}"
   ]
  },
  {
   "cell_type": "code",
   "execution_count": 4,
   "id": "addressed-irrigation",
   "metadata": {},
   "outputs": [
    {
     "name": "stdout",
     "output_type": "stream",
     "text": [
      "{'PR': 'Curitiba', 'SP': 'São Paulo', 'PB': 'João Pessoa', 'AC': 'Rio Branco'}\n",
      "<class 'dict'>\n"
     ]
    }
   ],
   "source": [
    "print(capitais)\n",
    "\n",
    "print(type(capitais))"
   ]
  },
  {
   "cell_type": "code",
   "execution_count": 5,
   "id": "automatic-vector",
   "metadata": {},
   "outputs": [
    {
     "name": "stdout",
     "output_type": "stream",
     "text": [
      "Curitiba\n"
     ]
    }
   ],
   "source": [
    "print(capitais['PR'])"
   ]
  },
  {
   "cell_type": "code",
   "execution_count": 6,
   "id": "european-hello",
   "metadata": {
    "scrolled": true
   },
   "outputs": [
    {
     "data": {
      "text/plain": [
       "['__class__',\n",
       " '__class_getitem__',\n",
       " '__contains__',\n",
       " '__delattr__',\n",
       " '__delitem__',\n",
       " '__dir__',\n",
       " '__doc__',\n",
       " '__eq__',\n",
       " '__format__',\n",
       " '__ge__',\n",
       " '__getattribute__',\n",
       " '__getitem__',\n",
       " '__gt__',\n",
       " '__hash__',\n",
       " '__init__',\n",
       " '__init_subclass__',\n",
       " '__ior__',\n",
       " '__iter__',\n",
       " '__le__',\n",
       " '__len__',\n",
       " '__lt__',\n",
       " '__ne__',\n",
       " '__new__',\n",
       " '__or__',\n",
       " '__reduce__',\n",
       " '__reduce_ex__',\n",
       " '__repr__',\n",
       " '__reversed__',\n",
       " '__ror__',\n",
       " '__setattr__',\n",
       " '__setitem__',\n",
       " '__sizeof__',\n",
       " '__str__',\n",
       " '__subclasshook__',\n",
       " 'clear',\n",
       " 'copy',\n",
       " 'fromkeys',\n",
       " 'get',\n",
       " 'items',\n",
       " 'keys',\n",
       " 'pop',\n",
       " 'popitem',\n",
       " 'setdefault',\n",
       " 'update',\n",
       " 'values']"
      ]
     },
     "execution_count": 6,
     "metadata": {},
     "output_type": "execute_result"
    }
   ],
   "source": [
    "# Ver os métodos do dict\n",
    "\n",
    "dir(capitais)"
   ]
  },
  {
   "cell_type": "markdown",
   "id": "surgical-reference",
   "metadata": {},
   "source": [
    "Imprimir chaves"
   ]
  },
  {
   "cell_type": "code",
   "execution_count": 9,
   "id": "spiritual-entrance",
   "metadata": {},
   "outputs": [
    {
     "data": {
      "text/plain": [
       "dict_keys(['PR', 'SP', 'PB', 'AC'])"
      ]
     },
     "execution_count": 9,
     "metadata": {},
     "output_type": "execute_result"
    }
   ],
   "source": [
    "capitais.keys()"
   ]
  },
  {
   "cell_type": "markdown",
   "id": "motivated-alfred",
   "metadata": {},
   "source": [
    "imprimir valores"
   ]
  },
  {
   "cell_type": "code",
   "execution_count": 10,
   "id": "julian-humor",
   "metadata": {},
   "outputs": [
    {
     "data": {
      "text/plain": [
       "dict_values(['Curitiba', 'São Paulo', 'João Pessoa', 'Rio Branco'])"
      ]
     },
     "execution_count": 10,
     "metadata": {},
     "output_type": "execute_result"
    }
   ],
   "source": [
    "capitais.values()"
   ]
  },
  {
   "cell_type": "markdown",
   "id": "decreased-aviation",
   "metadata": {},
   "source": [
    "**A função construtora dict()**\n",
    "\n",
    "A função `dict()` pode ser usada para criar um objeto do tipo dicionário a partir de uma sequência ou de um iterável (lista, por exemplo) dos pares chaves:valor."
   ]
  },
  {
   "cell_type": "code",
   "execution_count": 19,
   "id": "hairy-turkey",
   "metadata": {},
   "outputs": [],
   "source": [
    "estados_sul1 = dict(rs='Rio Grande do Sul', sc='Santa Catarina', pr='Paraná')"
   ]
  },
  {
   "cell_type": "code",
   "execution_count": 20,
   "id": "encouraging-climate",
   "metadata": {},
   "outputs": [
    {
     "name": "stdout",
     "output_type": "stream",
     "text": [
      "{'rs': 'Rio Grande do Sul', 'sc': 'Santa Catarina', 'pr': 'Paraná'}\n",
      "<class 'dict'>\n"
     ]
    }
   ],
   "source": [
    "print(estados_sul1)\n",
    "print(type(estados_sul1))"
   ]
  },
  {
   "cell_type": "markdown",
   "id": "intense-roller",
   "metadata": {},
   "source": [
    "Criando um dicionário a partir de tuplas"
   ]
  },
  {
   "cell_type": "code",
   "execution_count": 22,
   "id": "creative-democrat",
   "metadata": {},
   "outputs": [],
   "source": [
    "estados_sul2 = dict([\n",
    "    ('rs', 'Rio Grande do Sul'), ('sc', 'Santa Catarina'), ('pr', 'Paraná')\n",
    "])"
   ]
  },
  {
   "cell_type": "code",
   "execution_count": 23,
   "id": "similar-validation",
   "metadata": {},
   "outputs": [
    {
     "name": "stdout",
     "output_type": "stream",
     "text": [
      "{'rs': 'Rio Grande do Sul', 'sc': 'Santa Catarina', 'pr': 'Paraná'}\n",
      "<class 'dict'>\n"
     ]
    }
   ],
   "source": [
    "print(estados_sul2)\n",
    "print(type(estados_sul2))"
   ]
  },
  {
   "cell_type": "markdown",
   "id": "ordinary-color",
   "metadata": {},
   "source": [
    "Criando um dicionário a partir de listas"
   ]
  },
  {
   "cell_type": "code",
   "execution_count": 25,
   "id": "monetary-replacement",
   "metadata": {},
   "outputs": [],
   "source": [
    "estados_sul3 = dict((\n",
    "    ['rs', 'Rio Grande do Sul'], ['sc', 'Santa Catarina'], ['pr', 'Paraná']\n",
    "))"
   ]
  },
  {
   "cell_type": "code",
   "execution_count": 26,
   "id": "corporate-liberty",
   "metadata": {},
   "outputs": [
    {
     "name": "stdout",
     "output_type": "stream",
     "text": [
      "{'rs': 'Rio Grande do Sul', 'sc': 'Santa Catarina', 'pr': 'Paraná'}\n",
      "<class 'dict'>\n"
     ]
    }
   ],
   "source": [
    "print(estados_sul3)\n",
    "print(type(estados_sul3))"
   ]
  },
  {
   "cell_type": "markdown",
   "id": "prostate-spice",
   "metadata": {},
   "source": [
    "Acessando dados de um dicionário"
   ]
  },
  {
   "cell_type": "code",
   "execution_count": 27,
   "id": "iraqi-physics",
   "metadata": {},
   "outputs": [
    {
     "name": "stdout",
     "output_type": "stream",
     "text": [
      "capitais['SP']: São Paulo\n"
     ]
    }
   ],
   "source": [
    "print(\"capitais['SP']:\", capitais['SP'])"
   ]
  },
  {
   "cell_type": "markdown",
   "id": "thorough-relationship",
   "metadata": {},
   "source": [
    "Iterando em um dict"
   ]
  },
  {
   "cell_type": "code",
   "execution_count": 34,
   "id": "superb-oasis",
   "metadata": {},
   "outputs": [
    {
     "name": "stdout",
     "output_type": "stream",
     "text": [
      "PR  =>  Curitiba\n",
      "SP  =>  São Paulo\n",
      "PB  =>  João Pessoa\n",
      "AC  =>  Rio Branco\n"
     ]
    }
   ],
   "source": [
    "for chave in capitais:\n",
    "    print(chave, ' => ', capitais[chave])"
   ]
  },
  {
   "cell_type": "markdown",
   "id": "monetary-suicide",
   "metadata": {},
   "source": [
    "**Adicionando valores**"
   ]
  },
  {
   "cell_type": "code",
   "execution_count": 35,
   "id": "billion-health",
   "metadata": {},
   "outputs": [],
   "source": [
    "capitais['PE'] = 'Recife'"
   ]
  },
  {
   "cell_type": "code",
   "execution_count": 37,
   "id": "freelance-ukraine",
   "metadata": {},
   "outputs": [
    {
     "name": "stdout",
     "output_type": "stream",
     "text": [
      "{'PR': 'Curitiba', 'SP': 'São Paulo', 'PB': 'João Pessoa', 'AC': 'Rio Branco', 'PE': 'Recife'}\n"
     ]
    }
   ],
   "source": [
    "print(capitais)"
   ]
  },
  {
   "cell_type": "markdown",
   "id": "tough-wisconsin",
   "metadata": {},
   "source": [
    "**Alterando valores**"
   ]
  },
  {
   "cell_type": "code",
   "execution_count": 40,
   "id": "forward-summit",
   "metadata": {},
   "outputs": [],
   "source": [
    "# Digamos que queremos escrever São Paulo e João Pessoa sem o acento\n",
    "\n",
    "capitais['SP'] = 'Sao Paulo'\n",
    "capitais['PB'] = 'Joao Pessoa'"
   ]
  },
  {
   "cell_type": "code",
   "execution_count": 41,
   "id": "overall-catch",
   "metadata": {},
   "outputs": [
    {
     "name": "stdout",
     "output_type": "stream",
     "text": [
      "{'PR': 'Curitiba', 'SP': 'Sao Paulo', 'PB': 'Joao Pessoa', 'AC': 'Rio Branco', 'PE': 'Recife'}\n"
     ]
    }
   ],
   "source": [
    "print(capitais)"
   ]
  },
  {
   "cell_type": "markdown",
   "id": "former-typing",
   "metadata": {},
   "source": [
    "**Removendo um valor**\n",
    "\n",
    "- `pop`: remove um item através de uma chave específica e retorna o item excluído\n",
    "- `popitem`: remove o último valor adicionado e retorna o item excluído\n",
    "- `del`: remove um item através de uma chave específica, não retorna nada"
   ]
  },
  {
   "cell_type": "code",
   "execution_count": 42,
   "id": "indoor-gamma",
   "metadata": {},
   "outputs": [
    {
     "data": {
      "text/plain": [
       "'Curitiba'"
      ]
     },
     "execution_count": 42,
     "metadata": {},
     "output_type": "execute_result"
    }
   ],
   "source": [
    "capitais.pop('PR')"
   ]
  },
  {
   "cell_type": "code",
   "execution_count": 43,
   "id": "opposite-terrorist",
   "metadata": {},
   "outputs": [
    {
     "name": "stdout",
     "output_type": "stream",
     "text": [
      "{'SP': 'Sao Paulo', 'PB': 'Joao Pessoa', 'AC': 'Rio Branco', 'PE': 'Recife'}\n"
     ]
    }
   ],
   "source": [
    "print(capitais)"
   ]
  },
  {
   "cell_type": "code",
   "execution_count": 44,
   "id": "secondary-sleeping",
   "metadata": {},
   "outputs": [
    {
     "data": {
      "text/plain": [
       "('PE', 'Recife')"
      ]
     },
     "execution_count": 44,
     "metadata": {},
     "output_type": "execute_result"
    }
   ],
   "source": [
    "capitais.popitem()"
   ]
  },
  {
   "cell_type": "code",
   "execution_count": 45,
   "id": "satisfactory-shelf",
   "metadata": {},
   "outputs": [
    {
     "name": "stdout",
     "output_type": "stream",
     "text": [
      "{'SP': 'Sao Paulo', 'PB': 'Joao Pessoa', 'AC': 'Rio Branco'}\n"
     ]
    }
   ],
   "source": [
    "print(capitais)"
   ]
  },
  {
   "cell_type": "code",
   "execution_count": 46,
   "id": "interim-implementation",
   "metadata": {},
   "outputs": [],
   "source": [
    "del capitais['SP']"
   ]
  },
  {
   "cell_type": "code",
   "execution_count": 47,
   "id": "different-climb",
   "metadata": {},
   "outputs": [
    {
     "name": "stdout",
     "output_type": "stream",
     "text": [
      "{'PB': 'Joao Pessoa', 'AC': 'Rio Branco'}\n"
     ]
    }
   ],
   "source": [
    "print(capitais)"
   ]
  },
  {
   "cell_type": "markdown",
   "id": "consistent-basin",
   "metadata": {},
   "source": [
    "---\n",
    "\n",
    "<a id='l4-4'></a>\n",
    "\n",
    "### Condições\n",
    "\n",
    "- If\n",
    "- Elif\n",
    "\n",
    "O comando `if` serve para controle de fluxos baseado em alguma condição ou condições, que podem ser verdadeiras (`True`) ou falsas (`False`).\n",
    "\n",
    "Para avaliar estas condições, utilizamos operadores de comparação."
   ]
  },
  {
   "cell_type": "code",
   "execution_count": null,
   "id": "super-material",
   "metadata": {},
   "outputs": [],
   "source": []
  },
  {
   "cell_type": "code",
   "execution_count": 139,
   "id": "married-findings",
   "metadata": {},
   "outputs": [
    {
     "name": "stdout",
     "output_type": "stream",
     "text": [
      "5 é maior que 2\n"
     ]
    }
   ],
   "source": [
    "if 5 > 2:\n",
    "    print(\"5 é maior que 2\")"
   ]
  },
  {
   "cell_type": "code",
   "execution_count": 146,
   "id": "intended-caution",
   "metadata": {},
   "outputs": [
    {
     "name": "stdout",
     "output_type": "stream",
     "text": [
      "5 é maior que 2\n"
     ]
    }
   ],
   "source": [
    "a = 5; b = 2\n",
    "\n",
    "if 5 < 2:\n",
    "    print(\"5 é menor que 2\")\n",
    "else:\n",
    "    print(\"5 é maior que 2\")"
   ]
  },
  {
   "cell_type": "code",
   "execution_count": 147,
   "id": "swiss-belief",
   "metadata": {},
   "outputs": [
    {
     "name": "stdin",
     "output_type": "stream",
     "text": [
      "Digite o valor de A: 10\n"
     ]
    }
   ],
   "source": [
    "a = int(input(\"Digite o valor de A:\"))"
   ]
  },
  {
   "cell_type": "code",
   "execution_count": 148,
   "id": "opposed-infection",
   "metadata": {},
   "outputs": [
    {
     "name": "stdin",
     "output_type": "stream",
     "text": [
      "Digite o valor de B: 5\n"
     ]
    }
   ],
   "source": [
    "b = int(input(\"Digite o valor de B:\"))"
   ]
  },
  {
   "cell_type": "code",
   "execution_count": 149,
   "id": "serious-bones",
   "metadata": {},
   "outputs": [
    {
     "name": "stdout",
     "output_type": "stream",
     "text": [
      "10 é maior que 5\n"
     ]
    }
   ],
   "source": [
    "if a > b:\n",
    "    print(\"{} é maior que {}\".format(a, b))\n",
    "else:\n",
    "    print(\"{} é maior que {}\".format(b, a))"
   ]
  },
  {
   "cell_type": "markdown",
   "id": "involved-bullet",
   "metadata": {},
   "source": [
    "### Elif"
   ]
  },
  {
   "cell_type": "code",
   "execution_count": 152,
   "id": "sensitive-likelihood",
   "metadata": {},
   "outputs": [
    {
     "name": "stdout",
     "output_type": "stream",
     "text": [
      "Sem previsão do tempo para o dia selecionado\n"
     ]
    }
   ],
   "source": [
    "dia = \"Sexta\"\n",
    "\n",
    "if dia == \"Segunda\":\n",
    "    print(\"Hoje fará sol!\")\n",
    "elif dia == \"Terça\":\n",
    "    print(\"Hoje vai chover!\")\n",
    "else:\n",
    "    print(\"Sem previsão do tempo para o dia selecionado\")"
   ]
  },
  {
   "cell_type": "markdown",
   "id": "viral-printing",
   "metadata": {},
   "source": [
    "**elif x switch**\n",
    "\n",
    "Usando o elif como um switch de outras linguagens (php, por exemplo):"
   ]
  },
  {
   "cell_type": "code",
   "execution_count": 154,
   "id": "communist-gamma",
   "metadata": {},
   "outputs": [
    {
     "name": "stdout",
     "output_type": "stream",
     "text": [
      "30\n",
      "15\n",
      "50\n"
     ]
    }
   ],
   "source": [
    "def printPreco(opcao):\n",
    "    if opcao == 1:\n",
    "        preco = 15\n",
    "    elif opcao == 2:\n",
    "        preco = 20\n",
    "    elif opcao == 3:\n",
    "        preco = 30\n",
    "    else:\n",
    "        preco = 50\n",
    "    return preco\n",
    "    \n",
    "print(printPreco(3))\n",
    "print(printPreco(1))\n",
    "print(printPreco(10))"
   ]
  },
  {
   "cell_type": "markdown",
   "id": "dense-belarus",
   "metadata": {},
   "source": [
    "---\n",
    "\n",
    "<a id='l4-5'></a>\n",
    "\n",
    "### Loopings\n",
    "\n",
    "Executam blocos de comandos repetidamente até que uma certa condição seja satisfeita. Quando a condição se torna falsa, o programa segue seu fluxo.\n",
    "\n",
    "- While\n",
    "- For"
   ]
  },
  {
   "cell_type": "markdown",
   "id": "atlantic-sally",
   "metadata": {},
   "source": [
    "#### While"
   ]
  },
  {
   "cell_type": "code",
   "execution_count": 155,
   "id": "centered-phoenix",
   "metadata": {},
   "outputs": [
    {
     "name": "stdout",
     "output_type": "stream",
     "text": [
      "1\n",
      "2\n",
      "3\n",
      "4\n",
      "5\n",
      "6\n",
      "7\n",
      "8\n",
      "9\n",
      "10\n"
     ]
    }
   ],
   "source": [
    "cont = 1\n",
    "while cont <= 10:\n",
    "    print(cont)\n",
    "    cont += 1 # cont = cont + 1"
   ]
  },
  {
   "cell_type": "code",
   "execution_count": 156,
   "id": "saving-religious",
   "metadata": {
    "scrolled": true
   },
   "outputs": [
    {
     "name": "stdout",
     "output_type": "stream",
     "text": [
      "\n",
      "\n",
      "1 x 1 = 1\n",
      "1 x 2 = 2\n",
      "1 x 3 = 3\n",
      "1 x 4 = 4\n",
      "1 x 5 = 5\n",
      "1 x 6 = 6\n",
      "1 x 7 = 7\n",
      "1 x 8 = 8\n",
      "1 x 9 = 9\n",
      "1 x 10 = 10\n",
      "\n",
      "\n",
      "2 x 1 = 2\n",
      "2 x 2 = 4\n",
      "2 x 3 = 6\n",
      "2 x 4 = 8\n",
      "2 x 5 = 10\n",
      "2 x 6 = 12\n",
      "2 x 7 = 14\n",
      "2 x 8 = 16\n",
      "2 x 9 = 18\n",
      "2 x 10 = 20\n",
      "\n",
      "\n",
      "3 x 1 = 3\n",
      "3 x 2 = 6\n",
      "3 x 3 = 9\n",
      "3 x 4 = 12\n",
      "3 x 5 = 15\n",
      "3 x 6 = 18\n",
      "3 x 7 = 21\n",
      "3 x 8 = 24\n",
      "3 x 9 = 27\n",
      "3 x 10 = 30\n",
      "\n",
      "\n",
      "4 x 1 = 4\n",
      "4 x 2 = 8\n",
      "4 x 3 = 12\n",
      "4 x 4 = 16\n",
      "4 x 5 = 20\n",
      "4 x 6 = 24\n",
      "4 x 7 = 28\n",
      "4 x 8 = 32\n",
      "4 x 9 = 36\n",
      "4 x 10 = 40\n",
      "\n",
      "\n",
      "5 x 1 = 5\n",
      "5 x 2 = 10\n",
      "5 x 3 = 15\n",
      "5 x 4 = 20\n",
      "5 x 5 = 25\n",
      "5 x 6 = 30\n",
      "5 x 7 = 35\n",
      "5 x 8 = 40\n",
      "5 x 9 = 45\n",
      "5 x 10 = 50\n",
      "\n",
      "\n",
      "6 x 1 = 6\n",
      "6 x 2 = 12\n",
      "6 x 3 = 18\n",
      "6 x 4 = 24\n",
      "6 x 5 = 30\n",
      "6 x 6 = 36\n",
      "6 x 7 = 42\n",
      "6 x 8 = 48\n",
      "6 x 9 = 54\n",
      "6 x 10 = 60\n",
      "\n",
      "\n",
      "7 x 1 = 7\n",
      "7 x 2 = 14\n",
      "7 x 3 = 21\n",
      "7 x 4 = 28\n",
      "7 x 5 = 35\n",
      "7 x 6 = 42\n",
      "7 x 7 = 49\n",
      "7 x 8 = 56\n",
      "7 x 9 = 63\n",
      "7 x 10 = 70\n",
      "\n",
      "\n",
      "8 x 1 = 8\n",
      "8 x 2 = 16\n",
      "8 x 3 = 24\n",
      "8 x 4 = 32\n",
      "8 x 5 = 40\n",
      "8 x 6 = 48\n",
      "8 x 7 = 56\n",
      "8 x 8 = 64\n",
      "8 x 9 = 72\n",
      "8 x 10 = 80\n",
      "\n",
      "\n",
      "9 x 1 = 9\n",
      "9 x 2 = 18\n",
      "9 x 3 = 27\n",
      "9 x 4 = 36\n",
      "9 x 5 = 45\n",
      "9 x 6 = 54\n",
      "9 x 7 = 63\n",
      "9 x 8 = 72\n",
      "9 x 9 = 81\n",
      "9 x 10 = 90\n",
      "\n",
      "\n",
      "10 x 1 = 10\n",
      "10 x 2 = 20\n",
      "10 x 3 = 30\n",
      "10 x 4 = 40\n",
      "10 x 5 = 50\n",
      "10 x 6 = 60\n",
      "10 x 7 = 70\n",
      "10 x 8 = 80\n",
      "10 x 9 = 90\n",
      "10 x 10 = 100\n"
     ]
    }
   ],
   "source": [
    "# Imprimir tabuada do 1 ao 10\n",
    "tabuada = 1\n",
    "while tabuada <= 10:\n",
    "    numero = 1\n",
    "    print('\\n')\n",
    "    while numero <= 10:\n",
    "        print('%d x %d = %d' % (tabuada, numero, tabuada * numero))\n",
    "        numero += 1\n",
    "    tabuada += 1"
   ]
  },
  {
   "cell_type": "markdown",
   "id": "seeing-scheme",
   "metadata": {},
   "source": [
    "#### For"
   ]
  },
  {
   "cell_type": "code",
   "execution_count": 157,
   "id": "insured-answer",
   "metadata": {},
   "outputs": [
    {
     "name": "stdout",
     "output_type": "stream",
     "text": [
      "1\n",
      "2\n",
      "3\n",
      "4\n"
     ]
    }
   ],
   "source": [
    "lista = [1,2,3,4]\n",
    "\n",
    "for item in lista:\n",
    "    print(item)"
   ]
  },
  {
   "cell_type": "code",
   "execution_count": 158,
   "id": "authorized-soundtrack",
   "metadata": {},
   "outputs": [
    {
     "name": "stdout",
     "output_type": "stream",
     "text": [
      "B\n",
      "l\n",
      "i\n",
      "n\n",
      "d\n",
      " \n",
      "G\n",
      "u\n",
      "a\n",
      "r\n",
      "d\n",
      "i\n",
      "a\n",
      "n\n"
     ]
    }
   ],
   "source": [
    "palavra = \"Blind Guardian\"\n",
    "\n",
    "for letra in palavra:\n",
    "    print(letra)"
   ]
  },
  {
   "cell_type": "code",
   "execution_count": 159,
   "id": "endless-couple",
   "metadata": {},
   "outputs": [
    {
     "name": "stdout",
     "output_type": "stream",
     "text": [
      "0\n",
      "1\n",
      "2\n",
      "3\n",
      "4\n",
      "5\n"
     ]
    }
   ],
   "source": [
    "# Range retorna uma sequencia de números\n",
    "\n",
    "for i in range(0,6):\n",
    "    print(i)"
   ]
  },
  {
   "cell_type": "code",
   "execution_count": 163,
   "id": "adopted-click",
   "metadata": {},
   "outputs": [
    {
     "name": "stdout",
     "output_type": "stream",
     "text": [
      "p y t h o n "
     ]
    }
   ],
   "source": [
    "nome = 'python'\n",
    "\n",
    "for letra in nome:\n",
    "    print(letra, end=' ')"
   ]
  },
  {
   "cell_type": "code",
   "execution_count": 164,
   "id": "intermediate-vehicle",
   "metadata": {},
   "outputs": [
    {
     "name": "stdout",
     "output_type": "stream",
     "text": [
      "0\n",
      "2\n",
      "4\n",
      "6\n",
      "8\n",
      "10\n",
      "12\n",
      "14\n",
      "16\n",
      "18\n",
      "20\n"
     ]
    }
   ],
   "source": [
    "# Imprimindo na tela os números pares da lista de números\n",
    "\n",
    "lista = range(0,21)\n",
    "\n",
    "for num in lista:\n",
    "    if num % 2 == 0: # resto da divisão\n",
    "        print (num)"
   ]
  },
  {
   "cell_type": "code",
   "execution_count": 166,
   "id": "moving-harassment",
   "metadata": {},
   "outputs": [
    {
     "name": "stdout",
     "output_type": "stream",
     "text": [
      "Encontrou: 3\n"
     ]
    }
   ],
   "source": [
    "lista = [1, 10, 3, 4]\n",
    "busca = 3\n",
    "\n",
    "for i in lista:\n",
    "    if i == busca:\n",
    "        print('Encontrou:', i)\n",
    "        break"
   ]
  },
  {
   "cell_type": "code",
   "execution_count": 167,
   "id": "becoming-alberta",
   "metadata": {},
   "outputs": [
    {
     "name": "stdout",
     "output_type": "stream",
     "text": [
      "[1, 2, 3]\n",
      "[10, 15, 14]\n",
      "[10.1, 8.7, 2.3]\n"
     ]
    }
   ],
   "source": [
    "# Loops em lista de listas\n",
    "\n",
    "listas = [[1,2,3], [10,15,14], [10.1,8.7,2.3]]\n",
    "\n",
    "for valor in listas:\n",
    "    print(valor)"
   ]
  },
  {
   "cell_type": "markdown",
   "id": "according-minutes",
   "metadata": {},
   "source": [
    "---\n",
    "\n",
    "<a id='l4-6'></a>\n",
    "\n",
    "### Funções\n",
    "\n",
    "O python possui tanto as funções builtin, que já ficam disnponíveis para uso, mas oferece, como qualquer linguagem, a chance do usuário criar suas próprias funções."
   ]
  },
  {
   "cell_type": "markdown",
   "id": "dated-structure",
   "metadata": {},
   "source": [
    "**help**\n",
    "\n",
    "A função `help()` explica como utilizar funções ou métodos de um determinado objeto."
   ]
  },
  {
   "cell_type": "code",
   "execution_count": 168,
   "id": "funded-technician",
   "metadata": {},
   "outputs": [
    {
     "name": "stdout",
     "output_type": "stream",
     "text": [
      "Help on built-in function print in module builtins:\n",
      "\n",
      "print(...)\n",
      "    print(value, ..., sep=' ', end='\\n', file=sys.stdout, flush=False)\n",
      "    \n",
      "    Prints the values to a stream, or to sys.stdout by default.\n",
      "    Optional keyword arguments:\n",
      "    file:  a file-like object (stream); defaults to the current sys.stdout.\n",
      "    sep:   string inserted between values, default a space.\n",
      "    end:   string appended after the last value, default a newline.\n",
      "    flush: whether to forcibly flush the stream.\n",
      "\n"
     ]
    }
   ],
   "source": [
    "help(print)"
   ]
  },
  {
   "cell_type": "code",
   "execution_count": 170,
   "id": "complimentary-disaster",
   "metadata": {},
   "outputs": [
    {
     "data": {
      "text/plain": [
       "\u001b[1;31mDocstring:\u001b[0m\n",
       "print(value, ..., sep=' ', end='\\n', file=sys.stdout, flush=False)\n",
       "\n",
       "Prints the values to a stream, or to sys.stdout by default.\n",
       "Optional keyword arguments:\n",
       "file:  a file-like object (stream); defaults to the current sys.stdout.\n",
       "sep:   string inserted between values, default a space.\n",
       "end:   string appended after the last value, default a newline.\n",
       "flush: whether to forcibly flush the stream.\n",
       "\u001b[1;31mType:\u001b[0m      builtin_function_or_method\n"
      ]
     },
     "metadata": {},
     "output_type": "display_data"
    }
   ],
   "source": [
    "print?"
   ]
  },
  {
   "cell_type": "code",
   "execution_count": 171,
   "id": "taken-completion",
   "metadata": {},
   "outputs": [
    {
     "name": "stdout",
     "output_type": "stream",
     "text": [
      "[1, 2, 'a', 'b']\n"
     ]
    }
   ],
   "source": [
    "lista = [1, 2, 'a', 'b']\n",
    "print(lista)"
   ]
  },
  {
   "cell_type": "code",
   "execution_count": 172,
   "id": "piano-tattoo",
   "metadata": {},
   "outputs": [
    {
     "data": {
      "text/plain": [
       "1"
      ]
     },
     "execution_count": 172,
     "metadata": {},
     "output_type": "execute_result"
    }
   ],
   "source": [
    "lista.count('a') # contar quantos valores do parâmetro são encontrados na lista"
   ]
  },
  {
   "cell_type": "code",
   "execution_count": 173,
   "id": "formed-denial",
   "metadata": {},
   "outputs": [
    {
     "name": "stdout",
     "output_type": "stream",
     "text": [
      "Help on built-in function count:\n",
      "\n",
      "count(value, /) method of builtins.list instance\n",
      "    Return number of occurrences of value.\n",
      "\n"
     ]
    }
   ],
   "source": [
    "help(lista.count)"
   ]
  },
  {
   "cell_type": "code",
   "execution_count": 174,
   "id": "representative-immune",
   "metadata": {},
   "outputs": [
    {
     "data": {
      "text/plain": [
       "\u001b[1;31mSignature:\u001b[0m \u001b[0mlista\u001b[0m\u001b[1;33m.\u001b[0m\u001b[0mcount\u001b[0m\u001b[1;33m(\u001b[0m\u001b[0mvalue\u001b[0m\u001b[1;33m,\u001b[0m \u001b[1;33m/\u001b[0m\u001b[1;33m)\u001b[0m\u001b[1;33m\u001b[0m\u001b[1;33m\u001b[0m\u001b[0m\n",
       "\u001b[1;31mDocstring:\u001b[0m Return number of occurrences of value.\n",
       "\u001b[1;31mType:\u001b[0m      builtin_function_or_method\n"
      ]
     },
     "metadata": {},
     "output_type": "display_data"
    }
   ],
   "source": [
    "?lista.count"
   ]
  },
  {
   "cell_type": "markdown",
   "id": "simplified-london",
   "metadata": {},
   "source": [
    "A função dir() mostra todos os métodos e atributos de um objeto."
   ]
  },
  {
   "cell_type": "code",
   "execution_count": 175,
   "id": "legal-meditation",
   "metadata": {
    "scrolled": true
   },
   "outputs": [
    {
     "data": {
      "text/plain": [
       "['__add__',\n",
       " '__class__',\n",
       " '__class_getitem__',\n",
       " '__contains__',\n",
       " '__delattr__',\n",
       " '__delitem__',\n",
       " '__dir__',\n",
       " '__doc__',\n",
       " '__eq__',\n",
       " '__format__',\n",
       " '__ge__',\n",
       " '__getattribute__',\n",
       " '__getitem__',\n",
       " '__gt__',\n",
       " '__hash__',\n",
       " '__iadd__',\n",
       " '__imul__',\n",
       " '__init__',\n",
       " '__init_subclass__',\n",
       " '__iter__',\n",
       " '__le__',\n",
       " '__len__',\n",
       " '__lt__',\n",
       " '__mul__',\n",
       " '__ne__',\n",
       " '__new__',\n",
       " '__reduce__',\n",
       " '__reduce_ex__',\n",
       " '__repr__',\n",
       " '__reversed__',\n",
       " '__rmul__',\n",
       " '__setattr__',\n",
       " '__setitem__',\n",
       " '__sizeof__',\n",
       " '__str__',\n",
       " '__subclasshook__',\n",
       " 'append',\n",
       " 'clear',\n",
       " 'copy',\n",
       " 'count',\n",
       " 'extend',\n",
       " 'index',\n",
       " 'insert',\n",
       " 'pop',\n",
       " 'remove',\n",
       " 'reverse',\n",
       " 'sort']"
      ]
     },
     "execution_count": 175,
     "metadata": {},
     "output_type": "execute_result"
    }
   ],
   "source": [
    "dir(lista)"
   ]
  },
  {
   "cell_type": "markdown",
   "id": "strange-glass",
   "metadata": {},
   "source": [
    "#### def \n",
    "\n",
    "A palavra chave para criar uma função é `def` de `User defined functions` _ porque não quiseram usar a palavra function, eu não sei ..."
   ]
  },
  {
   "cell_type": "code",
   "execution_count": 178,
   "id": "affecting-mambo",
   "metadata": {},
   "outputs": [],
   "source": [
    "def soma(a, b):\n",
    "    return a + b"
   ]
  },
  {
   "cell_type": "code",
   "execution_count": 179,
   "id": "naval-audit",
   "metadata": {},
   "outputs": [
    {
     "name": "stdin",
     "output_type": "stream",
     "text": [
      "Digite o valor de A:  15\n"
     ]
    }
   ],
   "source": [
    "a = int(input(\"Digite o valor de A: \"))"
   ]
  },
  {
   "cell_type": "code",
   "execution_count": 180,
   "id": "needed-economics",
   "metadata": {},
   "outputs": [
    {
     "name": "stdin",
     "output_type": "stream",
     "text": [
      "Digite o valor de B:  5\n"
     ]
    }
   ],
   "source": [
    "b = int(input(\"Digite o valor de B: \"))"
   ]
  },
  {
   "cell_type": "code",
   "execution_count": 181,
   "id": "obvious-accommodation",
   "metadata": {},
   "outputs": [
    {
     "name": "stdout",
     "output_type": "stream",
     "text": [
      "O resultado da operação é 20\n"
     ]
    }
   ],
   "source": [
    "resultado = soma(a, b)\n",
    "\n",
    "print(\"O resultado da operação é %i\" % resultado)"
   ]
  },
  {
   "cell_type": "code",
   "execution_count": 182,
   "id": "stock-emerald",
   "metadata": {},
   "outputs": [
    {
     "name": "stdout",
     "output_type": "stream",
     "text": [
      "desconhecido\n"
     ]
    }
   ],
   "source": [
    "# colocar valor padrão\n",
    "def imprimir_nome(nome='desconhecido'):\n",
    "    \"\"\"\n",
    "    Descrição da função\n",
    "    \n",
    "    Parameters\n",
    "    ----------\n",
    "    nome : str\n",
    "        nome que será impresso\n",
    "        \n",
    "    Examples\n",
    "    --------\n",
    "    >>> imprimir_nome(\"Python\")\n",
    "    Python\n",
    "    \"\"\"\n",
    "    print(nome)\n",
    "    \n",
    "imprimir_nome()"
   ]
  },
  {
   "cell_type": "code",
   "execution_count": 183,
   "id": "surrounded-parameter",
   "metadata": {},
   "outputs": [
    {
     "name": "stdout",
     "output_type": "stream",
     "text": [
      "Help on function imprimir_nome in module __main__:\n",
      "\n",
      "imprimir_nome(nome='desconhecido')\n",
      "    Descrição da função\n",
      "    \n",
      "    Parameters\n",
      "    ----------\n",
      "    nome : str\n",
      "        nome que será impresso\n",
      "        \n",
      "    Examples\n",
      "    --------\n",
      "    >>> imprimir_nome(\"Python\")\n",
      "    Python\n",
      "\n"
     ]
    }
   ],
   "source": [
    "help(imprimir_nome)"
   ]
  },
  {
   "cell_type": "markdown",
   "id": "excess-order",
   "metadata": {},
   "source": [
    "#### Funções lambda\n",
    "\n",
    "Lambda é uma função definida sem nome (função anônima) \n",
    "\n",
    "`lambda arguments: expression`\n",
    "\n",
    "Funções lambda podem ter vários argumentos mas apenas uma expressão. Esta expressão é avaliada e retornada.\n",
    "\n",
    "Elas são bem úteis quando utilizadas dentro de outras funções."
   ]
  },
  {
   "cell_type": "code",
   "execution_count": 184,
   "id": "armed-scheduling",
   "metadata": {},
   "outputs": [],
   "source": [
    "# Definindo uma função - 2 linhas de código\n",
    "def potencia(num):\n",
    "    \"\"\" Retorna a potencia de 2 de um número qualquer\"\"\"\n",
    "    return num ** 2"
   ]
  },
  {
   "cell_type": "code",
   "execution_count": 185,
   "id": "focal-connecticut",
   "metadata": {},
   "outputs": [
    {
     "data": {
      "text/plain": [
       "25"
      ]
     },
     "execution_count": 185,
     "metadata": {},
     "output_type": "execute_result"
    }
   ],
   "source": [
    "potencia(5)"
   ]
  },
  {
   "cell_type": "code",
   "execution_count": 186,
   "id": "leading-montana",
   "metadata": {},
   "outputs": [],
   "source": [
    "# Definindo uma função - 1 linha de código\n",
    "def potencia(num): return num ** 2"
   ]
  },
  {
   "cell_type": "code",
   "execution_count": 187,
   "id": "advised-terror",
   "metadata": {},
   "outputs": [
    {
     "data": {
      "text/plain": [
       "4"
      ]
     },
     "execution_count": 187,
     "metadata": {},
     "output_type": "execute_result"
    }
   ],
   "source": [
    "potencia(2)"
   ]
  },
  {
   "cell_type": "code",
   "execution_count": 188,
   "id": "induced-society",
   "metadata": {},
   "outputs": [],
   "source": [
    "# Definindo uma expressão lambda\n",
    "potencia = lambda num: num ** 2"
   ]
  },
  {
   "cell_type": "code",
   "execution_count": 189,
   "id": "ancient-night",
   "metadata": {},
   "outputs": [
    {
     "data": {
      "text/plain": [
       "9"
      ]
     },
     "execution_count": 189,
     "metadata": {},
     "output_type": "execute_result"
    }
   ],
   "source": [
    "potencia(3)"
   ]
  },
  {
   "cell_type": "markdown",
   "id": "european-ozone",
   "metadata": {},
   "source": [
    "x é o valor de entrada, é multiplicado por 2 e atribuído a variável f_teste que se torna uma função anônima"
   ]
  },
  {
   "cell_type": "code",
   "execution_count": 190,
   "id": "premier-politics",
   "metadata": {},
   "outputs": [
    {
     "name": "stdout",
     "output_type": "stream",
     "text": [
      "8\n",
      "20\n"
     ]
    }
   ],
   "source": [
    "f_teste = lambda x: x*2\n",
    "\n",
    "print(f_teste(4))\n",
    "print(f_teste(10))"
   ]
  },
  {
   "cell_type": "code",
   "execution_count": 44,
   "id": "atlantic-trauma",
   "metadata": {},
   "outputs": [],
   "source": [
    "def lambda_teste(n):\n",
    "    return lambda a : a * n"
   ]
  },
  {
   "cell_type": "code",
   "execution_count": 49,
   "id": "rubber-letters",
   "metadata": {},
   "outputs": [],
   "source": [
    "# A variável dobro recebe uma função, com parâmetro específico\n",
    "# que tem uma função lambda dentro dela\n",
    "\n",
    "dobro = lambda_teste(2)\n",
    "triplo = lambda_teste(3)"
   ]
  },
  {
   "cell_type": "code",
   "execution_count": 50,
   "id": "filled-specialist",
   "metadata": {},
   "outputs": [
    {
     "name": "stdout",
     "output_type": "stream",
     "text": [
      "<class 'function'>\n",
      "<class 'function'>\n"
     ]
    }
   ],
   "source": [
    "print(type(dobro))\n",
    "\n",
    "print(type(triplo))"
   ]
  },
  {
   "cell_type": "code",
   "execution_count": 54,
   "id": "sitting-forestry",
   "metadata": {},
   "outputs": [
    {
     "name": "stdout",
     "output_type": "stream",
     "text": [
      "Imprime o dobro do valor:\t 22\n",
      "Imprime o triplo do valor:\t 33\n"
     ]
    }
   ],
   "source": [
    "print(\"Imprime o dobro do valor:\\t\", dobro(11))\n",
    "\n",
    "print(\"Imprime o triplo do valor:\\t\", triplo(11))"
   ]
  },
  {
   "cell_type": "markdown",
   "id": "foreign-angle",
   "metadata": {},
   "source": [
    "---\n",
    "\n",
    "### Referências\n",
    "\n",
    "https://www.python.org/\n",
    "\n",
    "https://docs.python.org/3/library/idle.html\n",
    "\n",
    "https://light-it.net/blog/most-popular-programming-languages-of-the-last-decade-and-best-choices/\n",
    "\n",
    "https://github.com/heavyrick/datascience\n",
    "\n",
    "https://pt.wikipedia.org/wiki/Projeto_Jupyter\n",
    "\n",
    "https://jupyter.org/install\n",
    "\n",
    "[A Beginners Guide to Python 3 Programming - John Hunt](https://www.amazon.com.br/Beginners-Guide-Python-Programming/dp/3030202895)\n",
    "\n",
    "https://cloudflare-ipfs.com/ipfs/bafykbzacecaqnlyiho3oeahajqy2qapkuhesbeqaisw5higyqqhv64nayo46y?filename=%28Undergraduate%20Topics%20In%20Computer%20Science%29%20John%20Hunt%20-%20A%20Beginners%20Guide%20To%20Python%203%20Programming-Springer%20%282019%29.pdf\n",
    "\n",
    "https://pandas.pydata.org/docs/development/contributing_docstring.html"
   ]
  }
 ],
 "metadata": {
  "kernelspec": {
   "display_name": "Python 3",
   "language": "python",
   "name": "python3"
  },
  "language_info": {
   "codemirror_mode": {
    "name": "ipython",
    "version": 3
   },
   "file_extension": ".py",
   "mimetype": "text/x-python",
   "name": "python",
   "nbconvert_exporter": "python",
   "pygments_lexer": "ipython3",
   "version": "3.9.1"
  }
 },
 "nbformat": 4,
 "nbformat_minor": 5
}
