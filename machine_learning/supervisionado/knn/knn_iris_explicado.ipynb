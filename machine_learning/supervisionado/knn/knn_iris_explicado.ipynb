{
 "cells": [
  {
   "cell_type": "markdown",
   "id": "numerous-character",
   "metadata": {},
   "source": [
    "# Iris dataset com KNN\n",
    "\n",
    "O Iris é um dataset clássico, e ele será usado aqui apenas para um exemplo para a aplicação do algoritmo knn. \n",
    "\n",
    "- Sobre o Knn\n",
    "- Aplicação\n",
    "- Treinando o modelo\n",
    "- Avaliando o modelo"
   ]
  },
  {
   "cell_type": "markdown",
   "id": "intensive-patrick",
   "metadata": {},
   "source": [
    "---\n",
    "\n",
    "### Sobre o Knn\n",
    "\n",
    "É um algoritmo de apredizado supervisionado, ou seja, devemos treiná-lo sob supervisão com dados já rotulados. Dado um conjunto de observações (x,y), precisamos estabelecer o relacionamento entre `x` _ os dados _ e `y` _ os rótulos _ para que quando tivermos novos dados, consigamos aplicar uma função que consiga prever corretamente o resultado desse dado.\n",
    "\n",
    "O knn é fácil de ser implementado e é frequentemente utilizado como primeiro passo para se ensinar machine learning. É usado também em aplicações como predições para as áreas da economia, genética, agronomia, compressão de dados e etc.\n",
    "\n",
    "E como funciona?\n",
    "\n",
    "Digamos que temos duas classes de dados, a classe 1 (quadradinho azul) e a classe 2 (triângulo vermelho), e estes dados estão dispostos num plano. Agora imagine que um novo dado entra no modelo, mas este dado ainda não foi classificado, não sabemos a que classe ele pertence, se a 1 ou a 2. É essa nossa tarefa, usar o knn para descobrir à qual classe pertencerá esse novo dado de entrada.\n",
    "\n",
    "Como o knn lida com isso? Pela maioria de votos de seus vizinhos mais próximos. Sim, é isso mesmo. Se a maioria destes vizinhos selecionados forem da classe 1, o novo dado será classificado como da classe 1, e se estes vizinhos forem majoritariamente da classe 2, esse dado será classificado como da classe 2. \n",
    "\n",
    "Portanto, devemos fornecer ao algoritmo um valor `k`, que é ***a quantidade de vizinhos mais próximos*** _ e de preferência devemos fornecer um valor que não gere empate.\n",
    "\n",
    "Olhando para imagem abaixo, se `k = 1`, o vizinho mais próximo é da classe 1, logo, o novo dado será classificado como da classe 1. Se `k = 3`, os três vizinhos mais próximos serão avaliados, e pela imagem abaixo, percebemos que temos um da classe 1 e dois da classe 2, logo, o dado de entrada será classificado como da classe 2.\n",
    "\n",
    "<div style=\"text-align:center\">\n",
    "<img src=\"img/knn.png\" width=\"400\" height=\"350\" />\n",
    "</div>"
   ]
  },
  {
   "cell_type": "markdown",
   "id": "sapphire-freight",
   "metadata": {},
   "source": [
    "Esse processo deve ser feito como todos os novos dados de entrada. E depois disso, devemos avaliar se a classificação foi bem feita.\n",
    "\n",
    "Toda vez que um novo dado entra no modelo para classificação, o algoritmo vai ordenar todos os dados e verificar quais os mais próximos dessa entrada. Quanto maior o valor de k, mais dados deverão ser processados e ordenados por proximidade para classificar o novo valor, que ao mesmo tempo que aumenta sua assertividade na classificação, é uma operação custosa do ponto de vista do processamento. Mas se o valor de k for baixo, resultará num overfitting.\n",
    "\n",
    "***Um valor de k baixo falhará na generalização, um valor alto de k é custoso.***\n",
    "\n",
    "Portanto temos que achar um valor de k que seja próximo do ideal para o nosso modelo.\n",
    "\n",
    "No exemplo abaixo, temos os gráficos que idenficam os erros de classificação para as duas classes, e podemos perceber que quando aproximadamente `k = 8`, os erros dos dois lados são mínimos, mas se passa disso, os erros aumentam muito. \n",
    "\n",
    "<img src=\"img/error_graph.jpg\" />"
   ]
  },
  {
   "cell_type": "markdown",
   "id": "three-joint",
   "metadata": {},
   "source": [
    "---\n",
    "\n",
    "### Aplicação\n"
   ]
  },
  {
   "cell_type": "code",
   "execution_count": 2,
   "id": "paperback-robinson",
   "metadata": {},
   "outputs": [],
   "source": [
    "# Pacotes\n",
    "import pandas as pd\n",
    "from pandas.plotting import scatter_matrix\n",
    "\n",
    "import numpy as np\n",
    "import mglearn\n",
    "\n",
    "import matplotlib.pyplot as plt\n",
    "import seaborn as sns\n",
    "%matplotlib inline"
   ]
  },
  {
   "cell_type": "markdown",
   "id": "comic-implement",
   "metadata": {},
   "source": [
    "---\n",
    "\n",
    "#### Conhecendo os dados\n",
    "\n",
    "Baixar os dados do dataset do sklearn."
   ]
  },
  {
   "cell_type": "code",
   "execution_count": 3,
   "id": "regulation-mailman",
   "metadata": {},
   "outputs": [],
   "source": [
    "from sklearn.datasets import load_iris\n",
    "\n",
    "iris_dataset = load_iris()"
   ]
  },
  {
   "cell_type": "code",
   "execution_count": 4,
   "id": "protective-capture",
   "metadata": {},
   "outputs": [
    {
     "name": "stdout",
     "output_type": "stream",
     "text": [
      "Chaves do dataset: \n",
      "dict_keys(['data', 'target', 'frame', 'target_names', 'DESCR', 'feature_names', 'filename'])\n"
     ]
    }
   ],
   "source": [
    "print(\"Chaves do dataset: \\n{}\".format(iris_dataset.keys()))"
   ]
  },
  {
   "cell_type": "markdown",
   "id": "worse-builder",
   "metadata": {},
   "source": [
    "- data: são os atributos\n",
    "- target: são os ids dos dados alvo\n",
    "- target_names: o rótulo de cada espécie que queremos prever\n",
    "- DESCR: uma descrição do dataset\n",
    "- feature_names: a descrição de cada atributo\n",
    "- filename: o local da maquina onde está localizado o dataset"
   ]
  },
  {
   "cell_type": "markdown",
   "id": "catholic-lighting",
   "metadata": {},
   "source": [
    "Cada linha do dataset é um registro de cada amostra de uma flor, as colunas são seus atributos, no caso as medidas em centímetros das pétalas e sépalas (width = largura; length = comprimento)."
   ]
  },
  {
   "cell_type": "code",
   "execution_count": 5,
   "id": "general-crack",
   "metadata": {},
   "outputs": [
    {
     "name": "stdout",
     "output_type": "stream",
     "text": [
      "['sepal length (cm)', 'sepal width (cm)', 'petal length (cm)', 'petal width (cm)']\n"
     ]
    }
   ],
   "source": [
    "print(iris_dataset['feature_names'])"
   ]
  },
  {
   "cell_type": "markdown",
   "id": "changed-closing",
   "metadata": {},
   "source": [
    "Aqui temos as três espécies das flores estudadas"
   ]
  },
  {
   "cell_type": "code",
   "execution_count": 6,
   "id": "comfortable-mirror",
   "metadata": {},
   "outputs": [
    {
     "name": "stdout",
     "output_type": "stream",
     "text": [
      "['setosa' 'versicolor' 'virginica']\n"
     ]
    }
   ],
   "source": [
    "print(iris_dataset['target_names'])"
   ]
  },
  {
   "cell_type": "markdown",
   "id": "extensive-construction",
   "metadata": {},
   "source": [
    "Os dados que queremos estão no formato `numpy.ndarray`"
   ]
  },
  {
   "cell_type": "code",
   "execution_count": 7,
   "id": "empty-water",
   "metadata": {},
   "outputs": [
    {
     "name": "stdout",
     "output_type": "stream",
     "text": [
      "Tipo de dado: <class 'numpy.ndarray'>\n"
     ]
    }
   ],
   "source": [
    "print(\"Tipo de dado: {}\".format(type(iris_dataset['data'])))"
   ]
  },
  {
   "cell_type": "code",
   "execution_count": 8,
   "id": "crazy-rates",
   "metadata": {},
   "outputs": [
    {
     "data": {
      "text/plain": [
       "(150, 4)"
      ]
     },
     "execution_count": 8,
     "metadata": {},
     "output_type": "execute_result"
    }
   ],
   "source": [
    "iris_dataset['data'].shape"
   ]
  },
  {
   "cell_type": "markdown",
   "id": "fitting-louisville",
   "metadata": {},
   "source": [
    "Vamos dividir nossos dados em treino e teste, com treino de 25% e de forma randômica, para que diminua a chance de haver seleção de dados de apenas uma classe."
   ]
  },
  {
   "cell_type": "code",
   "execution_count": 9,
   "id": "hearing-amendment",
   "metadata": {},
   "outputs": [],
   "source": [
    "from sklearn.model_selection import train_test_split"
   ]
  },
  {
   "cell_type": "code",
   "execution_count": 10,
   "id": "liberal-palace",
   "metadata": {},
   "outputs": [],
   "source": [
    "X_train, X_test, y_train, y_test = train_test_split(\n",
    "    iris_dataset['data'], iris_dataset['target'], random_state=123, train_size=0.25\n",
    ")"
   ]
  },
  {
   "cell_type": "code",
   "execution_count": 11,
   "id": "vocational-writer",
   "metadata": {},
   "outputs": [
    {
     "name": "stdout",
     "output_type": "stream",
     "text": [
      "X treino:\t (37, 4)\n",
      "X teste:\t (113, 4)\n",
      "y treino:\t (37,)\n",
      "y teste:\t (113,)\n"
     ]
    }
   ],
   "source": [
    "print(\"X treino:\\t\", X_train.shape)\n",
    "print(\"X teste:\\t\", X_test.shape)\n",
    "print(\"y treino:\\t\", y_train.shape)\n",
    "print(\"y teste:\\t\", y_test.shape)"
   ]
  },
  {
   "cell_type": "markdown",
   "id": "patient-cloud",
   "metadata": {},
   "source": [
    "Preparando os dados para visualização."
   ]
  },
  {
   "cell_type": "code",
   "execution_count": 12,
   "id": "described-deployment",
   "metadata": {},
   "outputs": [],
   "source": [
    "iris_dataframe = pd.DataFrame(X_train, columns=iris_dataset.feature_names)"
   ]
  },
  {
   "cell_type": "code",
   "execution_count": 13,
   "id": "annoying-hometown",
   "metadata": {},
   "outputs": [
    {
     "data": {
      "text/html": [
       "<div>\n",
       "<style scoped>\n",
       "    .dataframe tbody tr th:only-of-type {\n",
       "        vertical-align: middle;\n",
       "    }\n",
       "\n",
       "    .dataframe tbody tr th {\n",
       "        vertical-align: top;\n",
       "    }\n",
       "\n",
       "    .dataframe thead th {\n",
       "        text-align: right;\n",
       "    }\n",
       "</style>\n",
       "<table border=\"1\" class=\"dataframe\">\n",
       "  <thead>\n",
       "    <tr style=\"text-align: right;\">\n",
       "      <th></th>\n",
       "      <th>sepal length (cm)</th>\n",
       "      <th>sepal width (cm)</th>\n",
       "      <th>petal length (cm)</th>\n",
       "      <th>petal width (cm)</th>\n",
       "    </tr>\n",
       "  </thead>\n",
       "  <tbody>\n",
       "    <tr>\n",
       "      <th>0</th>\n",
       "      <td>6.9</td>\n",
       "      <td>3.1</td>\n",
       "      <td>4.9</td>\n",
       "      <td>1.5</td>\n",
       "    </tr>\n",
       "    <tr>\n",
       "      <th>1</th>\n",
       "      <td>5.8</td>\n",
       "      <td>2.6</td>\n",
       "      <td>4.0</td>\n",
       "      <td>1.2</td>\n",
       "    </tr>\n",
       "    <tr>\n",
       "      <th>2</th>\n",
       "      <td>5.7</td>\n",
       "      <td>2.8</td>\n",
       "      <td>4.1</td>\n",
       "      <td>1.3</td>\n",
       "    </tr>\n",
       "    <tr>\n",
       "      <th>3</th>\n",
       "      <td>7.6</td>\n",
       "      <td>3.0</td>\n",
       "      <td>6.6</td>\n",
       "      <td>2.1</td>\n",
       "    </tr>\n",
       "    <tr>\n",
       "      <th>4</th>\n",
       "      <td>5.0</td>\n",
       "      <td>3.4</td>\n",
       "      <td>1.5</td>\n",
       "      <td>0.2</td>\n",
       "    </tr>\n",
       "  </tbody>\n",
       "</table>\n",
       "</div>"
      ],
      "text/plain": [
       "   sepal length (cm)  sepal width (cm)  petal length (cm)  petal width (cm)\n",
       "0                6.9               3.1                4.9               1.5\n",
       "1                5.8               2.6                4.0               1.2\n",
       "2                5.7               2.8                4.1               1.3\n",
       "3                7.6               3.0                6.6               2.1\n",
       "4                5.0               3.4                1.5               0.2"
      ]
     },
     "execution_count": 13,
     "metadata": {},
     "output_type": "execute_result"
    }
   ],
   "source": [
    "iris_dataframe.head()"
   ]
  },
  {
   "cell_type": "code",
   "execution_count": 14,
   "id": "difficult-annotation",
   "metadata": {},
   "outputs": [
    {
     "data": {
      "text/plain": [
       "array([1, 1, 1, 2, 0])"
      ]
     },
     "execution_count": 14,
     "metadata": {},
     "output_type": "execute_result"
    }
   ],
   "source": [
    "y_train[:5]"
   ]
  },
  {
   "cell_type": "code",
   "execution_count": 15,
   "id": "serious-scott",
   "metadata": {},
   "outputs": [
    {
     "data": {
      "image/png": "[encoded data removed]",
      "text/plain": [
       "<Figure size 1080x1080 with 16 Axes>"
      ]
     },
     "metadata": {
      "needs_background": "light"
     },
     "output_type": "display_data"
    }
   ],
   "source": [
    "grr = scatter_matrix(iris_dataframe, c=y_train, \n",
    "                        figsize=(15, 15), \n",
    "                        marker='o', hist_kwds={'bins': 20}, s=60, alpha=.8,\n",
    "                        cmap=mglearn.cm3);"
   ]
  },
  {
   "cell_type": "markdown",
   "id": "solid-philippines",
   "metadata": {},
   "source": [
    "Observando os gráficos, é possível perceber que as classes estão relativamente separadas. Com isso podemos concluir que um algoritmo de ML poderá aprender a separar os dados."
   ]
  },
  {
   "cell_type": "markdown",
   "id": "turkish-yeast",
   "metadata": {},
   "source": [
    "---\n",
    "\n",
    "### Treinando o modelo\n",
    "\n",
    "O algoritmo classificador knn é implementado pela classe `KNeighborsClassifier`. Antes de utilizar essa classe, devemos instanciá-la em um objeto. É aqui que setamos os parâmetro do modelo, sendo o mais importante dele, a quantidade de vizinhos."
   ]
  },
  {
   "cell_type": "code",
   "execution_count": 16,
   "id": "departmental-engagement",
   "metadata": {},
   "outputs": [],
   "source": [
    "from sklearn.neighbors import KNeighborsClassifier"
   ]
  },
  {
   "cell_type": "code",
   "execution_count": 17,
   "id": "traditional-wildlife",
   "metadata": {},
   "outputs": [],
   "source": [
    "# Definir o valor de vizinhos\n",
    "knn = KNeighborsClassifier(n_neighbors=1) "
   ]
  },
  {
   "cell_type": "markdown",
   "id": "forbidden-ghost",
   "metadata": {},
   "source": [
    "Ele vai encapsular o algoritmo que será usado para construir o modelo dos dados de treinamento, e também o algoritmo que fará a previsão dos novos dados de entrada.\n",
    "\n",
    "Depois basta treinar o modelo com o método `fit` usando os dados de treinamento `X_train` e seus rótulos `y_train`"
   ]
  },
  {
   "cell_type": "code",
   "execution_count": 18,
   "id": "general-developer",
   "metadata": {},
   "outputs": [
    {
     "data": {
      "text/plain": [
       "KNeighborsClassifier(n_neighbors=1)"
      ]
     },
     "execution_count": 18,
     "metadata": {},
     "output_type": "execute_result"
    }
   ],
   "source": [
    "# Treinando o modelo\n",
    "knn.fit(X_train, y_train)"
   ]
  },
  {
   "cell_type": "markdown",
   "id": "prostate-lesbian",
   "metadata": {},
   "source": [
    "---\n",
    "\n",
    "### Fazendo previsões\n",
    "\n",
    "Treinado o modelo, podemos entrar com alguns dados para obter a previsão de suas classes.\n",
    "\n",
    "Aqui criei este dicionário apenas para não perdermos de vista os rótulos dos dados."
   ]
  },
  {
   "cell_type": "code",
   "execution_count": 19,
   "id": "unsigned-singer",
   "metadata": {},
   "outputs": [],
   "source": [
    "X_ndata = {'sepal length (cm)': 5, 'sepal width (cm)': 2.9, \n",
    "           'petal length (cm)': 1, 'petal width (cm)': 0.2}"
   ]
  },
  {
   "cell_type": "code",
   "execution_count": 20,
   "id": "adjacent-scholarship",
   "metadata": {},
   "outputs": [
    {
     "data": {
      "text/plain": [
       "array([[5. , 2.9, 1. , 0.2]])"
      ]
     },
     "execution_count": 20,
     "metadata": {},
     "output_type": "execute_result"
    }
   ],
   "source": [
    "# Passando o dicionário para np.array\n",
    "\n",
    "X_new = np.array([list(X_ndata.values())])\n",
    "X_new"
   ]
  },
  {
   "cell_type": "markdown",
   "id": "rural-canadian",
   "metadata": {},
   "source": [
    "Não podemos esquecer que o scikit-learn sempre trabalha com arrays de duas dimensões, por isso vamos ver seu shape para validar se a conversão deu certo:"
   ]
  },
  {
   "cell_type": "code",
   "execution_count": 21,
   "id": "buried-geneva",
   "metadata": {},
   "outputs": [
    {
     "data": {
      "text/plain": [
       "(1, 4)"
      ]
     },
     "execution_count": 21,
     "metadata": {},
     "output_type": "execute_result"
    }
   ],
   "source": [
    "X_new.shape # certo, temos um array de duas dimensões: 1 linha, 4 colunas"
   ]
  },
  {
   "cell_type": "code",
   "execution_count": 22,
   "id": "authorized-valley",
   "metadata": {},
   "outputs": [],
   "source": [
    "prediction = knn.predict(X_new)"
   ]
  },
  {
   "cell_type": "code",
   "execution_count": 23,
   "id": "velvet-compilation",
   "metadata": {},
   "outputs": [
    {
     "name": "stdout",
     "output_type": "stream",
     "text": [
      "Previsão: [0]\n"
     ]
    }
   ],
   "source": [
    "print(\"Previsão: {}\".format(prediction))"
   ]
  },
  {
   "cell_type": "code",
   "execution_count": 24,
   "id": "broadband-grounds",
   "metadata": {},
   "outputs": [
    {
     "name": "stdout",
     "output_type": "stream",
     "text": [
      "Nome da classe prevista: ['setosa']\n"
     ]
    }
   ],
   "source": [
    "print(\"Nome da classe prevista: {}\".format(iris_dataset['target_names'][prediction]))"
   ]
  },
  {
   "cell_type": "markdown",
   "id": "aging-somewhere",
   "metadata": {},
   "source": [
    "O modelo previu que este novo dado de entrada da flor pertence a classe `0`, a `setosa`. \n",
    "\n",
    "Isso não quer dizer que acertamos, precisamos avaliar a qualidade do modelo."
   ]
  },
  {
   "cell_type": "markdown",
   "id": "smaller-expert",
   "metadata": {},
   "source": [
    "---\n",
    "\n",
    "### Avaliando o modelo\n",
    "\n",
    "Não temos certeza do resultado que o modelo nos deu, mas, ainda temos uma parte dos dados que não usamos, os dados de teste, e estes sim, sabemos suas classes corretas. Portanto, podemos usar os dados de teste para ver se o modelo vai fazer as previsões corretas, e com isso avaliar o modelo. "
   ]
  },
  {
   "cell_type": "code",
   "execution_count": 25,
   "id": "perceived-amplifier",
   "metadata": {},
   "outputs": [
    {
     "name": "stdout",
     "output_type": "stream",
     "text": [
      "Previsões dos dados de teste:\n",
      " [2 2 2 1 0 2 1 0 0 1 2 0 1 2 2 2 0 0 1 0 0 1 0 2 0 0 0 2 2 0 2 1 0 0 1 1 2\n",
      " 0 0 1 1 0 2 2 2 2 2 1 0 0 2 0 0 1 1 1 1 2 1 2 0 2 1 0 0 2 1 2 2 0 1 1 1 0\n",
      " 2 1 1 0 2 2 0 0 1 2 2 0 0 1 0 2 2 0 2 0 0 1 0 0 1 2 1 1 1 0 0 1 1 0 0 1 1\n",
      " 1 2]\n"
     ]
    }
   ],
   "source": [
    "y_pred = knn.predict(X_test)\n",
    "print(\"Previsões dos dados de teste:\\n {}\".format(y_pred))"
   ]
  },
  {
   "cell_type": "code",
   "execution_count": 26,
   "id": "congressional-factory",
   "metadata": {},
   "outputs": [
    {
     "name": "stdout",
     "output_type": "stream",
     "text": [
      "Score dos dados de teste: 0.94\n"
     ]
    }
   ],
   "source": [
    "#print(\"Test set score: {:.2f}\".format(np.mean(y_pred == y_test)))\n",
    "\n",
    "print(\"Score dos dados de teste: {:.2f}\".format(knn.score(X_test, y_test)))"
   ]
  },
  {
   "cell_type": "code",
   "execution_count": 43,
   "id": "answering-disclosure",
   "metadata": {},
   "outputs": [
    {
     "data": {
      "text/plain": [
       "array([ True, False, False, False, False, False, False, False, False,\n",
       "       False, False, False, False, False, False, False, False, False,\n",
       "       False, False, False,  True, False, False, False, False, False,\n",
       "       False, False, False, False,  True, False, False, False, False,\n",
       "       False, False, False, False, False, False, False, False, False,\n",
       "       False, False, False, False, False, False, False, False, False,\n",
       "       False, False, False, False, False, False, False, False, False,\n",
       "       False, False, False, False, False, False, False, False, False,\n",
       "        True, False, False, False, False, False, False, False, False,\n",
       "       False, False,  True, False, False, False, False, False,  True,\n",
       "       False, False, False, False, False, False, False, False, False,\n",
       "       False, False, False, False, False, False, False,  True, False,\n",
       "       False, False, False, False, False])"
      ]
     },
     "execution_count": 43,
     "metadata": {},
     "output_type": "execute_result"
    }
   ],
   "source": [
    "pred_i != y_test"
   ]
  },
  {
   "cell_type": "code",
   "execution_count": 38,
   "id": "catholic-bangladesh",
   "metadata": {},
   "outputs": [
    {
     "data": {
      "text/plain": [
       "0.061946902654867256"
      ]
     },
     "execution_count": 38,
     "metadata": {},
     "output_type": "execute_result"
    }
   ],
   "source": [
    "e"
   ]
  },
  {
   "cell_type": "markdown",
   "id": "drawn-history",
   "metadata": {},
   "source": [
    "Para este modelo, a acuracia dos dados de teste é de `0,94`, e isso quer dizer que a previsão correta será feita em 94% dos casos.\n",
    "\n",
    "Por ser um dataset pequeno, podemos ainda ter dúvidas se esse valor é confiável. Mas também temos que lembrar que se trata de uma aplicação simples, e com um percentual elevado, então podemos crer que este valor seja confiável o suficiente para usarmos esse modelo.\n",
    "\n",
    "Outra forma de avaliar é através da matriz de confusão."
   ]
  },
  {
   "cell_type": "code",
   "execution_count": 27,
   "id": "southwest-channels",
   "metadata": {},
   "outputs": [],
   "source": [
    "from sklearn.metrics import classification_report,confusion_matrix, f1_score"
   ]
  },
  {
   "cell_type": "code",
   "execution_count": 28,
   "id": "plain-advertiser",
   "metadata": {},
   "outputs": [
    {
     "name": "stdout",
     "output_type": "stream",
     "text": [
      "[[42  0  0]\n",
      " [ 0 32  3]\n",
      " [ 0  4 32]]\n"
     ]
    }
   ],
   "source": [
    "print(confusion_matrix(y_test, y_pred))"
   ]
  },
  {
   "cell_type": "markdown",
   "id": "recreational-ground",
   "metadata": {},
   "source": [
    "- | 0: setosa | 1: versicolor | 2: virginica |\n",
    "--|--|--|--|\n",
    "**0: setosa** | 42 | 0 | 0 |\n",
    "**1: versicolor** | 0 | 32 | 3 |\n",
    "**2: virginica** | 0 | 4 | 32 |\n"
   ]
  },
  {
   "cell_type": "markdown",
   "id": "enormous-devices",
   "metadata": {},
   "source": [
    "Olhando para as colunas:\n",
    "\n",
    "- O modelo previu 42 flores como setosa e acertou todas;\n",
    "- O modelo previu 36 flores como versicolor, ele acertou em 32 e errou em 4 (virginica)\n",
    "- O modelo previu 35 flores como virginica, ele acertou em 32 e errou em 3 (versicolor)"
   ]
  },
  {
   "cell_type": "markdown",
   "id": "acceptable-calendar",
   "metadata": {},
   "source": [
    "Vamos relembrar rapidamente as métricas de avaliação:\n",
    "\n",
    "**Acurácia (accuracy)**: Retorna a acurácia geral do modelo, que é a fração do total de amostras que foram corretamente classificadas.\n",
    "\n",
    "(TP + TN) / (TP + TN + FP + FN)\n",
    "\n",
    "**Precisão (precision)**: Retorna a fração das predições da classe positiva que foram de fato previsto como positivas.\n",
    "\n",
    "TP / (TP+FP)\n",
    "\n",
    "**Sensibilidade (recall)**: Retorna a fração de todas as amostras positivas que foram corretamente previstas como verdadeiro positivo.\n",
    "\n",
    "TP / (TP + FN)\n",
    "\n",
    "**Especificidade (specificity)**: Retorna a fração das amostras negativas que foram corretamente previstas como negativas.\n",
    "\n",
    "TN / (TN + FP)\n",
    "\n",
    "**F1-score**: Combina a precisão e a sensibilidade numa medida única.\n",
    "\n",
    "2 * ((precisão * sensibilidade) / (precisão + sensibilidade)) = 2 * TP / (2*TP + FP + FN)"
   ]
  },
  {
   "cell_type": "markdown",
   "id": "foreign-corpus",
   "metadata": {},
   "source": [
    "- | TP | TN | FP | FN |\n",
    "--|--|--|--|--|\n",
    "**0: setosa** | 42 | 71 | 0 | 0 |\n",
    "**1: versicolor** | 32 | 75 | 3 | 4 |\n",
    "**2: virginica** | 32 | 74 | 4 | 3 |\n",
    "\n",
    "- | Setosa | Versicolor | Virginica |\n",
    "--|--|--|--|\n",
    "**acurácia** | 113 / 113 = 1 | 107 / 113 = 0,96 | 106 / 113 = 0,94 |\n",
    "**precisão** | 42 / 42 = 1 | 32 / 35 = 0,91 | 32 / 36 = 0,89 |\n",
    "**sensibilidade** | 42 / 42 = 1  | 32 / 36 = 0,89 | 32 / 35 = 0,89 |\n",
    "**f1-score** | 2 * (1 / 2) = 1 | 2 * (0,8099 / 1,8) = 0,90 | 2 * (1,8 / 0,8099) = 0,90 | "
   ]
  },
  {
   "cell_type": "markdown",
   "id": "distributed-supplement",
   "metadata": {},
   "source": [
    "Claro que as contas acima são apenas para um melhor entendimento, porque existem maneiras de ter estes resultados vinda de uma função."
   ]
  },
  {
   "cell_type": "code",
   "execution_count": 29,
   "id": "martial-instrumentation",
   "metadata": {},
   "outputs": [
    {
     "name": "stdout",
     "output_type": "stream",
     "text": [
      "              precision    recall  f1-score   support\n",
      "\n",
      "           0       1.00      1.00      1.00        42\n",
      "           1       0.89      0.91      0.90        35\n",
      "           2       0.91      0.89      0.90        36\n",
      "\n",
      "    accuracy                           0.94       113\n",
      "   macro avg       0.93      0.93      0.93       113\n",
      "weighted avg       0.94      0.94      0.94       113\n",
      "\n"
     ]
    }
   ],
   "source": [
    "print(classification_report(y_test, y_pred))"
   ]
  },
  {
   "cell_type": "code",
   "execution_count": 30,
   "id": "exact-defensive",
   "metadata": {},
   "outputs": [
    {
     "name": "stdout",
     "output_type": "stream",
     "text": [
      "0.9342723004694836\n"
     ]
    }
   ],
   "source": [
    "# Outra forma de obter o f1_score\n",
    "\n",
    "print(f1_score(y_test, y_pred, average='macro'))"
   ]
  },
  {
   "cell_type": "markdown",
   "id": "appreciated-weather",
   "metadata": {},
   "source": [
    "#### Encontrando um outro valor para k\n",
    "\n",
    "Para fixar, vamos voltar ao esquema de classificação:\n",
    "\n",
    "- É selecionado um valor para k\n",
    "- Calcula-se a distância entre os dados de teste e dados de treino\n",
    "- Checar a classe dos vizinhos mais próximos e classificar os dados de entrada\n",
    "- A classificação é feita pela maioria de votos\n",
    "- Uma classe é retornada para cada dado de entrada\n",
    "\n",
    "No começo não sabemos o melhor valor para k, e também não há um método estatístico para encontrar esse valor, por isso selecionamos um valor aleatório inicialmente.\n",
    "\n",
    "Para isso, podemos treinar o modelo com valores diferentes de k, e a cada novo valor, verificar a taxa de erro e plotar no gráfico. Ao final, podemos encontrar a menor taxa de erro, e selecionar este valor de k."
   ]
  },
  {
   "cell_type": "code",
   "execution_count": 51,
   "id": "decreased-ultimate",
   "metadata": {},
   "outputs": [],
   "source": [
    "def error_rate(X_train, y_train, X_test, y_test):\n",
    "    \"\"\"\n",
    "    Treina o algoritmo do knn com diferentes valores de k\n",
    "    Gera as previsões para cada valor de k\n",
    "    Retorna o error_rating, que é a média dos erros de previsão, ou seja,\n",
    "    a diferença da previsão para o valor de teste.\n",
    "    \"\"\"\n",
    "    error_rate = []\n",
    "\n",
    "    # Levará algum tempo\n",
    "    for i in range(1,20):\n",
    "\n",
    "        knn = KNeighborsClassifier(n_neighbors=i)\n",
    "        knn.fit(X_train, y_train) # treinar o modelo\n",
    "        pred_i = knn.predict(X_test) # gerar as previsões\n",
    "        # verifica se o valor previsto é diferente do valor de teste, \n",
    "        # ao final tira a média dos erros\n",
    "        error_rate.append(np.mean(pred_i != y_test))\n",
    "        \n",
    "    return error_rate\n",
    "\n",
    "def errors_chart(error_rate):\n",
    "    \"\"\"\n",
    "    Recebe os erros e plota no gráfico\n",
    "    \"\"\"\n",
    "    plt.figure(figsize=(10,6))\n",
    "    plt.plot(range(1,20),error_rate,color='blue', linestyle='dashed', marker='o',\n",
    "             markerfacecolor='red', markersize=10)\n",
    "    plt.title('Error Rate x K Value')\n",
    "    plt.xlabel('K')\n",
    "    plt.ylabel('Error Rate')"
   ]
  },
  {
   "cell_type": "code",
   "execution_count": 49,
   "id": "reserved-trance",
   "metadata": {},
   "outputs": [],
   "source": [
    "erros = error_rate(X_train, y_train, X_test, y_test)"
   ]
  },
  {
   "cell_type": "code",
   "execution_count": 50,
   "id": "vertical-pontiac",
   "metadata": {
    "scrolled": true
   },
   "outputs": [
    {
     "data": {
      "text/plain": [
       "[0.061946902654867256,\n",
       " 0.07079646017699115,\n",
       " 0.07079646017699115,\n",
       " 0.05309734513274336,\n",
       " 0.05309734513274336,\n",
       " 0.04424778761061947,\n",
       " 0.05309734513274336,\n",
       " 0.05309734513274336,\n",
       " 0.061946902654867256,\n",
       " 0.035398230088495575,\n",
       " 0.035398230088495575,\n",
       " 0.08849557522123894,\n",
       " 0.05309734513274336,\n",
       " 0.07964601769911504,\n",
       " 0.08849557522123894,\n",
       " 0.09734513274336283,\n",
       " 0.4247787610619469,\n",
       " 0.46017699115044247,\n",
       " 0.46017699115044247]"
      ]
     },
     "execution_count": 50,
     "metadata": {},
     "output_type": "execute_result"
    }
   ],
   "source": [
    "erros"
   ]
  },
  {
   "cell_type": "code",
   "execution_count": 52,
   "id": "based-objective",
   "metadata": {},
   "outputs": [
    {
     "data": {
      "image/png": "[encoded data removed]",
      "text/plain": [
       "<Figure size 720x432 with 1 Axes>"
      ]
     },
     "metadata": {
      "needs_background": "light"
     },
     "output_type": "display_data"
    }
   ],
   "source": [
    "errors_chart(erros)"
   ]
  },
  {
   "cell_type": "markdown",
   "id": "objective-liabilities",
   "metadata": {},
   "source": [
    "A menor taxa de erros está entre `k 10 e 11`, e depois de k = 13 os erros começam a aumentar.\n",
    "\n",
    "Vamos treinar o modelo novamente, mas agora com `k = 10`."
   ]
  },
  {
   "cell_type": "code",
   "execution_count": 54,
   "id": "forward-multiple",
   "metadata": {},
   "outputs": [
    {
     "name": "stdout",
     "output_type": "stream",
     "text": [
      "Com K=10\n",
      "\n",
      "\n",
      "[[42  0  0]\n",
      " [ 0 34  1]\n",
      " [ 0  3 33]]\n",
      "\n",
      "\n",
      "              precision    recall  f1-score   support\n",
      "\n",
      "           0       1.00      1.00      1.00        42\n",
      "           1       0.92      0.97      0.94        35\n",
      "           2       0.97      0.92      0.94        36\n",
      "\n",
      "    accuracy                           0.96       113\n",
      "   macro avg       0.96      0.96      0.96       113\n",
      "weighted avg       0.97      0.96      0.96       113\n",
      "\n"
     ]
    }
   ],
   "source": [
    "# Agora com K = 10\n",
    "knn = KNeighborsClassifier(n_neighbors=10)\n",
    "\n",
    "knn.fit(X_train,y_train)\n",
    "pred = knn.predict(X_test)\n",
    "\n",
    "print('Com K=10')\n",
    "print('\\n')\n",
    "print(confusion_matrix(y_test,pred))\n",
    "print('\\n')\n",
    "print(classification_report(y_test,pred))"
   ]
  },
  {
   "cell_type": "markdown",
   "id": "former-victory",
   "metadata": {},
   "source": [
    "De fato, a acurácia melhorou cerca de 0.2 pontos com `k = 10`."
   ]
  },
  {
   "cell_type": "markdown",
   "id": "english-authorization",
   "metadata": {},
   "source": [
    "---\n",
    "\n",
    "### Referências\n",
    "\n",
    "https://scikit-learn.org/stable/datasets.html\n",
    "\n",
    "https://github.com/amueller/introduction_to_ml_with_python\n",
    "\n",
    "https://medium.com/data-hackers/entendendo-o-que-%C3%A9-matriz-de-confus%C3%A3o-com-python-114e683ec509\n",
    "\n",
    "https://towardsdatascience.com/confusion-matrix-for-your-multi-class-machine-learning-model-ff9aa3bf7826\n",
    "\n",
    "https://scikit-learn.org/stable/modules/generated/sklearn.metrics.f1_score.html\n",
    "\n",
    "https://inferir.com.br/artigos/algoritimo-knn-para-classificacao/\n",
    "\n",
    "https://www.digitalocean.com/community/tutorials/processing-incoming-request-data-in-flask-pt\n",
    "\n",
    "https://towardsdatascience.com/how-to-find-the-optimal-value-of-k-in-knn-35d936e554eb"
   ]
  }
 ],
 "metadata": {
  "kernelspec": {
   "display_name": "Python 3",
   "language": "python",
   "name": "python3"
  },
  "language_info": {
   "codemirror_mode": {
    "name": "ipython",
    "version": 3
   },
   "file_extension": ".py",
   "mimetype": "text/x-python",
   "name": "python",
   "nbconvert_exporter": "python",
   "pygments_lexer": "ipython3",
   "version": "3.9.1"
  }
 },
 "nbformat": 4,
 "nbformat_minor": 5
}
