{
 "cells": [
  {
   "cell_type": "markdown",
   "id": "overhead-species",
   "metadata": {},
   "source": [
    "# Encontrando anomalias com Knn\n",
    "\n",
    "Neste notebook vamos novamente usar os dados do iris, mas desta vez para identificar os outliers. Apesar de ser um algoritmo supervisionado, aqui ele será usado de forma não supervisionada porque não se deseja fazer nenhuma classificação, e sim apenas encontrar um limiar para os dados."
   ]
  },
  {
   "cell_type": "code",
   "execution_count": 2,
   "id": "afraid-metadata",
   "metadata": {},
   "outputs": [],
   "source": [
    "# importar bibliotecas\n",
    "import pandas as pd\n",
    "import numpy as np\n",
    "import matplotlib.pyplot as plt\n",
    "%matplotlib inline\n",
    "\n",
    "from sklearn.datasets import load_iris\n",
    "from sklearn.neighbors import NearestNeighbors"
   ]
  },
  {
   "cell_type": "code",
   "execution_count": 6,
   "id": "obvious-motor",
   "metadata": {},
   "outputs": [],
   "source": [
    "# Carregar dados\n",
    "\n",
    "iris_dataset = load_iris()\n",
    "iris_dataframe = pd.DataFrame(iris_dataset.data, columns=iris_dataset.feature_names)"
   ]
  },
  {
   "cell_type": "markdown",
   "id": "vietnamese-stock",
   "metadata": {},
   "source": [
    "**Visualizar os dados**"
   ]
  },
  {
   "cell_type": "code",
   "execution_count": 8,
   "id": "continent-habitat",
   "metadata": {},
   "outputs": [
    {
     "data": {
      "text/html": [
       "<div>\n",
       "<style scoped>\n",
       "    .dataframe tbody tr th:only-of-type {\n",
       "        vertical-align: middle;\n",
       "    }\n",
       "\n",
       "    .dataframe tbody tr th {\n",
       "        vertical-align: top;\n",
       "    }\n",
       "\n",
       "    .dataframe thead th {\n",
       "        text-align: right;\n",
       "    }\n",
       "</style>\n",
       "<table border=\"1\" class=\"dataframe\">\n",
       "  <thead>\n",
       "    <tr style=\"text-align: right;\">\n",
       "      <th></th>\n",
       "      <th>sepal length (cm)</th>\n",
       "      <th>sepal width (cm)</th>\n",
       "      <th>petal length (cm)</th>\n",
       "      <th>petal width (cm)</th>\n",
       "    </tr>\n",
       "  </thead>\n",
       "  <tbody>\n",
       "    <tr>\n",
       "      <th>0</th>\n",
       "      <td>5.1</td>\n",
       "      <td>3.5</td>\n",
       "      <td>1.4</td>\n",
       "      <td>0.2</td>\n",
       "    </tr>\n",
       "    <tr>\n",
       "      <th>1</th>\n",
       "      <td>4.9</td>\n",
       "      <td>3.0</td>\n",
       "      <td>1.4</td>\n",
       "      <td>0.2</td>\n",
       "    </tr>\n",
       "    <tr>\n",
       "      <th>2</th>\n",
       "      <td>4.7</td>\n",
       "      <td>3.2</td>\n",
       "      <td>1.3</td>\n",
       "      <td>0.2</td>\n",
       "    </tr>\n",
       "    <tr>\n",
       "      <th>3</th>\n",
       "      <td>4.6</td>\n",
       "      <td>3.1</td>\n",
       "      <td>1.5</td>\n",
       "      <td>0.2</td>\n",
       "    </tr>\n",
       "    <tr>\n",
       "      <th>4</th>\n",
       "      <td>5.0</td>\n",
       "      <td>3.6</td>\n",
       "      <td>1.4</td>\n",
       "      <td>0.2</td>\n",
       "    </tr>\n",
       "  </tbody>\n",
       "</table>\n",
       "</div>"
      ],
      "text/plain": [
       "   sepal length (cm)  sepal width (cm)  petal length (cm)  petal width (cm)\n",
       "0                5.1               3.5                1.4               0.2\n",
       "1                4.9               3.0                1.4               0.2\n",
       "2                4.7               3.2                1.3               0.2\n",
       "3                4.6               3.1                1.5               0.2\n",
       "4                5.0               3.6                1.4               0.2"
      ]
     },
     "execution_count": 8,
     "metadata": {},
     "output_type": "execute_result"
    }
   ],
   "source": [
    "iris_dataframe.head()"
   ]
  },
  {
   "cell_type": "code",
   "execution_count": 10,
   "id": "drawn-parts",
   "metadata": {},
   "outputs": [
    {
     "data": {
      "image/png": "[encoded data removed]",
      "text/plain": [
       "<Figure size 432x288 with 1 Axes>"
      ]
     },
     "metadata": {
      "needs_background": "light"
     },
     "output_type": "display_data"
    }
   ],
   "source": [
    "# scatterplot com dois atributos da sépala\n",
    "\n",
    "plt.scatter(iris_dataframe[\"sepal length (cm)\"], iris_dataframe[\"sepal width (cm)\"]);"
   ]
  },
  {
   "cell_type": "markdown",
   "id": "loved-connecticut",
   "metadata": {},
   "source": [
    "---\n",
    "\n",
    "### Modelando os dados\n",
    "\n",
    "Se olharmos no notebook knn_iris, lembramos que o melhor valor de k era 10, então vamos usar esse valor."
   ]
  },
  {
   "cell_type": "code",
   "execution_count": 15,
   "id": "biblical-steal",
   "metadata": {},
   "outputs": [
    {
     "data": {
      "text/plain": [
       "NearestNeighbors(n_neighbors=10)"
      ]
     },
     "execution_count": 15,
     "metadata": {},
     "output_type": "execute_result"
    }
   ],
   "source": [
    "model = NearestNeighbors(n_neighbors = 10)\n",
    "model.fit(iris_dataset.data)"
   ]
  },
  {
   "cell_type": "markdown",
   "id": "short-antibody",
   "metadata": {},
   "source": [
    "---\n",
    "\n",
    "### Identificando as anomalias\n",
    "\n",
    "Com o modelo treinado, vamos extrair as distâncias entre os dados e os índices dos valores."
   ]
  },
  {
   "cell_type": "code",
   "execution_count": 16,
   "id": "mental-belief",
   "metadata": {},
   "outputs": [],
   "source": [
    "distancias, idx = model.kneighbors(iris_dataset.data)"
   ]
  },
  {
   "cell_type": "markdown",
   "id": "robust-soviet",
   "metadata": {},
   "source": [
    "E agora plotamos o gráfico."
   ]
  },
  {
   "cell_type": "code",
   "execution_count": 18,
   "id": "subtle-professional",
   "metadata": {},
   "outputs": [
    {
     "data": {
      "image/png": "[encoded data removed]",
      "text/plain": [
       "<Figure size 432x288 with 1 Axes>"
      ]
     },
     "metadata": {
      "needs_background": "light"
     },
     "output_type": "display_data"
    }
   ],
   "source": [
    "plt.plot(distancias.mean(axis =1));"
   ]
  },
  {
   "cell_type": "markdown",
   "id": "pressing-edmonton",
   "metadata": {},
   "source": [
    "Observando o gráfico é possível ver alguns pontos mais desnivelados em relação aos demais, talvez estes sejam as anomalias. E aqui vem uma parte que depende da pecinha humana ao computador: decidir a linha de corte para filtrar as anomalias.\n",
    "\n",
    "Me parece que os valores mais afastados estão ali para cima de 0,6 no eixo y, então vamos selecioná-los."
   ]
  },
  {
   "cell_type": "code",
   "execution_count": 41,
   "id": "complex-position",
   "metadata": {},
   "outputs": [
    {
     "data": {
      "text/plain": [
       "(array([ 41,  57,  60,  98, 106, 109, 117, 118, 122, 131, 135], dtype=int64),)"
      ]
     },
     "execution_count": 41,
     "metadata": {},
     "output_type": "execute_result"
    }
   ],
   "source": [
    "outliers_idx = np.where(distancias.mean(axis = 1) > 0.6)\n",
    "outliers_idx"
   ]
  },
  {
   "cell_type": "code",
   "execution_count": 42,
   "id": "coral-waterproof",
   "metadata": {},
   "outputs": [
    {
     "data": {
      "text/html": [
       "<div>\n",
       "<style scoped>\n",
       "    .dataframe tbody tr th:only-of-type {\n",
       "        vertical-align: middle;\n",
       "    }\n",
       "\n",
       "    .dataframe tbody tr th {\n",
       "        vertical-align: top;\n",
       "    }\n",
       "\n",
       "    .dataframe thead th {\n",
       "        text-align: right;\n",
       "    }\n",
       "</style>\n",
       "<table border=\"1\" class=\"dataframe\">\n",
       "  <thead>\n",
       "    <tr style=\"text-align: right;\">\n",
       "      <th></th>\n",
       "      <th>sepal length (cm)</th>\n",
       "      <th>sepal width (cm)</th>\n",
       "      <th>petal length (cm)</th>\n",
       "      <th>petal width (cm)</th>\n",
       "    </tr>\n",
       "  </thead>\n",
       "  <tbody>\n",
       "    <tr>\n",
       "      <th>41</th>\n",
       "      <td>4.5</td>\n",
       "      <td>2.3</td>\n",
       "      <td>1.3</td>\n",
       "      <td>0.3</td>\n",
       "    </tr>\n",
       "    <tr>\n",
       "      <th>57</th>\n",
       "      <td>4.9</td>\n",
       "      <td>2.4</td>\n",
       "      <td>3.3</td>\n",
       "      <td>1.0</td>\n",
       "    </tr>\n",
       "    <tr>\n",
       "      <th>60</th>\n",
       "      <td>5.0</td>\n",
       "      <td>2.0</td>\n",
       "      <td>3.5</td>\n",
       "      <td>1.0</td>\n",
       "    </tr>\n",
       "    <tr>\n",
       "      <th>98</th>\n",
       "      <td>5.1</td>\n",
       "      <td>2.5</td>\n",
       "      <td>3.0</td>\n",
       "      <td>1.1</td>\n",
       "    </tr>\n",
       "    <tr>\n",
       "      <th>106</th>\n",
       "      <td>4.9</td>\n",
       "      <td>2.5</td>\n",
       "      <td>4.5</td>\n",
       "      <td>1.7</td>\n",
       "    </tr>\n",
       "    <tr>\n",
       "      <th>109</th>\n",
       "      <td>7.2</td>\n",
       "      <td>3.6</td>\n",
       "      <td>6.1</td>\n",
       "      <td>2.5</td>\n",
       "    </tr>\n",
       "    <tr>\n",
       "      <th>117</th>\n",
       "      <td>7.7</td>\n",
       "      <td>3.8</td>\n",
       "      <td>6.7</td>\n",
       "      <td>2.2</td>\n",
       "    </tr>\n",
       "    <tr>\n",
       "      <th>118</th>\n",
       "      <td>7.7</td>\n",
       "      <td>2.6</td>\n",
       "      <td>6.9</td>\n",
       "      <td>2.3</td>\n",
       "    </tr>\n",
       "    <tr>\n",
       "      <th>122</th>\n",
       "      <td>7.7</td>\n",
       "      <td>2.8</td>\n",
       "      <td>6.7</td>\n",
       "      <td>2.0</td>\n",
       "    </tr>\n",
       "    <tr>\n",
       "      <th>131</th>\n",
       "      <td>7.9</td>\n",
       "      <td>3.8</td>\n",
       "      <td>6.4</td>\n",
       "      <td>2.0</td>\n",
       "    </tr>\n",
       "    <tr>\n",
       "      <th>135</th>\n",
       "      <td>7.7</td>\n",
       "      <td>3.0</td>\n",
       "      <td>6.1</td>\n",
       "      <td>2.3</td>\n",
       "    </tr>\n",
       "  </tbody>\n",
       "</table>\n",
       "</div>"
      ],
      "text/plain": [
       "     sepal length (cm)  sepal width (cm)  petal length (cm)  petal width (cm)\n",
       "41                 4.5               2.3                1.3               0.3\n",
       "57                 4.9               2.4                3.3               1.0\n",
       "60                 5.0               2.0                3.5               1.0\n",
       "98                 5.1               2.5                3.0               1.1\n",
       "106                4.9               2.5                4.5               1.7\n",
       "109                7.2               3.6                6.1               2.5\n",
       "117                7.7               3.8                6.7               2.2\n",
       "118                7.7               2.6                6.9               2.3\n",
       "122                7.7               2.8                6.7               2.0\n",
       "131                7.9               3.8                6.4               2.0\n",
       "135                7.7               3.0                6.1               2.3"
      ]
     },
     "execution_count": 42,
     "metadata": {},
     "output_type": "execute_result"
    }
   ],
   "source": [
    "# filter outlier values\n",
    "\n",
    "outliers_valores = iris_dataframe.iloc[outliers_idx]\n",
    "outliers_valores"
   ]
  },
  {
   "cell_type": "code",
   "execution_count": 43,
   "id": "increasing-double",
   "metadata": {},
   "outputs": [
    {
     "data": {
      "image/png": "[encoded data removed]",
      "text/plain": [
       "<Figure size 432x288 with 1 Axes>"
      ]
     },
     "metadata": {
      "needs_background": "light"
     },
     "output_type": "display_data"
    }
   ],
   "source": [
    "# plotar dados\n",
    "plt.scatter(iris_dataframe[\"sepal length (cm)\"], iris_dataframe[\"sepal width (cm)\"], color = \"b\", s = 65)\n",
    "\n",
    "# plotar outliers\n",
    "plt.scatter(outliers_valores[\"sepal length (cm)\"], outliers_valores[\"sepal width (cm)\"], color = \"r\");"
   ]
  },
  {
   "cell_type": "markdown",
   "id": "involved-russian",
   "metadata": {},
   "source": [
    "--- \n",
    "\n",
    "### Referências\n",
    "\n",
    "[k-Nearest Neighbors (kNN) for anomaly detection](https://towardsdatascience.com/k-nearest-neighbors-knn-for-anomaly-detection-fdf8ee160d13)"
   ]
  }
 ],
 "metadata": {
  "kernelspec": {
   "display_name": "Python 3",
   "language": "python",
   "name": "python3"
  },
  "language_info": {
   "codemirror_mode": {
    "name": "ipython",
    "version": 3
   },
   "file_extension": ".py",
   "mimetype": "text/x-python",
   "name": "python",
   "nbconvert_exporter": "python",
   "pygments_lexer": "ipython3",
   "version": "3.9.1"
  }
 },
 "nbformat": 4,
 "nbformat_minor": 5
}
