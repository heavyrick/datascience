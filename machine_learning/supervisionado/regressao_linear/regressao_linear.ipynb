{
 "cells": [
  {
   "cell_type": "markdown",
   "id": "coral-patrol",
   "metadata": {},
   "source": [
    "# Regressão Linear\n",
    "\n",
    "De forma bem simples, a regressão linear é um método que busca relações entre as variáveis. A relação parte de uma variável de interesse (dependente) com outras que a possam influenciar.\n",
    "\n",
    "### Teoria da regressão linear\n",
    "\n",
    "O termo linearidade em álgebra refere-se a uma relação linear entre duas ou mais variáveis. Se desenharmos esse relacionamento em um espaço bidimensional (2D), teremos uma linha reta. A regressão linear tem como função prever uma variável dependente (y) dada uma variável independente (x). Esta técnica encontra a relação linear entre a variável de entrada (input) `x` e a de saída (output) `y`. Quando x é uma variável única no modelo, chamamos de **Regressão Linear Simples** e quando há múltiplas entradas, chamamos de **Regressão Linear Múltipla**.\n",
    "\n",
    "Exemplos: analisar a venda de um produto relacionada ao crescimento populacional de um país, analisar o preço de uma casa de uma região, pela quantidade de quartos que ela possui, analisar a taxa de mortalidade infantil em relação com o nível de formação escolar de uma população, etc.\n",
    "\n",
    "Uma regressão linear simples é uma equação, tipicamente da forma `y = a + bx`\n",
    "\n",
    "A ideia é tentar capturar como que mudanças na variável independente `x` afetam a variável dependente `y` (neste caso, supondo que esta dependência é linear). A variável independente é chamada também de *preditora* e a dependente de *resposta*.\n",
    "\n",
    "**Importante**: Antes de tentar ajustar um modelo linear aos dados, é preciso determinar se existe ou não uma relação entre as variáveis. O gráfico de dispersão pode ser uma ótima ferramenta para mostrar a distribuição dos elementos."
   ]
  },
  {
   "cell_type": "markdown",
   "id": "generous-suffering",
   "metadata": {},
   "source": [
    "#### Representação do modelo\n",
    "\n",
    "A Regressão Linear Simples tem uma equação na seguinte forma:\n",
    "\n",
    "`Y = β0 + β1X`\n",
    "\n",
    "- Y - É o valor predito;\n",
    "- β0 - É o coeficiente viés, esse coeficiente possibilita um grau extra de liberdade ao modelo;\n",
    "- β1 - É chamado de fator de escala;\n",
    "- X - É o valor da característica.\n",
    "\n",
    "O mesmo conceito se aplica a Regressão Linear Múltipla, porém, com maior número de variáveis.\n",
    "\n",
    "`Y = β0 + β1X1 + β1X2 ... βnXn`\n",
    "\n",
    "#### Níveis de correlação:\n",
    "\n",
    "-1 | -0,7 | -0,5 | -0,25 | 0 | 0,25 | 0,5 | 0,7 | 1\n",
    "--|--|--|--|--|--|--|--|--|\n",
    "perfeita| forte | moderada | fraca | inexistente | fraca | moderada | forte | perfeita"
   ]
  },
  {
   "cell_type": "markdown",
   "id": "trained-stereo",
   "metadata": {},
   "source": [
    "Os dados analisados serão de uma operação aérea de bombardeio da Segunda Guerra Mundial. O dataset contém informações das condições climáticas coletadas de cada dia das estações de clima pelo mundo. As informações incluem precipitação, queda de neve, temperaturas, velocidade do vento e se o dia teve tempestades ou outro tipo de condição adversa. \n",
    "\n",
    "Nossa tarefa será prever a temperatura máxima `y` tendo como referência a temperatura mínima `x`."
   ]
  },
  {
   "cell_type": "code",
   "execution_count": 2,
   "id": "broken-piece",
   "metadata": {},
   "outputs": [],
   "source": [
    "# Bibliotecas\n",
    "\n",
    "import pandas as pd\n",
    "import numpy as np  \n",
    "import matplotlib.pyplot as plt\n",
    "%matplotlib inline\n",
    "\n",
    "import seaborn as sns\n",
    "\n",
    "from sklearn.model_selection import train_test_split \n",
    "from sklearn.linear_model import LinearRegression\n",
    "from sklearn import metrics"
   ]
  },
  {
   "cell_type": "code",
   "execution_count": 3,
   "id": "willing-delicious",
   "metadata": {},
   "outputs": [
    {
     "data": {
      "text/html": [
       "<div>\n",
       "<style scoped>\n",
       "    .dataframe tbody tr th:only-of-type {\n",
       "        vertical-align: middle;\n",
       "    }\n",
       "\n",
       "    .dataframe tbody tr th {\n",
       "        vertical-align: top;\n",
       "    }\n",
       "\n",
       "    .dataframe thead th {\n",
       "        text-align: right;\n",
       "    }\n",
       "</style>\n",
       "<table border=\"1\" class=\"dataframe\">\n",
       "  <thead>\n",
       "    <tr style=\"text-align: right;\">\n",
       "      <th></th>\n",
       "      <th>MaxTemp</th>\n",
       "      <th>MinTemp</th>\n",
       "    </tr>\n",
       "  </thead>\n",
       "  <tbody>\n",
       "    <tr>\n",
       "      <th>0</th>\n",
       "      <td>25.555556</td>\n",
       "      <td>22.222222</td>\n",
       "    </tr>\n",
       "    <tr>\n",
       "      <th>1</th>\n",
       "      <td>28.888889</td>\n",
       "      <td>21.666667</td>\n",
       "    </tr>\n",
       "    <tr>\n",
       "      <th>2</th>\n",
       "      <td>26.111111</td>\n",
       "      <td>22.222222</td>\n",
       "    </tr>\n",
       "    <tr>\n",
       "      <th>3</th>\n",
       "      <td>26.666667</td>\n",
       "      <td>22.222222</td>\n",
       "    </tr>\n",
       "    <tr>\n",
       "      <th>4</th>\n",
       "      <td>26.666667</td>\n",
       "      <td>21.666667</td>\n",
       "    </tr>\n",
       "  </tbody>\n",
       "</table>\n",
       "</div>"
      ],
      "text/plain": [
       "     MaxTemp    MinTemp\n",
       "0  25.555556  22.222222\n",
       "1  28.888889  21.666667\n",
       "2  26.111111  22.222222\n",
       "3  26.666667  22.222222\n",
       "4  26.666667  21.666667"
      ]
     },
     "execution_count": 3,
     "metadata": {},
     "output_type": "execute_result"
    }
   ],
   "source": [
    "df_weather = pd.read_csv(\"dados/weather.csv\", low_memory=False, usecols=['MaxTemp', 'MinTemp'])\n",
    "\n",
    "df_weather.head()"
   ]
  },
  {
   "cell_type": "code",
   "execution_count": 4,
   "id": "owned-locator",
   "metadata": {},
   "outputs": [
    {
     "data": {
      "text/plain": [
       "(119040, 2)"
      ]
     },
     "execution_count": 4,
     "metadata": {},
     "output_type": "execute_result"
    }
   ],
   "source": [
    "df_weather.shape"
   ]
  },
  {
   "cell_type": "code",
   "execution_count": 5,
   "id": "wireless-appeal",
   "metadata": {},
   "outputs": [
    {
     "data": {
      "text/html": [
       "<div>\n",
       "<style scoped>\n",
       "    .dataframe tbody tr th:only-of-type {\n",
       "        vertical-align: middle;\n",
       "    }\n",
       "\n",
       "    .dataframe tbody tr th {\n",
       "        vertical-align: top;\n",
       "    }\n",
       "\n",
       "    .dataframe thead th {\n",
       "        text-align: right;\n",
       "    }\n",
       "</style>\n",
       "<table border=\"1\" class=\"dataframe\">\n",
       "  <thead>\n",
       "    <tr style=\"text-align: right;\">\n",
       "      <th></th>\n",
       "      <th>MaxTemp</th>\n",
       "      <th>MinTemp</th>\n",
       "    </tr>\n",
       "  </thead>\n",
       "  <tbody>\n",
       "    <tr>\n",
       "      <th>count</th>\n",
       "      <td>119040.000000</td>\n",
       "      <td>119040.000000</td>\n",
       "    </tr>\n",
       "    <tr>\n",
       "      <th>mean</th>\n",
       "      <td>27.045111</td>\n",
       "      <td>17.789511</td>\n",
       "    </tr>\n",
       "    <tr>\n",
       "      <th>std</th>\n",
       "      <td>8.717817</td>\n",
       "      <td>8.334572</td>\n",
       "    </tr>\n",
       "    <tr>\n",
       "      <th>min</th>\n",
       "      <td>-33.333333</td>\n",
       "      <td>-38.333333</td>\n",
       "    </tr>\n",
       "    <tr>\n",
       "      <th>25%</th>\n",
       "      <td>25.555556</td>\n",
       "      <td>15.000000</td>\n",
       "    </tr>\n",
       "    <tr>\n",
       "      <th>50%</th>\n",
       "      <td>29.444444</td>\n",
       "      <td>21.111111</td>\n",
       "    </tr>\n",
       "    <tr>\n",
       "      <th>75%</th>\n",
       "      <td>31.666667</td>\n",
       "      <td>23.333333</td>\n",
       "    </tr>\n",
       "    <tr>\n",
       "      <th>max</th>\n",
       "      <td>50.000000</td>\n",
       "      <td>34.444444</td>\n",
       "    </tr>\n",
       "  </tbody>\n",
       "</table>\n",
       "</div>"
      ],
      "text/plain": [
       "             MaxTemp        MinTemp\n",
       "count  119040.000000  119040.000000\n",
       "mean       27.045111      17.789511\n",
       "std         8.717817       8.334572\n",
       "min       -33.333333     -38.333333\n",
       "25%        25.555556      15.000000\n",
       "50%        29.444444      21.111111\n",
       "75%        31.666667      23.333333\n",
       "max        50.000000      34.444444"
      ]
     },
     "execution_count": 5,
     "metadata": {},
     "output_type": "execute_result"
    }
   ],
   "source": [
    "df_weather.describe()"
   ]
  },
  {
   "cell_type": "code",
   "execution_count": 6,
   "id": "internal-poker",
   "metadata": {},
   "outputs": [
    {
     "data": {
      "image/png": "[encoded data removed]",
      "text/plain": [
       "<Figure size 432x288 with 1 Axes>"
      ]
     },
     "metadata": {
      "needs_background": "light"
     },
     "output_type": "display_data"
    }
   ],
   "source": [
    "df_weather.plot(x='MinTemp', y='MaxTemp', style='o')  \n",
    "\n",
    "plt.title('Temperaturas máxima e mínima')\n",
    "plt.xlabel('Mínima')  \n",
    "plt.ylabel('Máxima')\n",
    "plt.legend().remove()\n",
    "plt.show()"
   ]
  },
  {
   "cell_type": "markdown",
   "id": "acting-static",
   "metadata": {},
   "source": [
    "Podemos fazer um gráfico de distribuição e encontrarmos a média das temperaturas, que fica entre 25 e 35."
   ]
  },
  {
   "cell_type": "code",
   "execution_count": 7,
   "id": "governing-highway",
   "metadata": {},
   "outputs": [
    {
     "data": {
      "image/png": "[encoded data removed]",
      "text/plain": [
       "<Figure size 864x504 with 1 Axes>"
      ]
     },
     "metadata": {
      "needs_background": "light"
     },
     "output_type": "display_data"
    }
   ],
   "source": [
    "plt.figure(figsize=(12,7))\n",
    "plt.tight_layout()\n",
    "\n",
    "sns.histplot(df_weather['MaxTemp'], element=\"step\", bins=50, kde=True, lw=0, color='#74acd4');"
   ]
  },
  {
   "cell_type": "markdown",
   "id": "dietary-greene",
   "metadata": {},
   "source": [
    "O próximo passo é dividir os dados em **atributos** (attributes) e **rótulos** (labels). Os atributos são as variáveis independentes e os rótulos são as dependentes que queremos prever. No nosso dataset temos apenas duas colunas, queremos prever a distância `y` que os motoristas conseguem enxergar a depender da idade `x`."
   ]
  },
  {
   "cell_type": "code",
   "execution_count": 8,
   "id": "devoted-warrant",
   "metadata": {},
   "outputs": [],
   "source": [
    "X = df_weather['MinTemp'].values.reshape(-1,1)\n",
    "y = df_weather['MaxTemp'].values.reshape(-1,1)"
   ]
  },
  {
   "cell_type": "markdown",
   "id": "useful-nirvana",
   "metadata": {},
   "source": [
    "Agora vamos fatiar nosso dataset em 80% para treinamento e 20% para teste. Através da propriedade test_size definimos a proporção dos dados de teste."
   ]
  },
  {
   "cell_type": "code",
   "execution_count": 9,
   "id": "behind-concentrate",
   "metadata": {},
   "outputs": [],
   "source": [
    "X_train, X_test, y_train, y_test = train_test_split(X, y, test_size=0.2, random_state=123)"
   ]
  },
  {
   "cell_type": "markdown",
   "id": "armed-following",
   "metadata": {},
   "source": [
    "Depois do separar os dados de treinamento e testes, vamos treinar nosso algoritmo."
   ]
  },
  {
   "cell_type": "code",
   "execution_count": 15,
   "id": "labeled-sailing",
   "metadata": {},
   "outputs": [
    {
     "data": {
      "text/plain": [
       "LinearRegression()"
      ]
     },
     "execution_count": 15,
     "metadata": {},
     "output_type": "execute_result"
    }
   ],
   "source": [
    "linear_regression = LinearRegression()  \n",
    "linear_regression.fit(X_train, y_train) # treinar o algoritmo"
   ]
  },
  {
   "cell_type": "markdown",
   "id": "described-metabolism",
   "metadata": {},
   "source": [
    "O modelo de regressão linear encontra o melhor valor para a ponto e a inclinação da reta, o que resulta em uma linha que melhor se encaixa aos dados. Para ver estes valores calculados pelo algoritmo de regressão linear do dataset, basta executar os comandos:"
   ]
  },
  {
   "cell_type": "code",
   "execution_count": 27,
   "id": "decimal-graduate",
   "metadata": {},
   "outputs": [
    {
     "name": "stdout",
     "output_type": "stream",
     "text": [
      "Intercepto: 10.694211596825387\n",
      "Coeficiente: 0.9192607693174579\n"
     ]
    }
   ],
   "source": [
    "#To retrieve the intercept:\n",
    "print(\"Intercepto:\", linear_regression.intercept_[0])\n",
    "\n",
    "#For retrieving the slope:\n",
    "print(\"Coeficiente:\", linear_regression.coef_[0][0])"
   ]
  },
  {
   "cell_type": "code",
   "execution_count": 21,
   "id": "hungry-magnitude",
   "metadata": {},
   "outputs": [],
   "source": [
    "# Obter coeficiente de determinação r²\n",
    "coeficiente_r2 = linear_regression.score(X_train, y_train)\n",
    "\n",
    "#reta = 'y^ = ' + str(lr.intercept_[0]) + str(lr.coef_[0]) + 'x'"
   ]
  },
  {
   "cell_type": "code",
   "execution_count": null,
   "id": "commercial-agent",
   "metadata": {},
   "outputs": [],
   "source": [
    "coef = np.corrcoef(df[rotulo_x], df[rotulo_y])"
   ]
  },
  {
   "cell_type": "code",
   "execution_count": 22,
   "id": "acoustic-study",
   "metadata": {},
   "outputs": [
    {
     "name": "stdout",
     "output_type": "stream",
     "text": [
      "Coeficiente de determinação r² 0.7722934589095768\n"
     ]
    }
   ],
   "source": [
    "print(\"Coeficiente de determinação r²\", coeficiente_r2)"
   ]
  },
  {
   "cell_type": "code",
   "execution_count": 28,
   "id": "baking-thirty",
   "metadata": {},
   "outputs": [
    {
     "name": "stdout",
     "output_type": "stream",
     "text": [
      "Correlação: 0.919 | Determinação: 0.77\n",
      " Reta: y^ = 10.694 + 0.919 x\n"
     ]
    }
   ],
   "source": [
    "print(\"Correlação: \" + \n",
    "          \"{:.3f}\".format(linear_regression.coef_[0][0]) + \" | Determinação: {:.2f}\".format(coeficiente_r2) +\n",
    "          \"\\n Reta: y^ = {:.3f} + {:.3f} x\".format(linear_regression.intercept_[0], linear_regression.coef_[0][0]))"
   ]
  },
  {
   "cell_type": "markdown",
   "id": "electronic-banana",
   "metadata": {},
   "source": [
    "Este resultado significa que para cada unidade da temperatura mínima, a temperatura máxima é de 92%.\n",
    "\n",
    "Agora vamos fazer algumas predições. Para isso, vamos usar os dados de teste e verificar a precisão (accuracy) que nosso algoritmo prevê os pontos percentuais."
   ]
  },
  {
   "cell_type": "code",
   "execution_count": null,
   "id": "painted-ecuador",
   "metadata": {},
   "outputs": [],
   "source": []
  },
  {
   "cell_type": "code",
   "execution_count": null,
   "id": "natural-groove",
   "metadata": {},
   "outputs": [],
   "source": []
  },
  {
   "cell_type": "code",
   "execution_count": null,
   "id": "experienced-bruce",
   "metadata": {},
   "outputs": [],
   "source": []
  },
  {
   "cell_type": "markdown",
   "id": "initial-sheffield",
   "metadata": {},
   "source": [
    "---\n",
    "\n",
    "### Referências\n",
    "\n",
    "- [Real Python - Linear Regression in Python](https://realpython.com/linear-regression-in-python/)\n",
    "- [Towards Datascience - A beginner’s guide to Linear Regression in Python with Scikit-Learn](https://towardsdatascience.com/a-beginners-guide-to-linear-regression-in-python-with-scikit-learn-83a8f7ae2b4f)\n",
    "- [Medium - @lucasoliveira - Regressão Linear do zero com Python](https://medium.com/@lucasoliveiras/regress%C3%A3o-linear-do-zero-com-python-ef74a81c4b84)\n",
    "- [Scikit-learn.org - sklearn.linear_model.LinearRegression](https://scikit-learn.org/stable/modules/generated/sklearn.linear_model.LinearRegression.html#sklearn.linear_model.LinearRegression)\n",
    "- [Revista Brasileira de Meteorologia - Metodologia para análise de desempenho de simulações de sistemas convectivos na região metropolitana de São Paulo com o modelo ARPS: sensibilidade a variações com os esquemas de advecção e assimilação de dados](http://www.scielo.br/scielo.php?script=sci_arttext&pid=S0102-77862011000400009)"
   ]
  }
 ],
 "metadata": {
  "kernelspec": {
   "display_name": "Python 3",
   "language": "python",
   "name": "python3"
  },
  "language_info": {
   "codemirror_mode": {
    "name": "ipython",
    "version": 3
   },
   "file_extension": ".py",
   "mimetype": "text/x-python",
   "name": "python",
   "nbconvert_exporter": "python",
   "pygments_lexer": "ipython3",
   "version": "3.9.1"
  }
 },
 "nbformat": 4,
 "nbformat_minor": 5
}
