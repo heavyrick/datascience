{
 "cells": [
  {
   "cell_type": "markdown",
   "id": "broadband-deadline",
   "metadata": {},
   "source": [
    "# NLP - Natural language processing / Processamento de Linguagem Natural\n",
    "\n",
    "A NLP é uma subárea da ciência da computação, inteligência artificial e da linguística que lida com a manipulação de linguagem natural (texto e voz) feita por máquinas. E isso vai desde contar a frequência de diferentes palavras num texto, até compreender enunciados inteiros.\n",
    "\n",
    "A disponibilidade de dados em linguagem natural nunca foi tão grande, por isso, tratar e desenvolver algoritmos que possibilitem o desenvolvimento de aplicações úteis em nosso dia a dia com toda essa informação é parte fundamental do processamento de linguagem natural.\n",
    "\n",
    "Aplicações de NLP:\n",
    "- Chatbots;\n",
    "- Aplicativos de reconhecimento de voz;\n",
    "- Buscadores na internet (google, etc);\n",
    "- Tradutores.\n",
    "\n",
    "As bibliotecas de NLP para python mais usadas são:\n",
    "\n",
    "- Natural Language Toolkit (NLTK)\n",
    "-  Gensim\n",
    "-  CoreNLP\n",
    "-  spaCy\n",
    "-  TextBlob\n",
    "-  Pattern\n",
    "-  PyNLPl"
   ]
  },
  {
   "cell_type": "markdown",
   "id": "helpful-secretary",
   "metadata": {},
   "source": [
    "Para esta demonstração simples de NLP e alguns conceitos, usarei a biblioteca NLTK."
   ]
  },
  {
   "cell_type": "code",
   "execution_count": 1,
   "id": "caring-hometown",
   "metadata": {},
   "outputs": [
    {
     "name": "stderr",
     "output_type": "stream",
     "text": [
      "[nltk_data] Downloading package stopwords to\n",
      "[nltk_data]     C:\\Users\\ricardo.neves\\AppData\\Roaming\\nltk_data...\n",
      "[nltk_data]   Package stopwords is already up-to-date!\n",
      "[nltk_data] Downloading package rslp to\n",
      "[nltk_data]     C:\\Users\\ricardo.neves\\AppData\\Roaming\\nltk_data...\n",
      "[nltk_data]   Package rslp is already up-to-date!\n"
     ]
    }
   ],
   "source": [
    "# importando bibliotecas\n",
    "\n",
    "import pandas as pd\n",
    "import numpy as np\n",
    "import re\n",
    "import json\n",
    "\n",
    "import nltk\n",
    "nltk.download(\"stopwords\")\n",
    "nltk.download('rslp')\n",
    "\n",
    "from nltk import sent_tokenize, word_tokenize\n",
    "from nltk.stem.snowball import SnowballStemmer\n",
    "from nltk.stem.wordnet import WordNetLemmatizer\n",
    "from nltk.corpus import stopwords"
   ]
  },
  {
   "cell_type": "markdown",
   "id": "stock-grammar",
   "metadata": {},
   "source": [
    "Aqui será usado o dataset quotes, que consiste em monte de frases, seus autores, as tags, a popularidade e a categoria."
   ]
  },
  {
   "cell_type": "code",
   "execution_count": null,
   "id": "asian-hunter",
   "metadata": {},
   "outputs": [],
   "source": []
  },
  {
   "cell_type": "code",
   "execution_count": null,
   "id": "ambient-craps",
   "metadata": {},
   "outputs": [],
   "source": []
  },
  {
   "cell_type": "code",
   "execution_count": null,
   "id": "varying-florida",
   "metadata": {},
   "outputs": [],
   "source": []
  },
  {
   "cell_type": "code",
   "execution_count": null,
   "id": "alive-artist",
   "metadata": {},
   "outputs": [],
   "source": []
  },
  {
   "cell_type": "code",
   "execution_count": null,
   "id": "respected-routine",
   "metadata": {},
   "outputs": [],
   "source": []
  },
  {
   "cell_type": "code",
   "execution_count": null,
   "id": "accomplished-pastor",
   "metadata": {},
   "outputs": [],
   "source": []
  },
  {
   "cell_type": "code",
   "execution_count": null,
   "id": "three-tomato",
   "metadata": {},
   "outputs": [],
   "source": []
  },
  {
   "cell_type": "markdown",
   "id": "developed-jumping",
   "metadata": {},
   "source": [
    "---\n",
    "\n",
    "### Referências\n",
    "\n",
    "- [Medium - Inteligência Artificial: Análise de sentimentos com Python](https://medium.com/@wesleywatanabe/inteligencia-artificial-python-nltk-pandas-pln-3dbfda430382)\n",
    "- [Towards DataScience - Gentle Start to Natural Language Processing using Python](https://towardsdatascience.com/gentle-start-to-natural-language-processing-using-python-6e46c07addf3)\n",
    "- [Python | Stemming words with NLTK](https://www.geeksforgeeks.org/python-stemming-words-with-nltk/)\n",
    "- [Medium - Beginner’s Guide to Text Preprocessing in Python](https://medium.com/biaslyai/beginners-guide-to-text-preprocessing-in-python-2cbeafbf5f44)\n",
    "- [TDS - Stop Words in NLP](https://towardsdatascience.com/stop-words-in-nlp-5b248dadad47)"
   ]
  }
 ],
 "metadata": {
  "kernelspec": {
   "display_name": "Python 3",
   "language": "python",
   "name": "python3"
  },
  "language_info": {
   "codemirror_mode": {
    "name": "ipython",
    "version": 3
   },
   "file_extension": ".py",
   "mimetype": "text/x-python",
   "name": "python",
   "nbconvert_exporter": "python",
   "pygments_lexer": "ipython3",
   "version": "3.9.1"
  }
 },
 "nbformat": 4,
 "nbformat_minor": 5
}
