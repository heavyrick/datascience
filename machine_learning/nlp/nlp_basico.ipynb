{
 "cells": [
  {
   "cell_type": "markdown",
   "id": "collected-middle",
   "metadata": {},
   "source": [
    "# NLP - Natural language processing / Processamento de Linguagem Natural\n",
    "\n",
    "A NLP é uma subárea da ciência da computação, inteligência artificial e da linguística que lida com a manipulação de linguagem natural (texto e voz) feita por máquinas. E isso vai desde contar a frequência de diferentes palavras num texto, até compreender enunciados inteiros.\n",
    "\n",
    "A disponibilidade de dados em linguagem natural nunca foi tão grande, por isso, tratar e desenvolver algoritmos que possibilitem o desenvolvimento de aplicações úteis em nosso dia a dia com toda essa informação é parte fundamental do processamento de linguagem natural.\n",
    "\n",
    "Aplicações de NLP:\n",
    "- Chatbots;\n",
    "- Aplicativos de reconhecimento de voz;\n",
    "- Buscadores na internet (google, etc);\n",
    "- Tradutores.\n",
    "\n",
    "As bibliotecas de NLP para python mais usadas são:\n",
    "\n",
    "- Natural Language Toolkit (NLTK)\n",
    "-  Gensim\n",
    "-  CoreNLP\n",
    "-  spaCy\n",
    "-  TextBlob\n",
    "-  Pattern\n",
    "-  PyNLPl"
   ]
  },
  {
   "cell_type": "markdown",
   "id": "physical-orange",
   "metadata": {},
   "source": [
    "Para esta demonstração simples de NLP e alguns conceitos, usarei a biblioteca NLTK."
   ]
  },
  {
   "cell_type": "code",
   "execution_count": 1,
   "id": "identified-interstate",
   "metadata": {},
   "outputs": [
    {
     "name": "stderr",
     "output_type": "stream",
     "text": [
      "[nltk_data] Downloading package stopwords to\n",
      "[nltk_data]     C:\\Users\\ricardo.neves\\AppData\\Roaming\\nltk_data...\n",
      "[nltk_data]   Package stopwords is already up-to-date!\n",
      "[nltk_data] Downloading package rslp to\n",
      "[nltk_data]     C:\\Users\\ricardo.neves\\AppData\\Roaming\\nltk_data...\n",
      "[nltk_data]   Package rslp is already up-to-date!\n"
     ]
    }
   ],
   "source": [
    "# importando bibliotecas\n",
    "\n",
    "import pandas as pd\n",
    "import numpy as np\n",
    "import re\n",
    "import json\n",
    "\n",
    "import nltk\n",
    "nltk.download(\"stopwords\")\n",
    "nltk.download('rslp')\n",
    "\n",
    "from nltk import sent_tokenize, word_tokenize\n",
    "from nltk.stem.snowball import SnowballStemmer\n",
    "from nltk.stem.wordnet import WordNetLemmatizer\n",
    "from nltk.corpus import stopwords"
   ]
  },
  {
   "cell_type": "markdown",
   "id": "younger-croatia",
   "metadata": {},
   "source": [
    "Aqui será usado o dataset quotes, que consiste em monte de frases, seus autores, as tags, a popularidade e a categoria."
   ]
  },
  {
   "cell_type": "code",
   "execution_count": 2,
   "id": "cordless-parker",
   "metadata": {},
   "outputs": [],
   "source": [
    "# importar dados\n",
    "quotes_data = pd.read_json('dados/quotes.json', encoding='utf-8')"
   ]
  },
  {
   "cell_type": "code",
   "execution_count": 8,
   "id": "nasty-noise",
   "metadata": {},
   "outputs": [
    {
     "data": {
      "text/plain": [
       "(48391, 5)"
      ]
     },
     "execution_count": 8,
     "metadata": {},
     "output_type": "execute_result"
    }
   ],
   "source": [
    "quotes_data.shape"
   ]
  },
  {
   "cell_type": "markdown",
   "id": "prescribed-rochester",
   "metadata": {},
   "source": [
    "Queremos alguns de exemplo, então vamos extrair apenas 50 linhas aleatórias"
   ]
  },
  {
   "cell_type": "code",
   "execution_count": 6,
   "id": "fancy-rwanda",
   "metadata": {},
   "outputs": [],
   "source": [
    "quotes_sample = quotes_data.sample(50)"
   ]
  },
  {
   "cell_type": "code",
   "execution_count": 9,
   "id": "competent-shock",
   "metadata": {},
   "outputs": [
    {
     "data": {
      "text/html": [
       "<div>\n",
       "<style scoped>\n",
       "    .dataframe tbody tr th:only-of-type {\n",
       "        vertical-align: middle;\n",
       "    }\n",
       "\n",
       "    .dataframe tbody tr th {\n",
       "        vertical-align: top;\n",
       "    }\n",
       "\n",
       "    .dataframe thead th {\n",
       "        text-align: right;\n",
       "    }\n",
       "</style>\n",
       "<table border=\"1\" class=\"dataframe\">\n",
       "  <thead>\n",
       "    <tr style=\"text-align: right;\">\n",
       "      <th></th>\n",
       "      <th>Quote</th>\n",
       "      <th>Author</th>\n",
       "      <th>Tags</th>\n",
       "      <th>Popularity</th>\n",
       "      <th>Category</th>\n",
       "    </tr>\n",
       "  </thead>\n",
       "  <tbody>\n",
       "    <tr>\n",
       "      <th>2749</th>\n",
       "      <td>Honesty and integrity are absolutely essential...</td>\n",
       "      <td>Zig Ziglar</td>\n",
       "      <td>[Life, Good, Integrity]</td>\n",
       "      <td>0.007504</td>\n",
       "      <td>life</td>\n",
       "    </tr>\n",
       "    <tr>\n",
       "      <th>31614</th>\n",
       "      <td>When he says we’re forgiven, let’s unload the ...</td>\n",
       "      <td>Max Lucado,  Grace for the Moment: Inspiration...</td>\n",
       "      <td>[christian, faith, guilt, inspirational ]</td>\n",
       "      <td>0.000051</td>\n",
       "      <td>faith</td>\n",
       "    </tr>\n",
       "    <tr>\n",
       "      <th>436</th>\n",
       "      <td>Gratitude unlocks the fullness of life. It tur...</td>\n",
       "      <td>Melody Beattie</td>\n",
       "      <td>[Thankful, Home, Gratitude]</td>\n",
       "      <td>0.015617</td>\n",
       "      <td>life</td>\n",
       "    </tr>\n",
       "    <tr>\n",
       "      <th>37232</th>\n",
       "      <td>In order to be really good as a librarian, eve...</td>\n",
       "      <td>Allen Smith</td>\n",
       "      <td>[knowledge, librarianship ]</td>\n",
       "      <td>0.000019</td>\n",
       "      <td>knowledge</td>\n",
       "    </tr>\n",
       "    <tr>\n",
       "      <th>19166</th>\n",
       "      <td>I held her gaze as I held her in my arms. With...</td>\n",
       "      <td>Jarod Kintz,  This Book is Not FOR SALE</td>\n",
       "      <td>[arms, comfort, comforting, cuddle, cuddling, ...</td>\n",
       "      <td>0.000239</td>\n",
       "      <td>relationship</td>\n",
       "    </tr>\n",
       "  </tbody>\n",
       "</table>\n",
       "</div>"
      ],
      "text/plain": [
       "                                                   Quote  \\\n",
       "2749   Honesty and integrity are absolutely essential...   \n",
       "31614  When he says we’re forgiven, let’s unload the ...   \n",
       "436    Gratitude unlocks the fullness of life. It tur...   \n",
       "37232  In order to be really good as a librarian, eve...   \n",
       "19166  I held her gaze as I held her in my arms. With...   \n",
       "\n",
       "                                                  Author  \\\n",
       "2749                                          Zig Ziglar   \n",
       "31614  Max Lucado,  Grace for the Moment: Inspiration...   \n",
       "436                                       Melody Beattie   \n",
       "37232                                        Allen Smith   \n",
       "19166            Jarod Kintz,  This Book is Not FOR SALE   \n",
       "\n",
       "                                                    Tags  Popularity  \\\n",
       "2749                             [Life, Good, Integrity]    0.007504   \n",
       "31614          [christian, faith, guilt, inspirational ]    0.000051   \n",
       "436                          [Thankful, Home, Gratitude]    0.015617   \n",
       "37232                        [knowledge, librarianship ]    0.000019   \n",
       "19166  [arms, comfort, comforting, cuddle, cuddling, ...    0.000239   \n",
       "\n",
       "           Category  \n",
       "2749           life  \n",
       "31614         faith  \n",
       "436            life  \n",
       "37232     knowledge  \n",
       "19166  relationship  "
      ]
     },
     "execution_count": 9,
     "metadata": {},
     "output_type": "execute_result"
    }
   ],
   "source": [
    "quotes_sample.head()"
   ]
  },
  {
   "cell_type": "code",
   "execution_count": 10,
   "id": "lasting-reference",
   "metadata": {},
   "outputs": [
    {
     "data": {
      "text/plain": [
       "'I always watch you. You consume my every thought.'"
      ]
     },
     "execution_count": 10,
     "metadata": {},
     "output_type": "execute_result"
    }
   ],
   "source": [
    "quotes_sample['Quote'].iloc[15]"
   ]
  },
  {
   "cell_type": "code",
   "execution_count": null,
   "id": "indian-conflict",
   "metadata": {},
   "outputs": [],
   "source": []
  },
  {
   "cell_type": "code",
   "execution_count": null,
   "id": "progressive-qatar",
   "metadata": {},
   "outputs": [],
   "source": []
  },
  {
   "cell_type": "code",
   "execution_count": null,
   "id": "regulated-engineer",
   "metadata": {},
   "outputs": [],
   "source": []
  },
  {
   "cell_type": "code",
   "execution_count": null,
   "id": "rural-confirmation",
   "metadata": {},
   "outputs": [],
   "source": []
  },
  {
   "cell_type": "code",
   "execution_count": null,
   "id": "organic-nitrogen",
   "metadata": {},
   "outputs": [],
   "source": []
  },
  {
   "cell_type": "code",
   "execution_count": null,
   "id": "circular-plenty",
   "metadata": {},
   "outputs": [],
   "source": []
  },
  {
   "cell_type": "code",
   "execution_count": null,
   "id": "formal-disco",
   "metadata": {},
   "outputs": [],
   "source": []
  },
  {
   "cell_type": "markdown",
   "id": "heard-workstation",
   "metadata": {},
   "source": [
    "---\n",
    "\n",
    "### Referências\n",
    "\n",
    "- [Medium - Inteligência Artificial: Análise de sentimentos com Python](https://medium.com/@wesleywatanabe/inteligencia-artificial-python-nltk-pandas-pln-3dbfda430382)\n",
    "- [Towards DataScience - Gentle Start to Natural Language Processing using Python](https://towardsdatascience.com/gentle-start-to-natural-language-processing-using-python-6e46c07addf3)\n",
    "- [Python | Stemming words with NLTK](https://www.geeksforgeeks.org/python-stemming-words-with-nltk/)\n",
    "- [Medium - Beginner’s Guide to Text Preprocessing in Python](https://medium.com/biaslyai/beginners-guide-to-text-preprocessing-in-python-2cbeafbf5f44)\n",
    "- [TDS - Stop Words in NLP](https://towardsdatascience.com/stop-words-in-nlp-5b248dadad47)"
   ]
  }
 ],
 "metadata": {
  "kernelspec": {
   "display_name": "Python 3",
   "language": "python",
   "name": "python3"
  },
  "language_info": {
   "codemirror_mode": {
    "name": "ipython",
    "version": 3
   },
   "file_extension": ".py",
   "mimetype": "text/x-python",
   "name": "python",
   "nbconvert_exporter": "python",
   "pygments_lexer": "ipython3",
   "version": "3.9.1"
  }
 },
 "nbformat": 4,
 "nbformat_minor": 5
}
