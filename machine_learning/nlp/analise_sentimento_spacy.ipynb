{
 "cells": [
  {
   "cell_type": "markdown",
   "id": "planned-provincial",
   "metadata": {},
   "source": [
    "# Análise de sentimento com Spacy and Scikit-Learn\n",
    "\n",
    "Há diferentes tipos de análise de sentimento dependendo no objetivo do modelo.\n",
    "\n",
    "- Modelos com foco na polaridade do texto: positivo, neutro e negativo\n",
    "- Modelos com foco no sentimento e na emoção do texto\n",
    "- Modelos focados nas intenções e nas urgências\n",
    "\n",
    "Para atingir os objetivos dos modelos, temos estes grupos de análises:\n",
    "\n",
    "- Análise de sentimento padrão (Standard Sentiment Analysis)\n",
    "- Análise de sentimento granular (Fine-grained Sentiment Analysis)\n",
    "- Detecção de emoções (Emotion Detection)\n",
    "- Análise de sentimento baseada em aspectos (Aspect-based Sentiment Analysis)\n",
    "- Detecção de intenção (Intent Detection)"
   ]
  },
  {
   "cell_type": "markdown",
   "id": "informational-manner",
   "metadata": {},
   "source": [
    "#### Análise de sentimento padrão (Standard Sentiment Analysis)\n",
    "\n",
    "Detecta a polaridade de um dado texto, podendo este ser positivo, negativo ou neutro.\n",
    "\n",
    "- \"Eu adorei este produto\" - **Positiva**\n",
    "- \"Este produto é uma porcaria cheia de defeitos\" - **Negativa**\n",
    "- \"Estou em busca de assistência para este serviço\" - **Neutra**\n",
    "\n",
    "#### Análise de sentimento granular (Fine-grained Sentiment Analysis)\n",
    "\n",
    "Foca na polaridade de um texto, mas adiciona mais categorias: \n",
    "\n",
    "- Muito positiva\n",
    "- Positiva\n",
    "- Neutra\n",
    "- Negativa\n",
    "- Muito negativa\n",
    "\n",
    "#### Detecção de emoções (Emotion Detection)\n",
    "\n",
    "Este tipo detecta emoções e sentimentos de um dado texto. \n",
    "\n",
    "- \"Este produto facilitou muito meu trabalho\" - **Alegria**\n",
    "- \"Odiei!\" - **Raiva**\n",
    "\n",
    "#### Análise de sentimento baseada em aspectos (Aspect-based Sentiment Analysis)\n",
    "\n",
    "É uma técnica de análise que categoriza os dados por aspecto e identifica sentimentos atribuídos a cada um. Os aspectos são atributos ou componentes de um produto ou serviço.\n",
    "\n",
    "#### Detecção de intenção (Intent Detection)\n",
    "\n",
    "O foco está em tentar identificar a intenção por trás das afirmações. Chatbots usam muito disso para atendimentos automáticos.\n",
    "\n",
    "---\n"
   ]
  },
  {
   "cell_type": "markdown",
   "id": "olympic-label",
   "metadata": {},
   "source": [
    "Neste notebook, o objetivo é construir um modelo analisador de sentimento que pega algumas das frases e mostra o resultado do sentimento (polaridade): quanto mais próximo de -1, mais negativo; quanto mais próximo de 1, mais positivo; e quanto mais próximo de zero, mais neutro. \n",
    "\n",
    "Num segundo momento, será analisado a subjetividade de cada frase.\n",
    "\n",
    "Para isso será usada a biblioteca spacy."
   ]
  },
  {
   "cell_type": "code",
   "execution_count": 24,
   "id": "danish-luther",
   "metadata": {},
   "outputs": [
    {
     "data": {
      "text/plain": [
       "<spacytextblob.spacytextblob.SpacyTextBlob at 0x29dfbb82d00>"
      ]
     },
     "execution_count": 24,
     "metadata": {},
     "output_type": "execute_result"
    }
   ],
   "source": [
    "# importar bibliotecas\n",
    "\n",
    "import pandas as pd\n",
    "import numpy as np\n",
    "import string\n",
    "\n",
    "import spacy\n",
    "#from spacy.lang.en.stop_words import STOP_WORDS\n",
    "from spacytextblob.spacytextblob import SpacyTextBlob\n",
    "\n",
    "from textblob import TextBlob\n",
    "\n",
    "#import nltk\n",
    "#nltk.download('averaged_perceptron_tagger')\n",
    "\n",
    "nlp = spacy.load('en_core_web_md')\n",
    "nlp.add_pipe('spacytextblob')"
   ]
  },
  {
   "cell_type": "markdown",
   "id": "amino-beach",
   "metadata": {},
   "source": [
    "Aqui será usado o dataset quotes, que consiste em uma lista de frases, seus autores, as tags, a popularidade e a categoria."
   ]
  },
  {
   "cell_type": "code",
   "execution_count": 2,
   "id": "minute-granny",
   "metadata": {},
   "outputs": [],
   "source": [
    "# importar dados\n",
    "quotes_data = pd.read_json('dados/quotes.json', encoding='utf-8')"
   ]
  },
  {
   "cell_type": "markdown",
   "id": "toxic-charm",
   "metadata": {},
   "source": [
    "### Analisar o dataset"
   ]
  },
  {
   "cell_type": "code",
   "execution_count": 3,
   "id": "fifteen-grove",
   "metadata": {},
   "outputs": [
    {
     "data": {
      "text/plain": [
       "(48391, 5)"
      ]
     },
     "execution_count": 3,
     "metadata": {},
     "output_type": "execute_result"
    }
   ],
   "source": [
    "quotes_data.shape"
   ]
  },
  {
   "cell_type": "code",
   "execution_count": 4,
   "id": "educational-carbon",
   "metadata": {},
   "outputs": [
    {
     "data": {
      "text/html": [
       "<div>\n",
       "<style scoped>\n",
       "    .dataframe tbody tr th:only-of-type {\n",
       "        vertical-align: middle;\n",
       "    }\n",
       "\n",
       "    .dataframe tbody tr th {\n",
       "        vertical-align: top;\n",
       "    }\n",
       "\n",
       "    .dataframe thead th {\n",
       "        text-align: right;\n",
       "    }\n",
       "</style>\n",
       "<table border=\"1\" class=\"dataframe\">\n",
       "  <thead>\n",
       "    <tr style=\"text-align: right;\">\n",
       "      <th></th>\n",
       "      <th>Quote</th>\n",
       "      <th>Author</th>\n",
       "      <th>Tags</th>\n",
       "      <th>Popularity</th>\n",
       "      <th>Category</th>\n",
       "    </tr>\n",
       "  </thead>\n",
       "  <tbody>\n",
       "    <tr>\n",
       "      <th>0</th>\n",
       "      <td>Don't cry because it's over, smile because it ...</td>\n",
       "      <td>Dr. Seuss</td>\n",
       "      <td>[attributed-no-source, cry, crying, experience...</td>\n",
       "      <td>0.155666</td>\n",
       "      <td>life</td>\n",
       "    </tr>\n",
       "    <tr>\n",
       "      <th>1</th>\n",
       "      <td>Don't cry because it's over, smile because it ...</td>\n",
       "      <td>Dr. Seuss</td>\n",
       "      <td>[attributed-no-source, cry, crying, experience...</td>\n",
       "      <td>0.155666</td>\n",
       "      <td>happiness</td>\n",
       "    </tr>\n",
       "    <tr>\n",
       "      <th>2</th>\n",
       "      <td>I'm selfish, impatient and a little insecure. ...</td>\n",
       "      <td>Marilyn Monroe</td>\n",
       "      <td>[attributed-no-source, best, life, love, mista...</td>\n",
       "      <td>0.129122</td>\n",
       "      <td>love</td>\n",
       "    </tr>\n",
       "    <tr>\n",
       "      <th>3</th>\n",
       "      <td>I'm selfish, impatient and a little insecure. ...</td>\n",
       "      <td>Marilyn Monroe</td>\n",
       "      <td>[attributed-no-source, best, life, love, mista...</td>\n",
       "      <td>0.129122</td>\n",
       "      <td>life</td>\n",
       "    </tr>\n",
       "    <tr>\n",
       "      <th>4</th>\n",
       "      <td>I'm selfish, impatient and a little insecure. ...</td>\n",
       "      <td>Marilyn Monroe</td>\n",
       "      <td>[attributed-no-source, best, life, love, mista...</td>\n",
       "      <td>0.129122</td>\n",
       "      <td>truth</td>\n",
       "    </tr>\n",
       "  </tbody>\n",
       "</table>\n",
       "</div>"
      ],
      "text/plain": [
       "                                               Quote          Author  \\\n",
       "0  Don't cry because it's over, smile because it ...       Dr. Seuss   \n",
       "1  Don't cry because it's over, smile because it ...       Dr. Seuss   \n",
       "2  I'm selfish, impatient and a little insecure. ...  Marilyn Monroe   \n",
       "3  I'm selfish, impatient and a little insecure. ...  Marilyn Monroe   \n",
       "4  I'm selfish, impatient and a little insecure. ...  Marilyn Monroe   \n",
       "\n",
       "                                                Tags  Popularity   Category  \n",
       "0  [attributed-no-source, cry, crying, experience...    0.155666       life  \n",
       "1  [attributed-no-source, cry, crying, experience...    0.155666  happiness  \n",
       "2  [attributed-no-source, best, life, love, mista...    0.129122       love  \n",
       "3  [attributed-no-source, best, life, love, mista...    0.129122       life  \n",
       "4  [attributed-no-source, best, life, love, mista...    0.129122      truth  "
      ]
     },
     "execution_count": 4,
     "metadata": {},
     "output_type": "execute_result"
    }
   ],
   "source": [
    "quotes_data.head()"
   ]
  },
  {
   "cell_type": "code",
   "execution_count": 5,
   "id": "empty-scout",
   "metadata": {},
   "outputs": [
    {
     "data": {
      "text/plain": [
       "array(['life', 'happiness', 'love', 'truth', 'inspiration', 'humor',\n",
       "       'philosophy', 'science', '', 'soul', 'books', 'wisdom',\n",
       "       'knowledge', 'education', 'poetry', 'hope', 'friendship',\n",
       "       'writing', 'religion', 'death', 'romance', 'success', 'arts',\n",
       "       'relationship', 'motivation', 'faith', 'mind', 'god', 'funny',\n",
       "       'quotes', 'positive', 'purpose'], dtype=object)"
      ]
     },
     "execution_count": 5,
     "metadata": {},
     "output_type": "execute_result"
    }
   ],
   "source": [
    "# Categorias das frases\n",
    "\n",
    "quotes_data['Category'].unique()"
   ]
  },
  {
   "cell_type": "markdown",
   "id": "pharmaceutical-poverty",
   "metadata": {},
   "source": [
    "---\n",
    "\n",
    "### Análise de sentimento (polaridade)\n",
    "\n",
    "Como é um analisador bem simples, vamos pegar algumas frases aleatoriamente do dataframe, e depois medir a polaridade de cada uma delas."
   ]
  },
  {
   "cell_type": "code",
   "execution_count": 6,
   "id": "honest-translation",
   "metadata": {},
   "outputs": [],
   "source": [
    "def selecionar_frase(df):\n",
    "    \"\"\" Seleciona uma frase ao acaso, entre o índice zero e o maior índice do dataframe \"\"\"\n",
    "    return df['Quote'].iloc[np.random.randint(0, len(df))]"
   ]
  },
  {
   "cell_type": "code",
   "execution_count": 7,
   "id": "capable-meter",
   "metadata": {},
   "outputs": [],
   "source": [
    "quote1 = selecionar_frase(quotes_data)\n",
    "quote2 = selecionar_frase(quotes_data)\n",
    "quote3 = selecionar_frase(quotes_data)"
   ]
  },
  {
   "cell_type": "code",
   "execution_count": 8,
   "id": "grand-walter",
   "metadata": {},
   "outputs": [],
   "source": [
    "def calcular_polaridade(quote):\n",
    "    doc = nlp(quote)\n",
    "    input_polarity = doc._.polarity\n",
    "    sentiment = {'frase': quote, 'polaridade': input_polarity}\n",
    "    return sentiment"
   ]
  },
  {
   "cell_type": "code",
   "execution_count": 9,
   "id": "promising-reputation",
   "metadata": {},
   "outputs": [
    {
     "name": "stdout",
     "output_type": "stream",
     "text": [
      "Frase: Emerge; don’t cower.Endure; don’t run.Nurture; don’t abandon \n",
      "\n",
      "Polaridade 0.0\n"
     ]
    }
   ],
   "source": [
    "frase1 = calcular_polaridade(quote1)\n",
    "\n",
    "print('Frase:', frase1['frase'], '\\n')\n",
    "print('Polaridade', frase1['polaridade'])"
   ]
  },
  {
   "cell_type": "code",
   "execution_count": 10,
   "id": "mexican-mouse",
   "metadata": {},
   "outputs": [
    {
     "name": "stdout",
     "output_type": "stream",
     "text": [
      "Frase: There are some things your mind has been hiding from you. \n",
      "\n",
      "Polaridade 0.0\n"
     ]
    }
   ],
   "source": [
    "frase2 = calcular_polaridade(quote2)\n",
    "\n",
    "print('Frase:', frase2['frase'], '\\n')\n",
    "print('Polaridade', frase2['polaridade'])"
   ]
  },
  {
   "cell_type": "code",
   "execution_count": 11,
   "id": "unlike-laptop",
   "metadata": {},
   "outputs": [
    {
     "name": "stdout",
     "output_type": "stream",
     "text": [
      "Frase: When we meet real tragedy in life, we can react in two ways - either by losing hope and falling into self-destructive habits, or by using the challenge to find our inner strength. Thanks to the teachings of Buddha, I have been able to take this second way. \n",
      "\n",
      "Polaridade 0.18\n"
     ]
    }
   ],
   "source": [
    "frase3 = calcular_polaridade(quote3)\n",
    "\n",
    "print('Frase:', frase3['frase'], '\\n')\n",
    "print('Polaridade', frase3['polaridade'])"
   ]
  },
  {
   "cell_type": "markdown",
   "id": "practical-mainland",
   "metadata": {},
   "source": [
    "Analisando as 3 frases, as com a Polaridade mais próximas de 1, são as mais positivas, e as mais próximas de -1, as mais negativas."
   ]
  },
  {
   "cell_type": "markdown",
   "id": "fewer-surprise",
   "metadata": {},
   "source": [
    "### Músicas\n",
    "\n",
    "Vou selecionar uns trechos de músicas para medirmos a polaridade."
   ]
  },
  {
   "cell_type": "code",
   "execution_count": 34,
   "id": "danish-dispatch",
   "metadata": {},
   "outputs": [
    {
     "data": {
      "text/plain": [
       "{'frase': 'I was born to love you. With every single beat of my heart',\n",
       " 'polaridade': 0.2142857142857143}"
      ]
     },
     "execution_count": 34,
     "metadata": {},
     "output_type": "execute_result"
    }
   ],
   "source": [
    "# Queen\n",
    "\n",
    "queen = \"I was born to love you. With every single beat of my heart\"\n",
    "\n",
    "calcular_polaridade(queen)"
   ]
  },
  {
   "cell_type": "code",
   "execution_count": 35,
   "id": "engaging-imaging",
   "metadata": {},
   "outputs": [
    {
     "data": {
      "text/plain": [
       "{'frase': \"Evil minds that plot destruction. Sorcerer of death's construction\",\n",
       " 'polaridade': -1.0}"
      ]
     },
     "execution_count": 35,
     "metadata": {},
     "output_type": "execute_result"
    }
   ],
   "source": [
    "# Black Sabbath\n",
    "\n",
    "black_sabbath = \"Evil minds that plot destruction. Sorcerer of death's construction\"\n",
    "\n",
    "calcular_polaridade(black_sabbath)"
   ]
  },
  {
   "cell_type": "code",
   "execution_count": null,
   "id": "formal-handy",
   "metadata": {},
   "outputs": [],
   "source": [
    "# Depeche Mode\n",
    "\n",
    "depeche_mode = \"\"\"All I ever wanted\n",
    "All I ever needed\n",
    "Is here in my arms\n",
    "Words are very unnecessary\n",
    "They can only do harm\n",
    "\"\"\"\n",
    "\n",
    "calcular_polaridade(depeche_mode)"
   ]
  },
  {
   "cell_type": "code",
   "execution_count": 36,
   "id": "hourly-persian",
   "metadata": {},
   "outputs": [
    {
     "data": {
      "text/plain": [
       "{'frase': \"One of these mornings\\nYou're gonna rise, rise up singing\\nYou're gonna spread your wings\\nChild, and take, take to the sky\\nLord, the sky\\n\",\n",
       " 'polaridade': 0.0}"
      ]
     },
     "execution_count": 36,
     "metadata": {},
     "output_type": "execute_result"
    }
   ],
   "source": [
    "# Janis Joplin\n",
    "\n",
    "janis_joplin = \"\"\"One of these mornings\n",
    "You're gonna rise, rise up singing\n",
    "You're gonna spread your wings\n",
    "Child, and take, take to the sky\n",
    "Lord, the sky\n",
    "\"\"\"\n",
    "\n",
    "calcular_polaridade(janis_joplin)"
   ]
  },
  {
   "cell_type": "markdown",
   "id": "applied-street",
   "metadata": {},
   "source": [
    "--- "
   ]
  },
  {
   "cell_type": "markdown",
   "id": "essential-russell",
   "metadata": {},
   "source": [
    "Vamos fazer algo diferente agora, criar uma função que retorne uma frase que seja bem positiva (acima de 0.8) e que retorne uma frase bem negativa (abaixo de -0.8)."
   ]
  },
  {
   "cell_type": "code",
   "execution_count": 16,
   "id": "dutch-skirt",
   "metadata": {},
   "outputs": [],
   "source": [
    "def retornar_frase_polaridade(df, polaridade = 'positiva'):\n",
    "    \"\"\" Recebe o dataframe e a polaridade esperada da frase \"\"\"\n",
    "    while True:\n",
    "        quote = df['Quote'].iloc[np.random.randint(0, len(df))]\n",
    "        doc = nlp(quote)\n",
    "        input_polarity = doc._.polarity\n",
    "        if polaridade == 'positiva':\n",
    "            if input_polarity >= 0.8:\n",
    "                return {'frase': quote, 'polaridade': input_polarity}\n",
    "        elif polaridade == 'negativa':\n",
    "            if input_polarity <= -0.8:\n",
    "                return {'frase': quote, 'polaridade': input_polarity}\n",
    "        else:\n",
    "            return ''"
   ]
  },
  {
   "cell_type": "markdown",
   "id": "mineral-marble",
   "metadata": {},
   "source": [
    "Retornar uma frase positiva."
   ]
  },
  {
   "cell_type": "code",
   "execution_count": 17,
   "id": "solar-gather",
   "metadata": {},
   "outputs": [
    {
     "name": "stdout",
     "output_type": "stream",
     "text": [
      "Frase: Life is not a problem to be solved, but a reality to be experienced. \n",
      "\n",
      "Polaridade: 0.8\n"
     ]
    }
   ],
   "source": [
    "frase_positiva = retornar_frase_polaridade(quotes_data)\n",
    "\n",
    "print('Frase:', frase_positiva['frase'], '\\n')\n",
    "print('Polaridade:', frase_positiva['polaridade'])"
   ]
  },
  {
   "cell_type": "markdown",
   "id": "atmospheric-greeting",
   "metadata": {},
   "source": [
    "Retornar uma frase negativa."
   ]
  },
  {
   "cell_type": "code",
   "execution_count": 18,
   "id": "juvenile-annotation",
   "metadata": {},
   "outputs": [
    {
     "name": "stdout",
     "output_type": "stream",
     "text": [
      "Frase: To hate others is ugly.To hate yourself is uglier. \n",
      "\n",
      "Polaridade: -0.8\n"
     ]
    }
   ],
   "source": [
    "frase_negativa = retornar_frase_polaridade(quotes_data, 'negativa')\n",
    "\n",
    "print('Frase:', frase_negativa['frase'], '\\n')\n",
    "print('Polaridade:', frase_negativa['polaridade'])"
   ]
  },
  {
   "cell_type": "markdown",
   "id": "similar-puppy",
   "metadata": {},
   "source": [
    "---\n",
    "\n",
    "## Subjetividade\n",
    "\n",
    "A subjetividade quantifica o quanto o texto é uma opinião pessoal ou informação factual. Esse valor vai de `0 até 1`, e quanto maior a subjetividade, significa que o texto é mais uma opinião do que um fato.\n",
    "\n",
    "Novamente, vamos montar uma função que retorna uma frase mais subjetiva, e outra menos subjetiva. "
   ]
  },
  {
   "cell_type": "code",
   "execution_count": 19,
   "id": "exceptional-berry",
   "metadata": {},
   "outputs": [],
   "source": [
    "def retornar_frase_subjetividade(df, subjetividade = 'subjetiva'):\n",
    "    \"\"\" Recebe o dataframe e a polaridade esperada da frase \"\"\"\n",
    "    while True:\n",
    "        quote = df['Quote'].iloc[np.random.randint(0, len(df))]\n",
    "        doc = nlp(quote)\n",
    "        input_subjectivity = doc._.subjectivity\n",
    "        if subjetividade == 'subjetiva':\n",
    "            if input_subjectivity >= 0.8:\n",
    "                return {'frase': quote, 'subjetividade': input_subjectivity}\n",
    "        elif subjetividade == 'factual':\n",
    "            if input_subjectivity <= 0.2:\n",
    "                return {'frase': quote, 'subjetividade': input_subjectivity}\n",
    "        else:\n",
    "            return ''"
   ]
  },
  {
   "cell_type": "markdown",
   "id": "proprietary-neutral",
   "metadata": {},
   "source": [
    "Retornar uma frase mais subjetiva:"
   ]
  },
  {
   "cell_type": "code",
   "execution_count": 20,
   "id": "latter-handy",
   "metadata": {},
   "outputs": [
    {
     "name": "stdout",
     "output_type": "stream",
     "text": [
      "Frase: Mal snickered. \"What's so funny?\"\"I just pictured the Darkling being cornered by a sweaty duchess trying to have her way with him. \n",
      "\n",
      "Subjetividade: 1.0\n"
     ]
    }
   ],
   "source": [
    "frase_subjetiva = retornar_frase_subjetividade(quotes_data)\n",
    "\n",
    "print('Frase:', frase_subjetiva['frase'], '\\n')\n",
    "print('Subjetividade:', frase_subjetiva['subjetividade'])"
   ]
  },
  {
   "cell_type": "markdown",
   "id": "sudden-deposit",
   "metadata": {},
   "source": [
    "Retornar uma frase menos subjetiva:"
   ]
  },
  {
   "cell_type": "code",
   "execution_count": 21,
   "id": "marked-harris",
   "metadata": {},
   "outputs": [
    {
     "name": "stdout",
     "output_type": "stream",
     "text": [
      "Frase: The purpose of life is the expansion of happiness. \n",
      "\n",
      "Subjetividade: 0.2\n"
     ]
    }
   ],
   "source": [
    "frase_factual = retornar_frase_subjetividade(quotes_data, 'factual')\n",
    "\n",
    "print('Frase:', frase_factual['frase'], '\\n')\n",
    "print('Subjetividade:', frase_factual['subjetividade'])"
   ]
  },
  {
   "cell_type": "markdown",
   "id": "cardiovascular-horizon",
   "metadata": {},
   "source": [
    "---\n",
    "\n",
    "### Referências\n",
    "\n",
    "https://towardsdatascience.com/my-absolute-go-to-for-sentiment-analysis-textblob-3ac3a11d524\n",
    "\n",
    "https://towardsdatascience.com/emotion-detection-a-machine-learning-project-f7431f652b1f\n",
    "\n",
    "https://spacy.io/universe/project/spacy-textblob\n",
    "\n",
    "https://spacytextblob.netlify.app/\n",
    "\n",
    "https://hackernoon.com/how-to-perform-emotion-detection-in-text-via-python-lk383tsu\n",
    "\n",
    "https://www.section.io/engineering-education/sentiment-analysis-with-spacy-and-scikit-learn/\n",
    "\n",
    "https://www.analyticsvidhya.com/blog/2021/06/analyzing-customer-feedbacks-using-aspect-based-sentiment-analysis/"
   ]
  }
 ],
 "metadata": {
  "kernelspec": {
   "display_name": "Python 3",
   "language": "python",
   "name": "python3"
  },
  "language_info": {
   "codemirror_mode": {
    "name": "ipython",
    "version": 3
   },
   "file_extension": ".py",
   "mimetype": "text/x-python",
   "name": "python",
   "nbconvert_exporter": "python",
   "pygments_lexer": "ipython3",
   "version": "3.9.1"
  }
 },
 "nbformat": 4,
 "nbformat_minor": 5
}
