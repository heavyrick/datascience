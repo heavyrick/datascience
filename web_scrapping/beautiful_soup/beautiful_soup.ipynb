{
 "cells": [
  {
   "cell_type": "markdown",
   "id": "f0306f17-8a9d-4662-bad9-9406d8dbe1f8",
   "metadata": {},
   "source": [
    "# Extraindo dados do site da CBF com Beautiful Soup\n",
    "\n",
    "[Beautiful Soup](https://www.crummy.com/software/BeautifulSoup/) é uma biblioteca de raspagem de dados _ ou coleta de dados se preferir _ que é uma forma de mineração que faz a extração de dados de páginas estruturadas da web. Ou seja, ao invés de entrar numa página, copiar o conteúdo, colar num bloco de dados, limpar os formatos, copiar cada item para sei lá, uma planilha, é possível desenvolver um código que faz tudo isso por você. \n",
    "\n",
    "No caso da biblioteca em questão, ela faz essa coleta a partir de páginas em HTML, por isso é preciso conhecer a linguagem _ além de manjar de CSS.\n",
    "\n",
    "Nos links de referência, tem guias para saber mais sobre como funciona, mas aqui vamos a um exemplo de extração de dados da página da CBF.\n",
    "\n",
    "**Exemplo**\n",
    "\n",
    "Extrair os dados com todos os placares de jogos do Campeonato Brasileiro da Série B.\n",
    "\n",
    "https://www.cbf.com.br/futebol-brasileiro/competicoes/campeonato-brasileiro-serie-b\n",
    "\n",
    "Perceba que na página, tem a tabela final do campeonato, mas na lateral, tem os resultados dos jogos da rodada 38 (a última).\n",
    "\n",
    "<div style='text-align:center'>\n",
    "    <img src='dados/tabela_serie_b_3.png' width=500 height=300 />\n",
    "</div>\n"
   ]
  },
  {
   "cell_type": "markdown",
   "id": "1ad76b2e-c986-4e27-86fd-0ff6d198553c",
   "metadata": {},
   "source": [
    "Ao analisar a estrutura do HTML da página (no modo desenvolvedor [F12] ou vendo o código fonte todo [ctrl+U]) é possível perceber que a região onde fica os dados de interesse, seguem mais ou menos nessa estrutura:\n",
    "\n",
    "```html\n",
    "<aside class=\"aside-rodadas swiper-container ... \">\n",
    "    <div class=\"swiper-wrapper ... \">\n",
    "        <div data-slide-index=\"0 ... 37\" class=\"swiper-slide\"> <!-- Isso se repete para cada rodada -->\n",
    "            <header class=\"aside-header\"> Rodada n </header>\n",
    "            <div class=\"aside-content\"> \n",
    "                <ul class=\"list-unstyled\"> \n",
    "                    <li> Informações de cada jogo </li> <!-- Isso se repete para cada jogo -->\n",
    "                 </ul>\n",
    "            </div>\n",
    "        </div>\n",
    "    </div>\n",
    "</aside>\n",
    "```"
   ]
  },
  {
   "cell_type": "markdown",
   "id": "646344cb-893c-43cf-8742-49f8b4f57240",
   "metadata": {},
   "source": [
    "Visualmente, quando clicamos nas setas que mostram cada rodada, sai um bloco e entra outro, mas olhando para o código, é possível ver que todas as infos estão lá disponíveis. É um plugin do javascript que cria esse efeito visual, de mostrar apenas um bloco por vez, e alterná-los ao gatilho dos botões de controle.\n",
    "\n",
    "O que precisamos fazer, é baixar todo o HTML da página, e ir navegando através dele usando o beautiful soup para conseguirmos extrair o que precisamos.\n",
    "\n",
    "**O que queremos?**\n",
    "\n",
    "Vamos criar um dataframe com os seguintes dados:\n",
    "\n",
    "- Ano\n",
    "- Rodada\n",
    "- Data do jogo\n",
    "- Time da casa\n",
    "- Gols do time da casa\n",
    "- Time visitante\n",
    "- Gols do time visitante\n",
    "\n",
    "\n",
    "Feito isso, vamos salvar estes dados em CSV, para que não seja necessário repetir o processo toda vez.\n",
    "\n",
    "Aliás, vamos fazer mais que isso: perceba que no site tem um combobox que permite ver os dados desde 2012 até o ano atual (estou escrevendo isso em maio de 2022, pode ser que algo mude), então vamos criar uma variável com o ano que queremos, e ai podemos baixar de acordo com a nossa necessidade."
   ]
  },
  {
   "cell_type": "markdown",
   "id": "de19fb56-3b55-4bb1-b894-9d9bd4bace58",
   "metadata": {},
   "source": [
    "### Bibliotecas usadas\n",
    "\n",
    "Para baixar os dados da página, usaremos outra biblioteca, a `requests`, depois usaremos o `beautiful soup` para extrair os dados do HTML, e finalmente o `Pandas` para criarmos o dataframe e fazer a importação para o arquivo CSV. A biblioteca `re` que serve para lidar com expressões regulares, também será usada."
   ]
  },
  {
   "cell_type": "code",
   "execution_count": 1,
   "id": "29cfaba8-1c4d-4634-a029-599a2e3c101e",
   "metadata": {},
   "outputs": [],
   "source": [
    "import requests\n",
    "from bs4 import BeautifulSoup\n",
    "import pandas as pd\n",
    "import re"
   ]
  },
  {
   "cell_type": "markdown",
   "id": "65328467-c88a-4f99-81cd-7441d4bedfae",
   "metadata": {},
   "source": [
    "### Coletar dados"
   ]
  },
  {
   "cell_type": "code",
   "execution_count": 3,
   "id": "3491bbec-0759-4175-bbb1-afe2fc1239be",
   "metadata": {},
   "outputs": [],
   "source": [
    "# Vamos setar qual o ano queremos fazer a extração dos dados\n",
    "\n",
    "ano = 2020"
   ]
  },
  {
   "cell_type": "code",
   "execution_count": 6,
   "id": "ce3b6028-fcc3-48fc-a463-7fd6e743429c",
   "metadata": {},
   "outputs": [],
   "source": [
    "# URL de onde será extraído o HTML\n",
    "\n",
    "url = 'https://www.cbf.com.br/futebol-brasileiro/competicoes/campeonato-brasileiro-serie-b/{}'.format(ano)"
   ]
  },
  {
   "cell_type": "markdown",
   "id": "313dcea7-ba3f-441d-be68-a23030d433bf",
   "metadata": {},
   "source": [
    "Para realizar a solicitação à página temos que informar ao site que somos um navegador e é para isso que usamos a variável headers"
   ]
  },
  {
   "cell_type": "code",
   "execution_count": 8,
   "id": "6bb0b96f-60fb-45f8-8c4a-68e51e437b32",
   "metadata": {},
   "outputs": [
    {
     "name": "stdout",
     "output_type": "stream",
     "text": [
      "200\n"
     ]
    }
   ],
   "source": [
    "headers = {'User-Agent': 'Mozilla/5.0 (X11; Linux x86_64) AppleWebKit/537.36 (KHTML, like Gecko) Chrome/47.0.2526.106 Safari/537.36'}\n",
    "\n",
    "endereco_da_pagina = url\n",
    "\n",
    "# no objeto_response iremos realizar o download da página da web \n",
    "objeto_response = requests.get(endereco_da_pagina, headers=headers)\n",
    "\n",
    "# Se o status for OK, seguimos\n",
    "if objeto_response.status_code != 200:\n",
    "    print('Erro - Verifique se o link está correto ou se a página está fora do ar.')\n",
    "else:\n",
    "    print('Status code:', objeto_response.status_code)"
   ]
  },
  {
   "cell_type": "markdown",
   "id": "a51862a7-d458-45f0-b6cb-5749b1ac4ad7",
   "metadata": {},
   "source": [
    "Agora criaremos um objeto BeautifulSoup a partir do nosso objeto_response.\n",
    "\n",
    "O parâmetro `html.parser` representa qual parser usaremos na criação do nosso objeto, um parser é um software responsável por realizar a conversão de uma entrada para uma estrutura de dados."
   ]
  },
  {
   "cell_type": "code",
   "execution_count": 9,
   "id": "f4064c4e-55c0-466a-b152-b12903629133",
   "metadata": {},
   "outputs": [],
   "source": [
    "pagina_html = BeautifulSoup(objeto_response.content, 'html.parser')"
   ]
  },
  {
   "cell_type": "markdown",
   "id": "819c307c-8630-4286-b2f1-c44b6367048d",
   "metadata": {},
   "source": [
    "Agora que temos uma variável contendo o HTML, podemos navegar por ele. Como visto na estrutura do código acima, temos que ir para o `aside.aside-rodadas` que é onde está contido os dados dos jogos."
   ]
  },
  {
   "cell_type": "code",
   "execution_count": 10,
   "id": "986558ef-af5d-44e4-ad9b-c2b40b3656af",
   "metadata": {},
   "outputs": [],
   "source": [
    "aside_conteudo = pagina_html.find('aside', {'class': 'aside-rodadas'})"
   ]
  },
  {
   "cell_type": "code",
   "execution_count": 1,
   "id": "47e83bf3-f0d1-458e-9993-c801bc620184",
   "metadata": {
    "scrolled": true,
    "tags": []
   },
   "outputs": [],
   "source": [
    "#print(aside_conteudo)"
   ]
  },
  {
   "cell_type": "markdown",
   "id": "22dca057-d642-4fee-9a80-71ce2367bdbd",
   "metadata": {},
   "source": [
    "Uma dica para visualizar essa bagunça melhor, é ver pelo modo desenvolvedor do navegador, ou colar o código em uma IDE e identá-lo."
   ]
  },
  {
   "cell_type": "markdown",
   "id": "c354493d-0cb1-4522-a730-e8a51c676e06",
   "metadata": {},
   "source": [
    "Agora que selecionamos apenas a parte que desejamos, temos uma estrutura em dois níveis:\n",
    "    \n",
    "- Cada uma das rodadas (`<div data-slide-index=\"0 ... 37\"> ... <div class='aside-content'> ... `)\n",
    "- Dentro das rodadas, cada um dos jogos (`<ul class='list-unstyled'><li> ... `)\n",
    "\n",
    "Navegar por tags que possuem classes e ids é muito mais fácil, pois fica mais fácil exatamente quem queremos selecionar. Primeiro vamos pegar cada `div` onde estão contidos os códigos das rodadas, e atribuir como item em uma lista.\n",
    "\n",
    "Depois da para imaginar o que será feito: será percorrida a lista com as rodadas, e dentro delas percorreremos todos os jogos, coletando tudo que for do nosso interesse."
   ]
  },
  {
   "cell_type": "code",
   "execution_count": 44,
   "id": "734fd355-6d72-4fd4-80ad-ef3b1aad1ade",
   "metadata": {},
   "outputs": [],
   "source": [
    "anos = []\n",
    "rodadas = []\n",
    "datas_jogos = []\n",
    "times_casa = []\n",
    "times_visitante = []\n",
    "placar_times_casa = []\n",
    "placar_times_visitante = []\n",
    "\n",
    "# Percorre cada rodada\n",
    "for item in aside_conteudo.find('div').find_all('div', attrs={'class': ['swiper-slide']}):\n",
    "    \n",
    "    # obter as rodadas\n",
    "    rodada = int(re.findall(r'\\d+', item.h3.get_text())[0])\n",
    "    \n",
    "    for jogo in item.find_all('span', attrs={'class':['partida-desc']}): # Jogos\n",
    "        \n",
    "        # Data do jogo\n",
    "        if(re.search(r'\\d{2}/\\d{2}/\\d{4}', jogo.get_text())):\n",
    "            mat = re.search(r'\\d{2}/\\d{2}/\\d{4}', jogo.get_text())\n",
    "            datas_jogos.append(mat.group())\n",
    "        \n",
    "    for jogo in item.find_all('div', attrs={'class':['clearfix']}): # Jogos\n",
    "        \n",
    "        # Time da casa\n",
    "        div_casa = jogo.find(\"div\", {'class': ['pull-left']})\n",
    "        div_casa = div_casa.find(\"img\", {\"class\": \"icon\"}, {\"title\":True})\n",
    "        times_casa.append(div_casa['title'])\n",
    "        \n",
    "        # Time visitante\n",
    "        div_visitante = jogo.find(\"div\", {'class': ['pull-right']})\n",
    "        div_visitante = div_visitante.find(\"img\", {\"class\": \"icon\"}, {\"title\":True})\n",
    "        times_visitante.append(div_visitante['title'])\n",
    "        \n",
    "        # Placar time da casa\n",
    "        placar1 = jogo.find(\"strong\", {'class': ['partida-horario']})\n",
    "        txt = placar1.get_text().strip()\n",
    "        placar_times_casa .append(int(txt.split('x')[0]))\n",
    "        \n",
    "        # Placar time visitante\n",
    "        placar2 = jogo.find(\"strong\", {'class': ['partida-horario']})\n",
    "        txt = placar2.get_text().strip()\n",
    "        placar_times_visitante .append(int(txt.split('x')[1]))\n",
    "        \n",
    "        # Rodada e Ano\n",
    "        rodadas.append(rodada)\n",
    "        anos.append(ano)"
   ]
  },
  {
   "cell_type": "markdown",
   "id": "a4dd52db-a056-4a80-95e2-6f8c175439e6",
   "metadata": {},
   "source": [
    "**Juntando tudo**\n",
    "\n",
    "Percorrido o HTML e coletado os dados desejados, basta enviar tudo para um Dataframe."
   ]
  },
  {
   "cell_type": "code",
   "execution_count": 48,
   "id": "b5f2e585-41d7-4d6d-a626-f6bcd8ddd59b",
   "metadata": {},
   "outputs": [],
   "source": [
    "df_serie_b = pd.DataFrame({\n",
    "    'Ano': anos,\n",
    "    'Rodada': rodadas, \n",
    "    'Data': datas_jogos,\n",
    "    'Time casa': times_casa,\n",
    "    'Gols time casa': placar_times_casa,\n",
    "    'Time visitante': times_visitante,\n",
    "    'Gols time visitante': placar_times_visitante\n",
    "}).reset_index(drop=True) # o drop aqui, evita uma nova linha com os índices"
   ]
  },
  {
   "cell_type": "code",
   "execution_count": 49,
   "id": "f1e5790a-3ce5-4b8e-9e81-bd5e56394230",
   "metadata": {},
   "outputs": [
    {
     "data": {
      "text/html": [
       "<div>\n",
       "<style scoped>\n",
       "    .dataframe tbody tr th:only-of-type {\n",
       "        vertical-align: middle;\n",
       "    }\n",
       "\n",
       "    .dataframe tbody tr th {\n",
       "        vertical-align: top;\n",
       "    }\n",
       "\n",
       "    .dataframe thead th {\n",
       "        text-align: right;\n",
       "    }\n",
       "</style>\n",
       "<table border=\"1\" class=\"dataframe\">\n",
       "  <thead>\n",
       "    <tr style=\"text-align: right;\">\n",
       "      <th></th>\n",
       "      <th>Ano</th>\n",
       "      <th>Rodada</th>\n",
       "      <th>Data</th>\n",
       "      <th>Time casa</th>\n",
       "      <th>Gols time casa</th>\n",
       "      <th>Time visitante</th>\n",
       "      <th>Gols time visitante</th>\n",
       "    </tr>\n",
       "  </thead>\n",
       "  <tbody>\n",
       "    <tr>\n",
       "      <th>0</th>\n",
       "      <td>2020</td>\n",
       "      <td>1</td>\n",
       "      <td>07/08/2020</td>\n",
       "      <td>Cuiabá - MT</td>\n",
       "      <td>0</td>\n",
       "      <td>Brasil - RS</td>\n",
       "      <td>0</td>\n",
       "    </tr>\n",
       "    <tr>\n",
       "      <th>1</th>\n",
       "      <td>2020</td>\n",
       "      <td>1</td>\n",
       "      <td>07/08/2020</td>\n",
       "      <td>Confiança - SE</td>\n",
       "      <td>2</td>\n",
       "      <td>Paraná - PR</td>\n",
       "      <td>2</td>\n",
       "    </tr>\n",
       "    <tr>\n",
       "      <th>2</th>\n",
       "      <td>2020</td>\n",
       "      <td>1</td>\n",
       "      <td>08/08/2020</td>\n",
       "      <td>Juventude - RS</td>\n",
       "      <td>2</td>\n",
       "      <td>Crb - AL</td>\n",
       "      <td>1</td>\n",
       "    </tr>\n",
       "    <tr>\n",
       "      <th>3</th>\n",
       "      <td>2020</td>\n",
       "      <td>1</td>\n",
       "      <td>08/08/2020</td>\n",
       "      <td>Operário - PR</td>\n",
       "      <td>3</td>\n",
       "      <td>Figueirense - SC</td>\n",
       "      <td>1</td>\n",
       "    </tr>\n",
       "    <tr>\n",
       "      <th>4</th>\n",
       "      <td>2020</td>\n",
       "      <td>1</td>\n",
       "      <td>08/08/2020</td>\n",
       "      <td>Avaí - SC</td>\n",
       "      <td>3</td>\n",
       "      <td>Náutico - PE</td>\n",
       "      <td>1</td>\n",
       "    </tr>\n",
       "    <tr>\n",
       "      <th>...</th>\n",
       "      <td>...</td>\n",
       "      <td>...</td>\n",
       "      <td>...</td>\n",
       "      <td>...</td>\n",
       "      <td>...</td>\n",
       "      <td>...</td>\n",
       "      <td>...</td>\n",
       "    </tr>\n",
       "    <tr>\n",
       "      <th>375</th>\n",
       "      <td>2020</td>\n",
       "      <td>38</td>\n",
       "      <td>29/01/2021</td>\n",
       "      <td>America - MG</td>\n",
       "      <td>2</td>\n",
       "      <td>Avaí - SC</td>\n",
       "      <td>1</td>\n",
       "    </tr>\n",
       "    <tr>\n",
       "      <th>376</th>\n",
       "      <td>2020</td>\n",
       "      <td>38</td>\n",
       "      <td>29/01/2021</td>\n",
       "      <td>Brasil - RS</td>\n",
       "      <td>0</td>\n",
       "      <td>Vitória - BA</td>\n",
       "      <td>1</td>\n",
       "    </tr>\n",
       "    <tr>\n",
       "      <th>377</th>\n",
       "      <td>2020</td>\n",
       "      <td>38</td>\n",
       "      <td>29/01/2021</td>\n",
       "      <td>Paraná - PR</td>\n",
       "      <td>0</td>\n",
       "      <td>Cruzeiro - MG</td>\n",
       "      <td>0</td>\n",
       "    </tr>\n",
       "    <tr>\n",
       "      <th>378</th>\n",
       "      <td>2020</td>\n",
       "      <td>38</td>\n",
       "      <td>29/01/2021</td>\n",
       "      <td>Guarani - SP</td>\n",
       "      <td>0</td>\n",
       "      <td>Juventude - RS</td>\n",
       "      <td>1</td>\n",
       "    </tr>\n",
       "    <tr>\n",
       "      <th>379</th>\n",
       "      <td>2020</td>\n",
       "      <td>38</td>\n",
       "      <td>29/01/2021</td>\n",
       "      <td>Chapecoense - SC</td>\n",
       "      <td>3</td>\n",
       "      <td>Confiança - SE</td>\n",
       "      <td>1</td>\n",
       "    </tr>\n",
       "  </tbody>\n",
       "</table>\n",
       "<p>380 rows × 7 columns</p>\n",
       "</div>"
      ],
      "text/plain": [
       "      Ano  Rodada        Data         Time casa  Gols time casa  \\\n",
       "0    2020       1  07/08/2020       Cuiabá - MT               0   \n",
       "1    2020       1  07/08/2020    Confiança - SE               2   \n",
       "2    2020       1  08/08/2020    Juventude - RS               2   \n",
       "3    2020       1  08/08/2020     Operário - PR               3   \n",
       "4    2020       1  08/08/2020         Avaí - SC               3   \n",
       "..    ...     ...         ...               ...             ...   \n",
       "375  2020      38  29/01/2021      America - MG               2   \n",
       "376  2020      38  29/01/2021       Brasil - RS               0   \n",
       "377  2020      38  29/01/2021       Paraná - PR               0   \n",
       "378  2020      38  29/01/2021      Guarani - SP               0   \n",
       "379  2020      38  29/01/2021  Chapecoense - SC               3   \n",
       "\n",
       "       Time visitante  Gols time visitante  \n",
       "0         Brasil - RS                    0  \n",
       "1         Paraná - PR                    2  \n",
       "2            Crb - AL                    1  \n",
       "3    Figueirense - SC                    1  \n",
       "4        Náutico - PE                    1  \n",
       "..                ...                  ...  \n",
       "375         Avaí - SC                    1  \n",
       "376      Vitória - BA                    1  \n",
       "377     Cruzeiro - MG                    0  \n",
       "378    Juventude - RS                    1  \n",
       "379    Confiança - SE                    1  \n",
       "\n",
       "[380 rows x 7 columns]"
      ]
     },
     "execution_count": 49,
     "metadata": {},
     "output_type": "execute_result"
    }
   ],
   "source": [
    "df_serie_b"
   ]
  },
  {
   "cell_type": "code",
   "execution_count": 65,
   "id": "11658027-2b09-47cf-ac7d-b8dae781e0bb",
   "metadata": {},
   "outputs": [
    {
     "name": "stdout",
     "output_type": "stream",
     "text": [
      "<class 'pandas.core.frame.DataFrame'>\n",
      "RangeIndex: 380 entries, 0 to 379\n",
      "Data columns (total 7 columns):\n",
      " #   Column               Non-Null Count  Dtype \n",
      "---  ------               --------------  ----- \n",
      " 0   Ano                  380 non-null    int64 \n",
      " 1   Rodada               380 non-null    int64 \n",
      " 2   Data                 380 non-null    object\n",
      " 3   Time casa            380 non-null    object\n",
      " 4   Gols time casa       380 non-null    int64 \n",
      " 5   Time visitante       380 non-null    object\n",
      " 6   Gols time visitante  380 non-null    int64 \n",
      "dtypes: int64(4), object(3)\n",
      "memory usage: 20.9+ KB\n"
     ]
    }
   ],
   "source": [
    "# Não temos dados ausentes, nem nulos\n",
    "\n",
    "df_serie_b.info()"
   ]
  },
  {
   "cell_type": "code",
   "execution_count": 66,
   "id": "c2e71649-c86b-4eaa-8e7c-6a5324d6571e",
   "metadata": {},
   "outputs": [
    {
     "data": {
      "text/html": [
       "<div>\n",
       "<style scoped>\n",
       "    .dataframe tbody tr th:only-of-type {\n",
       "        vertical-align: middle;\n",
       "    }\n",
       "\n",
       "    .dataframe tbody tr th {\n",
       "        vertical-align: top;\n",
       "    }\n",
       "\n",
       "    .dataframe thead th {\n",
       "        text-align: right;\n",
       "    }\n",
       "</style>\n",
       "<table border=\"1\" class=\"dataframe\">\n",
       "  <thead>\n",
       "    <tr style=\"text-align: right;\">\n",
       "      <th></th>\n",
       "      <th>Ano</th>\n",
       "      <th>Rodada</th>\n",
       "      <th>Gols time casa</th>\n",
       "      <th>Gols time visitante</th>\n",
       "    </tr>\n",
       "  </thead>\n",
       "  <tbody>\n",
       "    <tr>\n",
       "      <th>count</th>\n",
       "      <td>380.0</td>\n",
       "      <td>380.000000</td>\n",
       "      <td>380.000000</td>\n",
       "      <td>380.000000</td>\n",
       "    </tr>\n",
       "    <tr>\n",
       "      <th>mean</th>\n",
       "      <td>2020.0</td>\n",
       "      <td>19.500000</td>\n",
       "      <td>1.276316</td>\n",
       "      <td>0.892105</td>\n",
       "    </tr>\n",
       "    <tr>\n",
       "      <th>std</th>\n",
       "      <td>0.0</td>\n",
       "      <td>10.980313</td>\n",
       "      <td>1.104066</td>\n",
       "      <td>0.959024</td>\n",
       "    </tr>\n",
       "    <tr>\n",
       "      <th>min</th>\n",
       "      <td>2020.0</td>\n",
       "      <td>1.000000</td>\n",
       "      <td>0.000000</td>\n",
       "      <td>0.000000</td>\n",
       "    </tr>\n",
       "    <tr>\n",
       "      <th>25%</th>\n",
       "      <td>2020.0</td>\n",
       "      <td>10.000000</td>\n",
       "      <td>0.000000</td>\n",
       "      <td>0.000000</td>\n",
       "    </tr>\n",
       "    <tr>\n",
       "      <th>50%</th>\n",
       "      <td>2020.0</td>\n",
       "      <td>19.500000</td>\n",
       "      <td>1.000000</td>\n",
       "      <td>1.000000</td>\n",
       "    </tr>\n",
       "    <tr>\n",
       "      <th>75%</th>\n",
       "      <td>2020.0</td>\n",
       "      <td>29.000000</td>\n",
       "      <td>2.000000</td>\n",
       "      <td>1.000000</td>\n",
       "    </tr>\n",
       "    <tr>\n",
       "      <th>max</th>\n",
       "      <td>2020.0</td>\n",
       "      <td>38.000000</td>\n",
       "      <td>5.000000</td>\n",
       "      <td>7.000000</td>\n",
       "    </tr>\n",
       "  </tbody>\n",
       "</table>\n",
       "</div>"
      ],
      "text/plain": [
       "          Ano      Rodada  Gols time casa  Gols time visitante\n",
       "count   380.0  380.000000      380.000000           380.000000\n",
       "mean   2020.0   19.500000        1.276316             0.892105\n",
       "std       0.0   10.980313        1.104066             0.959024\n",
       "min    2020.0    1.000000        0.000000             0.000000\n",
       "25%    2020.0   10.000000        0.000000             0.000000\n",
       "50%    2020.0   19.500000        1.000000             1.000000\n",
       "75%    2020.0   29.000000        2.000000             1.000000\n",
       "max    2020.0   38.000000        5.000000             7.000000"
      ]
     },
     "execution_count": 66,
     "metadata": {},
     "output_type": "execute_result"
    }
   ],
   "source": [
    "df_serie_b.describe()"
   ]
  },
  {
   "cell_type": "markdown",
   "id": "cf93cd8e-2226-44f8-a34c-9933ce052248",
   "metadata": {},
   "source": [
    "E voilá!!!\n",
    "\n",
    "Bom, se tiver dúvidas, basta comparar o que tem no dataframe com o que tem no site, por exemplo escolhendo uma rodada aleatória."
   ]
  },
  {
   "cell_type": "code",
   "execution_count": 55,
   "id": "af143451-0bb0-4dbe-9d92-742f568159cc",
   "metadata": {},
   "outputs": [
    {
     "data": {
      "text/html": [
       "<div>\n",
       "<style scoped>\n",
       "    .dataframe tbody tr th:only-of-type {\n",
       "        vertical-align: middle;\n",
       "    }\n",
       "\n",
       "    .dataframe tbody tr th {\n",
       "        vertical-align: top;\n",
       "    }\n",
       "\n",
       "    .dataframe thead th {\n",
       "        text-align: right;\n",
       "    }\n",
       "</style>\n",
       "<table border=\"1\" class=\"dataframe\">\n",
       "  <thead>\n",
       "    <tr style=\"text-align: right;\">\n",
       "      <th></th>\n",
       "      <th>Ano</th>\n",
       "      <th>Rodada</th>\n",
       "      <th>Data</th>\n",
       "      <th>Time casa</th>\n",
       "      <th>Gols time casa</th>\n",
       "      <th>Time visitante</th>\n",
       "      <th>Gols time visitante</th>\n",
       "    </tr>\n",
       "  </thead>\n",
       "  <tbody>\n",
       "    <tr>\n",
       "      <th>290</th>\n",
       "      <td>2020</td>\n",
       "      <td>30</td>\n",
       "      <td>18/12/2020</td>\n",
       "      <td>Oeste - SP</td>\n",
       "      <td>2</td>\n",
       "      <td>Vitória - BA</td>\n",
       "      <td>1</td>\n",
       "    </tr>\n",
       "    <tr>\n",
       "      <th>291</th>\n",
       "      <td>2020</td>\n",
       "      <td>30</td>\n",
       "      <td>18/12/2020</td>\n",
       "      <td>Juventude - RS</td>\n",
       "      <td>1</td>\n",
       "      <td>Csa - AL</td>\n",
       "      <td>0</td>\n",
       "    </tr>\n",
       "    <tr>\n",
       "      <th>292</th>\n",
       "      <td>2020</td>\n",
       "      <td>30</td>\n",
       "      <td>18/12/2020</td>\n",
       "      <td>Avaí - SC</td>\n",
       "      <td>1</td>\n",
       "      <td>Cruzeiro - MG</td>\n",
       "      <td>1</td>\n",
       "    </tr>\n",
       "    <tr>\n",
       "      <th>293</th>\n",
       "      <td>2020</td>\n",
       "      <td>30</td>\n",
       "      <td>18/12/2020</td>\n",
       "      <td>Cuiabá - MT</td>\n",
       "      <td>2</td>\n",
       "      <td>Operário - PR</td>\n",
       "      <td>0</td>\n",
       "    </tr>\n",
       "    <tr>\n",
       "      <th>294</th>\n",
       "      <td>2020</td>\n",
       "      <td>30</td>\n",
       "      <td>19/12/2020</td>\n",
       "      <td>Náutico - PE</td>\n",
       "      <td>1</td>\n",
       "      <td>Sampaio Correa - MA</td>\n",
       "      <td>0</td>\n",
       "    </tr>\n",
       "    <tr>\n",
       "      <th>295</th>\n",
       "      <td>2020</td>\n",
       "      <td>30</td>\n",
       "      <td>19/12/2020</td>\n",
       "      <td>Confiança - SE</td>\n",
       "      <td>1</td>\n",
       "      <td>Ponte Preta - SP</td>\n",
       "      <td>2</td>\n",
       "    </tr>\n",
       "    <tr>\n",
       "      <th>296</th>\n",
       "      <td>2020</td>\n",
       "      <td>30</td>\n",
       "      <td>20/12/2020</td>\n",
       "      <td>America - MG</td>\n",
       "      <td>2</td>\n",
       "      <td>Chapecoense - SC</td>\n",
       "      <td>2</td>\n",
       "    </tr>\n",
       "    <tr>\n",
       "      <th>297</th>\n",
       "      <td>2020</td>\n",
       "      <td>30</td>\n",
       "      <td>20/12/2020</td>\n",
       "      <td>Guarani - SP</td>\n",
       "      <td>2</td>\n",
       "      <td>Figueirense - SC</td>\n",
       "      <td>2</td>\n",
       "    </tr>\n",
       "    <tr>\n",
       "      <th>298</th>\n",
       "      <td>2020</td>\n",
       "      <td>30</td>\n",
       "      <td>20/12/2020</td>\n",
       "      <td>Crb - AL</td>\n",
       "      <td>1</td>\n",
       "      <td>Botafogo - SP</td>\n",
       "      <td>0</td>\n",
       "    </tr>\n",
       "    <tr>\n",
       "      <th>299</th>\n",
       "      <td>2020</td>\n",
       "      <td>30</td>\n",
       "      <td>21/12/2020</td>\n",
       "      <td>Paraná - PR</td>\n",
       "      <td>0</td>\n",
       "      <td>Brasil - RS</td>\n",
       "      <td>1</td>\n",
       "    </tr>\n",
       "  </tbody>\n",
       "</table>\n",
       "</div>"
      ],
      "text/plain": [
       "      Ano  Rodada        Data       Time casa  Gols time casa  \\\n",
       "290  2020      30  18/12/2020      Oeste - SP               2   \n",
       "291  2020      30  18/12/2020  Juventude - RS               1   \n",
       "292  2020      30  18/12/2020       Avaí - SC               1   \n",
       "293  2020      30  18/12/2020     Cuiabá - MT               2   \n",
       "294  2020      30  19/12/2020    Náutico - PE               1   \n",
       "295  2020      30  19/12/2020  Confiança - SE               1   \n",
       "296  2020      30  20/12/2020    America - MG               2   \n",
       "297  2020      30  20/12/2020    Guarani - SP               2   \n",
       "298  2020      30  20/12/2020        Crb - AL               1   \n",
       "299  2020      30  21/12/2020     Paraná - PR               0   \n",
       "\n",
       "          Time visitante  Gols time visitante  \n",
       "290         Vitória - BA                    1  \n",
       "291             Csa - AL                    0  \n",
       "292        Cruzeiro - MG                    1  \n",
       "293        Operário - PR                    0  \n",
       "294  Sampaio Correa - MA                    0  \n",
       "295     Ponte Preta - SP                    2  \n",
       "296     Chapecoense - SC                    2  \n",
       "297     Figueirense - SC                    2  \n",
       "298        Botafogo - SP                    0  \n",
       "299          Brasil - RS                    1  "
      ]
     },
     "execution_count": 55,
     "metadata": {},
     "output_type": "execute_result"
    }
   ],
   "source": [
    "df_serie_b.loc[df_serie_b['Rodada'] == 30]"
   ]
  },
  {
   "cell_type": "markdown",
   "id": "54c4c33f-0db0-4c27-9798-c5a7633003ff",
   "metadata": {},
   "source": [
    "Não encontrei problemas. O número de linhas (os jogos) é exatamente o esperado. Como são 38 rodadas com 10 jogos cada, temos 380 jogos."
   ]
  },
  {
   "cell_type": "markdown",
   "id": "71bf3855-a29b-4f54-81f0-5dd507ab140c",
   "metadata": {},
   "source": [
    "Finalmente, vamos salvar os dados num CSV, de forma que não seja necessário executar tudo isso de novo (ao menos que hajam alterações no projeto)."
   ]
  },
  {
   "cell_type": "code",
   "execution_count": 56,
   "id": "57e43740-dccf-4ff4-88fd-d1bd86edfafa",
   "metadata": {},
   "outputs": [],
   "source": [
    "arquivo_dados = 'tabela_jogos_brasileiro_serie_b_{}.csv'.format(ano)"
   ]
  },
  {
   "cell_type": "code",
   "execution_count": 58,
   "id": "ac9325be-3896-47f5-8d35-aca7a28696df",
   "metadata": {},
   "outputs": [],
   "source": [
    "df_serie_b.to_csv(arquivo_dados, sep=';', encoding='utf-8', index=False)"
   ]
  },
  {
   "cell_type": "markdown",
   "id": "1a196cca-71a1-463c-b554-4e56f50d65b9",
   "metadata": {},
   "source": [
    "**Melhorias**\n",
    "\n",
    "Tem como ficar melhor?\n",
    "\n",
    "Claro que sim! Poderíamos ter criado funções e classes para tratar das requests, das extrações e tratamentos de cada coluna, mas não era o objetivo aqui deste notebook.\n",
    "\n",
    "Outra melhoria seria, antes de passar todo essa fase de coleta, verificar se existem os dados (se o csv está disponível) e se não existirem, aí partir para as extrações."
   ]
  },
  {
   "cell_type": "code",
   "execution_count": 62,
   "id": "fe6c9755-79b1-4bc2-9c8c-1ca46f3b8061",
   "metadata": {},
   "outputs": [],
   "source": [
    "from os.path import exists"
   ]
  },
  {
   "cell_type": "code",
   "execution_count": 63,
   "id": "78533b10-bdfb-48d7-96da-b482dcbbb592",
   "metadata": {},
   "outputs": [
    {
     "name": "stdout",
     "output_type": "stream",
     "text": [
      "Arquivo existe\n"
     ]
    }
   ],
   "source": [
    "if exists(arquivo_dados):\n",
    "    print('Arquivo existe')\n",
    "    # ler csv\n",
    "else:\n",
    "    print('Arquivo não existe')\n",
    "    # rodar scrapper"
   ]
  },
  {
   "cell_type": "markdown",
   "id": "26001a09-fbb9-4942-9194-b9790290e51f",
   "metadata": {},
   "source": [
    "---\n",
    "\n",
    "### Referências\n",
    "\n",
    "https://beautiful-soup-4.readthedocs.io/en/latest/\n",
    "\n",
    "https://medium.com/geekculture/web-scraping-tables-in-python-using-beautiful-soup-8bbc31c5803e\n",
    "\n",
    "https://dev.to/lisandramelo/recebendo-informacoes-do-transfermarkt-uma-introducao-ao-web-scraping-188o\n",
    "\n",
    "http://www.herongyang.com/XML/NPP-XML-Tools-Plugin.html\n"
   ]
  }
 ],
 "metadata": {
  "kernelspec": {
   "display_name": "Python 3 (ipykernel)",
   "language": "python",
   "name": "python3"
  },
  "language_info": {
   "codemirror_mode": {
    "name": "ipython",
    "version": 3
   },
   "file_extension": ".py",
   "mimetype": "text/x-python",
   "name": "python",
   "nbconvert_exporter": "python",
   "pygments_lexer": "ipython3",
   "version": "3.10.4"
  }
 },
 "nbformat": 4,
 "nbformat_minor": 5
}
